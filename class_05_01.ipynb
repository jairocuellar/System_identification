{
 "cells": [
  {
   "cell_type": "markdown",
   "id": "1e0682a7",
   "metadata": {},
   "source": [
    "# IDENTIFICACIÓN DE SISTEMAS\n",
    "\n",
    "Profesor: Jairo Alberto Cuéllar Guarnizo  \n",
    "Programa: Ingeniería en Automatización y Control"
   ]
  },
  {
   "cell_type": "code",
   "execution_count": 1,
   "id": "59f44449",
   "metadata": {},
   "outputs": [],
   "source": [
    "from sympy import MatrixSymbol, Matrix, Identity\n",
    "\n",
    "import sympy as sym\n",
    "import pandas as pd\n",
    "sym.init_printing()\n",
    "%matplotlib inline\n",
    "\n",
    "import pandas as pd\n",
    "import numpy as np\n",
    "import matplotlib.pyplot as plt\n",
    "import seaborn as sns\n",
    "import control\n",
    "import random"
   ]
  },
  {
   "cell_type": "markdown",
   "id": "56eb0f3c",
   "metadata": {},
   "source": [
    "# Métodos paramétricos de estimación\n",
    "\n",
    "## Estimación Lineal por mínimos cuadráticos (LS)\n",
    "\n",
    "Es una técnica para encontrar un hipotético modelo lineal que se representa como algún vector de parámetros desconocidos $\\theta$. Recordar que $y[1], ... , y[N]$ son mediciones de la función que queremos estimar (variables dependientes). \n",
    "\n",
    "Existe otra secuencia denominada el matriz de regresión o regresor $\\phi[0], ... ,\\phi[N]$, las cuales se reconocen como las entradas del modelo de hipótesis o variables independientes, dichos valores dependen del modelo que se asuma como hipótesis.\n",
    "\n",
    "Un modelo lineal de predicción que incluye errores está dado por la siguiente relación:\n",
    "\n",
    "$$\\hat{y[k]} = \\phi[k]^T\\theta + \\varepsilon[k]$$\n",
    "\n",
    "Inicialmente consideremos el error como 0, $\\hat{y[k]} = \\phi[k]^T\\theta$. La idea de LS es minimizar el valor de error entre las mediciones $y[k]$ y sus valores estimados $\\hat{y[k]}$ elevados al cuadrado, por tanto la función de costo a minimizar sería:\n",
    "\n",
    "$$\\sum_{k=1}^{N}[y[k]-\\phi[k]^T\\theta]^2$$\n",
    "\n",
    "Asumamos $y[k]$ como $y$ (datos medidos), $\\phi[k]$ como $\\phi$. El vector a estimar $\\theta$ es el valor que minimiza la función de costo.\n",
    "\n",
    "Matricialmente la expresión de la función de costo que llamaremos $f(\\theta)$ será:\n",
    "\n",
    "$$f(\\theta) = (y - \\phi^T\\theta)^2$$\n",
    "\n",
    "Omitiendo los subindices N y la notación vectorial, esta ecuación matricial se puede minimizar y evaluar mediante el cálculo del gradiente.\n",
    "\n",
    "$$f(\\theta) = y^T.y - 2.\\phi^T.y.\\theta + \\phi^T.\\phi.\\theta^2$$\n",
    "\n",
    "Calculando el gradiende tendríamos:\n",
    "\n",
    "$$\\bigtriangledown f(\\theta) = \\bigtriangledown[y^T.y - 2.\\phi^T.y.\\theta + \\phi^T.\\phi.\\theta^2] = -2.\\phi^T.y + 2.\\phi^T.\\phi.\\theta = 0$$\n",
    "\n",
    "Despejando los parámetros a estimar:\n",
    "\n",
    "$$\\theta = [\\phi^T.\\phi]^{-1}.\\phi^T.y$$\n",
    "\n",
    "Se define aquí la matriz pseudoinversa de Moore-Penrose así:\n",
    "\n",
    "$$\\phi^+ = [\\phi^T.\\phi]^{-1}.\\phi^T$$\n",
    "\n",
    "Despejando el estimador:\n",
    "\n",
    "$$\\theta = \\phi^+.y$$"
   ]
  },
  {
   "cell_type": "markdown",
   "id": "71284ffe",
   "metadata": {},
   "source": [
    "## Ejemplo 1 (LS) - Vector de regresión unitario\n",
    "\n",
    "Asumamos un modelo con las siguientes condiciones:\n",
    "\n",
    "$$\\hat{y[k]} = \\phi[k]^T\\theta + \\varepsilon[k]$$\n",
    "\n",
    "Si la hipótesis es que $\\phi$ es unitario, el modelo a obtener es para un valor constante y se reduce a:\n",
    "\n",
    "$$\\hat{y[k]} = \\theta + \\varepsilon[k]$$\n",
    "\n",
    "Ahora se debe encontrar el mejor estimador $\\theta$ teniendo en cuenta lo siguiente:\n",
    "\n",
    "$y = \\begin{bmatrix}y[1]\\\\y[2]\\\\...\\\\y[N]\\end{bmatrix}$, Según el modelo asumido, el vector de regresión estaría dado por: $\\phi = \\begin{bmatrix}1\\\\1\\\\...\\\\1\\end{bmatrix}$. Las dimensiones de estos vectores es de Nx1.\n",
    "\n",
    "Es relativamente sencillo calcular el mejor estimador usando la relación obtenida anteriormente:\n",
    "\n",
    "$$\\theta = [\\phi^T.\\phi]^{-1}.\\phi^T.y$$\n",
    "\n",
    "$$\\phi^T.\\phi = \\begin{bmatrix}1&1&...&1\\end{bmatrix}\\begin{bmatrix}1\\\\1\\\\...\\\\1\\end{bmatrix} = N$$\n",
    "\n",
    "Y por consiguiente:\n",
    "\n",
    "$$[\\phi^T.\\phi]^{-1}=\\frac{1}{N}$$\n",
    "\n",
    "Ahora observemos la expresión:\n",
    "$$\\phi^T.y = \\begin{bmatrix}1&1&...&1\\end{bmatrix}\\begin{bmatrix}y[1]\\\\y[2]\\\\...\\\\y[N]\\end{bmatrix} = \\sum_{k=1}^{N}y[k]$$\n",
    "\n",
    "Entonces armando el estimador, se tiene que con un vector de regresión unitario, el modelo estimado es un promedio:\n",
    "\n",
    "$$\\theta = \\frac{1}{N}\\sum_{k=1}^{N}y[k]$$"
   ]
  },
  {
   "cell_type": "markdown",
   "id": "a2acee7e",
   "metadata": {},
   "source": [
    "## Ejemplo 2 (LS) - Estimación de resistencia por LS\n",
    "\n",
    "Asumamos un modelo constante con las siguientes condiciones: $y[k] = V[k]$, $\\phi[k] = I[k]$, $\\theta = R$.\n",
    "\n",
    "Asumiendo que el mejor estimador es el siguiente:\n",
    "\n",
    "$$\\theta = [\\phi^T.\\phi]^{-1}.\\phi^T.y$$\n",
    "\n",
    "$$\\phi^T.\\phi = \\begin{bmatrix}I[1]&I[2]&...&I[N]\\end{bmatrix}\\begin{bmatrix}I[1]\\\\I[2]\\\\...\\\\I[N]\\end{bmatrix} = \\sum_{k=1}^{N}I[k]^2$$\n",
    "\n",
    "Por tanto el inverso de esta expresión sería:\n",
    "\n",
    "$$[\\phi^T.\\phi]^{-1} = \\frac{1}{\\sum_{k=1}^{N}I[k]^2}$$\n",
    "\n",
    "Por último se tiene que \n",
    "\n",
    "$$\\phi^T.y = \\begin{bmatrix}I[1]&I[2]&...&I[N]\\end{bmatrix}\\begin{bmatrix}V[1]\\\\V[2]\\\\...\\\\V[N]\\end{bmatrix} = \\sum_{k=1}^{N}I[k]V[k]$$\n",
    "\n",
    "Finalmente:\n",
    "\n",
    "$$\\theta = \\frac{\\frac{1}{N}\\sum_{k=1}^{N}I[k]V[k]}{\\frac{1}{N}\\sum_{k=1}^{N}I[k]^2}$$\n",
    "\n",
    "Modelo previamente estudiado para estimar un valor de resistencias por LS."
   ]
  },
  {
   "cell_type": "markdown",
   "id": "3f4878e3",
   "metadata": {},
   "source": [
    "## Ejemplo 3 (LS) - Estimación asumiendo como hipótesis un modelo lineal\n",
    "\n",
    "Asumamos un modelo lineal con las siguientes condiciones: $\\hat{y[k]} = \\theta_1 + \\theta_2.x[k]$. Para ejemplificar un poco se podría tomar un movimiento uniformemente acelerado así: $v_f[k] = v_0+a.t[k]$, entendiendo $y = v_f$, el vector $\\phi[k] =[1, t[k]]$ y $\\theta = \\begin{bmatrix}\\theta_1\\\\\\theta_2\\end{bmatrix} = \\begin{bmatrix}v_0\\\\a\\end{bmatrix}$.\n",
    "\n",
    "Asumiendo que el mejor estimador es el siguiente:\n",
    "\n",
    "$$\\theta = [\\phi^T.\\phi]^{-1}.\\phi^T.y$$\n",
    "\n",
    "Y donde el vector del regresor debería tener la siguiente forma, según el modelo esperado:\n",
    "\n",
    "$$\\phi = \\begin{bmatrix}1 & t[1]\\\\1 & t[2]\\\\...&...\\\\1 & t[N]\\end{bmatrix}$$\n",
    "\n",
    "Se espera que en este caso el vector de estimación sea:\n",
    "\n",
    "$$\\theta = \\begin{bmatrix}\\theta_1\\\\\\theta_2\\end{bmatrix}$$\n",
    "\n",
    "Por último se tiene que \n",
    "\n",
    "$$\\phi^T.\\phi = \\begin{bmatrix}1&1&...&1\\\\t[1]&t[2]&...&t[N]\\end{bmatrix}\\begin{bmatrix}1 & t[1]\\\\1 & t[2]\\\\...&...\\\\1 & t[N]\\end{bmatrix} = \\begin{bmatrix}\n",
    "N&\\sum_{k=1}^{N}t[k]\\\\\\sum_{k=1}^{N}t[k]&\\sum_{k=1}^{N}t[k]^2 \n",
    "\\end{bmatrix}$$\n",
    "\n",
    "El cálculo de la inversa de $\\phi^T.\\phi$, puede realizarse con la utilización de software apropiado. Finalmente la expresión:\n",
    "\n",
    "$$\\phi^T.y = \\begin{bmatrix}1&1&...&1\\\\t[1]&t[2]&...&t[N]\\end{bmatrix}\\begin{bmatrix}v_f[1]\\\\v_f[2]\\\\...\\\\v_f[N]\\end{bmatrix}=\\begin{bmatrix}\\sum_{k=1}^{N}v_f[k]\\\\\\sum_{k=1}^{N}t[k]v_f[k]\\end{bmatrix} $$\n",
    "\n",
    "Por último el vector de estimaciones sería:\n",
    "\n",
    "$$\\theta = \\begin{bmatrix}\\theta_1\\\\\\theta_2\\end{bmatrix}=\\begin{bmatrix}\n",
    "N&\\sum_{k=1}^{N}t[k]\\\\\\sum_{k=1}^{N}t[k]&\\sum_{k=1}^{N}t[k]^2 \n",
    "\\end{bmatrix}^{-1}\\begin{bmatrix}\\sum_{k=1}^{N}v_f[k]\\\\\\sum_{k=1}^{N}t[k]v_f[k]\\end{bmatrix}$$"
   ]
  },
  {
   "cell_type": "markdown",
   "id": "034cf26f",
   "metadata": {},
   "source": [
    "### Ejemplo 4 - Experimento MUA\n",
    "\n",
    "El experimiento consiste en lanzar un cuerpo hacia arriba con una velocidad inicial determinada. Si consideramos medir el desplazamiento del cuerpo se debe modelar usando la siguiente relación matemática:\n",
    "\n",
    "$$y(t) = -\\frac{1}{2}gt^2+v_0t+y_0$$"
   ]
  },
  {
   "cell_type": "code",
   "execution_count": 35,
   "id": "30174dde",
   "metadata": {},
   "outputs": [
    {
     "data": {
      "text/html": [
       "<div>\n",
       "<style scoped>\n",
       "    .dataframe tbody tr th:only-of-type {\n",
       "        vertical-align: middle;\n",
       "    }\n",
       "\n",
       "    .dataframe tbody tr th {\n",
       "        vertical-align: top;\n",
       "    }\n",
       "\n",
       "    .dataframe thead th {\n",
       "        text-align: right;\n",
       "    }\n",
       "</style>\n",
       "<table border=\"1\" class=\"dataframe\">\n",
       "  <thead>\n",
       "    <tr style=\"text-align: right;\">\n",
       "      <th></th>\n",
       "      <th>t</th>\n",
       "      <th>yn</th>\n",
       "      <th>ones</th>\n",
       "    </tr>\n",
       "  </thead>\n",
       "  <tbody>\n",
       "    <tr>\n",
       "      <th>0</th>\n",
       "      <td>0.000000</td>\n",
       "      <td>4.194553</td>\n",
       "      <td>1</td>\n",
       "    </tr>\n",
       "    <tr>\n",
       "      <th>1</th>\n",
       "      <td>0.571429</td>\n",
       "      <td>15.197145</td>\n",
       "      <td>1</td>\n",
       "    </tr>\n",
       "    <tr>\n",
       "      <th>2</th>\n",
       "      <td>1.142857</td>\n",
       "      <td>23.669561</td>\n",
       "      <td>1</td>\n",
       "    </tr>\n",
       "    <tr>\n",
       "      <th>3</th>\n",
       "      <td>1.714286</td>\n",
       "      <td>25.331540</td>\n",
       "      <td>1</td>\n",
       "    </tr>\n",
       "    <tr>\n",
       "      <th>4</th>\n",
       "      <td>2.285714</td>\n",
       "      <td>24.680070</td>\n",
       "      <td>1</td>\n",
       "    </tr>\n",
       "    <tr>\n",
       "      <th>5</th>\n",
       "      <td>2.857143</td>\n",
       "      <td>21.482476</td>\n",
       "      <td>1</td>\n",
       "    </tr>\n",
       "    <tr>\n",
       "      <th>6</th>\n",
       "      <td>3.428571</td>\n",
       "      <td>15.548798</td>\n",
       "      <td>1</td>\n",
       "    </tr>\n",
       "    <tr>\n",
       "      <th>7</th>\n",
       "      <td>4.000000</td>\n",
       "      <td>5.095118</td>\n",
       "      <td>1</td>\n",
       "    </tr>\n",
       "  </tbody>\n",
       "</table>\n",
       "</div>"
      ],
      "text/plain": [
       "          t         yn  ones\n",
       "0  0.000000   4.194553     1\n",
       "1  0.571429  15.197145     1\n",
       "2  1.142857  23.669561     1\n",
       "3  1.714286  25.331540     1\n",
       "4  2.285714  24.680070     1\n",
       "5  2.857143  21.482476     1\n",
       "6  3.428571  15.548798     1\n",
       "7  4.000000   5.095118     1"
      ]
     },
     "execution_count": 35,
     "metadata": {},
     "output_type": "execute_result"
    },
    {
     "data": {
      "image/png": "[encoded data removed]",
      "text/plain": [
       "<Figure size 640x480 with 1 Axes>"
      ]
     },
     "metadata": {},
     "output_type": "display_data"
    }
   ],
   "source": [
    "# GENERANDO LOS DATOS PARA PODER REALIZAR LA ESTIMACIÓN Longitud = N\n",
    "\n",
    "N = 8\n",
    "t = np.linspace(0,4,N)\n",
    "\n",
    "\n",
    "#a = 4\n",
    "#b = -20\n",
    "#c = 3.5\n",
    "#d = 4\n",
    "#y_true = a*(t**3)+b*t**2+c*t+d\n",
    "\n",
    "y0 = 5;\n",
    "v0 = 20\n",
    "g = 9.80665\n",
    "## Valores verdaderos modelados (deberían ser medidos):\n",
    "y_true = -0.5*g*(t**2)+v0*t+y0\n",
    "\n",
    "##Señal de error de media 0:\n",
    "## El valor del error puede modificarse usamdp el parámetro r, dependiendo de\n",
    "## los valores máximos de la gráfica de \"y\" verdadero, por ejemplo:\n",
    "# si el máximo de y_true es 5, r podría ser un valor cercano a 1 para \n",
    "# asumir un máximo del 20% de error.\n",
    "\n",
    "r = 1\n",
    "e = np.random.normal(0,r,size=N)\n",
    "\n",
    "## Señal con error incluido para simular una medición\n",
    "yn = y_true + e\n",
    "\n",
    "# Creando los datos con una columna de tiempo \"t\", \"yn\", y unos (1)\n",
    "data = pd.DataFrame(data = {'t':t,'yn':yn})\n",
    "data['ones'] = 1\n",
    "# Graficando el valor \"y\" contaminado con el ruido\n",
    "sns.scatterplot(data,x ='t',y = 'yn')\n",
    "plt.legend([\"Medición\"])\n",
    "plt.grid()\n",
    "data"
   ]
  },
  {
   "cell_type": "markdown",
   "id": "421c77dc",
   "metadata": {},
   "source": [
    "## Definiendo la hipotesis - Regresor:\n",
    "\n",
    "El regresor $\\phi$ se construye según la hipótesis planteada al observar los datos. \n"
   ]
  },
  {
   "cell_type": "code",
   "execution_count": 44,
   "id": "94a5edae",
   "metadata": {},
   "outputs": [
    {
     "data": {
      "text/plain": [
       "array([[ 1.        ,  0.        ,  0.        ,  1.        ],\n",
       "       [ 1.77079495,  0.32653061,  0.57142857,  1.        ],\n",
       "       [ 3.13571476,  1.30612245,  1.14285714,  1.        ],\n",
       "       [ 5.55270788,  2.93877551,  1.71428571,  1.        ],\n",
       "       [ 9.83270708,  5.2244898 ,  2.28571429,  1.        ],\n",
       "       [17.41170806,  8.16326531,  2.85714286,  1.        ],\n",
       "       [30.83256475, 11.75510204,  3.42857143,  1.        ],\n",
       "       [54.59815003, 16.        ,  4.        ,  1.        ]])"
      ]
     },
     "execution_count": 44,
     "metadata": {},
     "output_type": "execute_result"
    }
   ],
   "source": [
    "##phi = np.array([data.t, data.ones]).transpose()\n",
    "#phi = np.array([data.ones, np.exp(data.t), np.exp(-1*data.t)]).transpose()\n",
    "#phi = np.array([data.t, data.ones]).transpose()\n",
    "phi = np.array([np.exp(data.t),data.t**2,data.t,data.ones]).transpose()\n",
    "phi"
   ]
  },
  {
   "cell_type": "markdown",
   "id": "635cf7be",
   "metadata": {},
   "source": [
    "## Cálculo de los parámetros:\n",
    "\n",
    "Utilizamos el regresor y los valores medidos y aplicamos la fórmula para cálculo de los parámetros.\n",
    "\n",
    "$$\\theta = [\\phi^T.\\phi]^{-1}.\\phi^T.y$$"
   ]
  },
  {
   "cell_type": "code",
   "execution_count": 45,
   "id": "d85a0a92",
   "metadata": {},
   "outputs": [
    {
     "data": {
      "text/plain": [
       "(array([[4376.25572898, 1450.50962365,  410.4412317 ,  124.13434752],\n",
       "        [1450.50962365,  498.56559767,  146.28571429,   45.71428571],\n",
       "        [ 410.4412317 ,  146.28571429,   45.71428571,   16.        ],\n",
       "        [ 124.13434752,   45.71428571,   16.        ,    8.        ]]),\n",
       " array([[ 0.01820829, -0.09400729,  0.16071466, -0.06677908],\n",
       "        [-0.09400729,  0.54117557, -1.05305846,  0.47237682],\n",
       "        [ 0.16071466, -1.05305846,  2.38468663, -1.24567258],\n",
       "        [-0.06677908,  0.47237682, -1.24567258,  0.95324626]]),\n",
       " array([1620.29705585,  678.9289063 ,  270.6412336 ,  135.19925983]))"
      ]
     },
     "execution_count": 45,
     "metadata": {},
     "output_type": "execute_result"
    }
   ],
   "source": [
    "### Calculando la matriz phi'*phi y calculando la inversa\n",
    "A = np.dot(phi.transpose(),phi)\n",
    "A_inv = np.linalg.inv(A)\n",
    "# Calculando B = phi'*y\n",
    "B = np.dot(phi.transpose(),yn)\n",
    "\n",
    "A,A_inv, B"
   ]
  },
  {
   "cell_type": "code",
   "execution_count": 49,
   "id": "d88ce449",
   "metadata": {},
   "outputs": [
    {
     "data": {
      "text/plain": [
       "array([ 0.14610364, -6.03604434, 22.43418788,  4.25615363])"
      ]
     },
     "execution_count": 49,
     "metadata": {},
     "output_type": "execute_result"
    }
   ],
   "source": [
    "#Obteniendo la matriz de parámetros theta\n",
    "theta = np.dot(A_inv,B)\n",
    "theta"
   ]
  },
  {
   "cell_type": "code",
   "execution_count": 50,
   "id": "24d58ce4",
   "metadata": {},
   "outputs": [
    {
     "data": {
      "text/html": [
       "<div>\n",
       "<style scoped>\n",
       "    .dataframe tbody tr th:only-of-type {\n",
       "        vertical-align: middle;\n",
       "    }\n",
       "\n",
       "    .dataframe tbody tr th {\n",
       "        vertical-align: top;\n",
       "    }\n",
       "\n",
       "    .dataframe thead th {\n",
       "        text-align: right;\n",
       "    }\n",
       "</style>\n",
       "<table border=\"1\" class=\"dataframe\">\n",
       "  <thead>\n",
       "    <tr style=\"text-align: right;\">\n",
       "      <th></th>\n",
       "      <th>t</th>\n",
       "      <th>y_e</th>\n",
       "    </tr>\n",
       "  </thead>\n",
       "  <tbody>\n",
       "    <tr>\n",
       "      <th>0</th>\n",
       "      <td>0.000000</td>\n",
       "      <td>4.402257</td>\n",
       "    </tr>\n",
       "    <tr>\n",
       "      <th>1</th>\n",
       "      <td>0.571429</td>\n",
       "      <td>15.363456</td>\n",
       "    </tr>\n",
       "    <tr>\n",
       "      <th>2</th>\n",
       "      <td>1.142857</td>\n",
       "      <td>22.469552</td>\n",
       "    </tr>\n",
       "    <tr>\n",
       "      <th>3</th>\n",
       "      <td>1.714286</td>\n",
       "      <td>25.787453</td>\n",
       "    </tr>\n",
       "    <tr>\n",
       "      <th>4</th>\n",
       "      <td>2.285714</td>\n",
       "      <td>25.435640</td>\n",
       "    </tr>\n",
       "    <tr>\n",
       "      <th>5</th>\n",
       "      <td>2.857143</td>\n",
       "      <td>21.623916</td>\n",
       "    </tr>\n",
       "    <tr>\n",
       "      <th>6</th>\n",
       "      <td>3.428571</td>\n",
       "      <td>14.723802</td>\n",
       "    </tr>\n",
       "    <tr>\n",
       "      <th>7</th>\n",
       "      <td>4.000000</td>\n",
       "      <td>5.393184</td>\n",
       "    </tr>\n",
       "  </tbody>\n",
       "</table>\n",
       "</div>"
      ],
      "text/plain": [
       "          t        y_e\n",
       "0  0.000000   4.402257\n",
       "1  0.571429  15.363456\n",
       "2  1.142857  22.469552\n",
       "3  1.714286  25.787453\n",
       "4  2.285714  25.435640\n",
       "5  2.857143  21.623916\n",
       "6  3.428571  14.723802\n",
       "7  4.000000   5.393184"
      ]
     },
     "execution_count": 50,
     "metadata": {},
     "output_type": "execute_result"
    },
    {
     "data": {
      "image/png": "[encoded data removed]",
      "text/plain": [
       "<Figure size 800x400 with 1 Axes>"
      ]
     },
     "metadata": {},
     "output_type": "display_data"
    }
   ],
   "source": [
    "## Calculando los datos de salida con los parámetros estimados\n",
    "#y_e = theta[0]*(t**2)+theta[1]*t+theta[2] \n",
    "y_e = np.dot(phi,theta)\n",
    "#y_e = theta[0]*t+theta[1]\n",
    "data_e = pd.DataFrame(data = {'t':t,'y_e':y_e})\n",
    "## Graficando Los 3 modelos\n",
    "#sns.scatterplot(data,x ='t',y = 'y')\n",
    "#sns.scatterplot(data_e,x ='t',y = 'y_e')\n",
    "plt.figure(figsize=(8,4))\n",
    "plt.scatter(t,yn)\n",
    "plt.plot(t,y_e,color = 'red')\n",
    "\n",
    "plt.legend([\"Medición\",\"Estimado\"])\n",
    "plt.grid()\n",
    "data_e"
   ]
  },
  {
   "cell_type": "code",
   "execution_count": 51,
   "id": "ca532c53",
   "metadata": {},
   "outputs": [
    {
     "data": {
      "image/png": "[encoded data removed]",
      "text/latex": [
       "$\\displaystyle 0.146103643325283 x^{2} - 6.03604434453374 x + 22.4341878815235$"
      ],
      "text/plain": [
       "                   2                                        \n",
       "0.146103643325283⋅x  - 6.03604434453374⋅x + 22.4341878815235"
      ]
     },
     "execution_count": 51,
     "metadata": {},
     "output_type": "execute_result"
    }
   ],
   "source": [
    "# Función modelo vs función original\n",
    "fx,x = sym.symbols('fx,x')\n",
    "\n",
    "# Este es el modelo estimado\n",
    "fx = theta[0]*x**2+theta[1]*x+theta[2]\n",
    "\n",
    "## Esta es la original:\n",
    "f0 = -0.5*g*(x**2)+v0*x+y0\n",
    "fx"
   ]
  },
  {
   "cell_type": "markdown",
   "id": "b6910f8e",
   "metadata": {},
   "source": [
    "# Parámetros de comparación de estimación\n",
    "\n",
    "## El error cuadrático medio (ECM)\n",
    "\n",
    "El error cuadrático medio es dependiente de los valores de la estimación, por tanto se puede calcular utilizando los valores de las mediciones y cada una de las estimaciones realizadas, por tanto es posible calcularlo con la siguiente ecuación:\n",
    "\n",
    "$$ECM = \\frac{1}{N}\\sum_{k=1}^{N}(y - \\hat{y})^2$$\n",
    "\n",
    "El ECM mide la cantidad promedio por la cual las predicciones de un modelo se desvían de los valores reales. Cuanto menor sea el ECM, mejor será el rendimiento del modelo, ya que indicará que las predicciones están más cerca de los valores reales.El ECM se usa comúnmente en problemas de regresión, pero puede aplicarse en otras áreas, como clasificación, cuando se utilizan puntuaciones de probabilidad en lugar de valores continuos.\n",
    "\n",
    "## El coeficiente de determinación $R^2$\n",
    "\n",
    "El $R^2$ es un indicador clave para las estimaciones o predicciones que se plantean frente a una identificación de sistemas. La idea es que este valor siempre estará en un intérvalo fijo (0 a 1), además un valor de $R^2 = 1$, significa que cada valor de la estimación es igual al valor medido, por tanto entre más se acerque el $R^2$ a un valor de 1, mejor estimación se puede tener.\n",
    "\n",
    "$$R^2 = 1 - \\frac{\\frac{1}{N}\\sum_{k=1}^{N}(y - \\hat{y})^2}{\\frac{1}{N}\\sum_{k=1}^{N}y^2}$$"
   ]
  },
  {
   "cell_type": "code",
   "execution_count": 52,
   "id": "1844e846",
   "metadata": {},
   "outputs": [
    {
     "data": {
      "text/plain": [
       "array([ 4.40225727, 15.3634559 , 22.46955183, 25.78745298, 25.4356396 ,\n",
       "       21.62391589, 14.72380207,  5.39318428])"
      ]
     },
     "execution_count": 52,
     "metadata": {},
     "output_type": "execute_result"
    }
   ],
   "source": [
    "y_e"
   ]
  },
  {
   "cell_type": "code",
   "execution_count": 53,
   "id": "214503b1",
   "metadata": {},
   "outputs": [
    {
     "data": {
      "image/png": "[encoded data removed]",
      "text/latex": [
       "$\\displaystyle \\left( 0.384879116562375, \\  0.998895933236495\\right)$"
      ],
      "text/plain": [
       "(0.3848791165623752, 0.9988959332364946)"
      ]
     },
     "execution_count": 53,
     "metadata": {},
     "output_type": "execute_result"
    }
   ],
   "source": [
    "#ECM y  R2\n",
    "# Señal de error ek\n",
    "ek = yn - y_e\n",
    "## ECM\n",
    "ECM = np.dot(ek.transpose(),ek)/N\n",
    "## R2\n",
    "R2 = 1 - np.dot(ek.transpose(),ek)/np.dot(yn.transpose(),yn)\n",
    "ECM, R2"
   ]
  },
  {
   "cell_type": "code",
   "execution_count": null,
   "id": "9b83d331",
   "metadata": {},
   "outputs": [],
   "source": []
  },
  {
   "cell_type": "code",
   "execution_count": null,
   "id": "db8953c2",
   "metadata": {},
   "outputs": [],
   "source": []
  }
 ],
 "metadata": {
  "kernelspec": {
   "display_name": "Python 3 (ipykernel)",
   "language": "python",
   "name": "python3"
  },
  "language_info": {
   "codemirror_mode": {
    "name": "ipython",
    "version": 3
   },
   "file_extension": ".py",
   "mimetype": "text/x-python",
   "name": "python",
   "nbconvert_exporter": "python",
   "pygments_lexer": "ipython3",
   "version": "3.10.9"
  }
 },
 "nbformat": 4,
 "nbformat_minor": 5
}
