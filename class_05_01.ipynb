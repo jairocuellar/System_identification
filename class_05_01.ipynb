{
 "cells": [
  {
   "cell_type": "markdown",
   "id": "1e0682a7",
   "metadata": {},
   "source": [
    "# IDENTIFICACIÓN DE SISTEMAS\n",
    "\n",
    "Profesor: Jairo Alberto Cuéllar Guarnizo  \n",
    "Programa: Ingeniería en Automatización y Control"
   ]
  },
  {
   "cell_type": "code",
   "execution_count": 1,
   "id": "59f44449",
   "metadata": {},
   "outputs": [],
   "source": [
    "from sympy import MatrixSymbol, Matrix, Identity\n",
    "\n",
    "import sympy as sym\n",
    "import pandas as pd\n",
    "sym.init_printing()\n",
    "%matplotlib inline\n",
    "\n",
    "import pandas as pd\n",
    "import numpy as np\n",
    "import matplotlib.pyplot as plt\n",
    "import seaborn as sns\n",
    "import control\n",
    "import random"
   ]
  },
  {
   "cell_type": "markdown",
   "id": "56eb0f3c",
   "metadata": {},
   "source": [
    "# Métodos paramétricos de estimación\n",
    "\n",
    "## Estimación Lineal por mínimos cuadráticos (LS)\n",
    "\n",
    "Técnica para encontrar modelos lineales que se representan como algún parámetro desconocido $\\theta$ (Estimador). Recordar que $y[1], ... , y[N]$ son mediciones de la función que queremos estimar (variables dependientes). Existe otra secuencia denominada el vector de regresión $\\phi[0], ... ,\\phi[N]$, las cuales se reconocen como las entradas del modelo o variables independientes (vector de regresión). Un modelo lineal de predicción que incluye errores está dado por la siguiente relación:\n",
    "\n",
    "$$y[k] = \\phi[k]^T\\theta + \\varepsilon[k]$$\n",
    "\n",
    "Inicialmente consideremos el error como 0, $y[k] = \\phi[k]^T\\theta$. La idea de LS es minimizar el valor de error entre las mediciones $y[k]$ y sus valores estimados $\\theta$ elevados al cuadrado, por tanto la función de costo a minimizar sería:\n",
    "\n",
    "$$\\sum_{k=1}^{N}[y[k]-\\phi[k]^T\\theta]^2$$\n",
    "\n",
    "Asumamos $y[k]$ como $y$, $\\phi[k]$ como $\\phi$. El estimador $\\theta$ es el valor que minimiza la función de costo.\n",
    "\n",
    "Matricialmente la expresión de la función de costo que llamaremos $f[\\theta]$ será:\n",
    "\n",
    "$$f[\\theta] = \\frac{1}{2}|y - \\phi^T\\theta|^2$$\n",
    "\n",
    "Omitiendo los subindices N y la notación vectorial, esta ecuación matricial se puede minimizar y evaluar mediante el cálculo del gradiente y la matriz Hessiana.\n",
    "\n",
    "$$f[\\theta] = \\frac{1}{2}|y^T.y - 2.\\phi^T.y.\\theta + \\phi^T.\\phi.\\theta^2|$$\n",
    "\n",
    "Calculando el gradiende tendríamos:\n",
    "\n",
    "$$\\bigtriangledown f[\\theta] = \\bigtriangledown[\\frac{1}{2}|y^T.y - 2.\\phi^T.y.\\theta + \\phi^T.\\phi.\\theta^2|] = - \\phi^T.y + \\phi^T.\\phi.\\theta = 0$$\n",
    "\n",
    "Despejando el estimador:\n",
    "\n",
    "$$\\theta = [\\phi^T.\\phi]^{-1}.\\phi^T.y$$\n",
    "\n",
    "Se define aquí la matriz pseudoinversa de Moore-Penrose así:\n",
    "\n",
    "$$\\phi^+ = [\\phi^T.\\phi]^{-1}.\\phi^T$$\n",
    "\n",
    "Despejando el estimador:\n",
    "\n",
    "$$\\theta = \\phi^+.y$$"
   ]
  },
  {
   "cell_type": "markdown",
   "id": "71284ffe",
   "metadata": {},
   "source": [
    "## Ejemplo 1 (LS) - Vector de regresión unitario\n",
    "\n",
    "Asumamos un modelo con las siguientes condiciones:\n",
    "\n",
    "$$y[k] = \\phi[k]^T\\theta + \\varepsilon[k]$$\n",
    "\n",
    "Si $\\phi$ es unitario el modelo a obtener es para una constante y se reduce a:\n",
    "\n",
    "$$y[k] = \\theta + \\varepsilon[k]$$\n",
    "\n",
    "Ahora se debe encontrar el mejor estimador $\\theta$ teniendo en cuenta lo siguiente:\n",
    "\n",
    "$y = \\begin{bmatrix}y[1]\\\\y[2]\\\\...\\\\y[N]\\end{bmatrix}$, Según el modelo asumido, el vector de regresión estaría dado por: $\\phi = \\begin{bmatrix}1\\\\1\\\\...\\\\1\\end{bmatrix}$. Las dimensiones de estos vectores es de Nx1.\n",
    "\n",
    "Es relativamente sencillo calcular el mejor estimador usando la relación obtenida anteriormente:\n",
    "\n",
    "$$\\theta = [\\phi^T.\\phi]^{-1}.\\phi^T.y$$\n",
    "\n",
    "$$\\phi^T.\\phi = \\begin{bmatrix}1&1&...&1\\end{bmatrix}\\begin{bmatrix}1\\\\1\\\\...\\\\1\\end{bmatrix} = N$$\n",
    "\n",
    "Y por consiguiente:\n",
    "\n",
    "$$[\\phi^T.\\phi]^{-1}=\\frac{1}{N}$$\n",
    "\n",
    "Ahora observemos la expresión:\n",
    "$$\\phi^T.y = \\begin{bmatrix}1&1&...&1\\end{bmatrix}\\begin{bmatrix}y[1]\\\\y[2]\\\\...\\\\y[N]\\end{bmatrix} = \\sum_{k=1}^{N}y[k]$$\n",
    "\n",
    "Entonces armando el estimador, se tiene que con un vector de regresión unitario, el modelo estimado es un promedio:\n",
    "\n",
    "$$\\theta = \\frac{1}{N}\\sum_{k=1}^{N}y[k]$$"
   ]
  },
  {
   "cell_type": "markdown",
   "id": "a2acee7e",
   "metadata": {},
   "source": [
    "## Ejemplo 2 (LS) - Estimación de resistencia por LS\n",
    "\n",
    "Asumamos un modelo constante con las siguientes condiciones: $y[k] = V[k]$, $\\phi[k] = I[k]$, $\\theta = R$.\n",
    "\n",
    "Asumiendo que el mejor estimador es el siguiente:\n",
    "\n",
    "$$\\theta = [\\phi^T.\\phi]^{-1}.\\phi^T.y$$\n",
    "\n",
    "$$\\phi^T.\\phi = \\begin{bmatrix}I[1]&I[2]&...&I[N]\\end{bmatrix}\\begin{bmatrix}I[1]\\\\I[2]\\\\...\\\\I[N]\\end{bmatrix} = \\sum_{k=1}^{N}I[k]^2$$\n",
    "\n",
    "Por tanto el inverso de esta expresión sería:\n",
    "\n",
    "$$[\\phi^T.\\phi]^{-1} = \\frac{1}{\\sum_{k=1}^{N}I[k]^2}$$\n",
    "\n",
    "Por último se tiene que \n",
    "\n",
    "$$\\phi^T.y = \\begin{bmatrix}I[1]&I[2]&...&I[N]\\end{bmatrix}\\begin{bmatrix}V[1]\\\\V[2]\\\\...\\\\V[N]\\end{bmatrix} = \\sum_{k=1}^{N}I[k]V[k]$$\n",
    "\n",
    "Finalmente:\n",
    "\n",
    "$$\\theta = \\frac{\\frac{1}{N}\\sum_{k=1}^{N}I[k]V[k]}{\\frac{1}{N}\\sum_{k=1}^{N}I[k]^2}$$\n",
    "\n",
    "Modelo previamente obtenido en las clases anteriores."
   ]
  },
  {
   "cell_type": "markdown",
   "id": "3f4878e3",
   "metadata": {},
   "source": [
    "## Ejemplo 3 (LS) - Estimación asumiendo como hipótesis un modelo lineal\n",
    "\n",
    "Asumamos un modelo lineal con las siguientes condiciones: $y[k] = \\theta_1 + \\theta_2.x[k]$. Para ejemplificar un poco se podría tomar un movimiento uniformemente acelerado así: $v_f[k] = a.t[k]+v_0$, entendiendo $y = v_f$, el vector $\\phi[k] =[1, t[k]]$ y $\\theta = \\begin{bmatrix}\\theta_1\\\\\\theta_2\\end{bmatrix}$.\n",
    "\n",
    "Asumiendo que el mejor estimador es el siguiente:\n",
    "\n",
    "$$\\theta = [\\phi^T.\\phi]^{-1}.\\phi^T.y$$\n",
    "\n",
    "Y donde el vector del regresor debería tener la siguiente forma, según el modelo esperado:\n",
    "\n",
    "$$\\phi = \\begin{bmatrix}1 & t[1]\\\\1 & t[2]\\\\...&...\\\\1 & t[N]\\end{bmatrix}$$\n",
    "\n",
    "Se espera que en este caso el vector de estimación sea:\n",
    "\n",
    "$$\\theta = \\begin{bmatrix}\\theta_1\\\\\\theta_2\\end{bmatrix}$$\n",
    "\n",
    "Por último se tiene que \n",
    "\n",
    "$$\\phi^T.\\phi = \\begin{bmatrix}1&1&...&1\\\\t[1]&t[2]&...&t[N]\\end{bmatrix}\\begin{bmatrix}1 & t[1]\\\\1 & t[2]\\\\...&...\\\\1 & t[N]\\end{bmatrix} = \\begin{bmatrix}\n",
    "N&\\sum_{k=1}^{N}t[n]\\\\\\sum_{k=1}^{N}t[n]&\\sum_{k=1}^{N}t[n]^2 \n",
    "\\end{bmatrix}$$\n",
    "\n",
    "El cálculo de la inversa de $\\phi^T.\\phi$, puede realizarse con la utilización de software apropiado. Finalmente la expresión:\n",
    "\n",
    "$$\\phi^T.y = \\begin{bmatrix}1&1&...&1\\\\t[1]&t[2]&...&t[N]\\end{bmatrix}\\begin{bmatrix}v_f[1]\\\\v_f[2]\\\\...\\\\v_f[N]\\end{bmatrix}=\\begin{bmatrix}\\sum_{k=1}^{N}v_f[n]\\\\\\sum_{k=1}^{N}t[n]v_f[n]\\end{bmatrix} $$\n",
    "\n",
    "Por último el vector de estimaciones sería:\n",
    "\n",
    "$$\\theta = \\begin{bmatrix}\\theta_1\\\\\\theta_2\\end{bmatrix}=[\\phi^T.\\phi]^{-1}.\\phi^T.y = \\begin{bmatrix}\n",
    "N&\\sum_{k=1}^{N}t[n]\\\\\\sum_{k=1}^{N}t[n]&\\sum_{k=1}^{N}t[n]^2 \n",
    "\\end{bmatrix}^{-1}\\begin{bmatrix}\\sum_{k=1}^{N}v_f[n]\\\\\\sum_{k=1}^{N}t[n]v_f[n]\\end{bmatrix}$$"
   ]
  },
  {
   "cell_type": "code",
   "execution_count": 30,
   "id": "30174dde",
   "metadata": {},
   "outputs": [
    {
     "data": {
      "text/plain": [
       "<AxesSubplot: xlabel='t', ylabel='y'>"
      ]
     },
     "execution_count": 30,
     "metadata": {},
     "output_type": "execute_result"
    },
    {
     "data": {
      "image/png": "[encoded data removed]",
      "text/plain": [
       "<Figure size 640x480 with 1 Axes>"
      ]
     },
     "metadata": {},
     "output_type": "display_data"
    }
   ],
   "source": [
    "# Estimador de mínimos cuadráticos para modelos polinomiales\n",
    "N = 10\n",
    "t = np.linspace(0,10,N)\n",
    "teta0 = 0;\n",
    "teta1 = 20\n",
    "teta2 = -9.80665/2\n",
    "\n",
    "## Valores verdaderos modelados (deberían ser medidos):\n",
    "\n",
    "y_true = (teta2*(t**2)+teta1*t+teta0)\n",
    "#y_true = teta2*t+teta1 \n",
    "#y_true = teta1\n",
    "##Señal de error de media 0:\n",
    "## El varo del error puede modificarse por el parámetro r, dependiendo de\n",
    "## los valores máximos de la gráfica de y real o verdadero, por ejemplo:\n",
    "# si el máximo de y_true es 5, r podría ser un valor cercano a 1 para \n",
    "# asumir un máximo del 20% de error.\n",
    "\n",
    "r = 20\n",
    "e = np.random.normal(0,20,size=N)\n",
    "\n",
    "## Señal con error incluido para simular una medición\n",
    "y = y_true + e\n",
    "data = pd.DataFrame(data = {'t':t,'y':y})\n",
    "data['ones'] = 1\n",
    "data['y_true'] = y_true\n",
    "sns.scatterplot(data,x ='t',y = 'y')\n",
    "sns.scatterplot(data,x ='t',y = 'y_true')"
   ]
  },
  {
   "cell_type": "code",
   "execution_count": 23,
   "id": "94a5edae",
   "metadata": {},
   "outputs": [
    {
     "data": {
      "text/plain": [
       "array([[ 0.00124261, -0.01242614,  0.01840909],\n",
       "       [-0.01242614,  0.13407955, -0.23318182],\n",
       "       [ 0.01840909, -0.23318182,  0.61818182]])"
      ]
     },
     "execution_count": 23,
     "metadata": {},
     "output_type": "execute_result"
    }
   ],
   "source": [
    "### Calculando la matriz Moore - Penrose\n",
    "#phi = np.array([data.ones, data.t**0.5]).transpose()\n",
    "#phi = np.array([data.ones, data.t, data.t**2, data.t**3]).transpose()\n",
    "#phi = np.array([data.ones, data.t, data.t**2]).transpose()\n",
    "\n",
    "## phi es el regresor y es una HIPÓTESIS \n",
    "## Se supone que desconocemos cómo sería, entonces toca ensayar con diferentes\n",
    "# valores para el regresor\n",
    "\n",
    "phi = np.array([data.t**2, data.t,data.ones]).transpose()\n",
    "A = np.dot(phi.transpose(),phi)\n",
    "Mpr = np.linalg.inv(A)\n",
    "Mpr"
   ]
  },
  {
   "cell_type": "code",
   "execution_count": 24,
   "id": "d88ce449",
   "metadata": {},
   "outputs": [
    {
     "data": {
      "text/plain": [
       "array([ 4.22863843,  9.29436511, -0.1953048 ])"
      ]
     },
     "execution_count": 24,
     "metadata": {},
     "output_type": "execute_result"
    }
   ],
   "source": [
    "#Obteniendo la matriz de estimadores\n",
    "B = np.dot(phi.transpose(),y)\n",
    "theta = np.dot(Mpr,B)\n",
    "theta"
   ]
  },
  {
   "cell_type": "code",
   "execution_count": 26,
   "id": "24d58ce4",
   "metadata": {},
   "outputs": [
    {
     "data": {
      "image/png": "[encoded data removed]",
      "text/plain": [
       "<Figure size 800x400 with 1 Axes>"
      ]
     },
     "metadata": {},
     "output_type": "display_data"
    }
   ],
   "source": [
    "## Calculando los datos de salida con los parámetros estimados\n",
    "#y_e = theta[1]*(t**0.5)+theta[0] \n",
    "#y_e = theta[3]*(t**3)+theta[2]*(t**2)+theta[1]*t+theta[0] \n",
    "#y_e = theta[2]*(t**2)+theta[1]*t+theta[0] \n",
    "y_e = theta[0]*(t**2)+theta[1]*t+theta[2] \n",
    "data_e = pd.DataFrame(data = {'t':t,'y_e':y_e})\n",
    "## Graficando Los 3 modelos\n",
    "#sns.scatterplot(data,x ='t',y = 'y')\n",
    "#sns.scatterplot(data_e,x ='t',y = 'y_e')\n",
    "plt.figure(figsize=(8,4))\n",
    "plt.plot(t,y_true)\n",
    "plt.scatter(t,y)\n",
    "plt.plot(t,y_e)\n",
    "\n",
    "plt.legend([\"Ideal\",\"Medición\",\"Estimado\"])\n",
    "plt.grid()"
   ]
  },
  {
   "cell_type": "markdown",
   "id": "4153a0a9",
   "metadata": {},
   "source": [
    "## [Ejercicio en Clase 2](ejercicio_02.ipynb)"
   ]
  },
  {
   "cell_type": "code",
   "execution_count": null,
   "id": "383b06a0",
   "metadata": {},
   "outputs": [],
   "source": []
  }
 ],
 "metadata": {
  "kernelspec": {
   "display_name": "Python 3 (ipykernel)",
   "language": "python",
   "name": "python3"
  },
  "language_info": {
   "codemirror_mode": {
    "name": "ipython",
    "version": 3
   },
   "file_extension": ".py",
   "mimetype": "text/x-python",
   "name": "python",
   "nbconvert_exporter": "python",
   "pygments_lexer": "ipython3",
   "version": "3.10.9"
  }
 },
 "nbformat": 4,
 "nbformat_minor": 5
}
