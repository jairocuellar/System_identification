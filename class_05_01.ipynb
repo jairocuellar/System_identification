{
 "cells": [
  {
   "cell_type": "markdown",
   "id": "1e0682a7",
   "metadata": {},
   "source": [
    "# IDENTIFICACIÓN DE SISTEMAS\n",
    "\n",
    "Profesor: Jairo Alberto Cuéllar Guarnizo  \n",
    "Programa: Ingeniería en Automatización y Control"
   ]
  },
  {
   "cell_type": "code",
   "execution_count": 1,
   "id": "59f44449",
   "metadata": {},
   "outputs": [],
   "source": [
    "from sympy import MatrixSymbol, Matrix, Identity\n",
    "\n",
    "import sympy as sym\n",
    "import pandas as pd\n",
    "sym.init_printing()\n",
    "%matplotlib inline\n",
    "\n",
    "import pandas as pd\n",
    "import numpy as np\n",
    "import matplotlib.pyplot as plt\n",
    "import seaborn as sns\n",
    "import control\n",
    "import random"
   ]
  },
  {
   "cell_type": "markdown",
   "id": "56eb0f3c",
   "metadata": {},
   "source": [
    "# Métodos paramétricos de estimación\n",
    "\n",
    "## Estimación Lineal por mínimos cuadráticos (LS)\n",
    "\n",
    "Técnica para encontrar modelos lineales que se representan como algún vector de parámetros desconocidos $\\theta$. Recordar que $y[1], ... , y[N]$ son mediciones de la función que queremos estimar (variables dependientes). Existe otra secuencia denominada el vector de regresión $\\phi[0], ... ,\\phi[N]$, las cuales se reconocen como las entradas del modelo de hipótesis o variables independientes (vector de regresión), dichos valores dependen del modelo que se asuma como hipótesis. \n",
    "Un modelo lineal de predicción que incluye errores está dado por la siguiente relación:\n",
    "\n",
    "$$\\hat{y[k]} = \\phi[k]^T\\theta + \\varepsilon[k]$$\n",
    "\n",
    "Inicialmente consideremos el error como 0, $\\hat{y[k]} = \\phi[k]^T\\theta$. La idea de LS es minimizar el valor de error entre las mediciones $y[k]$ y sus valores estimados $\\hat{y[k]}$ elevados al cuadrado, por tanto la función de costo a minimizar sería:\n",
    "\n",
    "$$\\sum_{k=1}^{N}[y[k]-\\phi[k]^T\\theta]^2$$\n",
    "\n",
    "Asumamos $y[k]$ como $y$ (datos medidos), $\\phi[k]$ como $\\phi$. El vector a estimar $\\theta$ es el valor que minimiza la función de costo.\n",
    "\n",
    "Matricialmente la expresión de la función de costo que llamaremos $f(\\theta)$ será:\n",
    "\n",
    "$$f(\\theta) = (y - \\phi^T\\theta)^2$$\n",
    "\n",
    "Omitiendo los subindices N y la notación vectorial, esta ecuación matricial se puede minimizar y evaluar mediante el cálculo del gradiente y la matriz Hessiana.\n",
    "\n",
    "$$f(\\theta) = y^T.y - 2.\\phi^T.y.\\theta + \\phi^T.\\phi.\\theta^2$$\n",
    "\n",
    "Calculando el gradiende tendríamos:\n",
    "\n",
    "$$\\bigtriangledown f(\\theta) = \\bigtriangledown[y^T.y - 2.\\phi^T.y.\\theta + \\phi^T.\\phi.\\theta^2] = -2.\\phi^T.y + 2.\\phi^T.\\phi.\\theta = 0$$\n",
    "\n",
    "Despejando los parámetros a estimar:\n",
    "\n",
    "$$\\theta = [\\phi^T.\\phi]^{-1}.\\phi^T.y$$\n",
    "\n",
    "Se define aquí la matriz pseudoinversa de Moore-Penrose así:\n",
    "\n",
    "$$\\phi^+ = [\\phi^T.\\phi]^{-1}.\\phi^T$$\n",
    "\n",
    "Despejando el estimador:\n",
    "\n",
    "$$\\theta = \\phi^+.y$$"
   ]
  },
  {
   "cell_type": "markdown",
   "id": "71284ffe",
   "metadata": {},
   "source": [
    "## Ejemplo 1 (LS) - Vector de regresión unitario\n",
    "\n",
    "Asumamos un modelo con las siguientes condiciones:\n",
    "\n",
    "$$\\hat{y[k]} = \\phi[k]^T\\theta + \\varepsilon[k]$$\n",
    "\n",
    "Si la hipótesis es que $\\phi$ es unitario, el modelo a obtener es para un valor constante y se reduce a:\n",
    "\n",
    "$$\\hat{y[k]} = \\theta + \\varepsilon[k]$$\n",
    "\n",
    "Ahora se debe encontrar el mejor estimador $\\theta$ teniendo en cuenta lo siguiente:\n",
    "\n",
    "$y = \\begin{bmatrix}y[1]\\\\y[2]\\\\...\\\\y[N]\\end{bmatrix}$, Según el modelo asumido, el vector de regresión estaría dado por: $\\phi = \\begin{bmatrix}1\\\\1\\\\...\\\\1\\end{bmatrix}$. Las dimensiones de estos vectores es de Nx1.\n",
    "\n",
    "Es relativamente sencillo calcular el mejor estimador usando la relación obtenida anteriormente:\n",
    "\n",
    "$$\\theta = [\\phi^T.\\phi]^{-1}.\\phi^T.y$$\n",
    "\n",
    "$$\\phi^T.\\phi = \\begin{bmatrix}1&1&...&1\\end{bmatrix}\\begin{bmatrix}1\\\\1\\\\...\\\\1\\end{bmatrix} = N$$\n",
    "\n",
    "Y por consiguiente:\n",
    "\n",
    "$$[\\phi^T.\\phi]^{-1}=\\frac{1}{N}$$\n",
    "\n",
    "Ahora observemos la expresión:\n",
    "$$\\phi^T.y = \\begin{bmatrix}1&1&...&1\\end{bmatrix}\\begin{bmatrix}y[1]\\\\y[2]\\\\...\\\\y[N]\\end{bmatrix} = \\sum_{k=1}^{N}y[k]$$\n",
    "\n",
    "Entonces armando el estimador, se tiene que con un vector de regresión unitario, el modelo estimado es un promedio:\n",
    "\n",
    "$$\\theta = \\frac{1}{N}\\sum_{k=1}^{N}y[k]$$"
   ]
  },
  {
   "cell_type": "markdown",
   "id": "a2acee7e",
   "metadata": {},
   "source": [
    "## Ejemplo 2 (LS) - Estimación de resistencia por LS\n",
    "\n",
    "Asumamos un modelo constante con las siguientes condiciones: $y[k] = V[k]$, $\\phi[k] = I[k]$, $\\theta = R$.\n",
    "\n",
    "Asumiendo que el mejor estimador es el siguiente:\n",
    "\n",
    "$$\\theta = [\\phi^T.\\phi]^{-1}.\\phi^T.y$$\n",
    "\n",
    "$$\\phi^T.\\phi = \\begin{bmatrix}I[1]&I[2]&...&I[N]\\end{bmatrix}\\begin{bmatrix}I[1]\\\\I[2]\\\\...\\\\I[N]\\end{bmatrix} = \\sum_{k=1}^{N}I[k]^2$$\n",
    "\n",
    "Por tanto el inverso de esta expresión sería:\n",
    "\n",
    "$$[\\phi^T.\\phi]^{-1} = \\frac{1}{\\sum_{k=1}^{N}I[k]^2}$$\n",
    "\n",
    "Por último se tiene que \n",
    "\n",
    "$$\\phi^T.y = \\begin{bmatrix}I[1]&I[2]&...&I[N]\\end{bmatrix}\\begin{bmatrix}V[1]\\\\V[2]\\\\...\\\\V[N]\\end{bmatrix} = \\sum_{k=1}^{N}I[k]V[k]$$\n",
    "\n",
    "Finalmente:\n",
    "\n",
    "$$\\theta = \\frac{\\frac{1}{N}\\sum_{k=1}^{N}I[k]V[k]}{\\frac{1}{N}\\sum_{k=1}^{N}I[k]^2}$$\n",
    "\n",
    "Modelo previamente obtenido en las clases anteriores."
   ]
  },
  {
   "cell_type": "markdown",
   "id": "3f4878e3",
   "metadata": {},
   "source": [
    "## Ejemplo 3 (LS) - Estimación asumiendo como hipótesis un modelo lineal\n",
    "\n",
    "Asumamos un modelo lineal con las siguientes condiciones: $\\hat{y[k]} = \\theta_1 + \\theta_2.x[k]$. Para ejemplificar un poco se podría tomar un movimiento uniformemente acelerado así: $v_f[k] = v_0+a.t[k]$, entendiendo $y = v_f$, el vector $\\phi[k] =[1, t[k]]$ y $\\theta = \\begin{bmatrix}\\theta_1\\\\\\theta_2\\end{bmatrix} = \\begin{bmatrix}v_0\\\\a\\end{bmatrix}$.\n",
    "\n",
    "Asumiendo que el mejor estimador es el siguiente:\n",
    "\n",
    "$$\\theta = [\\phi^T.\\phi]^{-1}.\\phi^T.y$$\n",
    "\n",
    "Y donde el vector del regresor debería tener la siguiente forma, según el modelo esperado:\n",
    "\n",
    "$$\\phi = \\begin{bmatrix}1 & t[1]\\\\1 & t[2]\\\\...&...\\\\1 & t[N]\\end{bmatrix}$$\n",
    "\n",
    "Se espera que en este caso el vector de estimación sea:\n",
    "\n",
    "$$\\theta = \\begin{bmatrix}\\theta_1\\\\\\theta_2\\end{bmatrix}$$\n",
    "\n",
    "Por último se tiene que \n",
    "\n",
    "$$\\phi^T.\\phi = \\begin{bmatrix}1&1&...&1\\\\t[1]&t[2]&...&t[N]\\end{bmatrix}\\begin{bmatrix}1 & t[1]\\\\1 & t[2]\\\\...&...\\\\1 & t[N]\\end{bmatrix} = \\begin{bmatrix}\n",
    "N&\\sum_{k=1}^{N}t[k]\\\\\\sum_{k=1}^{N}t[k]&\\sum_{k=1}^{N}t[k]^2 \n",
    "\\end{bmatrix}$$\n",
    "\n",
    "El cálculo de la inversa de $\\phi^T.\\phi$, puede realizarse con la utilización de software apropiado. Finalmente la expresión:\n",
    "\n",
    "$$\\phi^T.y = \\begin{bmatrix}1&1&...&1\\\\t[1]&t[2]&...&t[N]\\end{bmatrix}\\begin{bmatrix}v_f[1]\\\\v_f[2]\\\\...\\\\v_f[N]\\end{bmatrix}=\\begin{bmatrix}\\sum_{k=1}^{N}v_f[k]\\\\\\sum_{k=1}^{N}t[k]v_f[k]\\end{bmatrix} $$\n",
    "\n",
    "Por último el vector de estimaciones sería:\n",
    "\n",
    "$$\\theta = \\begin{bmatrix}\\theta_1\\\\\\theta_2\\end{bmatrix}=\\begin{bmatrix}\n",
    "N&\\sum_{k=1}^{N}t[k]\\\\\\sum_{k=1}^{N}t[k]&\\sum_{k=1}^{N}t[k]^2 \n",
    "\\end{bmatrix}^{-1}\\begin{bmatrix}\\sum_{k=1}^{N}v_f[k]\\\\\\sum_{k=1}^{N}t[k]v_f[k]\\end{bmatrix}$$"
   ]
  },
  {
   "cell_type": "code",
   "execution_count": 2,
   "id": "30174dde",
   "metadata": {},
   "outputs": [
    {
     "data": {
      "image/png": "[encoded data removed]",
      "text/plain": [
       "<Figure size 640x480 with 1 Axes>"
      ]
     },
     "metadata": {},
     "output_type": "display_data"
    }
   ],
   "source": [
    "# GENERANDO LOS DATOS PARA PODER REALIZAR LA ESTIMACIÓN Longitud = N\n",
    "# El modelo original es la ecuación de movimiento para un lanzamiento de un cuerpo\n",
    "# hacia arriba, con una velocidad inicial determinada \n",
    "# y = (-1/2g) t^2 + v0 t + y0, el menos indica que el movimiento está perdiendo \n",
    "# velocidad\n",
    "\n",
    "N = 10\n",
    "t = np.linspace(0,4,N)\n",
    "teta0 = 3;\n",
    "teta1 = 20\n",
    "teta2 = -9.80665/2\n",
    "\n",
    "## Valores verdaderos modelados (deberían ser medidos):\n",
    "\n",
    "y_true = (teta2*(t**2)+teta1*t+teta0)\n",
    "##Señal de error de media 0:\n",
    "## El valor del error puede modificarse usamdp el parámetro r, dependiendo de\n",
    "## los valores máximos de la gráfica de \"y\" verdadero, por ejemplo:\n",
    "# si el máximo de y_true es 5, r podría ser un valor cercano a 1 para \n",
    "# asumir un máximo del 20% de error.\n",
    "\n",
    "r = 5\n",
    "e = np.random.normal(0,r,size=N)\n",
    "\n",
    "## Señal con error incluido para simular una medición\n",
    "y = y_true + e\n",
    "# Creando los datos con una columna de tiempo \"t\", \"y\", y unos (1)\n",
    "data = pd.DataFrame(data = {'t':t,'y':y})\n",
    "data['ones'] = 1\n",
    "data['y_true'] = y_true\n",
    "# Graficando el valor \"y\" contaminado con el ruido\n",
    "sns.scatterplot(data,x ='t',y = 'y')\n",
    "plt.legend([\"Medición\"])\n",
    "plt.grid()"
   ]
  },
  {
   "cell_type": "code",
   "execution_count": 14,
   "id": "dc715fd9",
   "metadata": {},
   "outputs": [
    {
     "data": {
      "text/html": [
       "<div>\n",
       "<style scoped>\n",
       "    .dataframe tbody tr th:only-of-type {\n",
       "        vertical-align: middle;\n",
       "    }\n",
       "\n",
       "    .dataframe tbody tr th {\n",
       "        vertical-align: top;\n",
       "    }\n",
       "\n",
       "    .dataframe thead th {\n",
       "        text-align: right;\n",
       "    }\n",
       "</style>\n",
       "<table border=\"1\" class=\"dataframe\">\n",
       "  <thead>\n",
       "    <tr style=\"text-align: right;\">\n",
       "      <th></th>\n",
       "      <th>t</th>\n",
       "      <th>y</th>\n",
       "      <th>ones</th>\n",
       "      <th>y_true</th>\n",
       "    </tr>\n",
       "  </thead>\n",
       "  <tbody>\n",
       "    <tr>\n",
       "      <th>0</th>\n",
       "      <td>0.000000</td>\n",
       "      <td>-4.580597</td>\n",
       "      <td>1</td>\n",
       "      <td>3.000000</td>\n",
       "    </tr>\n",
       "    <tr>\n",
       "      <th>1</th>\n",
       "      <td>0.444444</td>\n",
       "      <td>-0.875457</td>\n",
       "      <td>1</td>\n",
       "      <td>10.920331</td>\n",
       "    </tr>\n",
       "    <tr>\n",
       "      <th>2</th>\n",
       "      <td>0.888889</td>\n",
       "      <td>28.091286</td>\n",
       "      <td>1</td>\n",
       "      <td>16.903546</td>\n",
       "    </tr>\n",
       "    <tr>\n",
       "      <th>3</th>\n",
       "      <td>1.333333</td>\n",
       "      <td>18.002871</td>\n",
       "      <td>1</td>\n",
       "      <td>20.949644</td>\n",
       "    </tr>\n",
       "    <tr>\n",
       "      <th>4</th>\n",
       "      <td>1.777778</td>\n",
       "      <td>19.965937</td>\n",
       "      <td>1</td>\n",
       "      <td>23.058627</td>\n",
       "    </tr>\n",
       "    <tr>\n",
       "      <th>5</th>\n",
       "      <td>2.222222</td>\n",
       "      <td>22.652020</td>\n",
       "      <td>1</td>\n",
       "      <td>23.230494</td>\n",
       "    </tr>\n",
       "    <tr>\n",
       "      <th>6</th>\n",
       "      <td>2.666667</td>\n",
       "      <td>22.672036</td>\n",
       "      <td>1</td>\n",
       "      <td>21.465244</td>\n",
       "    </tr>\n",
       "    <tr>\n",
       "      <th>7</th>\n",
       "      <td>3.111111</td>\n",
       "      <td>23.272824</td>\n",
       "      <td>1</td>\n",
       "      <td>17.762879</td>\n",
       "    </tr>\n",
       "    <tr>\n",
       "      <th>8</th>\n",
       "      <td>3.555556</td>\n",
       "      <td>14.673646</td>\n",
       "      <td>1</td>\n",
       "      <td>12.123398</td>\n",
       "    </tr>\n",
       "    <tr>\n",
       "      <th>9</th>\n",
       "      <td>4.000000</td>\n",
       "      <td>8.689453</td>\n",
       "      <td>1</td>\n",
       "      <td>4.546800</td>\n",
       "    </tr>\n",
       "  </tbody>\n",
       "</table>\n",
       "</div>"
      ],
      "text/plain": [
       "          t          y  ones     y_true\n",
       "0  0.000000  -4.580597     1   3.000000\n",
       "1  0.444444  -0.875457     1  10.920331\n",
       "2  0.888889  28.091286     1  16.903546\n",
       "3  1.333333  18.002871     1  20.949644\n",
       "4  1.777778  19.965937     1  23.058627\n",
       "5  2.222222  22.652020     1  23.230494\n",
       "6  2.666667  22.672036     1  21.465244\n",
       "7  3.111111  23.272824     1  17.762879\n",
       "8  3.555556  14.673646     1  12.123398\n",
       "9  4.000000   8.689453     1   4.546800"
      ]
     },
     "execution_count": 14,
     "metadata": {},
     "output_type": "execute_result"
    }
   ],
   "source": [
    "data"
   ]
  },
  {
   "cell_type": "code",
   "execution_count": 15,
   "id": "94a5edae",
   "metadata": {},
   "outputs": [
    {
     "data": {
      "text/plain": [
       "array([[ 0.        ,  0.        ,  1.        ],\n",
       "       [ 0.19753086,  0.44444444,  1.        ],\n",
       "       [ 0.79012346,  0.88888889,  1.        ],\n",
       "       [ 1.77777778,  1.33333333,  1.        ],\n",
       "       [ 3.16049383,  1.77777778,  1.        ],\n",
       "       [ 4.9382716 ,  2.22222222,  1.        ],\n",
       "       [ 7.11111111,  2.66666667,  1.        ],\n",
       "       [ 9.67901235,  3.11111111,  1.        ],\n",
       "       [12.64197531,  3.55555556,  1.        ],\n",
       "       [16.        ,  4.        ,  1.        ]])"
      ]
     },
     "execution_count": 15,
     "metadata": {},
     "output_type": "execute_result"
    }
   ],
   "source": [
    "## phi es el regresor y es una HIPÓTESIS \n",
    "## Se supone que desconocemos cómo sería, entonces toca ensayar con diferentes\n",
    "# valores para el regresor\n",
    "phi = np.array([data.t**2, data.t, data.ones]).transpose()\n",
    "#phi = np.array([data.ones, data.t**0.5]).transpose()\n",
    "#phi = np.array([data.ones, data.t, data.t**2, data.t**3]).transpose()\n",
    "#phi = np.array([data.ones, data.t, data.t**2]).transpose()\n",
    "\n",
    "phi"
   ]
  },
  {
   "cell_type": "code",
   "execution_count": 16,
   "id": "d85a0a92",
   "metadata": {},
   "outputs": [
    {
     "data": {
      "text/plain": [
       "array([[ 0.0485396 , -0.19415838,  0.11505682],\n",
       "       [-0.19415838,  0.83799716, -0.58295455],\n",
       "       [ 0.11505682, -0.58295455,  0.61818182]])"
      ]
     },
     "execution_count": 16,
     "metadata": {},
     "output_type": "execute_result"
    }
   ],
   "source": [
    "### Calculando la matriz phi'*phi y calculando la inversa\n",
    "A = np.dot(phi.transpose(),phi)\n",
    "A_inv = np.linalg.inv(A)\n",
    "A_inv"
   ]
  },
  {
   "cell_type": "code",
   "execution_count": 17,
   "id": "d88ce449",
   "metadata": {},
   "outputs": [
    {
     "data": {
      "text/plain": [
       "array([-5.59197517, 25.37983839, -4.02252574])"
      ]
     },
     "execution_count": 17,
     "metadata": {},
     "output_type": "execute_result"
    }
   ],
   "source": [
    "# Calculando B = phi'*y\n",
    "B = np.dot(phi.transpose(),y)\n",
    "#Obteniendo la matriz de parámetros theta\n",
    "theta = np.dot(A_inv,B)\n",
    "theta"
   ]
  },
  {
   "cell_type": "code",
   "execution_count": 18,
   "id": "24d58ce4",
   "metadata": {},
   "outputs": [
    {
     "data": {
      "image/png": "[encoded data removed]",
      "text/plain": [
       "<Figure size 800x400 with 1 Axes>"
      ]
     },
     "metadata": {},
     "output_type": "display_data"
    }
   ],
   "source": [
    "## Calculando los datos de salida con los parámetros estimados\n",
    "#y_e = theta[0]*(t**2)+theta[1]*t+theta[2] \n",
    "y_e = theta[0]*(t**2)+theta[1]*t + theta[2]\n",
    "data_e = pd.DataFrame(data = {'t':t,'y_e':y_e})\n",
    "## Graficando Los 3 modelos\n",
    "#sns.scatterplot(data,x ='t',y = 'y')\n",
    "#sns.scatterplot(data_e,x ='t',y = 'y_e')\n",
    "plt.figure(figsize=(8,4))\n",
    "plt.scatter(t,y)\n",
    "plt.plot(t,y_e,color = 'red')\n",
    "\n",
    "plt.legend([\"Medición\",\"Estimado\"])\n",
    "plt.grid()"
   ]
  },
  {
   "cell_type": "code",
   "execution_count": 19,
   "id": "ca532c53",
   "metadata": {},
   "outputs": [
    {
     "data": {
      "image/png": "[encoded data removed]",
      "text/latex": [
       "$\\displaystyle \\left( - 5.59197516587568 t^{2} + 25.3798383852848 t - 4.02252573877612, \\  - 4.903325 t^{2} + 20 t + 3\\right)$"
      ],
      "text/plain": [
       "⎛                    2                                                      2 \n",
       "⎝- 5.59197516587568⋅t  + 25.3798383852848⋅t - 4.02252573877612, - 4.903325⋅t  \n",
       "\n",
       "          ⎞\n",
       "+ 20⋅t + 3⎠"
      ]
     },
     "execution_count": 19,
     "metadata": {},
     "output_type": "execute_result"
    }
   ],
   "source": [
    "# Función modelo vs función original\n",
    "vf,t = sym.symbols('vf,t')\n",
    "\n",
    "# Este es el modelo estimado\n",
    "vf = theta[0]*t**2+theta[1]*t+theta[2]\n",
    "\n",
    "## Esta es la original:\n",
    "vf0 = teta2*t**2+teta1*t+teta0\n",
    "vf, vf0"
   ]
  },
  {
   "cell_type": "markdown",
   "id": "b6910f8e",
   "metadata": {},
   "source": [
    "# Parámetros de comparación de modelos\n",
    "\n",
    "## El error cuadrático medio (ECM)\n",
    "\n",
    "El error cuadrático medio es dependiente de los valores de la estimación, por tanto se puede calcular utilizando los valores de las mediciones y cada una de las estimaciones realizadas, por tanto es posible calcularlo con la siguiente ecuación:\n",
    "\n",
    "$$ECM = \\frac{1}{N}\\sum_{k=1}^{N}(y - \\hat{y})^2$$\n",
    "\n",
    "El ECM mide la cantidad promedio por la cual las predicciones de un modelo se desvían de los valores reales. Cuanto menor sea el ECM, mejor será el rendimiento del modelo, ya que indicará que las predicciones están más cerca de los valores reales.El ECM se usa comúnmente en problemas de regresión, pero puede aplicarse en otras áreas, como clasificación, cuando se utilizan puntuaciones de probabilidad en lugar de valores continuos.\n",
    "\n",
    "## El coeficiente de determinación $R^2$\n",
    "\n",
    "El $R^2$ es un indicador clave para las estimaciones o predicciones que se plantean frente a una identificación de sistemas. La idea es que este valor siempre estará en un intérvalo fijo (0 a 1), además un valor de $R^2 = 1$, significa que cada valor de la estimación es igual al valor medido, por tanto entre más se acerque el $R^2$ a un valor de 1, mejor estimación se puede tener.\n",
    "\n",
    "$$R^2 = 1 - \\frac{\\frac{1}{N}\\sum_{k=1}^{N}(y - \\hat{y})^2}{\\frac{1}{N}\\sum_{k=1}^{N}y^2}$$"
   ]
  },
  {
   "cell_type": "code",
   "execution_count": 20,
   "id": "214503b1",
   "metadata": {},
   "outputs": [
    {
     "data": {
      "image/png": "[encoded data removed]",
      "text/latex": [
       "$\\displaystyle \\left( 27.3558312770061, \\  0.919380260622712\\right)$"
      ],
      "text/plain": [
       "(27.35583127700614, 0.9193802606227116)"
      ]
     },
     "execution_count": 20,
     "metadata": {},
     "output_type": "execute_result"
    }
   ],
   "source": [
    "#ECM y  R2\n",
    "# Señal de error ek\n",
    "ek = y - y_e\n",
    "## ECM\n",
    "ECM = np.dot(ek.transpose(),ek)/N\n",
    "## R2\n",
    "R2 = 1 - np.dot(ek.transpose(),ek)/np.dot(y.transpose(),y)\n",
    "ECM, R2"
   ]
  },
  {
   "cell_type": "markdown",
   "id": "4153a0a9",
   "metadata": {},
   "source": [
    "## [Ejercicio en Clase 3](ejercicio_03_LS_polinomio.ipynb)"
   ]
  },
  {
   "cell_type": "code",
   "execution_count": null,
   "id": "383b06a0",
   "metadata": {},
   "outputs": [],
   "source": []
  }
 ],
 "metadata": {
  "kernelspec": {
   "display_name": "Python 3 (ipykernel)",
   "language": "python",
   "name": "python3"
  },
  "language_info": {
   "codemirror_mode": {
    "name": "ipython",
    "version": 3
   },
   "file_extension": ".py",
   "mimetype": "text/x-python",
   "name": "python",
   "nbconvert_exporter": "python",
   "pygments_lexer": "ipython3",
   "version": "3.10.9"
  }
 },
 "nbformat": 4,
 "nbformat_minor": 5
}
