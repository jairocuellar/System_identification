{
 "cells": [
  {
   "cell_type": "code",
   "execution_count": 3,
   "id": "59f44449",
   "metadata": {},
   "outputs": [],
   "source": [
    "from sympy import MatrixSymbol, Matrix, Identity\n",
    "\n",
    "import sympy as sym\n",
    "\n",
    "sym.init_printing()\n",
    "%matplotlib inline\n",
    "\n",
    "import pandas as pd\n",
    "import numpy as np\n",
    "import matplotlib.pyplot as plt\n",
    "import control"
   ]
  },
  {
   "cell_type": "markdown",
   "id": "1e0682a7",
   "metadata": {},
   "source": [
    "# IDENTIFICACION DE SISTEMAS\n",
    "\n",
    "Profesor: Jairo Alberto Cuéllar Guarnizo  \n",
    "Programa: Ingeniería en Automatización y Control"
   ]
  },
  {
   "cell_type": "markdown",
   "id": "bea6436d",
   "metadata": {},
   "source": [
    "# Unidad 1 - Introducción y Conceptos Básicos  \n",
    "\n",
    "## Modelos matemáticos sistemas LTI  \n",
    "\n",
    "* Dominio del Tiempo (Ecuaciones diferenciales)\n",
    "* Dominio Frecuencia (Función de transferencia)\n",
    "* Modelo en espacio de estados\n",
    "\n",
    "El modelamiento matemático con base al comportamiento de las variables físicas, permite la obtención de una herramienta de modelamiento siempre y cuando se conozca la información sobre las entradas y salidas del sistema así como de la estructura interna y funcionamiento de la planta a modelar.  \n",
    "\n",
    "### **Ejemplo Paso Altos Orden 1**  \n",
    "\n",
    "![Integrador_O1](figuras/integrador.png)\n",
    "\n",
    "La señal de respuesta obtenida al simular el circuito es la siguiente:\n",
    "\n",
    "![Salida_Integrador_O1](figuras/00_integrador_salida.png)\n",
    "\n",
    "Puede observar la simulación en Multisim - Live en el siguiente enlace:\n",
    "\n",
    "[Simulación del Filtro Paso Alto O1](https://www.multisim.com/content/cJbYayursNg37p2B3eZUs5/filtro_high/open)"
   ]
  },
  {
   "cell_type": "markdown",
   "id": "7debdd8b",
   "metadata": {},
   "source": [
    "## Función de transferencia del filtro paso alto de orden 1:\n",
    "\n",
    "Para entender la respuesta obtenida en la simulación es necesario analizar y tratar de obtener una función de transferencia a partir de las leyes físicas y de circuitos conocidas, a continuación el procedimiento empleado:\n",
    "\n",
    "La impedancia del capacitor está dada por:\n",
    "\n",
    "\\begin{equation}\n",
    "Z_C = \\frac{1}{sC}\n",
    "\\end{equation}  \n",
    "\n",
    "Por tanto la corriente de entrada sería:\n",
    "\n",
    "\\begin{equation}\n",
    "I(s) = \\frac{V_i}{Z_C+R_1}\n",
    "\\end{equation}  \n",
    "\n",
    "Calculando el voltaje en la entrada NO Inversora mediante un divisor de tensión:\n",
    "\n",
    "\\begin{equation}\n",
    "V_1 = I(s)R_1 = \\frac{V_iR_1}{Z_C+R_1}\n",
    "\\end{equation}  \n",
    "\n",
    "Recordando que en el AO $V_1 = V_2$ y analizando por nodos en 2 y teniendo en cuenta que $V_0$ es el voltaje en la resistencia de carga o el voltaje de salida.\n",
    "\n",
    "\\begin{equation}\n",
    "\\frac{V_2}{R_3}+\\frac{V_2 - V_0}{R_2} = 0\n",
    "\\end{equation}  \n",
    "\n",
    "\\begin{equation}\n",
    "\\frac{V_2}{R_3}+\\frac{V_2}{R_2} =  \\frac{V_0}{R_2}\n",
    "\\end{equation}  \n",
    "\n",
    "\\begin{equation}\n",
    "V_2\\frac{R_3+R_2}{R_3} =  V_0\n",
    "\\end{equation}  \n",
    "\n",
    "Tomando en cuenta que $V_1 = V2$ entonces sustituimos la expresión $V_1$ en la anterior y obtenemos:\n",
    "\n",
    "\\begin{equation}\n",
    "\\left(\\frac{R_3+R_2}{R_3}\\right)\\frac{V_iR_1}{Z_C+R_1} =  V_0\n",
    "\\end{equation}  \n",
    "\n",
    "Despejando $\\frac{V_0}{V_i}$ tenemos:\n",
    "\n",
    "\\begin{equation}\n",
    "\\left(\\frac{R_3+R_2}{R_3}\\right)\\frac{R_1}{Z_C+R_1} =  \\frac{V_0}{V_i}\n",
    "\\end{equation}  \n",
    "\n",
    "Reemplazando la impedancia del capacitor obtenemos la deseada función de transferencia:\n",
    "\n",
    "\\begin{equation}\n",
    "\\frac{V_0}{V_i} = G(s) = \\left(\\frac{R_3+R_2}{R_3}\\right)\\frac{R_1Cs}{1+R_1Cs}\n",
    "\\end{equation}  \n",
    "\n",
    "Asumiendo parámetros con valores numéricos podemos simular el modelo obtenido (R1, R2, R3, C)"
   ]
  },
  {
   "cell_type": "code",
   "execution_count": 41,
   "id": "fea9881c",
   "metadata": {},
   "outputs": [
    {
     "data": {
      "image/png": "[encoded data removed]",
      "text/latex": [
       "$\\displaystyle \\frac{0.002 s}{0.001 s + 1}$"
      ],
      "text/plain": [
       "  0.002⋅s  \n",
       "───────────\n",
       "0.001⋅s + 1"
      ]
     },
     "execution_count": 41,
     "metadata": {},
     "output_type": "execute_result"
    }
   ],
   "source": [
    "s = sym.symbols('s', complex=True)\n",
    "\n",
    "R1 = 1000;\n",
    "R2 = 1000;\n",
    "R3 = 1000;\n",
    "C1 = 0.000001;\n",
    "\n",
    "\n",
    "## Ganancia del filtro\n",
    "Ke = (R2+R3)/R3\n",
    "\n",
    "Gs = Ke*C1*R1*s/(C1*R1*s+1)\n",
    "\n",
    "Gs"
   ]
  },
  {
   "cell_type": "markdown",
   "id": "cd0193d9",
   "metadata": {},
   "source": [
    "Creando la función de transferencia en la libreria control:"
   ]
  },
  {
   "cell_type": "code",
   "execution_count": 42,
   "id": "a8833775",
   "metadata": {},
   "outputs": [
    {
     "data": {
      "text/latex": [
       "$$\\frac{0.002 s}{0.001 s + 1}$$"
      ],
      "text/plain": [
       "TransferFunction(array([0.002, 0.   ]), array([0.001, 1.   ]))"
      ]
     },
     "execution_count": 42,
     "metadata": {},
     "output_type": "execute_result"
    }
   ],
   "source": [
    "num = [C1*R1, 0]\n",
    "den = [C1*R1, 1]\n",
    "\n",
    "G = control.tf(num,den)\n",
    "G = Ke*G\n",
    "G"
   ]
  },
  {
   "cell_type": "markdown",
   "id": "f015dfce",
   "metadata": {},
   "source": [
    "Se evalúa la respuesta al escalón de 5V del sistema y graficando $V_0$"
   ]
  },
  {
   "cell_type": "code",
   "execution_count": 43,
   "id": "4e22de71",
   "metadata": {},
   "outputs": [
    {
     "data": {
      "text/plain": [
       "[<matplotlib.lines.Line2D at 0x1647c045840>]"
      ]
     },
     "execution_count": 43,
     "metadata": {},
     "output_type": "execute_result"
    },
    {
     "data": {
      "image/png": "[encoded data removed]",
      "text/plain": [
       "<Figure size 900x300 with 1 Axes>"
      ]
     },
     "metadata": {},
     "output_type": "display_data"
    }
   ],
   "source": [
    "## Amplitud del escalon K\n",
    "K = 5\n",
    "\n",
    "t,y = control.step_response(K*G)\n",
    "plt.plot(t,y)"
   ]
  },
  {
   "cell_type": "markdown",
   "id": "926ba28e",
   "metadata": {},
   "source": [
    "## Ecuación diferencial del filtro paso alto de orden 1:\n",
    "\n",
    "En el dominio del tiempo el análisis es aún más complejo matemáticamente hablando, para empezar se puede decir que la corriente de entrada depende totalmente del voltaje del capacitor.\n",
    "\n",
    "Corriente de entrada:\n",
    "\n",
    "\\begin{equation}\n",
    "i(t) = C_1\\frac{dv_C}{dt}\n",
    "\\end{equation}  \n",
    "\n",
    "Por tanto el voltaje $v_1$ en la entrada No inversora:\n",
    "\n",
    "\\begin{equation}\n",
    "v_1 = R_1C_1\\frac{dv_C}{dt}\n",
    "\\end{equation}  \n",
    "\n",
    "Recordando que en el AO $v_1 = v_2$ y analizando por nodos en 2 y teniendo en cuenta que $v_0$ es el voltaje en la resistencia de carga o el voltaje de salida.\n",
    "\n",
    "\\begin{equation}\n",
    "\\frac{v_2}{R_3}+\\frac{v_2 - v_0}{R_2} = 0\n",
    "\\end{equation}  \n",
    "\n",
    "\\begin{equation}\n",
    "\\frac{v_2}{R_3}+\\frac{v_2}{R_2} =  \\frac{v_0}{R_2}\n",
    "\\end{equation}  \n",
    "\n",
    "\\begin{equation}\n",
    "v_2\\frac{R_3+R_2}{R_3} =  v_0\n",
    "\\end{equation}  \n",
    "\n",
    "Definiendo $K_e = \\frac{R_3+R_2}{R_3}$ se tiene entonces que:\n",
    "\n",
    "\\begin{equation}\n",
    "  v_0 = K_ev_2\n",
    "\\end{equation}  \n",
    "\n",
    "Tomando en cuenta que $v_C = v_i-v_1$ entonces sustituimos en la expresión de $v_1$ en la anterior y obtenemos:\n",
    "\n",
    "\\begin{equation}\n",
    "v_1 = R_1C_1\\frac{d(v_i - v_1)}{dt}\n",
    "\\end{equation} \n",
    "\n",
    "Recordando que $v_1 = v_2$ y que  $v_0 = K_ev_2$ entonces se obtiene:\n",
    "\n",
    "\\begin{equation}\n",
    "\\frac{v_0}{K_e} = R_1C_1\\left(\\frac{dv_i}{dt} - \\frac{1}{K_e}\\frac{dv_0}{dt}\\right)\n",
    "\\end{equation} \n",
    "\n",
    "Tomando en cuenta que la entrada es un escalón constante (exitación inicial) entonces la ecuación diferencial sería:\n",
    "\n",
    "\\begin{equation}\n",
    "\\frac{v_0}{K_e} + \\frac{R_1C_1}{K_e}\\frac{dv_0}{dt} = 0\n",
    "\\end{equation} \n",
    "\n",
    "\\begin{equation}\n",
    "v_0 + R_1C_1\\frac{dv_0}{dt} = 0\n",
    "\\end{equation} \n"
   ]
  },
  {
   "cell_type": "code",
   "execution_count": 39,
   "id": "b5b4ec58",
   "metadata": {},
   "outputs": [
    {
     "data": {
      "image/png": "[encoded data removed]",
      "text/latex": [
       "$\\displaystyle C_{1} R_{1} \\frac{d}{d t} v_{0}{\\left(t \\right)} + v_{0}{\\left(t \\right)} = 0$"
      ],
      "text/plain": [
       "      d                    \n",
       "C₁⋅R₁⋅──(v₀(t)) + v₀(t) = 0\n",
       "      dt                   "
      ]
     },
     "execution_count": 39,
     "metadata": {},
     "output_type": "execute_result"
    }
   ],
   "source": [
    "##Declaramos la ecuación diferencial:\n",
    "\n",
    "t, R1, R2, R3 , C1 = sym.symbols('t R1 R2 R3 C1', real=True)\n",
    "v0 = sym.Function('v0')(t)\n",
    "\n",
    "\n",
    "ode = sym.Eq(R1*C1*v0.diff(t)+v0,0)\n",
    "ode "
   ]
  },
  {
   "cell_type": "code",
   "execution_count": 40,
   "id": "4501c2ed",
   "metadata": {},
   "outputs": [
    {
     "data": {
      "image/png": "[encoded data removed]",
      "text/latex": [
       "$\\displaystyle v_{0}{\\left(t \\right)} = C_{1} e^{- \\frac{t}{C_{1} R_{1}}}$"
      ],
      "text/plain": [
       "             -t  \n",
       "            ─────\n",
       "            C₁⋅R₁\n",
       "v₀(t) = C₁⋅ℯ     "
      ]
     },
     "execution_count": 40,
     "metadata": {},
     "output_type": "execute_result"
    }
   ],
   "source": [
    "sol = sym.dsolve(ode)\n",
    "sol"
   ]
  },
  {
   "cell_type": "code",
   "execution_count": null,
   "id": "0fc76b71",
   "metadata": {},
   "outputs": [],
   "source": []
  }
 ],
 "metadata": {
  "kernelspec": {
   "display_name": "Python 3 (ipykernel)",
   "language": "python",
   "name": "python3"
  },
  "language_info": {
   "codemirror_mode": {
    "name": "ipython",
    "version": 3
   },
   "file_extension": ".py",
   "mimetype": "text/x-python",
   "name": "python",
   "nbconvert_exporter": "python",
   "pygments_lexer": "ipython3",
   "version": "3.10.9"
  }
 },
 "nbformat": 4,
 "nbformat_minor": 5
}
