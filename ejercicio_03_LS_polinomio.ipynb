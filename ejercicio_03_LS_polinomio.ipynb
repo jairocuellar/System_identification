{
 "cells": [
  {
   "cell_type": "markdown",
   "id": "2ea66398",
   "metadata": {},
   "source": [
    "# IDENTIFICACION DE SISTEMAS - Ejercicio 3\n",
    "\n",
    "Profesor: Jairo Alberto Cuéllar Guarnizo  \n",
    "Programa: Ingeniería en Automatización y Control"
   ]
  },
  {
   "cell_type": "markdown",
   "id": "f02dbf76",
   "metadata": {},
   "source": [
    "# Elaborado por:\n",
    "\n",
    "* Nombre 1, apellido 1\n",
    "* Nombre 2, apellido 2"
   ]
  },
  {
   "cell_type": "markdown",
   "id": "bea6436d",
   "metadata": {},
   "source": [
    "# Ejercicio 3\n",
    "### Mínimos cuadráticos (estimación de funciones polinomiales de orden N+1)\n",
    "\n",
    "## Descripción del ejercicio:\n",
    "\n",
    "Considere el ejemplo del notebook class_05_01, donde de forma manual se calculan los parámetros de un modelo representado por la siguiente notación:\n",
    "\n",
    "$$\\hat{y_N} = \\theta_1 + \\theta_2.x + \\theta_3.x^2 + ... + \\theta_N.x^{N-1}$$ \n",
    "$$\\hat{y_N} = \\begin{bmatrix}1 & x & x^2 & ... &x^{N-1}\\end{bmatrix}\\begin{bmatrix}\\theta_1 \\\\ \\theta_2 \\\\ \\theta_3 \\\\... \\\\ \\theta_N\\end{bmatrix}$$ \n",
    "\n",
    "Donde se puede identificar claramente que:\n",
    "\n",
    "$$\\hat{y_N} = \\phi^T \\theta$$\n",
    "\n",
    "y por tanto:\n",
    "\n",
    "$$\\phi^T = \\begin{bmatrix}1 & x & x^2 & ... &x^{N-1}\\end{bmatrix}$$\n",
    "$$\\theta = \\begin{bmatrix}\\theta_1 \\\\ \\theta_2 \\\\ \\theta_3 \\\\... \\\\ \\theta_N\\end{bmatrix}$$\n",
    "\n",
    "Para un modelo lineal N = 2, para uno cuadrático N = 3, etc..."
   ]
  },
  {
   "cell_type": "markdown",
   "id": "94124d57",
   "metadata": {},
   "source": [
    "### Paso 1\n",
    "\n",
    "Modifique el código del notebook class_05_01 para que reciba del usuario el orden del polinomio que se desea (lineal, cuadrático, cúbico ,etc...) y los pesos de $\\theta_N$ verdaderos."
   ]
  },
  {
   "cell_type": "code",
   "execution_count": 1,
   "id": "450dba20",
   "metadata": {},
   "outputs": [],
   "source": [
    "#Inserte el código en este espacio."
   ]
  },
  {
   "cell_type": "markdown",
   "id": "aafa882d",
   "metadata": {},
   "source": [
    "### Paso 2\n",
    "Genere la señal \"y\" armándola con el orden que el usuario escoja y con los pesos verdaderos de sus parámetros, contamínela con un ruido de media 0. Grafique la señal medida."
   ]
  },
  {
   "cell_type": "code",
   "execution_count": null,
   "id": "b75880c2",
   "metadata": {},
   "outputs": [],
   "source": [
    "#Inserte el código en este espacio."
   ]
  },
  {
   "cell_type": "markdown",
   "id": "f42ca429",
   "metadata": {},
   "source": [
    "### Paso 3\n",
    "\n",
    "Suponga que desconoce el modelo original y utilice el método de mínimos cuadrados para estimar un modelo que ajuste a los datos obtenidos. Proponga un vector de regresión $\\phi$ y calcule el vector de parámetros estimados $\\theta_{LS}$ para distintas hipótesis (por lo menos 3)."
   ]
  },
  {
   "cell_type": "code",
   "execution_count": null,
   "id": "dc152760",
   "metadata": {},
   "outputs": [],
   "source": [
    "#Inserte el código en este espacio para la hipótesis 1."
   ]
  },
  {
   "cell_type": "code",
   "execution_count": null,
   "id": "543e3170",
   "metadata": {},
   "outputs": [],
   "source": [
    "#Inserte el código en este espacio para la hipótesis 2."
   ]
  },
  {
   "cell_type": "code",
   "execution_count": 1,
   "id": "36b5aebb",
   "metadata": {},
   "outputs": [],
   "source": [
    "#Inserte el código en este espacio para la hipótesis 3."
   ]
  },
  {
   "cell_type": "markdown",
   "id": "a508ef22",
   "metadata": {},
   "source": [
    "## Conclusiones\n",
    "\n",
    "* Redacte aquí conclusiones frente a la comparación de las hipótesis planteadas por ud. Compare los resultados obtenidos y determine cuál sería el modelo que más ajusta a los datos."
   ]
  },
  {
   "cell_type": "code",
   "execution_count": null,
   "id": "456d4836",
   "metadata": {},
   "outputs": [],
   "source": []
  }
 ],
 "metadata": {
  "kernelspec": {
   "display_name": "Python 3 (ipykernel)",
   "language": "python",
   "name": "python3"
  },
  "language_info": {
   "codemirror_mode": {
    "name": "ipython",
    "version": 3
   },
   "file_extension": ".py",
   "mimetype": "text/x-python",
   "name": "python",
   "nbconvert_exporter": "python",
   "pygments_lexer": "ipython3",
   "version": "3.10.9"
  }
 },
 "nbformat": 4,
 "nbformat_minor": 5
}
