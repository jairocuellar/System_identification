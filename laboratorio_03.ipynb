{
 "cells": [
  {
   "cell_type": "markdown",
   "id": "2ea66398",
   "metadata": {},
   "source": [
    "# IDENTIFICACION DE SISTEMAS - Laboratorio 3\n",
    "\n",
    "Profesor: Jairo Alberto Cuéllar Guarnizo  \n",
    "Programa: Ingeniería en Automatización y Control"
   ]
  },
  {
   "cell_type": "markdown",
   "id": "f02dbf76",
   "metadata": {},
   "source": [
    "# Elaborado por:\n",
    "\n",
    "* Nombre 1, apellido 1\n",
    "* Nombre 2, apellido 2"
   ]
  },
  {
   "cell_type": "markdown",
   "id": "bea6436d",
   "metadata": {},
   "source": [
    "# Laboratorio 3 - Mínimos cuadrádos\n",
    "\n",
    "## Descripción del ejercicio:\n",
    "\n",
    "Es necesario capturar información de una planta real, preferiblemente la que se está usando en el proyecto del curso."
   ]
  },
  {
   "cell_type": "markdown",
   "id": "94124d57",
   "metadata": {},
   "source": [
    "### Procedimiento\n",
    "\n",
    "### Paso 1\n",
    "Capture los datos de la planta (salidas y entradas) del régimen transitorio correspondiente a la excitación con al menos 2 escalones determinados. Almacene estos datos en un archivo CSV o TXT o en archivo separados (uno para cada escalón)."
   ]
  },
  {
   "cell_type": "markdown",
   "id": "387a8bb6",
   "metadata": {},
   "source": [
    "### Paso 2\n",
    "Para ambos experimentos (2 escalones) proponga una función polinomial estimada que se ajuste a los datos capturados. Elabore el procedimiento para determinar los parámetros usando mínimos cuadrados regularizados (observe el efecto del parámetro $\\alpha$).\n",
    "\n",
    "Compare las estimaciones obtenidas utilizando los parámetros $R^2 - ECM$."
   ]
  },
  {
   "cell_type": "code",
   "execution_count": 1,
   "id": "abf88bb8",
   "metadata": {},
   "outputs": [],
   "source": [
    "#Inserte el código en este espacio."
   ]
  },
  {
   "cell_type": "markdown",
   "id": "59469434",
   "metadata": {},
   "source": [
    "### Paso 3\n",
    "Para ambos experimentos involucre NO LINEALIDADES en el regresor, por ejemplo: \n",
    "\n",
    "$$cos(t), sent(t), exp(t), exp(-t)$$\n",
    "\n",
    "Estime por lo menos 2 funciones usando un regresor diferente con NO LINEALIDADES y evalúe la estimación frente a los parámetros de comparación $R^2 - ECM$."
   ]
  },
  {
   "cell_type": "code",
   "execution_count": 1,
   "id": "21a819c6",
   "metadata": {},
   "outputs": [],
   "source": [
    "#Inserte el código en este espacio."
   ]
  },
  {
   "cell_type": "markdown",
   "id": "a508ef22",
   "metadata": {},
   "source": [
    "## Conclusiones\n",
    "\n",
    "Redacte aquí, concluya frente a las comparaciones de las estimaciones realizadas. \n",
    "Recuerde que siempre debe hacer referencia a los resultados obtenidos y a las observaciones realizadas."
   ]
  },
  {
   "cell_type": "code",
   "execution_count": null,
   "id": "fb7f8ba5",
   "metadata": {},
   "outputs": [],
   "source": []
  }
 ],
 "metadata": {
  "kernelspec": {
   "display_name": "Python 3 (ipykernel)",
   "language": "python",
   "name": "python3"
  },
  "language_info": {
   "codemirror_mode": {
    "name": "ipython",
    "version": 3
   },
   "file_extension": ".py",
   "mimetype": "text/x-python",
   "name": "python",
   "nbconvert_exporter": "python",
   "pygments_lexer": "ipython3",
   "version": "3.10.9"
  }
 },
 "nbformat": 4,
 "nbformat_minor": 5
}
