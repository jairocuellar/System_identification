{
 "cells": [
  {
   "cell_type": "code",
   "execution_count": 1,
   "id": "c805950a",
   "metadata": {},
   "outputs": [],
   "source": [
    "import sympy as sym\n",
    "sym.init_printing()\n",
    "%matplotlib inline"
   ]
  },
  {
   "cell_type": "markdown",
   "id": "192eebff",
   "metadata": {},
   "source": [
    "**Ejercicio**\n",
    "\n",
    "\n",
    "![circuito_mallas.PNG](figuras/circuito_mallas.PNG)\n",
    "\n",
    "A partir de este circuito encuentre las expresiones matemáticas para el voltaje en cada resistencia en función de $Vi$.\n",
    "\n",
    "\\begin{align}\n",
    "V1 &= expresión\\\\\n",
    "V2 &= expresión\\\\\n",
    "V3 &= expresión\\\\\n",
    "V4 &= expresión\\\\\n",
    "V5 &= expresión\\\\\n",
    "V6 &= expresión\\\\\n",
    "V7 &= expresión\\\\\n",
    "V8 &= expresión\\\\\n",
    "\\end{align}\n",
    "\n"
   ]
  },
  {
   "cell_type": "markdown",
   "id": "d2c5cce7",
   "metadata": {},
   "source": [
    "Considerando que todas las resistencias son de $1 k\\Omega$, encuentre los voltajes para cuando $Vi = 15V$"
   ]
  },
  {
   "cell_type": "code",
   "execution_count": null,
   "id": "03cb4397",
   "metadata": {},
   "outputs": [],
   "source": [
    "# Celda para código"
   ]
  },
  {
   "cell_type": "markdown",
   "id": "b1272395",
   "metadata": {},
   "source": [
    "Considerando que todas las resistencias son de $5 k\\Omega$, encuentre los voltajes para cuando $Vi = 10V$"
   ]
  },
  {
   "cell_type": "code",
   "execution_count": null,
   "id": "4e9c86a2",
   "metadata": {},
   "outputs": [],
   "source": [
    "# Celda para código"
   ]
  },
  {
   "cell_type": "markdown",
   "id": "4616b408",
   "metadata": {},
   "source": [
    "Considerando que $ R1 = R2 = R4 = 5 k\\Omega$, $ R3 = R5 = R8 = 2 k\\Omega$ y $ R6 = R7 = 100 \\Omega$, encuentre los voltajes para cuando $Vi = 12V$"
   ]
  },
  {
   "cell_type": "code",
   "execution_count": null,
   "id": "d678771c",
   "metadata": {},
   "outputs": [],
   "source": [
    "# Celda para código"
   ]
  }
 ],
 "metadata": {
  "kernelspec": {
   "display_name": "Python 3",
   "language": "python",
   "name": "python3"
  },
  "language_info": {
   "codemirror_mode": {
    "name": "ipython",
    "version": 3
   },
   "file_extension": ".py",
   "mimetype": "text/x-python",
   "name": "python",
   "nbconvert_exporter": "python",
   "pygments_lexer": "ipython3",
   "version": "3.7.3"
  },
  "latex_envs": {
   "bibliofile": "biblio.bib",
   "cite_by": "apalike",
   "current_citInitial": 1,
   "eqLabelWithNumbers": true,
   "eqNumInitial": 0
  }
 },
 "nbformat": 4,
 "nbformat_minor": 5
}
