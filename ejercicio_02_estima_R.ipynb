{
 "cells": [
  {
   "cell_type": "markdown",
   "id": "2ea66398",
   "metadata": {},
   "source": [
    "# IDENTIFICACION DE SISTEMAS - Ejercicio 2\n",
    "\n",
    "Profesor: Jairo Alberto Cuéllar Guarnizo  \n",
    "Programa: Ingeniería en Automatización y Control"
   ]
  },
  {
   "cell_type": "markdown",
   "id": "f02dbf76",
   "metadata": {},
   "source": [
    "# Elaborado por:\n",
    "\n",
    "* Nombre 1, apellido 1\n",
    "* Nombre 2, apellido 2"
   ]
  },
  {
   "cell_type": "markdown",
   "id": "bea6436d",
   "metadata": {},
   "source": [
    "# Ejercicio 1 - Estimación del valor de R\n",
    "\n",
    "## Descripción del ejercicio:\n",
    "\n",
    "Estructure en el laboratorio el siguiente ejercicio de medición de R, cuyo objetivo es obtener un conjunto de datos de V e I para poder realizar las estimaciones de R:  \n",
    "\n",
    "![R - Experimento](figuras/01_ejemplo_R.png)\n",
    "\n",
    "* Cada uno de los estudiantes integrantes del grupo toma una serie de medidas para el voltaje y corriente de $N=\\frac{100}{integrantes}$ muestras (cada muestra equivale a una variación del voltaje)\n",
    "* Recuerde que R debe ser la misma en valor para los 3 estudiantes y no cambiarse con las variaciones de voltaje.\n",
    "* Considere que valores de voltaje dados por el rango $0<V<\\frac{edad}{2}$.\n",
    "* Genere el conjunto de datos de V e I manualmente (registro manual y digital con la totalidad de decimales que el instrumento les permita).\n",
    "* Estime la resistencia usando los 3 estimadores vistos en clase (apóyese en los notebooks de la clase). Para llevar los datos digitalizados a manera de CSV al notebook puede apoyarse de [Ejercicio 2 (Estimando R)](ejercicio_02_estima_R.ipynb) \n",
    "* Unifique los datos de los 3 estudiantes para V e I y realice una estimación de R usando los 3 métodos.\n",
    "* Compare las gráficas generadas y emita conclusiones al respecto."
   ]
  },
  {
   "cell_type": "markdown",
   "id": "94124d57",
   "metadata": {},
   "source": [
    "### Cálculo de R por los 3 métodos (Estudiante 1)"
   ]
  },
  {
   "cell_type": "code",
   "execution_count": 1,
   "id": "450dba20",
   "metadata": {},
   "outputs": [],
   "source": [
    "#Inserte el código en este espacio."
   ]
  },
  {
   "cell_type": "markdown",
   "id": "aafa882d",
   "metadata": {},
   "source": [
    "### Cálculo de R por los 3 métodos (Estudiante 2)"
   ]
  },
  {
   "cell_type": "code",
   "execution_count": null,
   "id": "b75880c2",
   "metadata": {},
   "outputs": [],
   "source": [
    "#Inserte el código en este espacio."
   ]
  },
  {
   "cell_type": "markdown",
   "id": "f42ca429",
   "metadata": {},
   "source": [
    "### Cálculo de R por los 3 métodos (Estudiante n)"
   ]
  },
  {
   "cell_type": "code",
   "execution_count": 1,
   "id": "dc152760",
   "metadata": {},
   "outputs": [],
   "source": [
    "#Inserte el código en este espacio."
   ]
  },
  {
   "cell_type": "markdown",
   "id": "aa1fead4",
   "metadata": {},
   "source": [
    "### Cálculo de R por 3 métodos con datos unificados"
   ]
  },
  {
   "cell_type": "code",
   "execution_count": null,
   "id": "eb4d1e3b",
   "metadata": {},
   "outputs": [],
   "source": [
    "#Inserte el código en este espacio."
   ]
  },
  {
   "cell_type": "markdown",
   "id": "24bf5b98",
   "metadata": {},
   "source": [
    "### Gráficas comparativas estimaciones\n",
    "\n",
    "Mostrar un gráfico por estudiante y que incluya las series de las estimaciones de las resistencias."
   ]
  },
  {
   "cell_type": "code",
   "execution_count": null,
   "id": "9959c500",
   "metadata": {},
   "outputs": [],
   "source": [
    "#Inserte el código en este espacio."
   ]
  },
  {
   "cell_type": "markdown",
   "id": "a508ef22",
   "metadata": {},
   "source": [
    "## Conclusiones\n",
    "\n",
    "* Redacte aquí..."
   ]
  },
  {
   "cell_type": "code",
   "execution_count": null,
   "id": "456d4836",
   "metadata": {},
   "outputs": [],
   "source": []
  }
 ],
 "metadata": {
  "kernelspec": {
   "display_name": "Python 3 (ipykernel)",
   "language": "python",
   "name": "python3"
  },
  "language_info": {
   "codemirror_mode": {
    "name": "ipython",
    "version": 3
   },
   "file_extension": ".py",
   "mimetype": "text/x-python",
   "name": "python",
   "nbconvert_exporter": "python",
   "pygments_lexer": "ipython3",
   "version": "3.10.9"
  }
 },
 "nbformat": 4,
 "nbformat_minor": 5
}
