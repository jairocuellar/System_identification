{
 "cells": [
  {
   "cell_type": "markdown",
   "id": "2ea66398",
   "metadata": {},
   "source": [
    "# IDENTIFICACION DE SISTEMAS\n",
    "\n",
    "Profesor: Jairo Alberto Cuéllar Guarnizo  \n",
    "Programa: Ingeniería en Automatización y Control"
   ]
  },
  {
   "cell_type": "markdown",
   "id": "bea6436d",
   "metadata": {},
   "source": [
    "# Unidad 1 - Introducción y Conceptos Básicos  \n",
    "\n",
    "## Modelos matemáticos sistemas LTI  \n",
    "\n",
    "* Dominio del Tiempo (Ecuaciones diferenciales)\n",
    "* Dominio Frecuencia (Función de transferencia)\n",
    "* Modelo en espacio de estados\n",
    "\n",
    "El modelamiento matemático con base al comportamiento de las variables físicas, permite la obtención de una herramienta de modelamiento siempre y cuando se conozca la información sobre las entradas y salidas del sistema así como de la estructura interna y funcionamiento de la planta a modelar.  \n",
    "\n",
    "## **CIRCUITO RLC - Serie**  \n",
    "\n",
    "![RLC - Serie](figuras/RLC.jpg)\n",
    "\n",
    "* Ecuaciones Diferenciales  \n",
    "\\begin{equation}\n",
    "\\frac{di}{dt} = -\\frac{R}{L}*i-\\frac{v_{c}}{L}+\\frac{v}{L}\n",
    "\\end{equation}  \n",
    "\n",
    "\\begin{equation}\n",
    "\\frac{dv_{c}}{dt} = -\\frac{i}{C}\n",
    "\\end{equation}  \n",
    "\n",
    "Se observan 2 variables de interés la corriente del inductor y el voltaje del capacitor. La entrada es una fuente de exitación y la salida podría ser una de las 2 variables de interés. Existen otras variables como el voltaje de R y de L, así como los parámetros propios del circuito R, L y C.  \n",
    "\n",
    "* Función de Transferencia  \n",
    "\n",
    "\\begin{equation}\n",
    "G(S) = \\frac{v_{c}(S)}{v(S)} = \\frac{\\frac{1}{LC}}{S^{2}+\\frac{R}{L}S+\\frac{1}{LC}}\n",
    "\\end{equation}  \n",
    "\n",
    "* Espacio de estados  "
   ]
  },
  {
   "cell_type": "markdown",
   "id": "94124d57",
   "metadata": {},
   "source": [
    "##Unidad 2 - Series de Tiempo"
   ]
  },
  {
   "cell_type": "markdown",
   "id": "aafa882d",
   "metadata": {},
   "source": [
    "##Unidad 3 - Identificación Paramétrica"
   ]
  },
  {
   "cell_type": "markdown",
   "id": "f42ca429",
   "metadata": {},
   "source": [
    "##Unidad 4 - Identificación No Paramétrica"
   ]
  }
 ],
 "metadata": {
  "kernelspec": {
   "display_name": "Python 3 (ipykernel)",
   "language": "python",
   "name": "python3"
  },
  "language_info": {
   "codemirror_mode": {
    "name": "ipython",
    "version": 3
   },
   "file_extension": ".py",
   "mimetype": "text/x-python",
   "name": "python",
   "nbconvert_exporter": "python",
   "pygments_lexer": "ipython3",
   "version": "3.10.9"
  }
 },
 "nbformat": 4,
 "nbformat_minor": 5
}
