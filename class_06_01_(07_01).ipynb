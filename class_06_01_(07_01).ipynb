{
 "cells": [
  {
   "cell_type": "markdown",
   "id": "1e0682a7",
   "metadata": {},
   "source": [
    "# IDENTIFICACIÓN DE SISTEMAS\n",
    "\n",
    "Profesor: Jairo Alberto Cuéllar Guarnizo  \n",
    "Programa: Ingeniería en Automatización y Control"
   ]
  },
  {
   "cell_type": "code",
   "execution_count": 1,
   "id": "59f44449",
   "metadata": {},
   "outputs": [],
   "source": [
    "from sympy import MatrixSymbol, Matrix, Identity\n",
    "\n",
    "import sympy as sym\n",
    "import pandas as pd\n",
    "import math\n",
    "\n",
    "sym.init_printing()\n",
    "%matplotlib inline\n",
    "\n",
    "import pandas as pd\n",
    "import numpy as np\n",
    "import matplotlib.pyplot as plt\n",
    "import seaborn as sns\n",
    "import control\n",
    "import random"
   ]
  },
  {
   "cell_type": "markdown",
   "id": "56eb0f3c",
   "metadata": {},
   "source": [
    "# Modelamiento de Sistemas Dinámicos\n",
    "\n",
    "El modelamiento de los sistemas dinámicos permite describir matemáticamente el comportamiento de un sistema. Arroja una herramienta matemática susceptible de análisis que puede incluir simulaciones, ajustes, etc. El modelamiento del sistema puede ser en tiempo discreto o continuo. \n",
    "\n",
    "### Modelamiento en tiempo continuo:\n",
    "\n",
    "Considerando que todos los fenómenos físicos ocurren de forma natural en tiempo continuo, se define la siguiente ecuación diferencial para el modelo del sistema dinámico así:\n",
    "\n",
    "$$\\dot{x(t)} = f(x(t), u(t), \\epsilon(t), p)$$\n",
    "\n",
    "Es claro que todos estos elementos de esta función son claramente vectores y se definen así:\n",
    "\n",
    "* Estados x(t): describen el comportamiento interno del sistema, todas las variables de estado ajustadas conforman el vector de estados x(t).\n",
    "* Entradas de control u(t): Estas señales con exógenas al sistema y normalmente se originan en un sistema de control digital y permite modificar el comportamiento interno del sistema.\n",
    "* Perturbaciones $\\epsilon(t)$: señales aleatorias que normalmente representan errores en el modelamiento de la planta.\n",
    "* p: vector de parámetros constantes y que deben ser identificados en el procedimiento de identificación.\n",
    "\n",
    "En adelante se utilizará el punto \"$\\dot{}$\" con el fin de señalar la derivada en el tiempo de cualquier cantidad, así la variable depende total o parcialmente del tiempo. \n",
    "\n",
    "$$\\dot{x} = \\frac{dx}{dt} = \\frac{\\partial x}{\\partial t}$$\n",
    "\n",
    "Por simplicidad se omitirá la dependencia de las variables del -tiempo, así:\n",
    "\n",
    "$$\\dot{x} = f(x, u, \\epsilon, p)$$"
   ]
  },
  {
   "cell_type": "markdown",
   "id": "2568f8dd",
   "metadata": {},
   "source": [
    "### Modelamiento: \n",
    "\n",
    "Es el proceso de la obtención de la función \"f\", para crear o encontrar la ecuación diferencial ordinaria (EDO) que describe el sistema lo mejor posible.\n",
    "\n",
    "### Identificación: \n",
    "\n",
    "Es el proceso de estimar los valores de los parámetros \"p\", contenidos en f. Este proceso se realiza a partir de DATOS EXPERIMENTALES apropiadamente recolectados.\n",
    "\n",
    "El objetivo de estos 2 procesos es obtener un modelo con parámetros validados que permita hacer predicciones sobre el comportamiento futuro del sistema. En palabras simples, el vector de estado contiene toda la información actual del sistema y en el pasado (memoria del sistema) y permitirá predecir el comportamiento futuro del mismo.\n"
   ]
  },
  {
   "cell_type": "markdown",
   "id": "30bcec0a",
   "metadata": {},
   "source": [
    "## Sistemas Lineales e Invariantes en el Tiempo (LTI Systems)\n",
    "\n",
    "En el modelamiento matemático previo a la implementación de un sistema de control. Los sistemas LTI cobran importancia, toda vez que son una herramienta poderosa tanto para el modelamiento del sistema, la identificación y el control del proceso por realimentación de estados.\n",
    "\n",
    "$$\\dot{x} = A.x + B.u$$\n",
    "\n",
    "Es importante señalar que para el proceso de identificación, se hace necesario contar con la o las salidas del sistema dadas por la relación:\n",
    "\n",
    "$$y = C.x + D.u$$\n",
    "\n",
    "Donde la salida y, usualmente suele ser la única cantidad medible y los estados. Es necesario recordar que el estado inicial y la respuesta natural del sistema aparece en cuando no existe señal de exitación u(t):\n",
    "\n",
    "$$\\dot{x} = A.x$$\n",
    "\n",
    "Cuya solución trivial es la siguiente:\n",
    "\n",
    "$$x(t) = x_0.e^{A.t}$$"
   ]
  },
  {
   "cell_type": "markdown",
   "id": "7c0f63ec",
   "metadata": {},
   "source": [
    "## Muestreo de señales\n",
    "\n",
    "Recordar que existe el teorema de muestre y en el siguiente notebook, encontrarán información al respecto:\n",
    "\n",
    "[Señales Discreto](https://github.com/pierrediazp/Se-ales_y_Sistemas/blob/cd19bef5c2f0a616ed6ea47b6ec742fe6901eb77//09_muestreo.ipynb)\n",
    "\n",
    "En el caso de este curso, el modelo del sistema, las señales involucradas y demás hasta el momento se han trabajado de forma continua (a pesar que el tiempo es un vector y las señales también)."
   ]
  },
  {
   "cell_type": "markdown",
   "id": "606da56f",
   "metadata": {},
   "source": [
    "## Retenedor de orden cero (ZOH)\n",
    "\n",
    "El retenedor de orden cero (ZOH), es una de las estrategias para transformar un sistema dinámico que aparece en tiempo continuo a uno en tiempo discreto. Se entiende que el sistema de tiempo continuo (planta), tiene un retenedor de orden cero en la entrada. Por tanto la función de transferencia de tiempo discreto tendría la siguiente forma:\n",
    "\n",
    "![ZOH](figuras/zoh.png)\n",
    "\n",
    "A menudo la señal de control u(t) es generada por una computadora como un valor constante entre 2 instantes de tiempo $\\Delta t$, así que los instantes de muestreo estarán dados por $t_k = k\\Delta t$. Por tanto se puede definir que a partir de un sistema en tiempo continuo dado por:\n",
    "\n",
    "$$\\dot{x} = f(x(t),u_{cte}) $$\n",
    "\n",
    "Se define entonces una función discreta de la siguiente manera:\n",
    "\n",
    "$$x[t_k+1] = f_{dis}(x[t_k],u_k)$$\n",
    "\n",
    "Retomando la representación en tiempo continuo para el sistema en espacio de estados se tiene que:\n",
    "\n",
    "$$\\dot{x} = A.x + B.u$$\n",
    "\n",
    "Resolviendo dicha ecuación y teniendo en cuenta el $x_{init}, t_{init}, u_k$ se tiene que:\n",
    "\n",
    "$$x_{k+1} = A_{dis}x_k+B_{dis}u_k$$\n",
    "\n",
    "Donde:\n",
    "\n",
    "$$A_{dis} = e^{A\\Delta t}$$\n",
    "\n",
    "$$B_{dis} = \\int_{0}^{\\Delta t}e^{A(\\Delta t - \\tau)}Bd\\tau = e^{A\\Delta t}\\int_{0}^{\\Delta t}e^{-A\\tau}.Bd\\tau$$\n",
    "\n",
    "$$B_{dis} = A^{-1}(e^{A\\Delta t} - I)B$$\n",
    "\n",
    "Considerando la ecuación de salida del sistema, se concluye que en el tiempo continuo y discreto la matriz de estado y de entrada son distintas. Sin embargo, la matriz de salida puede permanecer igual, así como la de transmisión directa. El sistema en tiempo discreto es igualmente LTI."
   ]
  },
  {
   "cell_type": "markdown",
   "id": "393d00fb",
   "metadata": {},
   "source": [
    "## Discretización de Sistemas y Señales\n",
    "\n",
    "Existen otros métodos de discretización como lo son la equivalencia de polos entre S y z, bajo la premisa que $z = e^{ST}$ siendo T el periodo de muestreo. \n",
    "\n",
    "Existe el método de aproximación de Transformación Lineal, sujeta a la siguiente relación:\n",
    "\n",
    "$$S = \\frac{2(z-1)}{T(z+1)}$$\n"
   ]
  },
  {
   "cell_type": "markdown",
   "id": "a7a5f288",
   "metadata": {},
   "source": [
    "**Ejemplo:** Obtener un modelo discreto para el sistema dado por la siguiente EDO, asuma $\\Delta t = 0.8s$:\n",
    "\n",
    "$$\\dot{x} = -3x + 5$$\n",
    "\n",
    "Paso 1: $A_{dis} = e^{-3 (0.8)}$\n",
    "\n",
    "Paso 2: $B_{dis} = -\\frac{1}{3}(e^{-3 (0.8)}-1)*5$"
   ]
  },
  {
   "cell_type": "code",
   "execution_count": 2,
   "id": "0e76a614",
   "metadata": {},
   "outputs": [
    {
     "data": {
      "text/latex": [
       "$\\displaystyle \\left( \\left[\\begin{matrix}0.740818220681718\\end{matrix}\\right], \\  \\left[\\begin{matrix}0.431969632197137\\end{matrix}\\right]\\right)$"
      ],
      "text/plain": [
       "([0.740818220681718], [0.431969632197137])"
      ]
     },
     "execution_count": 2,
     "metadata": {},
     "output_type": "execute_result"
    }
   ],
   "source": [
    "dt = 0.1            # Tiempo de muestreo\n",
    "A = Matrix([-3])\n",
    "B = Matrix([5])\n",
    "u = 1\n",
    "\n",
    "Adis = (dt*A).exp();\n",
    "Bdis = A.inv()*(Adis-np.eye(len(B)))*B\n",
    "Adis, Bdis"
   ]
  },
  {
   "cell_type": "markdown",
   "id": "ef37ce51",
   "metadata": {},
   "source": [
    "## Comparación SS en Td vs Tc\n",
    "\n",
    "![RLC - Serie](figuras/RLC.jpg)\n",
    "\n",
    "* Ecuaciones Diferenciales  \n",
    "\\begin{equation}\n",
    "\\frac{di}{dt} = -\\frac{R}{L}i-\\frac{v_{c}}{L}+\\frac{v}{L}\n",
    "\\end{equation}  \n",
    "\n",
    "\\begin{equation}\n",
    "\\frac{dv_{c}}{dt} = -\\frac{i}{C}\n",
    "\\end{equation}  \n",
    "\n",
    "* Función de Transferencia  \n",
    "\n",
    "\\begin{equation}\n",
    "G(S) = \\frac{v_{c}(S)}{v(S)} = \\frac{\\frac{1}{LC}}{S^{2}+\\frac{R}{L}S+\\frac{1}{LC}}\n",
    "\\end{equation}  \n",
    "\n",
    "* Espacio de estados  \n",
    "\n",
    "$$A = \\left [ \\matrix{ -\\frac{R}{L} & -\\frac{1}{L} \\\\ \\frac{1}{C} & 0 } \\right ], \\; \n",
    "B = \\left [ \\matrix{0 \\\\ \\frac{1}{L} } \\right ], \\;\n",
    "C = \\left [ \\matrix{0 & 1} \\right ], \\;\n",
    "D = 0$$  \n",
    "\n",
    "Asumiendo parámetros con valores R , C , L "
   ]
  },
  {
   "cell_type": "code",
   "execution_count": 3,
   "id": "505c7cd9",
   "metadata": {},
   "outputs": [
    {
     "data": {
      "text/latex": [
       "$\\displaystyle \\left( \\left[\\begin{matrix}0.948812226714858 & -0.048729945205081\\\\0.0974598904101619 & 0.997542171919939\\end{matrix}\\right], \\  \\left[\\begin{matrix}0.0487299452050809\\\\0.00245782808006086\\end{matrix}\\right], \\  \\left[\\begin{matrix}0 & 1\\end{matrix}\\right], \\  0\\right)$"
      ],
      "text/plain": [
       "⎛⎡0.948812226714858   -0.048729945205081⎤  ⎡0.0487299452050809 ⎤           ⎞\n",
       "⎜⎢                                      ⎥, ⎢                   ⎥, [0  1], 0⎟\n",
       "⎝⎣0.0974598904101619  0.997542171919939 ⎦  ⎣0.00245782808006086⎦           ⎠"
      ]
     },
     "execution_count": 3,
     "metadata": {},
     "output_type": "execute_result"
    }
   ],
   "source": [
    "###   Definir un espacio de estados en el tiempo:\n",
    "###   Circuito RLC - Serie\n",
    "\n",
    "R = 1;\n",
    "L = 2;\n",
    "Co = 1;\n",
    "\n",
    "A = Matrix([[-R/L,-1/L],[1/Co,0]])\n",
    "B = Matrix([[1/L],[0]])\n",
    "C = Matrix([[0,1]])\n",
    "D = 0\n",
    "\n",
    "## VERIFICAR LAS ECUACIONES PARA A Y B EN TD\n",
    "Adis = (dt*A).exp()\n",
    "Bdis = A.inv()*(Adis-np.eye(len(B)))*B\n",
    "\n",
    "Adis, Bdis, C, D"
   ]
  },
  {
   "cell_type": "code",
   "execution_count": 4,
   "id": "fb14a3e5",
   "metadata": {},
   "outputs": [
    {
     "data": {
      "text/plain": [
       "array([ 0.        ,  0.27910122,  0.55820245,  0.83730367,  1.11640489,\n",
       "        1.39550612,  1.67460734,  1.95370856,  2.23280979,  2.51191101,\n",
       "        2.79101223,  3.07011346,  3.34921468,  3.6283159 ,  3.90741713,\n",
       "        4.18651835,  4.46561957,  4.7447208 ,  5.02382202,  5.30292324,\n",
       "        5.58202447,  5.86112569,  6.14022691,  6.41932814,  6.69842936,\n",
       "        6.97753058,  7.25663181,  7.53573303,  7.81483426,  8.09393548,\n",
       "        8.3730367 ,  8.65213793,  8.93123915,  9.21034037,  9.4894416 ,\n",
       "        9.76854282, 10.04764404, 10.32674527, 10.60584649, 10.88494771,\n",
       "       11.16404894, 11.44315016, 11.72225138, 12.00135261, 12.28045383,\n",
       "       12.55955505, 12.83865628, 13.1177575 , 13.39685872, 13.67595995,\n",
       "       13.95506117, 14.23416239, 14.51326362, 14.79236484, 15.07146606,\n",
       "       15.35056729, 15.62966851, 15.90876973, 16.18787096, 16.46697218,\n",
       "       16.7460734 , 17.02517463, 17.30427585, 17.58337707, 17.8624783 ,\n",
       "       18.14157952, 18.42068074, 18.69978197, 18.97888319, 19.25798441,\n",
       "       19.53708564, 19.81618686, 20.09528808, 20.37438931, 20.65349053,\n",
       "       20.93259175, 21.21169298, 21.4907942 , 21.76989542, 22.04899665,\n",
       "       22.32809787, 22.60719909, 22.88630032, 23.16540154, 23.44450277,\n",
       "       23.72360399, 24.00270521, 24.28180644, 24.56090766, 24.84000888,\n",
       "       25.11911011, 25.39821133, 25.67731255, 25.95641378, 26.235515  ,\n",
       "       26.51461622, 26.79371745, 27.07281867, 27.35191989, 27.63102112])"
      ]
     },
     "execution_count": 4,
     "metadata": {},
     "output_type": "execute_result"
    },
    {
     "data": {
      "image/png": "[encoded data removed]",
      "text/plain": [
       "<Figure size 640x480 with 1 Axes>"
      ]
     },
     "metadata": {},
     "output_type": "display_data"
    }
   ],
   "source": [
    "### Método c2d continuo a discreto\n",
    "Gs = control.ss(A,B,C,D)\n",
    "Gd2 = control.c2d(Gs,dt,'foh')\n",
    "\n",
    "t1,y1 = control.step_response(Gs)\n",
    "plt.plot(t1,y1,color = 'red')\n",
    "t2,y2 = control.step_response(Gd2)\n",
    "plt.scatter(t2,y2)\n",
    "t1"
   ]
  },
  {
   "cell_type": "code",
   "execution_count": 5,
   "id": "7e507278",
   "metadata": {},
   "outputs": [
    {
     "data": {
      "text/latex": [
       "$$\n",
       "\\left(\\begin{array}{rllrll|rll}\n",
       "0.&\\hspace{-1em}949&\\hspace{-1em}\\phantom{\\cdot}&-0.&\\hspace{-1em}0487&\\hspace{-1em}\\phantom{\\cdot}&0.&\\hspace{-1em}0474&\\hspace{-1em}\\phantom{\\cdot}\\\\\n",
       "0.&\\hspace{-1em}0975&\\hspace{-1em}\\phantom{\\cdot}&0.&\\hspace{-1em}998&\\hspace{-1em}\\phantom{\\cdot}&0.&\\hspace{-1em}00485&\\hspace{-1em}\\phantom{\\cdot}\\\\\n",
       "\\hline\n",
       "0\\phantom{.}&\\hspace{-1em}&\\hspace{-1em}\\phantom{\\cdot}&1\\phantom{.}&\\hspace{-1em}&\\hspace{-1em}\\phantom{\\cdot}&0.&\\hspace{-1em}000823&\\hspace{-1em}\\phantom{\\cdot}\\\\\n",
       "\\end{array}\\right)~,~dt=0.1\n",
       "$$"
      ],
      "text/plain": [
       "StateSpace(array([[ 0.94881223, -0.04872995],\n",
       "       [ 0.09745989,  0.99754217]]), array([[0.04743174],\n",
       "       [0.0048512 ]]), array([[0., 1.]]), array([[0.00082282]]), 0.1)"
      ]
     },
     "execution_count": 5,
     "metadata": {},
     "output_type": "execute_result"
    }
   ],
   "source": [
    "Gd2"
   ]
  },
  {
   "cell_type": "code",
   "execution_count": null,
   "id": "c3794c29",
   "metadata": {},
   "outputs": [],
   "source": []
  }
 ],
 "metadata": {
  "kernelspec": {
   "display_name": "Python 3 (ipykernel)",
   "language": "python",
   "name": "python3"
  },
  "language_info": {
   "codemirror_mode": {
    "name": "ipython",
    "version": 3
   },
   "file_extension": ".py",
   "mimetype": "text/x-python",
   "name": "python",
   "nbconvert_exporter": "python",
   "pygments_lexer": "ipython3",
   "version": "3.10.9"
  }
 },
 "nbformat": 4,
 "nbformat_minor": 5
}
