{
 "cells": [
  {
   "cell_type": "markdown",
   "id": "464ba848",
   "metadata": {},
   "source": [
    "## Minimos cuadrados recursivos"
   ]
  },
  {
   "cell_type": "code",
   "execution_count": null,
   "id": "b1bba65a",
   "metadata": {},
   "outputs": [],
   "source": [
    "import sympy as sym\n",
    "import numpy as np\n",
    "import matplotlib.pyplot as plt\n",
    "import pandas as pd"
   ]
  },
  {
   "cell_type": "code",
   "execution_count": null,
   "id": "5ad46ab6",
   "metadata": {},
   "outputs": [],
   "source": [
    "# Parámetros verdaderos del modelo\n",
    "true_coeffs = np.array([25, -10, 56])\n",
    "\n",
    "# Generación de datos simulados\n",
    "np.random.seed(0)\n",
    "n_samples = 100\n",
    "X = np.random.randn(n_samples, len(true_coeffs)-1)\n",
    "phi = np.column_stack((np.ones(n_samples), X))  # Agregar el término de sesgo\n",
    "y = np.dot(phi, true_coeffs) + np.random.normal(0, 1, n_samples)  # Modelo lineal + ruido gaussiano\n",
    "\n",
    "phi"
   ]
  },
  {
   "cell_type": "code",
   "execution_count": null,
   "id": "8031a7b2",
   "metadata": {},
   "outputs": [],
   "source": [
    "# Inicialización de parámetros\n",
    "n_features = phi.shape[1]\n",
    "P = np.eye(n_features)  # Matriz de covarianza de parámetros inicial\n",
    "theta = np.zeros(n_features)  # Parámetros iniciales\n",
    "\n",
    "# Parámetro de olvido (también conocido como factor de aprendizaje)\n",
    "lambda_ = 0.98\n",
    "\n",
    "# Estimación recursiva de los coeficientes\n",
    "for i in range(n_samples):\n",
    "    x = phi[i, :]\n",
    "    y_observed = y[i]\n",
    "    y_predicted = np.dot(x, theta)\n",
    "    error = y_observed - y_predicted\n",
    "\n",
    "    # Actualización de la matriz de covarianza de parámetros\n",
    "    P = (1/lambda_)*(P-np.outer(P.dot(x),x).dot(P)/(lambda_+x.dot(P).dot(x)))\n",
    "    \n",
    "    # Actualización de los coeficientes\n",
    "    theta = theta + error * P.dot(x)\n",
    "# Resultados estimados\n",
    "print(\"Coeficientes estimados:\", theta)\n",
    "P, theta\n"
   ]
  }
 ],
 "metadata": {
  "kernelspec": {
   "display_name": "Python 3 (ipykernel)",
   "language": "python",
   "name": "python3"
  },
  "language_info": {
   "codemirror_mode": {
    "name": "ipython",
    "version": 3
   },
   "file_extension": ".py",
   "mimetype": "text/x-python",
   "name": "python",
   "nbconvert_exporter": "python",
   "pygments_lexer": "ipython3",
   "version": "3.10.9"
  }
 },
 "nbformat": 4,
 "nbformat_minor": 5
}
