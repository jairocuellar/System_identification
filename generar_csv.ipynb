{
 "cells": [
  {
   "cell_type": "code",
   "execution_count": 3,
   "id": "d608ba40",
   "metadata": {},
   "outputs": [],
   "source": [
    "from sympy import MatrixSymbol, Matrix, Identity\n",
    "\n",
    "import sympy as sym\n",
    "import pandas as pd\n",
    "import math\n",
    "\n",
    "sym.init_printing()\n",
    "%matplotlib inline\n",
    "\n",
    "import pandas as pd\n",
    "import numpy as np\n",
    "import matplotlib.pyplot as plt\n",
    "import seaborn as sns\n",
    "import control\n",
    "import random"
   ]
  },
  {
   "cell_type": "markdown",
   "id": "1e0682a7",
   "metadata": {},
   "source": [
    "# IDENTIFICACIÓN DE SISTEMAS\n",
    "\n",
    "Profesor: Jairo Alberto Cuéllar Guarnizo  \n",
    "Programa: Ingeniería en Automatización y Control"
   ]
  },
  {
   "cell_type": "markdown",
   "id": "31a335c2",
   "metadata": {},
   "source": [
    "## Ejemplo 1\n",
    "\n",
    "Dada una señal de entrada y salida, obtenga el modelo estimado usando el modelo ARMAX."
   ]
  },
  {
   "cell_type": "code",
   "execution_count": 6,
   "id": "94c580cd",
   "metadata": {},
   "outputs": [
    {
     "name": "stdout",
     "output_type": "stream",
     "text": [
      "\n",
      "0.0001622 z^2 + 0.0006312 z + 0.0001543\n",
      "---------------------------------------\n",
      "  z^3 - 2.856 z^2 + 2.764 z - 0.9048\n",
      "\n",
      "dt = 0.1\n",
      "\n"
     ]
    }
   ],
   "source": [
    "## Sistema de segundo orden en tiempo continuo\n",
    "tf = 7\n",
    "dt = 0.1\n",
    "g = control.tf([1],[1,1,5,3])\n",
    "t = np.linspace(0,tf,int(tf/dt)+1)\n",
    "A = 2\n",
    "# Señal de salida ideal \"y\"\n",
    "_,y = control.step_response(g,t)\n",
    "N = len(t)\n",
    "u = A*np.ones(N)\n",
    "## Ruido para simular la señal de salida capturada \"yn\"\n",
    "r = 0.02\n",
    "e = np.random.normal(0,1,size=N)\n",
    "yn = A*y+e*r\n",
    "\n",
    "gd = control.c2d(g,dt)\n",
    "print(gd)\n",
    "\n",
    "#a = np.asarray([t,yn])\n",
    "#a = a.transpose()\n",
    "#np.savetxt('data\\clase_09.csv', a, delimiter=\",\")\n",
    "\n",
    "data = {'t':t,'yn':yn,'un':u}\n",
    "df = pd.DataFrame(data)\n",
    "df.to_csv('data\\exercise_05.csv',index = False)"
   ]
  },
  {
   "cell_type": "code",
   "execution_count": 11,
   "id": "b0298fd4",
   "metadata": {},
   "outputs": [
    {
     "data": {
      "text/plain": [
       "<AxesSubplot: xlabel='t', ylabel='un'>"
      ]
     },
     "execution_count": 11,
     "metadata": {},
     "output_type": "execute_result"
    },
    {
     "data": {
      "image/png": "[encoded data removed]",
      "text/plain": [
       "<Figure size 640x480 with 1 Axes>"
      ]
     },
     "metadata": {},
     "output_type": "display_data"
    }
   ],
   "source": [
    "datos = pd.read_csv ('data\\exercise_05.csv')\n",
    "sns.scatterplot(datos,x ='t',y = 'un' )"
   ]
  },
  {
   "cell_type": "code",
   "execution_count": null,
   "id": "acefd235",
   "metadata": {},
   "outputs": [],
   "source": []
  },
  {
   "cell_type": "code",
   "execution_count": null,
   "id": "09ccca0b",
   "metadata": {},
   "outputs": [],
   "source": []
  }
 ],
 "metadata": {
  "kernelspec": {
   "display_name": "Python 3 (ipykernel)",
   "language": "python",
   "name": "python3"
  },
  "language_info": {
   "codemirror_mode": {
    "name": "ipython",
    "version": 3
   },
   "file_extension": ".py",
   "mimetype": "text/x-python",
   "name": "python",
   "nbconvert_exporter": "python",
   "pygments_lexer": "ipython3",
   "version": "3.10.9"
  },
  "latex_envs": {
   "LaTeX_envs_menu_present": true,
   "autoclose": false,
   "autocomplete": true,
   "bibliofile": "biblio.bib",
   "cite_by": "apalike",
   "current_citInitial": 1,
   "eqLabelWithNumbers": true,
   "eqNumInitial": 1,
   "hotkeys": {
    "equation": "Ctrl-E",
    "itemize": "Ctrl-I"
   },
   "labels_anchors": false,
   "latex_user_defs": false,
   "report_style_numbering": false,
   "user_envs_cfg": false
  },
  "toc": {
   "base_numbering": 1,
   "nav_menu": {},
   "number_sections": true,
   "sideBar": true,
   "skip_h1_title": false,
   "title_cell": "Table of Contents",
   "title_sidebar": "Contents",
   "toc_cell": false,
   "toc_position": {},
   "toc_section_display": true,
   "toc_window_display": false
  },
  "varInspector": {
   "cols": {
    "lenName": 16,
    "lenType": 16,
    "lenVar": 40
   },
   "kernels_config": {
    "python": {
     "delete_cmd_postfix": "",
     "delete_cmd_prefix": "del ",
     "library": "var_list.py",
     "varRefreshCmd": "print(var_dic_list())"
    },
    "r": {
     "delete_cmd_postfix": ") ",
     "delete_cmd_prefix": "rm(",
     "library": "var_list.r",
     "varRefreshCmd": "cat(var_dic_list()) "
    }
   },
   "types_to_exclude": [
    "module",
    "function",
    "builtin_function_or_method",
    "instance",
    "_Feature"
   ],
   "window_display": false
  }
 },
 "nbformat": 4,
 "nbformat_minor": 5
}
