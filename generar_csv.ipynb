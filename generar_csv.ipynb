{
 "cells": [
  {
   "cell_type": "code",
   "execution_count": 1,
   "id": "d608ba40",
   "metadata": {},
   "outputs": [],
   "source": [
    "from sympy import MatrixSymbol, Matrix, Identity\n",
    "\n",
    "import sympy as sym\n",
    "import pandas as pd\n",
    "import math\n",
    "\n",
    "sym.init_printing()\n",
    "%matplotlib inline\n",
    "\n",
    "import pandas as pd\n",
    "import numpy as np\n",
    "import matplotlib.pyplot as plt\n",
    "import seaborn as sns\n",
    "import control\n",
    "import random"
   ]
  },
  {
   "cell_type": "markdown",
   "id": "1e0682a7",
   "metadata": {},
   "source": [
    "# IDENTIFICACIÓN DE SISTEMAS\n",
    "\n",
    "Profesor: Jairo Alberto Cuéllar Guarnizo  \n",
    "Programa: Ingeniería en Automatización y Control"
   ]
  },
  {
   "cell_type": "markdown",
   "id": "31a335c2",
   "metadata": {},
   "source": [
    "## Ejemplo 1\n",
    "\n",
    "Dada una señal de entrada y salida, obtenga el modelo estimado usando el modelo ARMAX."
   ]
  },
  {
   "cell_type": "code",
   "execution_count": 17,
   "id": "94c580cd",
   "metadata": {},
   "outputs": [
    {
     "name": "stdout",
     "output_type": "stream",
     "text": [
      "\n",
      "0.000401 z^2 + 0.001544 z + 0.000372\n",
      "------------------------------------\n",
      " z^3 - 2.836 z^2 + 2.699 z - 0.8607\n",
      "\n",
      "dt = 0.05\n",
      "\n"
     ]
    }
   ],
   "source": [
    "## Sistema de segundo orden en tiempo continuo\n",
    "g = control.tf([20],[1,3,10,20])\n",
    "dt = 0.05\n",
    "t = np.linspace(0,25,1+int(25/dt))\n",
    "\n",
    "# Señal de salida ideal \"y\"\n",
    "_,y = control.step_response(g,t)\n",
    "N = len(t)\n",
    "u = np.ones(N)\n",
    "## Ruido para simular la señal de salida capturada \"yn\"\n",
    "r = 0\n",
    "e = np.random.normal(0,1,size=N)\n",
    "yn = y+e*r\n",
    "\n",
    "gd = control.c2d(g,dt)\n",
    "print(gd)\n",
    "\n",
    "#a = np.asarray([t,yn])\n",
    "#a = a.transpose()\n",
    "#np.savetxt('data\\clase_09.csv', a, delimiter=\",\")\n",
    "\n",
    "data = {'t':t,'yn':yn,'un':u}\n",
    "\n",
    "df = pd.DataFrame(data)\n",
    "df.to_csv('data\\clase_09.csv',index = False)"
   ]
  },
  {
   "cell_type": "code",
   "execution_count": 7,
   "id": "fc865ae2",
   "metadata": {},
   "outputs": [
    {
     "data": {
      "text/plain": [
       "array([0.96728408+0.16558021j, 0.96728408-0.16558021j,\n",
       "       0.87106596+0.j        ])"
      ]
     },
     "execution_count": 7,
     "metadata": {},
     "output_type": "execute_result"
    }
   ],
   "source": [
    "gd.pole()"
   ]
  },
  {
   "cell_type": "code",
   "execution_count": 45,
   "id": "b0298fd4",
   "metadata": {},
   "outputs": [
    {
     "data": {
      "text/html": [
       "<div>\n",
       "<style scoped>\n",
       "    .dataframe tbody tr th:only-of-type {\n",
       "        vertical-align: middle;\n",
       "    }\n",
       "\n",
       "    .dataframe tbody tr th {\n",
       "        vertical-align: top;\n",
       "    }\n",
       "\n",
       "    .dataframe thead th {\n",
       "        text-align: right;\n",
       "    }\n",
       "</style>\n",
       "<table border=\"1\" class=\"dataframe\">\n",
       "  <thead>\n",
       "    <tr style=\"text-align: right;\">\n",
       "      <th></th>\n",
       "      <th>t</th>\n",
       "      <th>yn</th>\n",
       "    </tr>\n",
       "  </thead>\n",
       "  <tbody>\n",
       "    <tr>\n",
       "      <th>0</th>\n",
       "      <td>0.000000</td>\n",
       "      <td>-0.046100</td>\n",
       "    </tr>\n",
       "    <tr>\n",
       "      <th>1</th>\n",
       "      <td>0.058561</td>\n",
       "      <td>-0.141515</td>\n",
       "    </tr>\n",
       "    <tr>\n",
       "      <th>2</th>\n",
       "      <td>0.117121</td>\n",
       "      <td>-0.012613</td>\n",
       "    </tr>\n",
       "    <tr>\n",
       "      <th>3</th>\n",
       "      <td>0.175682</td>\n",
       "      <td>0.001637</td>\n",
       "    </tr>\n",
       "    <tr>\n",
       "      <th>4</th>\n",
       "      <td>0.234243</td>\n",
       "      <td>0.036791</td>\n",
       "    </tr>\n",
       "    <tr>\n",
       "      <th>...</th>\n",
       "      <td>...</td>\n",
       "      <td>...</td>\n",
       "    </tr>\n",
       "    <tr>\n",
       "      <th>363</th>\n",
       "      <td>21.257524</td>\n",
       "      <td>1.004781</td>\n",
       "    </tr>\n",
       "    <tr>\n",
       "      <th>364</th>\n",
       "      <td>21.316085</td>\n",
       "      <td>0.939638</td>\n",
       "    </tr>\n",
       "    <tr>\n",
       "      <th>365</th>\n",
       "      <td>21.374646</td>\n",
       "      <td>1.186848</td>\n",
       "    </tr>\n",
       "    <tr>\n",
       "      <th>366</th>\n",
       "      <td>21.433206</td>\n",
       "      <td>0.962091</td>\n",
       "    </tr>\n",
       "    <tr>\n",
       "      <th>367</th>\n",
       "      <td>21.491767</td>\n",
       "      <td>1.085833</td>\n",
       "    </tr>\n",
       "  </tbody>\n",
       "</table>\n",
       "<p>368 rows × 2 columns</p>\n",
       "</div>"
      ],
      "text/plain": [
       "             t        yn\n",
       "0     0.000000 -0.046100\n",
       "1     0.058561 -0.141515\n",
       "2     0.117121 -0.012613\n",
       "3     0.175682  0.001637\n",
       "4     0.234243  0.036791\n",
       "..         ...       ...\n",
       "363  21.257524  1.004781\n",
       "364  21.316085  0.939638\n",
       "365  21.374646  1.186848\n",
       "366  21.433206  0.962091\n",
       "367  21.491767  1.085833\n",
       "\n",
       "[368 rows x 2 columns]"
      ]
     },
     "execution_count": 45,
     "metadata": {},
     "output_type": "execute_result"
    },
    {
     "data": {
      "image/png": "[encoded data removed]",
      "text/plain": [
       "<Figure size 640x480 with 1 Axes>"
      ]
     },
     "metadata": {},
     "output_type": "display_data"
    }
   ],
   "source": [
    "datos = pd.read_csv ('data\\clase_09.csv')\n",
    "\n",
    "sns.scatterplot(datos,x ='t',y = 'yn' )\n",
    "datos"
   ]
  },
  {
   "cell_type": "code",
   "execution_count": 41,
   "id": "3e9438d5",
   "metadata": {},
   "outputs": [
    {
     "data": {
      "text/plain": [
       "array([-0.14771062, -0.13538077,  0.48112161])"
      ]
     },
     "execution_count": 41,
     "metadata": {},
     "output_type": "execute_result"
    }
   ],
   "source": [
    "## Definir y_1, y_2, y_3, dependiendo el sistema que se quiera modelar\n",
    "y_1 = np.zeros(N)\n",
    "y_2 = np.zeros(N)\n",
    "u_1 = np.zeros(N)\n",
    "\n",
    "for k in range(1,N):\n",
    "    y_1[k]=yn[k-1]\n",
    "    u_1[k]=u[k-1]\n",
    "for k in range(2,N):\n",
    "    y_2[k]=yn[k-2]\n",
    "    \n",
    "## Creación del vector phi\n",
    "phi = np.array([-y_1,-y_2,u_1]).transpose()\n",
    "\n",
    "# Parámetro para la regularización de los minimos cuadrados (entre 0 y 1)\n",
    "# Garantiza que la matriz (phi^T*phi)^-1 exista y se pueda estimar \n",
    "#los parámetros.\n",
    "\n",
    "alpha = 0.0\n",
    "A = np.dot(phi.T,phi) + alpha*np.eye(len(np.dot(phi.T,phi)))\n",
    "theta = np.dot(np.linalg.inv(A),np.dot(phi.T,yn))\n",
    "theta"
   ]
  },
  {
   "cell_type": "code",
   "execution_count": 54,
   "id": "7f8ee851",
   "metadata": {},
   "outputs": [
    {
     "name": "stdout",
     "output_type": "stream",
     "text": [
      "A continuación se observa el valor de 1-A y de B, para reconstruir\n",
      "(0.14771062132052*z + 0.135380766173951)/z**2\n",
      "0.481121605714343/z\n"
     ]
    }
   ],
   "source": [
    "## Definir el modelo ARX    y(t) = G(z)u(t) + H(z)e(t)\n",
    "## G = B/A,    H = 1/A\n",
    "z = sym.symbols('z', complex=True)\n",
    "\n",
    "## Construir los polinomios A(z) y B(z)\n",
    "A = 1 + theta[0]*z**-1 + theta[1]*z**-2  \n",
    "B = theta[2]*z**-1 \n",
    "\n",
    "## Calcular la función de transferencia G y H en simbólica\n",
    "G = B/A\n",
    "G = G.simplify()\n",
    "\n",
    "H = 1/A\n",
    "H = H.simplify()\n",
    "\n",
    "## Definiendo las funciones del predictor:\n",
    "## 1 - H^-1 = 1- A y H^-1*G = B\n",
    "\n",
    "print('A continuación se observa el valor de 1-A y de B, para reconstruir')\n",
    "_A = (1-A).simplify()\n",
    "print(_A)\n",
    "print(B)"
   ]
  },
  {
   "cell_type": "code",
   "execution_count": 55,
   "id": "3be6c5c6",
   "metadata": {},
   "outputs": [
    {
     "data": {
      "text/plain": [
       "<matplotlib.legend.Legend at 0x14b161ca830>"
      ]
     },
     "execution_count": 55,
     "metadata": {},
     "output_type": "execute_result"
    },
    {
     "data": {
      "image/png": "[encoded data removed]",
      "text/plain": [
       "<Figure size 640x480 with 1 Axes>"
      ]
     },
     "metadata": {},
     "output_type": "display_data"
    }
   ],
   "source": [
    "## Definiendo la función a estimar:\n",
    "\n",
    "ye = -theta[0]*y_1-theta[1]*y_2+theta[2]*u_1\n",
    "plt.plot(t,ye,color = 'red')\n",
    "plt.plot(t,yn,color = 'black')\n",
    "plt.legend(['Modelo estimado','Salida medida'])"
   ]
  },
  {
   "cell_type": "code",
   "execution_count": 56,
   "id": "a9c3b51e",
   "metadata": {},
   "outputs": [
    {
     "name": "stdout",
     "output_type": "stream",
     "text": [
      "0.010958796696275051\n"
     ]
    }
   ],
   "source": [
    "ECM = np.sqrt(np.dot((yn-ye).transpose(),(yn-ye)))/len(yn)\n",
    "print(ECM)"
   ]
  },
  {
   "cell_type": "code",
   "execution_count": null,
   "id": "1784aeef",
   "metadata": {},
   "outputs": [],
   "source": []
  }
 ],
 "metadata": {
  "kernelspec": {
   "display_name": "Python 3",
   "language": "python",
   "name": "python3"
  },
  "language_info": {
   "codemirror_mode": {
    "name": "ipython",
    "version": 3
   },
   "file_extension": ".py",
   "mimetype": "text/x-python",
   "name": "python",
   "nbconvert_exporter": "python",
   "pygments_lexer": "ipython3",
   "version": "3.7.3"
  },
  "latex_envs": {
   "LaTeX_envs_menu_present": true,
   "autoclose": false,
   "autocomplete": true,
   "bibliofile": "biblio.bib",
   "cite_by": "apalike",
   "current_citInitial": 1,
   "eqLabelWithNumbers": true,
   "eqNumInitial": 1,
   "hotkeys": {
    "equation": "Ctrl-E",
    "itemize": "Ctrl-I"
   },
   "labels_anchors": false,
   "latex_user_defs": false,
   "report_style_numbering": false,
   "user_envs_cfg": false
  },
  "toc": {
   "base_numbering": 1,
   "nav_menu": {},
   "number_sections": true,
   "sideBar": true,
   "skip_h1_title": false,
   "title_cell": "Table of Contents",
   "title_sidebar": "Contents",
   "toc_cell": false,
   "toc_position": {},
   "toc_section_display": true,
   "toc_window_display": false
  },
  "varInspector": {
   "cols": {
    "lenName": 16,
    "lenType": 16,
    "lenVar": 40
   },
   "kernels_config": {
    "python": {
     "delete_cmd_postfix": "",
     "delete_cmd_prefix": "del ",
     "library": "var_list.py",
     "varRefreshCmd": "print(var_dic_list())"
    },
    "r": {
     "delete_cmd_postfix": ") ",
     "delete_cmd_prefix": "rm(",
     "library": "var_list.r",
     "varRefreshCmd": "cat(var_dic_list()) "
    }
   },
   "types_to_exclude": [
    "module",
    "function",
    "builtin_function_or_method",
    "instance",
    "_Feature"
   ],
   "window_display": false
  }
 },
 "nbformat": 4,
 "nbformat_minor": 5
}
