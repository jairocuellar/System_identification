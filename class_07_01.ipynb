{
 "cells": [
  {
   "cell_type": "markdown",
   "id": "1e0682a7",
   "metadata": {},
   "source": [
    "# IDENTIFICACIÓN DE SISTEMAS\n",
    "\n",
    "Profesor: Jairo Alberto Cuéllar Guarnizo  \n",
    "Programa: Ingeniería en Automatización y Control"
   ]
  },
  {
   "cell_type": "code",
   "execution_count": 6,
   "id": "59f44449",
   "metadata": {},
   "outputs": [],
   "source": [
    "from sympy import MatrixSymbol, Matrix, Identity\n",
    "\n",
    "import sympy as sym\n",
    "import pandas as pd\n",
    "import math\n",
    "\n",
    "sym.init_printing()\n",
    "%matplotlib inline\n",
    "\n",
    "import numpy as np\n",
    "import matplotlib.pyplot as plt\n",
    "import seaborn as sns\n",
    "import control\n",
    "import random"
   ]
  },
  {
   "cell_type": "code",
   "execution_count": 29,
   "id": "1c2fd7a5",
   "metadata": {},
   "outputs": [
    {
     "data": {
      "text/plain": [
       "(TransferFunction(array([125000]), array([     1,   1250, 250000])),\n",
       " 0.00013815510557964273)"
      ]
     },
     "execution_count": 29,
     "metadata": {},
     "output_type": "execute_result"
    },
    {
     "data": {
      "image/png": "[encoded data removed]",
      "text/plain": [
       "<Figure size 640x480 with 1 Axes>"
      ]
     },
     "metadata": {},
     "output_type": "display_data"
    }
   ],
   "source": [
    "n = [125000]\n",
    "d = [1,1250,250000]\n",
    "g = control.tf(n,d)\n",
    "t,y = control.step_response(g)\n",
    "plt.plot(t,y,color = 'red')\n",
    "Ts = t[1] - t[0]\n",
    "g, Ts"
   ]
  },
  {
   "cell_type": "code",
   "execution_count": 28,
   "id": "2bd34fc4",
   "metadata": {},
   "outputs": [
    {
     "data": {
      "text/latex": [
       "$$\\frac{0.001127 z + 0.001064}{z^2 - 1.837 z + 0.8414}\\quad dt = 0.00013815510557964273$$"
      ],
      "text/plain": [
       "TransferFunction(array([0.00112668, 0.00106366]), array([ 1.        , -1.83701447,  0.84139514]), 0.00013815510557964273)"
      ]
     },
     "execution_count": 28,
     "metadata": {},
     "output_type": "execute_result"
    }
   ],
   "source": [
    "## Tiempo discreto\n",
    "gd = control.c2d(g,Ts)\n",
    "gd"
   ]
  },
  {
   "cell_type": "code",
   "execution_count": 34,
   "id": "4ea353b3",
   "metadata": {},
   "outputs": [
    {
     "data": {
      "text/latex": [
       "$$\n",
       "\\left(\\begin{array}{rllrll|rll}\n",
       "-1.&\\hspace{-1em}25&\\hspace{-1em}\\cdot10^{3}&-2.&\\hspace{-1em}5&\\hspace{-1em}\\cdot10^{5}&1\\phantom{.}&\\hspace{-1em}&\\hspace{-1em}\\phantom{\\cdot}\\\\\n",
       "1\\phantom{.}&\\hspace{-1em}&\\hspace{-1em}\\phantom{\\cdot}&0\\phantom{.}&\\hspace{-1em}&\\hspace{-1em}\\phantom{\\cdot}&0\\phantom{.}&\\hspace{-1em}&\\hspace{-1em}\\phantom{\\cdot}\\\\\n",
       "\\hline\n",
       "0\\phantom{.}&\\hspace{-1em}&\\hspace{-1em}\\phantom{\\cdot}&1.&\\hspace{-1em}25&\\hspace{-1em}\\cdot10^{5}&0\\phantom{.}&\\hspace{-1em}&\\hspace{-1em}\\phantom{\\cdot}\\\\\n",
       "\\end{array}\\right)\n",
       "$$"
      ],
      "text/plain": [
       "StateSpace(array([[-1.25e+03, -2.50e+05],\n",
       "       [ 1.00e+00,  0.00e+00]]), array([[1.],\n",
       "       [0.]]), array([[     0., 125000.]]), array([[0.]]))"
      ]
     },
     "execution_count": 34,
     "metadata": {},
     "output_type": "execute_result"
    }
   ],
   "source": [
    "Gss = control.tf2ss(n,d)\n",
    "Gss"
   ]
  },
  {
   "cell_type": "markdown",
   "id": "56eb0f3c",
   "metadata": {},
   "source": [
    "# Modelamiento de Sistemas Dinámicos\n",
    "\n",
    "El modelamiento de los sistemas dinámicos permite describir matemáticamente el comportamiento de un sistema. Arroja una herramienta matemática susceptible de análisis que puede incluir simulaciones, ajustes, etc. El modelamiento del sistema puede ser en tiempo discreto o continuo. \n",
    "\n",
    "### Modelamiento en tiempo continuo:\n",
    "\n",
    "Considerando que todos los fenómenos físicos ocurren de forma natural en tiempo continuo, se define la siguiente ecuación diferencial para el modelo del sistema dinámico así:\n",
    "\n",
    "$$\\dot{x(t)} = f(x(t), u(t), \\epsilon(t), p)$$\n",
    "\n",
    "Es claro que todos estos elementos de esta función son claramente vectores y se definen así:\n",
    "\n",
    "* Estados x(t): describen el comportamiento interno del sistema, todas las variables de estado ajustadas conforman el vector de estados x(t).\n",
    "* Entradas de control u(t): Estas señales con exógenas al sistema y normalmente se originan en un sistema de control digital y permite modificar el comportamiento interno del sistema.\n",
    "* Perturbaciones $\\epsilon(t)$: señales aleatorias que normalmente representan errores en el modelamiento de la planta.\n",
    "* p: vector de parámetros constantes y que deben ser identificados en el procedimiento de identificación.\n",
    "\n",
    "En adelante se utilizará el punto \"$\\dot{}$\" con el fin de señalar la derivada en el tiempo de cualquier cantidad, así la variable depende total o parcialmente del tiempo. \n",
    "\n",
    "$$\\dot{x} = \\frac{dx}{dt} = \\frac{\\partial x}{\\partial t}$$\n",
    "\n",
    "Por simplicidad se omitirá la dependencia de las variables del -tiempo, así:\n",
    "\n",
    "$$\\dot{x} = f(x, u, \\epsilon, p)$$"
   ]
  },
  {
   "cell_type": "markdown",
   "id": "2568f8dd",
   "metadata": {},
   "source": [
    "### Modelamiento: \n",
    "\n",
    "Es el proceso de la obtención de la función \"f\", para crear o encontrar la ecuación diferencial ordinaria (EDO) que describe el sistema lo mejor posible.\n",
    "\n",
    "### Identificación: \n",
    "\n",
    "Es el proceso de estimar los valores de los parámetros \"p\", contenidos en f. Este proceso se realiza a partir de DATOS EXPERIMENTALES apropiadamente recolectados.\n",
    "\n",
    "El objetivo de estos 2 procesos es obtener un modelo con parámetros validados que permita hacer predicciones sobre el comportamiento futuro del sistema. En palabras simples, el vector de estado contiene toda la información actual del sistema y en el pasado (memoria del sistema) y permitirá predecir el comportamiento futuro del mismo.\n"
   ]
  },
  {
   "cell_type": "markdown",
   "id": "30bcec0a",
   "metadata": {},
   "source": [
    "## Sistemas Lineales e Invariantes en el Tiempo (LTI Systems)\n",
    "\n",
    "En el modelamiento matemático previo a la implementación de un sistema de control. Los sistemas LTI cobran importancia, toda vez que son una herramienta poderosa tanto para el modelamiento del sistema, la identificación y el control del proceso por realimentación de estados.\n",
    "\n",
    "$$\\dot{x} = A.x + B.u$$\n",
    "\n",
    "Es importante señalar que para el proceso de identificación, se hace necesario contar con la o las salidas del sistema dadas por la relación:\n",
    "\n",
    "$$y = C.x + D.u$$\n",
    "\n",
    "Donde la salida \"y\", usualmente suele ser la única cantidad medible. Es necesario recordar que el estado inicial y la respuesta natural del sistema aparece en cuando no existe señal de exitación u(t):\n",
    "\n",
    "$$\\dot{x} = A.x$$\n",
    "\n",
    "Cuya solución trivial es la siguiente:\n",
    "\n",
    "$$x(t) = x_0.e^{A.t}$$"
   ]
  },
  {
   "cell_type": "markdown",
   "id": "7c0f63ec",
   "metadata": {},
   "source": [
    "## Muestreo de señales\n",
    "\n",
    "Recordar que existe el teorema de muestreo y en el siguiente notebook, encontrarán información al respecto:\n",
    "\n",
    "[Señales Discreto](https://github.com/pierrediazp/Se-ales_y_Sistemas/blob/cd19bef5c2f0a616ed6ea47b6ec742fe6901eb77//09_muestreo.ipynb)\n",
    "\n",
    "En el caso de este curso, el modelo del sistema, las señales involucradas y demás hasta el momento se han trabajado de forma continua (a pesar que el tiempo es un vector y las señales también)."
   ]
  },
  {
   "cell_type": "markdown",
   "id": "606da56f",
   "metadata": {},
   "source": [
    "## Retenedor de orden cero (ZOH)\n",
    "\n",
    "El retenedor de orden cero (ZOH), es una de las estrategias para transformar un sistema dinámico que aparece en tiempo continuo a uno en tiempo discreto. Se entiende que el sistema de tiempo continuo (planta), tiene un retenedor de orden cero en la entrada. Por tanto la función de transferencia de tiempo discreto tendría la siguiente forma:\n",
    "\n",
    "![ZOH](figuras/zoh.png)\n",
    "\n",
    "A menudo la señal de control u(t) es generada por una computadora como un valor constante entre 2 instantes de tiempo $\\Delta t$, así que los instantes de muestreo estarán dados por $t_k = k\\Delta t$. Por tanto se puede definir que a partir de un sistema en tiempo continuo dado por:\n",
    "\n",
    "$$\\dot{x} = f(x(t),u_{cte}) $$\n",
    "\n",
    "Se define entonces una función discreta de la siguiente manera:\n",
    "\n",
    "$$x[t_k+1] = f_{dis}(x[t_k],u_k)$$\n",
    "\n",
    "Retomando la representación en tiempo continuo para el sistema en espacio de estados se tiene que:\n",
    "\n",
    "$$\\dot{x} = A.x + B.u$$\n",
    "\n",
    "Resolviendo dicha ecuación y teniendo en cuenta el $x_{init}, t_{init}, u_k$ se tiene que:\n",
    "\n",
    "$$x_{k+1} = A_{dis}x_k+B_{dis}u_k$$\n",
    "\n",
    "Donde:\n",
    "\n",
    "$$A_{dis} = e^{A\\Delta t}$$\n",
    "\n",
    "$$B_{dis} = \\int_{0}^{\\Delta t}e^{A(\\Delta t - \\tau)}Bd\\tau = e^{A\\Delta t}\\int_{0}^{\\Delta t}e^{-A\\tau}.Bd\\tau$$\n",
    "\n",
    "$$B_{dis} = A^{-1}(e^{A\\Delta t} - I)B$$\n",
    "\n",
    "Considerando la ecuación de salida del sistema, se concluye que en el tiempo continuo y discreto la matriz de estado y de entrada son distintas. Sin embargo, la matriz de salida puede permanecer igual, así como la de transmisión directa. El sistema en tiempo discreto es igualmente LTI."
   ]
  },
  {
   "cell_type": "markdown",
   "id": "393d00fb",
   "metadata": {},
   "source": [
    "## Discretización de Sistemas y Señales\n",
    "\n",
    "Existen otros métodos de discretización como lo son la equivalencia de polos entre S y z, bajo la premisa que $z = e^{ST}$ siendo T el periodo de muestreo. \n",
    "\n",
    "Existe el método de aproximación de Transformación Lineal, sujeta a la siguiente relación:\n",
    "\n",
    "$$S = \\frac{2(z-1)}{T(z+1)}$$\n"
   ]
  },
  {
   "cell_type": "markdown",
   "id": "a7a5f288",
   "metadata": {},
   "source": [
    "**Ejemplo:** Obtener un modelo discreto para el sistema dado por la siguiente EDO, asuma $\\Delta t = 0.8s$:\n",
    "\n",
    "$$\\dot{x} = -3x + 5$$\n",
    "\n",
    "Paso 1: $A_{dis} = e^{-3 (0.8)}$\n",
    "\n",
    "Paso 2: $B_{dis} = -\\frac{1}{3}(e^{-3 (0.8)}-1)*5$"
   ]
  },
  {
   "cell_type": "code",
   "execution_count": 2,
   "id": "0e76a614",
   "metadata": {},
   "outputs": [
    {
     "data": {
      "text/latex": [
       "$\\displaystyle \\left( \\left[\\begin{matrix}0.200703614349064\\end{matrix}\\right], \\  \\left[\\begin{matrix}1.33216064275156\\end{matrix}\\right], \\  0.535308671542394\\right)$"
      ],
      "text/plain": [
       "([0.200703614349064], [1.33216064275156], 0.5353086715423938)"
      ]
     },
     "execution_count": 2,
     "metadata": {},
     "output_type": "execute_result"
    }
   ],
   "source": [
    "dt = random.random()            # Tiempo de muestreo\n",
    "\n",
    "A = Matrix([-3])\n",
    "B = Matrix([5])\n",
    "u = 1\n",
    "\n",
    "Adis = (dt*A).exp();\n",
    "Bdis = A.inv()*(Adis-np.eye(len(B)))*B\n",
    "Adis, Bdis, dt"
   ]
  },
  {
   "cell_type": "markdown",
   "id": "ef37ce51",
   "metadata": {},
   "source": [
    "## Comparación SS en Td vs Tc\n",
    "\n",
    "![RLC - Serie](figuras/RLC.jpg)\n",
    "\n",
    "* Ecuaciones Diferenciales  \n",
    "\\begin{equation}\n",
    "\\frac{di}{dt} = -\\frac{R}{L}i-\\frac{v_{c}}{L}+\\frac{v}{L}\n",
    "\\end{equation}  \n",
    "\n",
    "\\begin{equation}\n",
    "\\frac{dv_{c}}{dt} = -\\frac{i}{C}\n",
    "\\end{equation}  \n",
    "\n",
    "* Función de Transferencia  \n",
    "\n",
    "\\begin{equation}\n",
    "G(S) = \\frac{v_{c}(S)}{v(S)} = \\frac{\\frac{1}{LC}}{S^{2}+\\frac{R}{L}S+\\frac{1}{LC}}\n",
    "\\end{equation}  \n",
    "\n",
    "* Espacio de estados  \n",
    "\n",
    "$$A = \\left [ \\matrix{ -\\frac{R}{L} & -\\frac{1}{L} \\\\ \\frac{1}{C} & 0 } \\right ], \\; \n",
    "B = \\left [ \\matrix{\\frac{1}{L} \\\\ 0 } \\right ], \\;\n",
    "C = \\left [ \\matrix{0 & 1} \\right ], \\;\n",
    "D = 0$$  \n",
    "\n",
    "Asumiendo parámetros con valores R , C , L "
   ]
  },
  {
   "cell_type": "code",
   "execution_count": 25,
   "id": "505c7cd9",
   "metadata": {},
   "outputs": [
    {
     "data": {
      "text/latex": [
       "$\\displaystyle \\left( \\left[\\begin{matrix}-1.0 & -0.5\\\\1.0 & 0\\end{matrix}\\right], \\  \\left[\\begin{matrix}0.5\\\\0\\end{matrix}\\right], \\  \\left[\\begin{matrix}0 & 1\\end{matrix}\\right], \\  0, \\  0.76512958489129\\right)$"
      ],
      "text/plain": [
       "⎛⎡-1.0  -0.5⎤  ⎡0.5⎤                               ⎞\n",
       "⎜⎢          ⎥, ⎢   ⎥, [0  1], 0, 0.7651295848912902⎟\n",
       "⎝⎣1.0    0  ⎦  ⎣ 0 ⎦                               ⎠"
      ]
     },
     "execution_count": 25,
     "metadata": {},
     "output_type": "execute_result"
    }
   ],
   "source": [
    "###   Definir un espacio de estados en el tiempo:\n",
    "###   Circuito RLC - Serie\n",
    "dt = random.random()            # Tiempo de muestreo\n",
    "\n",
    "R = 2;\n",
    "Co = 1;\n",
    "L = 2;\n",
    "\n",
    "\n",
    "A = Matrix([[-R/L,-1/L],[1/Co,0]])\n",
    "B = Matrix([[1/L],[0]])\n",
    "C = Matrix([[0,1]])\n",
    "D = 0\n",
    "\n",
    "A, B, C, D, dt"
   ]
  },
  {
   "cell_type": "code",
   "execution_count": 4,
   "id": "ce3a457f",
   "metadata": {},
   "outputs": [
    {
     "data": {
      "text/latex": [
       "$\\displaystyle \\left( \\left[\\begin{matrix}0.404454204073336 & -0.246621561663485\\\\0.49324312332697 & 0.897697327400306\\end{matrix}\\right], \\  \\left[\\begin{matrix}0.246621561663485\\\\0.102302672599694\\end{matrix}\\right]\\right)$"
      ],
      "text/plain": [
       "⎛⎡0.404454204073336  -0.246621561663485⎤  ⎡0.246621561663485⎤⎞\n",
       "⎜⎢                                     ⎥, ⎢                 ⎥⎟\n",
       "⎝⎣0.49324312332697   0.897697327400306 ⎦  ⎣0.102302672599694⎦⎠"
      ]
     },
     "execution_count": 4,
     "metadata": {},
     "output_type": "execute_result"
    }
   ],
   "source": [
    "## VERIFICAR LAS ECUACIONES PARA A Y B EN TD\n",
    "Adis = (dt*A).exp()\n",
    "Bdis = A.inv()*(Adis-np.eye(len(B)))*B\n",
    "\n",
    "Adis, Bdis"
   ]
  },
  {
   "cell_type": "code",
   "execution_count": 5,
   "id": "f2ddce54",
   "metadata": {},
   "outputs": [
    {
     "data": {
      "text/plain": [
       "array([[0.404454204073978, -0.246621561652257],\n",
       "       [0.493243123304515, 0.897697327378493]], dtype=object)"
      ]
     },
     "execution_count": 5,
     "metadata": {},
     "output_type": "execute_result"
    }
   ],
   "source": [
    "## CALCULANDO LA MATRIZ DISCRETA POR SERIE DE TAYLOR\n",
    "A1 = dt*A\n",
    "# Numero de aproximación serie de taylor\n",
    "k = 10\n",
    "Ad1 = np.eye(len(B));\n",
    "for i in range(k):\n",
    "    Ad1 = Ad1 + np.linalg.matrix_power(A1,(i+1))/(np.math.factorial(i+1))\n",
    "Ad1"
   ]
  },
  {
   "cell_type": "code",
   "execution_count": 13,
   "id": "fb14a3e5",
   "metadata": {},
   "outputs": [
    {
     "data": {
      "text/plain": [
       "<matplotlib.collections.PathCollection at 0x19997af8850>"
      ]
     },
     "execution_count": 13,
     "metadata": {},
     "output_type": "execute_result"
    },
    {
     "data": {
      "image/png": "[encoded data removed]",
      "text/plain": [
       "<Figure size 640x480 with 1 Axes>"
      ]
     },
     "metadata": {},
     "output_type": "display_data"
    }
   ],
   "source": [
    "### Método c2d continuo a discreto\n",
    "Gs = control.ss(A,B,C,D)\n",
    "Gd2 = control.c2d(Gs,dt,'zoh')\n",
    "\n",
    "t1,y1 = control.step_response(Gs)\n",
    "plt.plot(t1,y1,color = 'red')\n",
    "t2,y2 = control.step_response(Gd2)\n",
    "plt.scatter(t2,y2)"
   ]
  },
  {
   "cell_type": "code",
   "execution_count": 14,
   "id": "7e507278",
   "metadata": {},
   "outputs": [
    {
     "data": {
      "text/latex": [
       "$$\n",
       "\\left(\\begin{array}{rllrll|rll}\n",
       "0.&\\hspace{-1em}921&\\hspace{-1em}\\phantom{\\cdot}&-0.&\\hspace{-1em}0386&\\hspace{-1em}\\phantom{\\cdot}&0.&\\hspace{-1em}0386&\\hspace{-1em}\\phantom{\\cdot}\\\\\n",
       "0.&\\hspace{-1em}0772&\\hspace{-1em}\\phantom{\\cdot}&0.&\\hspace{-1em}998&\\hspace{-1em}\\phantom{\\cdot}&0.&\\hspace{-1em}00157&\\hspace{-1em}\\phantom{\\cdot}\\\\\n",
       "\\hline\n",
       "0\\phantom{.}&\\hspace{-1em}&\\hspace{-1em}\\phantom{\\cdot}&1\\phantom{.}&\\hspace{-1em}&\\hspace{-1em}\\phantom{\\cdot}&0\\phantom{.}&\\hspace{-1em}&\\hspace{-1em}\\phantom{\\cdot}\\\\\n",
       "\\end{array}\\right)~,~dt=0.0804\n",
       "$$"
      ],
      "text/plain": [
       "StateSpace(array([[ 0.92117544, -0.03862489],\n",
       "       [ 0.07724977,  0.99842522]]), array([[0.03862489],\n",
       "       [0.00157478]]), array([[0., 1.]]), array([[0.]]), 0.08044184983663061)"
      ]
     },
     "execution_count": 14,
     "metadata": {},
     "output_type": "execute_result"
    }
   ],
   "source": [
    "# Obtenido a partir del modelo original en tiempo continuo\n",
    "Gd2"
   ]
  },
  {
   "cell_type": "code",
   "execution_count": 15,
   "id": "c3794c29",
   "metadata": {},
   "outputs": [
    {
     "data": {
      "text/latex": [
       "$\\displaystyle \\left( \\left[\\begin{matrix}0.921175443763723 & -0.0386248874242686\\\\0.0772497748485372 & 0.99842521861226\\end{matrix}\\right], \\  \\left[\\begin{matrix}0.0386248874242686\\\\0.00157478138773981\\end{matrix}\\right], \\  \\left[\\begin{matrix}0 & 1\\end{matrix}\\right], \\  0\\right)$"
      ],
      "text/plain": [
       "⎛⎡0.921175443763723   -0.0386248874242686⎤  ⎡0.0386248874242686 ⎤           ⎞\n",
       "⎜⎢                                       ⎥, ⎢                   ⎥, [0  1], 0⎟\n",
       "⎝⎣0.0772497748485372   0.99842521861226  ⎦  ⎣0.00157478138773981⎦           ⎠"
      ]
     },
     "execution_count": 15,
     "metadata": {},
     "output_type": "execute_result"
    }
   ],
   "source": [
    "#Aplicando las ecuaciones de discretización vistas\n",
    " "
   ]
  },
  {
   "cell_type": "code",
   "execution_count": null,
   "id": "c265c551",
   "metadata": {},
   "outputs": [],
   "source": []
  }
 ],
 "metadata": {
  "kernelspec": {
   "display_name": "Python 3 (ipykernel)",
   "language": "python",
   "name": "python3"
  },
  "language_info": {
   "codemirror_mode": {
    "name": "ipython",
    "version": 3
   },
   "file_extension": ".py",
   "mimetype": "text/x-python",
   "name": "python",
   "nbconvert_exporter": "python",
   "pygments_lexer": "ipython3",
   "version": "3.10.9"
  }
 },
 "nbformat": 4,
 "nbformat_minor": 5
}
