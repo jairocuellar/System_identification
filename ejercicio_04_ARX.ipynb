{
 "cells": [
  {
   "cell_type": "markdown",
   "id": "2ea66398",
   "metadata": {},
   "source": [
    "# IDENTIFICACION DE SISTEMAS - Ejercicio 3\n",
    "\n",
    "Profesor: Jairo Alberto Cuéllar Guarnizo  \n",
    "Programa: Ingeniería en Automatización y Control"
   ]
  },
  {
   "cell_type": "markdown",
   "id": "f02dbf76",
   "metadata": {},
   "source": [
    "# Elaborado por:\n",
    "\n",
    "* Nombre 1, apellido 1\n",
    "* Nombre 2, apellido 2"
   ]
  },
  {
   "cell_type": "markdown",
   "id": "bea6436d",
   "metadata": {},
   "source": [
    "# Ejercicio 3 - Polinomios Autoregresivos (Modelo ARX)\n",
    "\n",
    "## Descripción del ejercicio:\n",
    "\n",
    "## Punto 1:\n",
    "\n",
    "1. Genere una función de transferencia parcialmente aleatoria, contamine los datos con un ruido:\n",
    "\n",
    "$$a = aleatorio$$\n",
    "$$b = \\frac{a}{3}$$\n",
    "\n",
    "$$G(s)=\\frac{a}{s^2+bs+a}$$\n",
    "\n",
    "2. Obtener por lo menos 2 modelos ARX (hipótesis distintas), usando los polinomios autoregresivos (A y B), siga las orientaciones de las clases 8 y 9.  \n",
    "\n",
    "3. Estime una función de transferencia en tiempo discreto y una en tiempo continuo para cada una de las hiótesis, compare los resultados de los resultados obtenidos.\n",
    "\n",
    "## Punto 2:\n",
    "\n",
    "2. Con los datos obtenidos para la planta del proyecto y presentados en el avance 2, obtenga un modelo ARX para los datos recolectados.\n",
    "\n",
    "3. Entregue este notebook modificando los espacios para el ejercicio simulado y para los datos de la planta analizada."
   ]
  },
  {
   "cell_type": "markdown",
   "id": "94124d57",
   "metadata": {},
   "source": [
    "## DESARROLLO DEL EJERCICIO\n",
    "\n",
    "## Punto 1: \n",
    "\n",
    "Genere el espacio aleatorio y contamínelo con ruido blanco, gráfique la señal obtenida."
   ]
  },
  {
   "cell_type": "code",
   "execution_count": null,
   "id": "f89cfdf2",
   "metadata": {},
   "outputs": [],
   "source": [
    "#Inserte el código en este espacio."
   ]
  },
  {
   "cell_type": "markdown",
   "id": "93689fca",
   "metadata": {},
   "source": [
    "Proponga las hipótesis solicitadas y construya el regresor $\\phi$, además determine por OLS los parámetros a identificar en el modelo estimado."
   ]
  },
  {
   "cell_type": "code",
   "execution_count": null,
   "id": "c5843269",
   "metadata": {},
   "outputs": [],
   "source": [
    "#Inserte el código en este espacio."
   ]
  },
  {
   "cell_type": "markdown",
   "id": "830c1bf7",
   "metadata": {},
   "source": [
    "Calcule los polinomios autoregresivos A(z) y B(z). Proponga la función de transferencia discreta estimada. Determine la respuesta al escalón.\n",
    "\n",
    "$$G_e(z) = \\frac{B(z)}{A(z)}$$"
   ]
  },
  {
   "cell_type": "code",
   "execution_count": null,
   "id": "ed316404",
   "metadata": {},
   "outputs": [],
   "source": [
    "#Inserte el código en este espacio."
   ]
  },
  {
   "cell_type": "markdown",
   "id": "39b5e14a",
   "metadata": {},
   "source": [
    "Proponga la función de transferencia en tiempo conitnuo. Determine la respuesta al escalón."
   ]
  },
  {
   "cell_type": "code",
   "execution_count": null,
   "id": "68ed6a05",
   "metadata": {},
   "outputs": [],
   "source": [
    "#Inserte el código en este espacio."
   ]
  },
  {
   "cell_type": "markdown",
   "id": "50e28818",
   "metadata": {},
   "source": [
    "## Punto 2\n",
    "\n",
    "Cargue los datos capturados para la planta del proyecto en el notebook correspondiente."
   ]
  },
  {
   "cell_type": "code",
   "execution_count": 2,
   "id": "a2967424",
   "metadata": {},
   "outputs": [],
   "source": [
    "#Inserte el código en este espacio."
   ]
  },
  {
   "cell_type": "markdown",
   "id": "de0ba9e7",
   "metadata": {},
   "source": [
    "Proponga las hipótesis solicitadas y construya el regresor $\\phi$, además determine por OLS los parámetros a identificar en el modelo estimado."
   ]
  },
  {
   "cell_type": "code",
   "execution_count": 3,
   "id": "695c287b",
   "metadata": {},
   "outputs": [],
   "source": [
    "#Inserte el código en este espacio."
   ]
  },
  {
   "cell_type": "markdown",
   "id": "c262e479",
   "metadata": {},
   "source": [
    "Calcule los polinomios autoregresivos A(z) y B(z). Proponga la función de transferencia discreta estimada y calcule la respuesta al escalón.\n",
    "\n",
    "$$G_e(z) = \\frac{B(z)}{A(z)}$$"
   ]
  },
  {
   "cell_type": "code",
   "execution_count": null,
   "id": "f1bd5bae",
   "metadata": {},
   "outputs": [],
   "source": [
    "#Inserte el código en este espacio."
   ]
  },
  {
   "cell_type": "markdown",
   "id": "6c1b2cc8",
   "metadata": {},
   "source": [
    "Proponga la función de transferencia en tiempo conitnuo. Determine la respuesta al escalón."
   ]
  },
  {
   "cell_type": "code",
   "execution_count": null,
   "id": "9f734afc",
   "metadata": {},
   "outputs": [],
   "source": [
    "#Inserte el código en este espacio."
   ]
  },
  {
   "cell_type": "markdown",
   "id": "a508ef22",
   "metadata": {},
   "source": [
    "## Conclusiones\n",
    "\n",
    "Construya sus conclusiones acerca de las dos estimaciones obtenidas. \n",
    "Calcule el error cuadrático medio de ambas estimaciones y concluya al respecto."
   ]
  },
  {
   "cell_type": "code",
   "execution_count": null,
   "id": "3c96cbd0",
   "metadata": {},
   "outputs": [],
   "source": []
  }
 ],
 "metadata": {
  "kernelspec": {
   "display_name": "Python 3 (ipykernel)",
   "language": "python",
   "name": "python3"
  },
  "language_info": {
   "codemirror_mode": {
    "name": "ipython",
    "version": 3
   },
   "file_extension": ".py",
   "mimetype": "text/x-python",
   "name": "python",
   "nbconvert_exporter": "python",
   "pygments_lexer": "ipython3",
   "version": "3.10.9"
  }
 },
 "nbformat": 4,
 "nbformat_minor": 5
}
