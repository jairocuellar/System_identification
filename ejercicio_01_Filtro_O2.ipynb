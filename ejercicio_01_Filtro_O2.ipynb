{
 "cells": [
  {
   "cell_type": "markdown",
   "id": "2ea66398",
   "metadata": {},
   "source": [
    "# IDENTIFICACION DE SISTEMAS - Ejercicio 1\n",
    "\n",
    "Profesor: Jairo Alberto Cuéllar Guarnizo  \n",
    "Programa: Ingeniería en Automatización y Control"
   ]
  },
  {
   "cell_type": "markdown",
   "id": "f02dbf76",
   "metadata": {},
   "source": [
    "# Elaborado por:\n",
    "\n",
    "* Nombre 1, apellido 1\n",
    "* Nombre 2, apellido 2"
   ]
  },
  {
   "cell_type": "markdown",
   "id": "bea6436d",
   "metadata": {},
   "source": [
    "# Ejercicio 1 - Modelamiento Filtro Paso Bajos O1 y O2"
   ]
  },
  {
   "cell_type": "markdown",
   "id": "8facaa80",
   "metadata": {},
   "source": [
    "## Primer Orden:\n",
    "\n",
    "En la siguiente gráfica se puede apreciar un filtro paso bajos de primer orden.\n",
    "\n",
    "![Filtro Paso Bajos](figuras/filtro_low.png)\n",
    "\n",
    "* Obtenga la función de transferencia $G(s)=\\frac{v_0}{v_i}$. Escriba en un markdown el procedimiento para encontrar la función de transferencia.\n",
    "* Grafique la respuesta a un escalón de entrada de amplitud 2V.\n",
    "* Analice el circuito en el dominio del tiempo y resuelva la ecuación diferencial, grafique la señal $v_0(t)$."
   ]
  },
  {
   "cell_type": "markdown",
   "id": "6169d1d9",
   "metadata": {},
   "source": [
    "## Proceso para obtener la función de  transferencia O1\n",
    "\n",
    "El paso a paso irá aquí descrito."
   ]
  },
  {
   "cell_type": "code",
   "execution_count": 1,
   "id": "9484fac8",
   "metadata": {},
   "outputs": [],
   "source": [
    "#Inserte el código para graficar en este espacio."
   ]
  },
  {
   "cell_type": "markdown",
   "id": "dfd04931",
   "metadata": {},
   "source": [
    "### Ecuación diferencial"
   ]
  },
  {
   "cell_type": "code",
   "execution_count": 1,
   "id": "b75880c2",
   "metadata": {},
   "outputs": [],
   "source": [
    "#Inserte el código en este espacio."
   ]
  },
  {
   "cell_type": "markdown",
   "id": "0ea63ad5",
   "metadata": {},
   "source": [
    "## Segundo Orden:\n",
    "\n",
    "Los filtros activos de segundo orden paso altos y paso bajos tienen diferentes configuraciones.\n",
    "En la imagen a continuación puede verificar un diagrama circuital cuya configuración de segundo orden puede funcionar:\n",
    "\n",
    "![Filtro Paso Bajos 2](figuras/filtro_low2.png)\n",
    "\n",
    "* Obtenga la función de transferencia $G(s)=\\frac{v_0}{v_i}$. Inserte el texto en markdown con el procedimiento matemático.\n",
    "* Grafique la respuesta a un escalón de entrada de amplitud 2V.\n",
    "* Analice la señal de salida, intente calcular o identificar el valor de $w_n, \\zeta$.\n",
    "* Guarde en un archivo CSV los datos de la señal de salida y de entrada del sistema."
   ]
  },
  {
   "cell_type": "markdown",
   "id": "0909da00",
   "metadata": {},
   "source": [
    "## Proceso para obtener la función de  transferencia O2\n",
    "\n",
    "El paso a paso irá aquí descrito."
   ]
  },
  {
   "cell_type": "code",
   "execution_count": 3,
   "id": "45c3a174",
   "metadata": {},
   "outputs": [],
   "source": [
    "#Inserte el código para graficar respuesta de O2 en este espacio."
   ]
  },
  {
   "cell_type": "markdown",
   "id": "a508ef22",
   "metadata": {},
   "source": [
    "## Conclusiones\n",
    "\n",
    "* Redacte aquí unas conclusiones a su criterio, pero que hagan referencia a los resultados obtenidos..."
   ]
  },
  {
   "cell_type": "code",
   "execution_count": null,
   "id": "8799def0",
   "metadata": {},
   "outputs": [],
   "source": []
  }
 ],
 "metadata": {
  "kernelspec": {
   "display_name": "Python 3 (ipykernel)",
   "language": "python",
   "name": "python3"
  },
  "language_info": {
   "codemirror_mode": {
    "name": "ipython",
    "version": 3
   },
   "file_extension": ".py",
   "mimetype": "text/x-python",
   "name": "python",
   "nbconvert_exporter": "python",
   "pygments_lexer": "ipython3",
   "version": "3.10.9"
  }
 },
 "nbformat": 4,
 "nbformat_minor": 5
}
