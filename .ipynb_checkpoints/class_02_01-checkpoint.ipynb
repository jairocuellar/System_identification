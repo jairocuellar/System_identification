{
 "cells": [
  {
   "cell_type": "code",
   "execution_count": 1,
   "id": "59f44449",
   "metadata": {},
   "outputs": [],
   "source": [
    "from sympy import MatrixSymbol, Matrix, Identity\n",
    "\n",
    "import sympy as sym\n",
    "import pandas as pd\n",
    "\n",
    "sym.init_printing()\n",
    "%matplotlib inline\n",
    "\n",
    "import pandas as pd\n",
    "import numpy as np\n",
    "import matplotlib.pyplot as plt\n",
    "import seaborn as sns\n",
    "import control\n",
    "import random"
   ]
  },
  {
   "cell_type": "markdown",
   "id": "1e0682a7",
   "metadata": {},
   "source": [
    "# IDENTIFICACIÓN DE SISTEMAS\n",
    "\n",
    "Profesor: Jairo Alberto Cuéllar Guarnizo  \n",
    "Programa: Ingeniería en Automatización y Control"
   ]
  },
  {
   "cell_type": "markdown",
   "id": "bea6436d",
   "metadata": {},
   "source": [
    "# Unidad 1 - Introducción y Conceptos Básicos  \n",
    "\n",
    "## ¿Qué es la identificación de sistemas?\n",
    "\n",
    "CONCEPTO 1 - Es el conjunto de herramientas y experimentos que se diseñan y utilizan para lograr aproximar un modelo matemático de un sistema dinámico sobre el cuál se pueden realizar mediciones de sus entradas y salidas.\n",
    "\n",
    "CONCEPTO 2 - Uso de métodos estadísticos para lograr la aproximación de un modelo matemático de un sistema cuya información paramétrica es desconocida parcial o totalmente, y del cual se cuenta con mediciones de las variables de interés.\n",
    "\n",
    "## Ejemplo estimación de R  \n",
    "\n",
    "Partiendo del desconocimiento del Modelo (R), se cuenta únicamente con los valores de las señales de interés que son el voltaje y la corriente. Y esperando aproximar aún mejor el modelo se toma un número N de mediciones.  \n",
    "\n",
    "![R - Experimento](figuras/01_ejemplo_R.png)\n",
    "\n",
    "El resultado del experimento puede ser similar a las siguientes señales, aunque las mediciones mostradas aquí oscilan alrededor de un valor determinado (50V y 10A), pero no necesariamente debió ser así.  \n",
    "\n",
    "![Senales_VI](figuras/voltaje_corriente.png)\n",
    "\n",
    "La ley de ohm brinda una herramienta matemática que permite estimar un valor para el modelo del sistema desconocido.\n",
    "Si se observa la dispersión de las variables todos los valores deberían converger al mismo punto, sin embargo se han tenido en cuenta errores en las mediciones realizadas (perturbaciones del sistema).  \n",
    "\n",
    "![Dispersion_VI](figuras/dispersion_vi.png)"
   ]
  },
  {
   "cell_type": "markdown",
   "id": "48565256",
   "metadata": {},
   "source": [
    "**Aproximación Simple**\n",
    "\n",
    "En este tipo de aproximación se promedia el valor de la Resistencia que se obtuvo en cada experimento realizado.\n",
    "\n",
    "\\begin{equation}\n",
    "R_1[N] = \\frac{1}{N}\\sum_{k=1}^{N}\\frac{V[k]}{I[k]}\n",
    "\\end{equation}  \n",
    "\n",
    "**Error en cada Variable**\n",
    "\n",
    "En este tipo de aproximación se promedia el valor cada variable y luego se calcula el valor de la resistencia aplicando la Ley de Ohm.\n",
    "\n",
    "\\begin{equation}\n",
    "R_2[N] = \\frac{\\frac{1}{N}\\sum_{k=1}^{N}V[k]}{\\frac{1}{N}\\sum_{k=1}^{N}I[k]}\n",
    "\\end{equation} \n",
    "\n",
    "**Mínimos cuadrados**\n",
    "\n",
    "En este caso la idea es encontrar R[N] minimizando la suma de la diferencia de cuadrados del modelo estimado del voltaje basado en la medición de I y la propia medición de V. La ecuación sería:\n",
    "\n",
    "\\begin{equation}\n",
    "R_3[N] = arg min\\sum_{k=1}^{N}\\left(RI[k]-V[k]\\right)^2\n",
    "\\end{equation} \n",
    "\n",
    "Derivando la función a minimizar (Hacer la derivada) e igualando a cero, se puede obtener la aproximación de R que es lo que realmente interesa:\n",
    "\n",
    "\\begin{equation}\n",
    "R_3[N] = \\frac{\\frac{1}{N}\\sum_{k=1}^{N}I[k] \\cdot V[k]}{\\frac{1}{N}\\sum_{k=1}^{N}I[k]^2}\n",
    "\\end{equation} "
   ]
  },
  {
   "cell_type": "markdown",
   "id": "92ed0d03",
   "metadata": {},
   "source": [
    "## Estimación usando Listas"
   ]
  },
  {
   "cell_type": "code",
   "execution_count": 2,
   "id": "eca83df9",
   "metadata": {},
   "outputs": [
    {
     "ename": "TypeError",
     "evalue": "unsupported operand type(s) for /: 'list' and 'int'",
     "output_type": "error",
     "traceback": [
      "\u001b[1;31m---------------------------------------------------------------------------\u001b[0m",
      "\u001b[1;31mTypeError\u001b[0m                                 Traceback (most recent call last)",
      "Cell \u001b[1;32mIn[2], line 17\u001b[0m\n\u001b[0;32m     13\u001b[0m     vk\u001b[38;5;241m.\u001b[39mappend(random\u001b[38;5;241m.\u001b[39mrandrange(\u001b[38;5;241m48\u001b[39m,\u001b[38;5;241m50\u001b[39m))\n\u001b[0;32m     14\u001b[0m     \u001b[38;5;66;03m#ik.append((vk[k]/Rv)*(1+(random.random())/10))\u001b[39;00m\n\u001b[1;32m---> 17\u001b[0m ik \u001b[38;5;241m=\u001b[39m \u001b[43mvk\u001b[49m\u001b[38;5;241;43m/\u001b[39;49m\u001b[43mRv\u001b[49m \u001b[38;5;241m+\u001b[39m np\u001b[38;5;241m.\u001b[39mrandom\u001b[38;5;241m.\u001b[39mnormal(\u001b[38;5;241m0\u001b[39m,\u001b[38;5;241m0.02\u001b[39m,size\u001b[38;5;241m=\u001b[39mN)\n\u001b[0;32m     19\u001b[0m plt\u001b[38;5;241m.\u001b[39mstem(Nk,vk)\n\u001b[0;32m     20\u001b[0m plt\u001b[38;5;241m.\u001b[39mxlabel(\u001b[38;5;124m'\u001b[39m\u001b[38;5;124mN\u001b[39m\u001b[38;5;124m'\u001b[39m)\n",
      "\u001b[1;31mTypeError\u001b[0m: unsupported operand type(s) for /: 'list' and 'int'"
     ]
    }
   ],
   "source": [
    "# Datos a utilizar\n",
    "vk = []\n",
    "ik = []\n",
    "N = 30\n",
    "Nk = []\n",
    "V_p = I_p = P_p = 0;\n",
    "R1 = R2 = R3 = 0;\n",
    "Rv = 20;\n",
    "#R_1 = =R_2 = R_3 = []\n",
    "\n",
    "for k in range(N):\n",
    "    Nk.append(k+1)\n",
    "    vk.append(random.randrange(48,50))\n",
    "    ik.append((vk[k]/Rv)*(1+(random.random())/10))\n",
    "\n",
    "plt.stem(Nk,vk)\n",
    "plt.xlabel('N')\n",
    "plt.ylabel('Voltaje')\n",
    "plt.title('Valores de Voltaje')\n",
    "plt.show()\n",
    "\n",
    "plt.stem(Nk,ik)\n",
    "plt.xlabel('N')\n",
    "plt.ylabel('Corriente')\n",
    "plt.title('Valores de Corriente')\n",
    "plt.show()\n",
    "\n",
    "plt.scatter(ik,vk)\n",
    "plt.xlabel('Corriente')\n",
    "plt.ylabel('Voltaje')\n",
    "plt.title('Dispersión')\n",
    "plt.show()"
   ]
  },
  {
   "cell_type": "code",
   "execution_count": null,
   "id": "20a323c3",
   "metadata": {},
   "outputs": [],
   "source": [
    "# Aproximación simple\n",
    "R1 = R2 = R3 = k = 0\n",
    "for k in range(N):\n",
    "    R1 = R1+(vk[k]/ik[k])\n",
    "R1 = R1/len(vk)\n",
    "print(\"Aproximación simple: \"+str(R1))\n",
    "\n",
    "\n",
    "# Error en cada Variable\n",
    "k = V_p = I_p = P_p = 0\n",
    "\n",
    "V_p = sum(vk)/len(vk)\n",
    "I_p = sum(ik)/len(ik)\n",
    "R2 = V_p/I_p\n",
    "print(\"Error en variable: \"+str(R2))\n",
    "\n",
    "# Mínimos cuadrados\n",
    "temp = k = 0\n",
    "for k in range(N):\n",
    "    P_p = P_p + vk[k]*ik[k]\n",
    "    temp = temp + ik[k]*ik[k]\n",
    "P_p = P_p/len(vk)\n",
    "temp = temp/len(ik)\n",
    "R3 = P_p/temp\n",
    "print(\"Minimos cuadrados: \"+str(R3))\n"
   ]
  },
  {
   "cell_type": "code",
   "execution_count": null,
   "id": "919a2093",
   "metadata": {},
   "outputs": [],
   "source": []
  }
 ],
 "metadata": {
  "kernelspec": {
   "display_name": "Python 3 (ipykernel)",
   "language": "python",
   "name": "python3"
  },
  "language_info": {
   "codemirror_mode": {
    "name": "ipython",
    "version": 3
   },
   "file_extension": ".py",
   "mimetype": "text/x-python",
   "name": "python",
   "nbconvert_exporter": "python",
   "pygments_lexer": "ipython3",
   "version": "3.10.9"
  }
 },
 "nbformat": 4,
 "nbformat_minor": 5
}
