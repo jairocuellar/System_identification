{
 "cells": [
  {
   "cell_type": "markdown",
   "id": "2ea66398",
   "metadata": {},
   "source": [
    "# IDENTIFICACION DE SISTEMAS\n",
    "\n",
    "Profesor: Jairo Alberto Cuéllar Guarnizo  \n",
    "Programa: Ingeniería en Automatización y Control"
   ]
  },
  {
   "cell_type": "markdown",
   "id": "bea6436d",
   "metadata": {},
   "source": [
    "# Unidad 1 - Introducción y Conceptos Básicos  \n",
    "\n",
    "## Clase 1 - Modelos matemáticos: \n",
    "[Notebook clase 1](http://localhost:8888/notebooks/Documents/GitHub/System_identification/class_01.ipynb)\n",
    "## Clase 2-1 - Estimación de un modelo sencillo\n",
    "[Notebook clase 2 parte 1](http://localhost:8888/notebooks/Documents/GitHub/System_identification/class_02_01.ipynb)\n",
    "## Clase 2-2 - Estimadores estadísticos\n",
    "[Notebook clase 2 parte 2](http://localhost:8888/notebooks/Documents/GitHub/System_identification/class_02_02.ipynb)"
   ]
  },
  {
   "cell_type": "markdown",
   "id": "94124d57",
   "metadata": {},
   "source": [
    "##Unidad 2 - Series de Tiempo"
   ]
  },
  {
   "cell_type": "markdown",
   "id": "aafa882d",
   "metadata": {},
   "source": [
    "##Unidad 3 - Identificación Paramétrica"
   ]
  },
  {
   "cell_type": "markdown",
   "id": "f42ca429",
   "metadata": {},
   "source": [
    "##Unidad 4 - Identificación No Paramétrica"
   ]
  }
 ],
 "metadata": {
  "kernelspec": {
   "display_name": "Python 3 (ipykernel)",
   "language": "python",
   "name": "python3"
  },
  "language_info": {
   "codemirror_mode": {
    "name": "ipython",
    "version": 3
   },
   "file_extension": ".py",
   "mimetype": "text/x-python",
   "name": "python",
   "nbconvert_exporter": "python",
   "pygments_lexer": "ipython3",
   "version": "3.10.9"
  }
 },
 "nbformat": 4,
 "nbformat_minor": 5
}
