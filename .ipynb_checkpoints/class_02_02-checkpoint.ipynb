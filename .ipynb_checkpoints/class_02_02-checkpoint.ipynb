{
 "cells": [
  {
   "cell_type": "code",
   "execution_count": 1,
   "id": "59f44449",
   "metadata": {},
   "outputs": [],
   "source": [
    "from sympy import MatrixSymbol, Matrix, Identity\n",
    "\n",
    "import sympy as sym\n",
    "\n",
    "sym.init_printing()\n",
    "%matplotlib inline\n",
    "\n",
    "import pandas as pd\n",
    "import numpy as np\n",
    "import matplotlib.pyplot as plt\n",
    "import control\n",
    "import random"
   ]
  },
  {
   "cell_type": "markdown",
   "id": "1e0682a7",
   "metadata": {},
   "source": [
    "# IDENTIFICACIÓN DE SISTEMAS\n",
    "\n",
    "Profesor: Jairo Alberto Cuéllar Guarnizo  \n",
    "Programa: Ingeniería en Automatización y Control"
   ]
  },
  {
   "cell_type": "markdown",
   "id": "bea6436d",
   "metadata": {},
   "source": [
    "# Estimadores estadísticos\n",
    "\n",
    "## ¿Qué es un estimador?\n",
    "\n",
    "Una función de estimación utiliza muchas mediciones de una variable aleatoria (**Y**) para estimar el valor de un vector de parámetros. Para el caso de estas notas se usa la variable $\\theta$ para representar dicha estimación. La agrupación de las medidas se llamaran Y_N, el estimador sería una función de Y_N, debido a dicha dependencia el estimador sería una variable aleatoria también, por tanto tiene media y covarianza. De manera ideal el valor esperado de la función de estimación es el parámetro real $\\theta_0$.\n",
    "\n",
    "**Sesgo o Imparcialidad:** Un estimador $\\theta_N$ es imparcial o sin sesgo, si su valor esperado es el valor real del parámetro, de lo contrario será sesgada. \n",
    "\n",
    "Uno de los ejemplos más simples de estimación es la media de una variable aleatoria escalar Y promediando sus N mediciones. El estimador sería el siguiente:  \n",
    "\n",
    "$$\\theta_N(Y_N) =\\frac{1}{N}\\sum_{k=1}^{N}Y(k)$$\n",
    "\n",
    "El estimador es imparcial o sin sesgo debido a que su valor esperado es la **media muestreal ($\\mu_Y$)** de $Y_N$.\n",
    "\n",
    "$$E\\{\\theta_N(Y_N)\\} =\\frac{1}{N}\\sum_{k=1}^{N}E\\{Y(k)\\} = \\frac{1}{N}\\sum_{k=1}^{N}\\mu_Y = \\mu_Y$$ \n",
    "\n",
    "**Imparcialidad asintótica:** en este caso el valor esperado del estimador con infinito número de muestras debe ser el valor real.\n",
    "\n",
    "$$\\lim_{N\\rightarrow\\infty}E\\{\\theta_N(Y_N)\\} = \\theta_0$$ \n",
    "\n",
    "\n",
    " "
   ]
  },
  {
   "cell_type": "code",
   "execution_count": null,
   "id": "5b414411",
   "metadata": {},
   "outputs": [],
   "source": []
  }
 ],
 "metadata": {
  "kernelspec": {
   "display_name": "Python 3 (ipykernel)",
   "language": "python",
   "name": "python3"
  },
  "language_info": {
   "codemirror_mode": {
    "name": "ipython",
    "version": 3
   },
   "file_extension": ".py",
   "mimetype": "text/x-python",
   "name": "python",
   "nbconvert_exporter": "python",
   "pygments_lexer": "ipython3",
   "version": "3.10.9"
  }
 },
 "nbformat": 4,
 "nbformat_minor": 5
}
