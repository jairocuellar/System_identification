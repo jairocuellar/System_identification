{
 "cells": [
  {
   "cell_type": "code",
   "execution_count": 1,
   "id": "d608ba40",
   "metadata": {},
   "outputs": [],
   "source": [
    "from sympy import MatrixSymbol, Matrix, Identity\n",
    "\n",
    "import sympy as sym\n",
    "import math\n",
    "\n",
    "sym.init_printing()\n",
    "%matplotlib inline\n",
    "\n",
    "import pandas as pd\n",
    "import numpy as np\n",
    "import matplotlib.pyplot as plt\n",
    "import seaborn as sns\n",
    "import control"
   ]
  },
  {
   "cell_type": "markdown",
   "id": "1e0682a7",
   "metadata": {},
   "source": [
    "# IDENTIFICACIÓN DE SISTEMAS\n",
    "\n",
    "Profesor: Jairo Alberto Cuéllar Guarnizo  \n",
    "Programa: Ingeniería en Automatización y Control"
   ]
  },
  {
   "cell_type": "markdown",
   "id": "f066f18d",
   "metadata": {},
   "source": [
    "# Identificación de Sistemas Dinámicos en Tiempo Discreto\n",
    "\n",
    "## Polinomios Autoregresivos (Modelo ARX)\n",
    "\n",
    "Se hace necesario recalcar que para la Identificación del sistema, se espera reconstruir el modelo a partir de las mediciones de las salidas y entradas. Usando el modelo ARX:\n",
    "\n",
    "![OL_LTID2](figuras/lti_arx.png)"
   ]
  },
  {
   "cell_type": "markdown",
   "id": "8147e520",
   "metadata": {},
   "source": [
    "Usando el modelo de ecuación de error tenemos que:\n",
    "\n",
    "$$y[k] = -a_1y[k-1]-...-a_{n_a}y[k-{n_a}] + b_0u[k]+ b_1u[k-1]+b_2u[k-2]+...+b_{n_b}u[k-{n_b}] + e[k]$$\n",
    "\n",
    "El objetivo entonces es obtener el vector de parámetros $\\theta = [a_1, a_2,...,a_{n_a}, b_0,b_1, b_2,...,b_{n_b}]^T$. Conforme con la relación obtenida para el vector $\\theta$, se podría reescribir este modelo así:\n",
    "\n",
    "$$y[k] = \\phi.\\theta + e[k]$$\n",
    "\n",
    "Por tanto para este caso, la matriz de regresión tendría la siguiente forma:\n",
    "\n",
    "$$\\phi = \\begin{bmatrix}-y[k-1]&-y[k-2]&...&-y[k-{n_a}]&u[k]&u[k-1]&u[k-2]&...&u[k-{n_b}]\\end{bmatrix}$$\n",
    "\n",
    "Recordar que del error se pueden introducir los polinomios autoregresivos del modelo ARX:\n",
    "\n",
    "$$A(z) = 1+a_1z^{-1}+...+a_{n_a}z^{-{n_a}}$$\n",
    "\n",
    "$$B(z) = b_0+b_1z^{-1}+b_2z^{-2}+...+b_{n_b}z^{-{n_b}}$$"
   ]
  },
  {
   "cell_type": "markdown",
   "id": "fa3153fa",
   "metadata": {},
   "source": [
    "Reorganizando entonces:\n",
    "\n",
    "$$y[k]= \\frac{B[z]}{A[z]}u[k] + \\frac{1}{A[z]}e[k]$$\n",
    "\n",
    "$$y[k] = G_e(z)u[k] + H_e(z)e[k]$$\n",
    "\n",
    "El problema evidente en obtener estas funciones de transferencia estimadas es que se desconoce la naturaleza de la señal $e[k]$, por tanto la señal estimada se debe reconstruir a partir de la función G estimada y el escalón de entrada."
   ]
  },
  {
   "cell_type": "markdown",
   "id": "d77613d8",
   "metadata": {},
   "source": [
    "## Ejemplo 1:\n",
    "\n",
    "Suponga que se realiza la medición de un sistema dinámico y que se mide la señal de la salida con un instrumento con valores de ruido aleatorio.\n",
    "\n",
    "En un experimento de laboratorio se obtienen 2 respuestas al escalo usando diferentes magnitudes, con un sensor obteniendo un conjunto de valores $y_{n1}, y_{n2}$\n",
    "\n",
    "Utilice el modelo ARX para determinar una función de transferencia estimada así:\n",
    "\n",
    "$$G_e(z) = \\frac{B(z)}{A(z)}$$\n",
    "\n"
   ]
  },
  {
   "cell_type": "code",
   "execution_count": 2,
   "id": "84d8cc15",
   "metadata": {},
   "outputs": [
    {
     "data": {
      "text/plain": [
       "<matplotlib.legend.Legend at 0x21e330cf2b0>"
      ]
     },
     "execution_count": 2,
     "metadata": {},
     "output_type": "execute_result"
    },
    {
     "data": {
      "image/png": "[encoded data removed]",
      "text/plain": [
       "<Figure size 640x480 with 1 Axes>"
      ]
     },
     "metadata": {},
     "output_type": "display_data"
    }
   ],
   "source": [
    "## Sistema de segundo orden en tiempo continuo\n",
    "K1 = np.random.randint(1,10,dtype=int)\n",
    "g = control.tf([9],[2,3,9])\n",
    "\n",
    "# Señal de salida ideal \"y\" y entrada \"u\"\n",
    "t,y = control.step_response(K1*g)\n",
    "dt = t[1]-t[0]\n",
    "N = len(t)\n",
    "u = K1*np.ones(N);\n",
    "\n",
    "## Ruido para simular la señal de salida capturada \"yn\"\n",
    "r = 0.03\n",
    "e = np.random.normal(0,r,size=N)\n",
    "## Señal de medición de la salida\n",
    "yn = y+e\n",
    "## Ceros\n",
    "z = np.zeros(N);\n",
    "\n",
    "## Generando los datos para validar el MODELO\n",
    "K2 = np.random.randint(1,10,dtype=int)\n",
    "_,yv = control.step_response(K2*g,t)\n",
    "## Ruido para las señales de entrenamiento\n",
    "e = np.random.normal(0,r,size=N)\n",
    "# Datos para entrenamiento o validación\n",
    "yv = yv+e\n",
    "uv = K2*np.ones(N);\n",
    "\n",
    "\n",
    "data = {'unos':np.ones(N),'yn':yn,'u':u,'t':t,'y1':z,'y2':z,'y3':z,'y4':z,'u1':z,'u2':z,'u3':z,'yv':yv,'uv':uv}\n",
    "df = pd.DataFrame(data);\n",
    "\n",
    "sns.lineplot(x = \"t\", y = \"yn\", data = df)\n",
    "sns.lineplot(x = \"t\", y = \"u\", data = df)\n",
    "plt.legend(['Medición','Entrada'])\n"
   ]
  },
  {
   "cell_type": "markdown",
   "id": "31a335c2",
   "metadata": {},
   "source": [
    "## Definir la matriz de regresión\n",
    "\n",
    "Para estimar el modelo se debe usar la matriz de regresión lineal, involucrando estados anteriores de la salida y de la entrada, y agregando un parámetro de ajuste para la regresión lineal.\n",
    "$$\\phi = \\begin{bmatrix}-y[k-1]&u[k-1]&u[k-2]&u[k-3]&1\\end{bmatrix}$$"
   ]
  },
  {
   "cell_type": "code",
   "execution_count": 5,
   "id": "8868b491",
   "metadata": {},
   "outputs": [
    {
     "data": {
      "text/html": [
       "<div>\n",
       "<style scoped>\n",
       "    .dataframe tbody tr th:only-of-type {\n",
       "        vertical-align: middle;\n",
       "    }\n",
       "\n",
       "    .dataframe tbody tr th {\n",
       "        vertical-align: top;\n",
       "    }\n",
       "\n",
       "    .dataframe thead th {\n",
       "        text-align: right;\n",
       "    }\n",
       "</style>\n",
       "<table border=\"1\" class=\"dataframe\">\n",
       "  <thead>\n",
       "    <tr style=\"text-align: right;\">\n",
       "      <th></th>\n",
       "      <th>unos</th>\n",
       "      <th>yn</th>\n",
       "      <th>u</th>\n",
       "      <th>t</th>\n",
       "      <th>y1</th>\n",
       "      <th>y2</th>\n",
       "      <th>y3</th>\n",
       "      <th>y4</th>\n",
       "      <th>u1</th>\n",
       "      <th>u2</th>\n",
       "      <th>u3</th>\n",
       "      <th>yv</th>\n",
       "      <th>uv</th>\n",
       "    </tr>\n",
       "  </thead>\n",
       "  <tbody>\n",
       "    <tr>\n",
       "      <th>0</th>\n",
       "      <td>1.0</td>\n",
       "      <td>-0.060934</td>\n",
       "      <td>9.0</td>\n",
       "      <td>0.000000</td>\n",
       "      <td>0.0</td>\n",
       "      <td>0.0</td>\n",
       "      <td>0.0</td>\n",
       "      <td>0.0</td>\n",
       "      <td>0.0</td>\n",
       "      <td>0.0</td>\n",
       "      <td>0.0</td>\n",
       "      <td>0.018181</td>\n",
       "      <td>6.0</td>\n",
       "    </tr>\n",
       "    <tr>\n",
       "      <th>1</th>\n",
       "      <td>1.0</td>\n",
       "      <td>0.179693</td>\n",
       "      <td>9.0</td>\n",
       "      <td>0.093034</td>\n",
       "      <td>0.0</td>\n",
       "      <td>0.0</td>\n",
       "      <td>0.0</td>\n",
       "      <td>0.0</td>\n",
       "      <td>0.0</td>\n",
       "      <td>0.0</td>\n",
       "      <td>0.0</td>\n",
       "      <td>0.143610</td>\n",
       "      <td>6.0</td>\n",
       "    </tr>\n",
       "    <tr>\n",
       "      <th>2</th>\n",
       "      <td>1.0</td>\n",
       "      <td>0.648379</td>\n",
       "      <td>9.0</td>\n",
       "      <td>0.186067</td>\n",
       "      <td>0.0</td>\n",
       "      <td>0.0</td>\n",
       "      <td>0.0</td>\n",
       "      <td>0.0</td>\n",
       "      <td>0.0</td>\n",
       "      <td>0.0</td>\n",
       "      <td>0.0</td>\n",
       "      <td>0.400008</td>\n",
       "      <td>6.0</td>\n",
       "    </tr>\n",
       "    <tr>\n",
       "      <th>3</th>\n",
       "      <td>1.0</td>\n",
       "      <td>1.400233</td>\n",
       "      <td>9.0</td>\n",
       "      <td>0.279101</td>\n",
       "      <td>0.0</td>\n",
       "      <td>0.0</td>\n",
       "      <td>0.0</td>\n",
       "      <td>0.0</td>\n",
       "      <td>0.0</td>\n",
       "      <td>0.0</td>\n",
       "      <td>0.0</td>\n",
       "      <td>0.932222</td>\n",
       "      <td>6.0</td>\n",
       "    </tr>\n",
       "    <tr>\n",
       "      <th>4</th>\n",
       "      <td>1.0</td>\n",
       "      <td>2.201550</td>\n",
       "      <td>9.0</td>\n",
       "      <td>0.372135</td>\n",
       "      <td>0.0</td>\n",
       "      <td>0.0</td>\n",
       "      <td>0.0</td>\n",
       "      <td>0.0</td>\n",
       "      <td>0.0</td>\n",
       "      <td>0.0</td>\n",
       "      <td>0.0</td>\n",
       "      <td>1.522954</td>\n",
       "      <td>6.0</td>\n",
       "    </tr>\n",
       "    <tr>\n",
       "      <th>...</th>\n",
       "      <td>...</td>\n",
       "      <td>...</td>\n",
       "      <td>...</td>\n",
       "      <td>...</td>\n",
       "      <td>...</td>\n",
       "      <td>...</td>\n",
       "      <td>...</td>\n",
       "      <td>...</td>\n",
       "      <td>...</td>\n",
       "      <td>...</td>\n",
       "      <td>...</td>\n",
       "      <td>...</td>\n",
       "      <td>...</td>\n",
       "    </tr>\n",
       "    <tr>\n",
       "      <th>95</th>\n",
       "      <td>1.0</td>\n",
       "      <td>9.028864</td>\n",
       "      <td>9.0</td>\n",
       "      <td>8.838205</td>\n",
       "      <td>0.0</td>\n",
       "      <td>0.0</td>\n",
       "      <td>0.0</td>\n",
       "      <td>0.0</td>\n",
       "      <td>0.0</td>\n",
       "      <td>0.0</td>\n",
       "      <td>0.0</td>\n",
       "      <td>6.026836</td>\n",
       "      <td>6.0</td>\n",
       "    </tr>\n",
       "    <tr>\n",
       "      <th>96</th>\n",
       "      <td>1.0</td>\n",
       "      <td>9.028296</td>\n",
       "      <td>9.0</td>\n",
       "      <td>8.931239</td>\n",
       "      <td>0.0</td>\n",
       "      <td>0.0</td>\n",
       "      <td>0.0</td>\n",
       "      <td>0.0</td>\n",
       "      <td>0.0</td>\n",
       "      <td>0.0</td>\n",
       "      <td>0.0</td>\n",
       "      <td>6.007635</td>\n",
       "      <td>6.0</td>\n",
       "    </tr>\n",
       "    <tr>\n",
       "      <th>97</th>\n",
       "      <td>1.0</td>\n",
       "      <td>9.031608</td>\n",
       "      <td>9.0</td>\n",
       "      <td>9.024273</td>\n",
       "      <td>0.0</td>\n",
       "      <td>0.0</td>\n",
       "      <td>0.0</td>\n",
       "      <td>0.0</td>\n",
       "      <td>0.0</td>\n",
       "      <td>0.0</td>\n",
       "      <td>0.0</td>\n",
       "      <td>6.027588</td>\n",
       "      <td>6.0</td>\n",
       "    </tr>\n",
       "    <tr>\n",
       "      <th>98</th>\n",
       "      <td>1.0</td>\n",
       "      <td>8.974074</td>\n",
       "      <td>9.0</td>\n",
       "      <td>9.117307</td>\n",
       "      <td>0.0</td>\n",
       "      <td>0.0</td>\n",
       "      <td>0.0</td>\n",
       "      <td>0.0</td>\n",
       "      <td>0.0</td>\n",
       "      <td>0.0</td>\n",
       "      <td>0.0</td>\n",
       "      <td>6.002400</td>\n",
       "      <td>6.0</td>\n",
       "    </tr>\n",
       "    <tr>\n",
       "      <th>99</th>\n",
       "      <td>1.0</td>\n",
       "      <td>8.979412</td>\n",
       "      <td>9.0</td>\n",
       "      <td>9.210340</td>\n",
       "      <td>0.0</td>\n",
       "      <td>0.0</td>\n",
       "      <td>0.0</td>\n",
       "      <td>0.0</td>\n",
       "      <td>0.0</td>\n",
       "      <td>0.0</td>\n",
       "      <td>0.0</td>\n",
       "      <td>5.975400</td>\n",
       "      <td>6.0</td>\n",
       "    </tr>\n",
       "  </tbody>\n",
       "</table>\n",
       "<p>100 rows × 13 columns</p>\n",
       "</div>"
      ],
      "text/plain": [
       "    unos        yn    u         t   y1   y2   y3   y4   u1   u2   u3  \\\n",
       "0    1.0 -0.060934  9.0  0.000000  0.0  0.0  0.0  0.0  0.0  0.0  0.0   \n",
       "1    1.0  0.179693  9.0  0.093034  0.0  0.0  0.0  0.0  0.0  0.0  0.0   \n",
       "2    1.0  0.648379  9.0  0.186067  0.0  0.0  0.0  0.0  0.0  0.0  0.0   \n",
       "3    1.0  1.400233  9.0  0.279101  0.0  0.0  0.0  0.0  0.0  0.0  0.0   \n",
       "4    1.0  2.201550  9.0  0.372135  0.0  0.0  0.0  0.0  0.0  0.0  0.0   \n",
       "..   ...       ...  ...       ...  ...  ...  ...  ...  ...  ...  ...   \n",
       "95   1.0  9.028864  9.0  8.838205  0.0  0.0  0.0  0.0  0.0  0.0  0.0   \n",
       "96   1.0  9.028296  9.0  8.931239  0.0  0.0  0.0  0.0  0.0  0.0  0.0   \n",
       "97   1.0  9.031608  9.0  9.024273  0.0  0.0  0.0  0.0  0.0  0.0  0.0   \n",
       "98   1.0  8.974074  9.0  9.117307  0.0  0.0  0.0  0.0  0.0  0.0  0.0   \n",
       "99   1.0  8.979412  9.0  9.210340  0.0  0.0  0.0  0.0  0.0  0.0  0.0   \n",
       "\n",
       "          yv   uv  \n",
       "0   0.018181  6.0  \n",
       "1   0.143610  6.0  \n",
       "2   0.400008  6.0  \n",
       "3   0.932222  6.0  \n",
       "4   1.522954  6.0  \n",
       "..       ...  ...  \n",
       "95  6.026836  6.0  \n",
       "96  6.007635  6.0  \n",
       "97  6.027588  6.0  \n",
       "98  6.002400  6.0  \n",
       "99  5.975400  6.0  \n",
       "\n",
       "[100 rows x 13 columns]"
      ]
     },
     "execution_count": 5,
     "metadata": {},
     "output_type": "execute_result"
    }
   ],
   "source": [
    "df"
   ]
  },
  {
   "cell_type": "code",
   "execution_count": 6,
   "id": "94c580cd",
   "metadata": {},
   "outputs": [],
   "source": [
    "## Crear las versiones resagadas de los datos y1, y2, y3, además de las entradas u,\n",
    "## dependiendo el sistema que se quiera modelar\n",
    "\n",
    "df.y1 = df.yn.shift(1)\n",
    "df.y2 = df.yn.shift(2)\n",
    "df.y3 = df.yn.shift(3)\n",
    "df.y4 = df.yn.shift(4)\n",
    "\n",
    "df.u1 = df.u.shift(1)\n",
    "df.u2 = df.u.shift(2)\n",
    "df.u3 = df.u.shift(3)\n",
    "\n",
    "df = df.fillna(0)\n",
    "\n",
    "## Creación del vector phi\n",
    "phi = np.array([-df.y1,-df.y3,-df.y4,df.u1,df.unos]).transpose()\n",
    "#phi = np.array([-df.y1,-df.y2,df.u1,df.u2,df.unos]).transpose()\n"
   ]
  },
  {
   "cell_type": "markdown",
   "id": "b46680fb",
   "metadata": {},
   "source": [
    "## Calculando los parámetros\n",
    "$$\\theta_{ls} = \\phi^+.y[k]$$\n",
    "\n",
    "La regresión lineal continúa siendo el modelo que se está estimando y la estimación de parámetros puede hacerse por los métodos de mínimos cuadrados discutidos con anterioridad. Existirán tantos parámetros como columnas tenga la matriz de regresión."
   ]
  },
  {
   "cell_type": "code",
   "execution_count": 7,
   "id": "85354576",
   "metadata": {},
   "outputs": [
    {
     "data": {
      "text/plain": [
       "array([-1.33556429,  0.32287304,  0.06203637,  0.0558463 , -0.06093364])"
      ]
     },
     "execution_count": 7,
     "metadata": {},
     "output_type": "execute_result"
    }
   ],
   "source": [
    "# Parámetro ALPHA para la regularización de los minimos cuadrados (entre 0 y 1)\n",
    "# Garantiza que la matriz (phi^T*phi)^-1 exista y se pueda estimar \n",
    "#los parámetros.\n",
    "alpha = 0.0\n",
    "A = np.dot(phi.T,phi) + alpha*np.eye(len(np.dot(phi.T,phi)))\n",
    "theta = np.dot(np.linalg.inv(A),np.dot(phi.T,yn))\n",
    "theta"
   ]
  },
  {
   "cell_type": "markdown",
   "id": "ea206894",
   "metadata": {},
   "source": [
    "## Determinando los polinomios autoregresivos\n",
    "$$A(z) = 1+a_1z^{-1}+...+a_{n_a}z^{-{n_a}}$$\n",
    "$$B(z) = b_0+b_1z^{-1}+b_2z^{-2}+...+b_{n_b}z^{-{n_b}}$$"
   ]
  },
  {
   "cell_type": "code",
   "execution_count": 8,
   "id": "aaf92bd8",
   "metadata": {},
   "outputs": [],
   "source": [
    "## Definir el modelo ARX    y(t) = G(z)u(t) + H(z)e(t)\n",
    "## G = B/A,    H = 1/A\n",
    "## -df.y1,-df.y3,-df.y4,df.u1\n",
    "\n",
    "z = sym.symbols('z', complex=True)\n",
    "## Construir los polinomios A(z) y B(z)\n",
    "A = 1 + theta[0]*z**-1 + theta[1]*z**-3+ theta[2]*z**-4   \n",
    "B = theta[3]*z**-1\n",
    "\n",
    "## Calcular la función de transferencia G y H en simbólica\n",
    "G = B/A\n",
    "G = G.simplify()\n"
   ]
  },
  {
   "cell_type": "code",
   "execution_count": 9,
   "id": "9ed57729",
   "metadata": {},
   "outputs": [
    {
     "ename": "NameError",
     "evalue": "name 'G_e' is not defined",
     "output_type": "error",
     "traceback": [
      "\u001b[1;31m---------------------------------------------------------------------------\u001b[0m",
      "\u001b[1;31mNameError\u001b[0m                                 Traceback (most recent call last)",
      "Cell \u001b[1;32mIn[9], line 1\u001b[0m\n\u001b[1;32m----> 1\u001b[0m \u001b[43mG_e\u001b[49m\n",
      "\u001b[1;31mNameError\u001b[0m: name 'G_e' is not defined"
     ]
    }
   ],
   "source": [
    " G_e\n"
   ]
  },
  {
   "cell_type": "markdown",
   "id": "af0e5c28",
   "metadata": {},
   "source": [
    "## Construir la función de transferencia estimada en Td\n",
    "$$G_e(z)=\\frac{B(z)}{A(z)} = \\frac{b_0 + b_1z^{-1}+b_2z^{-2}+...+b_{n_b}z^{-n_b}}{1+a_1z^{-1}+...+a_{n_a}z^{-n_a}}$$"
   ]
  },
  {
   "cell_type": "code",
   "execution_count": 10,
   "id": "d95a13a6",
   "metadata": {},
   "outputs": [
    {
     "data": {
      "text/plain": [
       "<matplotlib.legend.Legend at 0x2e2ca1162f0>"
      ]
     },
     "execution_count": 10,
     "metadata": {},
     "output_type": "execute_result"
    },
    {
     "data": {
      "image/png": "[encoded data removed]",
      "text/plain": [
       "<Figure size 640x480 with 1 Axes>"
      ]
     },
     "metadata": {},
     "output_type": "display_data"
    }
   ],
   "source": [
    "## Se crea el sistema estimado\n",
    "G_e = control.tf([theta[3],0,0,0],[1,theta[0],0,theta[1],theta[2]],dt)\n",
    "\n",
    "## Se determina la respuesta estimada al escalón con entrada de validación (K2)\n",
    "_,ye = control.step_response(K2*G_e,t)\n",
    "ye = ye+K2*theta[4]\n",
    "## Graficando las funciones\n",
    "plt.plot(t,ye,color = 'red')\n",
    "plt.plot(t,yv,color = 'blue')\n",
    "plt.legend(['Estimacion step(G[z])','Validacion'])"
   ]
  },
  {
   "cell_type": "code",
   "execution_count": 36,
   "id": "d7d69160",
   "metadata": {},
   "outputs": [
    {
     "data": {
      "text/latex": [
       "$$\\frac{0.05438 z^3}{z^4 - 1.23 z^3 + 0.04205 z + 0.2435}\\quad dt = 0.09303374113107254$$"
      ],
      "text/plain": [
       "TransferFunction(array([0.05438219, 0.        , 0.        , 0.        ]), array([ 1.        , -1.22975122,  0.        ,  0.04205387,  0.24349675]), 0.09303374113107254)"
      ]
     },
     "execution_count": 36,
     "metadata": {},
     "output_type": "execute_result"
    },
    {
     "data": {
      "image/png": "[encoded data removed]",
      "text/plain": [
       "<Figure size 640x480 with 1 Axes>"
      ]
     },
     "metadata": {},
     "output_type": "display_data"
    }
   ],
   "source": [
    "control.pzmap(G_e)\n",
    "G_e"
   ]
  },
  {
   "cell_type": "markdown",
   "id": "2a986a44",
   "metadata": {},
   "source": [
    "## Validando el modelo obtenido\n",
    "\n",
    "Para validar el modelo se utilizarán los datos de validación guardados en la señal yv cuya entrada fue de magnitud 6.\n",
    "Se procede a reconstruir la señal dato por dato:"
   ]
  },
  {
   "cell_type": "code",
   "execution_count": 35,
   "id": "6dabd8e1",
   "metadata": {},
   "outputs": [
    {
     "data": {
      "text/plain": [
       "<matplotlib.legend.Legend at 0x2775b1356c0>"
      ]
     },
     "execution_count": 35,
     "metadata": {},
     "output_type": "execute_result"
    },
    {
     "data": {
      "image/png": "[encoded data removed]",
      "text/plain": [
       "<Figure size 640x480 with 1 Axes>"
      ]
     },
     "metadata": {},
     "output_type": "display_data"
    }
   ],
   "source": [
    "## Reconstruyendo el modelo a partir de ye2 = -df.y1,-df.y3,-df.y4,df.u1 y usando datos de validación\n",
    "ye1 = np.zeros(len(t))\n",
    "for k in range(1,len(t)):\n",
    "    ye1[k] = -theta[0]*ye1[k-1]-theta[1]*ye1[k-3]-theta[2]*ye1[k-4]+theta[3]*uv[k-1]+theta[4]\n",
    "    \n",
    "## Graficando las funciones\n",
    "plt.plot(t,ye1,color = 'red')\n",
    "plt.plot(t,df.yv,color = 'blue')\n",
    "plt.legend(['Estimacion Ec. Diferencia','Datos Validacion'])\n"
   ]
  },
  {
   "cell_type": "code",
   "execution_count": 23,
   "id": "bf030245",
   "metadata": {},
   "outputs": [
    {
     "data": {
      "text/plain": [
       "array([ 0.02592876, -0.04771941, -0.10812006, -0.15551761, -0.19064777,\n",
       "       -0.21460435, -0.22871899, -0.23445596, -0.2333235 , -0.2268017 ,\n",
       "       -0.21628667, -0.20304985, -0.18821097, -0.172723  , -0.15736721,\n",
       "       -0.1427564 , -0.12934447, -0.11744065, -0.10722679, -0.09877632,\n",
       "       -0.09207382, -0.08703419, -0.08352075, -0.08136166, -0.08036447,\n",
       "       -0.08032841, -0.0810545 , -0.08235348, -0.0840517 , -0.08599504,\n",
       "       -0.08805136, -0.09011132, -0.09208826, -0.09391706, -0.09555236,\n",
       "       -0.09696631, -0.09814613, -0.09909145, -0.09981177, -0.10032397,\n",
       "       -0.10065011, -0.1008154 , -0.10084649, -0.10077008, -0.10061179,\n",
       "       -0.10039528, -0.10014174, -0.09986946, -0.0995937 , -0.09932669,\n",
       "       -0.09907774, -0.09885347, -0.09865807, -0.09849368, -0.09836068,\n",
       "       -0.09825807, -0.0981838 , -0.09813504, -0.09810851, -0.09810068,\n",
       "       -0.09810797, -0.09812693, -0.09815433, -0.09818727, -0.09822322,\n",
       "       -0.09826006, -0.09829605, -0.09832988, -0.09836059, -0.09838755,\n",
       "       -0.09841041, -0.09842908, -0.09844365, -0.09845437, -0.09846159,\n",
       "       -0.09846575, -0.09846731, -0.09846675, -0.09846453, -0.09846109,\n",
       "       -0.09845683, -0.0984521 , -0.09844719, -0.09844235, -0.09843776,\n",
       "       -0.09843356, -0.09842985, -0.09842668, -0.09842406, -0.098422  ,\n",
       "       -0.09842046, -0.09841939, -0.09841875, -0.09841847, -0.09841849,\n",
       "       -0.09841874, -0.09841917, -0.09841972, -0.09842034, -0.09842099])"
      ]
     },
     "execution_count": 23,
     "metadata": {},
     "output_type": "execute_result"
    }
   ],
   "source": []
  },
  {
   "cell_type": "code",
   "execution_count": null,
   "id": "d1188744",
   "metadata": {},
   "outputs": [],
   "source": []
  }
 ],
 "metadata": {
  "kernelspec": {
   "display_name": "Python 3 (ipykernel)",
   "language": "python",
   "name": "python3"
  },
  "language_info": {
   "codemirror_mode": {
    "name": "ipython",
    "version": 3
   },
   "file_extension": ".py",
   "mimetype": "text/x-python",
   "name": "python",
   "nbconvert_exporter": "python",
   "pygments_lexer": "ipython3",
   "version": "3.10.9"
  }
 },
 "nbformat": 4,
 "nbformat_minor": 5
}
