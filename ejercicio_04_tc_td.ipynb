{
 "cells": [
  {
   "cell_type": "markdown",
   "id": "2ea66398",
   "metadata": {},
   "source": [
    "# IDENTIFICACION DE SISTEMAS - Ejercicio 4\n",
    "\n",
    "Profesor: Jairo Alberto Cuéllar Guarnizo  \n",
    "Programa: Ingeniería en Automatización y Control"
   ]
  },
  {
   "cell_type": "markdown",
   "id": "f02dbf76",
   "metadata": {},
   "source": [
    "# Elaborado por:\n",
    "\n",
    "* Nombre 1, apellido 1\n",
    "* Nombre 2, apellido 2"
   ]
  },
  {
   "cell_type": "markdown",
   "id": "bea6436d",
   "metadata": {},
   "source": [
    "# Discretizando un sistema en tiempo continuo\n",
    "\n",
    "## Descripción del ejercicio:\n",
    "\n",
    "Retome el sistema de tiempo continuo a manera de función de transferencia del Filtro paso bajos de Segundo orden obtenido en el desarrollo del ejercicio 1."
   ]
  },
  {
   "cell_type": "markdown",
   "id": "94124d57",
   "metadata": {},
   "source": [
    " ## Obtención de G(z)\n",
    " \n",
    "Use una sustitución con el retenedor de orden cero para obtener la función de transferencia en términos de z a partir de la función G(s).\n",
    " \n",
    " $$S = \\frac{2(z-1)}{T(z+1)}$$\n",
    " \n",
    " $$z = e^{Ts}$$\n",
    " \n",
    " 1. Defina un periodo de muestreo (T) \n",
    " 2. Obtenga la función de transferencia usando matemática simbólica.\n"
   ]
  },
  {
   "cell_type": "code",
   "execution_count": 1,
   "id": "450dba20",
   "metadata": {},
   "outputs": [],
   "source": [
    "#Inserte el código en este espacio."
   ]
  },
  {
   "cell_type": "markdown",
   "id": "aafa882d",
   "metadata": {},
   "source": [
    "### Espacio de estados\n",
    "\n",
    "A partis de G(s) obtenga las matrices del modelo de estados (A, B, C, D) en tiempo continuo. Compare la respuesta al escalón a partir de la función de transferencia G(s) y a partir del modelo en espacio de estados."
   ]
  },
  {
   "cell_type": "code",
   "execution_count": null,
   "id": "b75880c2",
   "metadata": {},
   "outputs": [],
   "source": [
    "#Inserte el código en este espacio."
   ]
  },
  {
   "cell_type": "markdown",
   "id": "f42ca429",
   "metadata": {},
   "source": [
    "### Discretice el modelo en espacio de estados\n",
    "\n",
    "Use las ecuaciones vistas en clase y la aproximación de la serie de Taylor para discretizar el espacio de estados a partir del modelo en tiempo continuo.\n",
    "\n",
    "1. Defina un periodo de muestreo (El mismo del paso 1)\n",
    "2. Calcule A y B discretas"
   ]
  },
  {
   "cell_type": "markdown",
   "id": "24bf5b98",
   "metadata": {},
   "source": [
    "### Gráficas comparativas\n",
    "\n",
    "1. Obtenga la respuesta al escalón del sistema original G(s)\n",
    "2. Obtenga la respuesta al escalón del sistema discretizado G(z)\n",
    "3. Obtenga la respuesta al escalón del modelo en espacio de estados en tiempo continuo.\n",
    "4. Obtenga la respuesta al escalón del modelo en espacio de estados en tiempo discreto."
   ]
  },
  {
   "cell_type": "code",
   "execution_count": null,
   "id": "9959c500",
   "metadata": {},
   "outputs": [],
   "source": [
    "#Inserte el código en este espacio."
   ]
  },
  {
   "cell_type": "markdown",
   "id": "a508ef22",
   "metadata": {},
   "source": [
    "## Conclusiones\n",
    "\n",
    "* Redacte aquí un conjunto de conclusiones relacionadas directamente con los resultados obtenidos..."
   ]
  },
  {
   "cell_type": "code",
   "execution_count": null,
   "id": "456d4836",
   "metadata": {},
   "outputs": [],
   "source": []
  }
 ],
 "metadata": {
  "kernelspec": {
   "display_name": "Python 3 (ipykernel)",
   "language": "python",
   "name": "python3"
  },
  "language_info": {
   "codemirror_mode": {
    "name": "ipython",
    "version": 3
   },
   "file_extension": ".py",
   "mimetype": "text/x-python",
   "name": "python",
   "nbconvert_exporter": "python",
   "pygments_lexer": "ipython3",
   "version": "3.10.9"
  }
 },
 "nbformat": 4,
 "nbformat_minor": 5
}
