{
 "cells": [
  {
   "cell_type": "markdown",
   "id": "1e0682a7",
   "metadata": {},
   "source": [
    "# IDENTIFICACIÓN DE SISTEMAS\n",
    "\n",
    "Profesor: Jairo Alberto Cuéllar Guarnizo  \n",
    "Programa: Ingeniería en Automatización y Control"
   ]
  },
  {
   "cell_type": "markdown",
   "id": "ebaa63ae",
   "metadata": {},
   "source": [
    "# Estructura del modelo (ARMAX)\n",
    "\n",
    "Frente al modelo ARX, es evidente la dificultad de la descripción de la señal de error o las perturbaciones en el momento de realizar la medición tanto de la salida como de la entranda, por tanto se pueden introducir otros modelos con polinomios en \"z\" que pueden solventar la información.\n",
    "\n",
    "Uno de estos es el modelo ARMAX (Autoregresivo de media movil) que se origina en la siguiente figura:\n",
    "\n",
    "![OL_LTID3](figuras/lti_armax.png)"
   ]
  },
  {
   "cell_type": "markdown",
   "id": "31a335c2",
   "metadata": {},
   "source": [
    "La señal obtenida y a estimar será entonces dada por la siguiente relación:\n",
    "\n",
    "$$y[k] = \\frac{B(z)}{A(z)}u[k]+\\frac{C(z)}{A(z)}e[k]$$\n",
    "\n",
    "Donde A y B, ya se conoce la estructura y donde C tendría la siguiente forma:\n",
    "\n",
    "$$C(z) = 1+c_1z^{-1}+c_2z^{-2}+...+c_{n_c}z^{-n_c}$$\n",
    "\n",
    "Se debe recordar que se cuenta únicamente con las mediciones de la señal de salida y con la señal de entrada y no con el error de la captura de estos datos. Por tanto lo que se procede a realizar es una estimación usando el modelo ARX (visto previamente) y posteriormente usar la relación:\n",
    "\n",
    "$$e[k] = y[k] - y_{ARX}[k]$$\n",
    "\n",
    "Donde el $y_{ARX}$ ya se ha visto como obtenerse así:\n",
    "\n",
    "$$y_{ARX}[k] = \\frac{B_e(z)}{A_e(z)}u[k]$$\n",
    "\n",
    "Posterior a determinar la primera estimación (ARX), se calcula la señal de error $e[k]$ y luego se debe ajustar nuevamente el modelo usando la señal de error calculada."
   ]
  },
  {
   "cell_type": "markdown",
   "id": "0542be2e",
   "metadata": {},
   "source": [
    "## Predictor\n",
    "\n",
    "Introduciendo que $y[k] = G(z)u[k] + H(z)e[k]$ y asumiendo que el error puede despejarse de esta expresión:\n",
    "\n",
    "$$e[k] = \\frac{1}{H}y[k] - \\frac{G}{H}u[k] = y[k] - y_e[k]$$\n",
    "\n",
    "Entendiendo que el error también es la diferencia entre lo medido y lo estimado entonces, despejando la señal estimada se tendría:\n",
    "\n",
    "$$y_e[k] = y[k] - \\frac{1}{H}y[k] + \\frac{G}{H}u[k]$$\n",
    "\n",
    "Recordando que G y H dependen de los polinomios autoregresivos la expresión se puede reescribir así:\n",
    "\n",
    "$$y_e[k] = (1 - \\frac{A}{C})y[k] + \\frac{B}{C}u[k]$$\n",
    "\n",
    "Por tanto la predicción puede ser obtenida filtrando los datos medidos y la entrada a través de filtros cuyo denominador depende del orden del polinomio C(z). Se tiene entonces lo siguiente:\n",
    "\n",
    "$$Cy_e[k] = (C - A)y[k] + Bu[k]$$\n",
    "\n",
    "Añadiendo a ambos lados de la igualdad la expresión $1 - Cy_e[k]$, y sumando y restando \"y\" a la derecha de la igualdad:\n",
    "\n",
    "$$(1 - C)y_e[k] + Cy_e[k] = (C - A)y[k] + Bu[k] + (1 - C)y_e[k]+y[k]-y[k]$$\n",
    "\n",
    "Se reescribe la expresión así:\n",
    "\n",
    "$$y_e[k] = Bu[k] + (1-A)y[k] + (C-1)(y[k]-y_e[k])$$\n",
    "\n",
    "En este caso introducimos una nueva expresión que sería el error de la estimación y estaría dado por:\n",
    "\n",
    "$$e[k] = y[k]-y_e[k]$$\n",
    "\n",
    "$$y_e[k] = Bu[k] + (1-A)y[k] + (C-1)e[k]$$"
   ]
  },
  {
   "cell_type": "markdown",
   "id": "6777b8eb",
   "metadata": {},
   "source": [
    "## Regresor asociado (pseudo regresión lineal) \n",
    "\n",
    "Se introduce de esta última expresión una matriz de regresión asociada de la siguiente manera:\n",
    "\n",
    "$$\\phi = \\begin{bmatrix}-y[k-1]...-y[k-{n_a}]&u[k-1]...u[k-{n_b}]&e[k-1]...e[k-{n_c}]\\end{bmatrix}$$\n",
    "\n",
    "Usando el regresor anterior y aplicando mínimos cuadrados para optimizar el valor de los parámetros que minimizan el error cuadrático, se tiene que el nuevo vector de parámetros a determinar sería:\n",
    "\n",
    "$$\\theta = \\begin{bmatrix}a_1,a_2,...,a_{n_a},b_1,b_2,...,b_{n_b},c_1,c_2,...,c_{n_c}\\end{bmatrix}$$\n"
   ]
  },
  {
   "cell_type": "code",
   "execution_count": null,
   "id": "43023d08",
   "metadata": {},
   "outputs": [],
   "source": []
  }
 ],
 "metadata": {
  "kernelspec": {
   "display_name": "Python 3 (ipykernel)",
   "language": "python",
   "name": "python3"
  },
  "language_info": {
   "codemirror_mode": {
    "name": "ipython",
    "version": 3
   },
   "file_extension": ".py",
   "mimetype": "text/x-python",
   "name": "python",
   "nbconvert_exporter": "python",
   "pygments_lexer": "ipython3",
   "version": "3.10.9"
  }
 },
 "nbformat": 4,
 "nbformat_minor": 5
}
