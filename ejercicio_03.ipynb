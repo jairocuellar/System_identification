{
 "cells": [
  {
   "cell_type": "markdown",
   "id": "2ea66398",
   "metadata": {},
   "source": [
    "# IDENTIFICACION DE SISTEMAS - Ejercicio 3\n",
    "\n",
    "Profesor: Jairo Alberto Cuéllar Guarnizo  \n",
    "Programa: Ingeniería en Automatización y Control"
   ]
  },
  {
   "cell_type": "markdown",
   "id": "f02dbf76",
   "metadata": {},
   "source": [
    "# Elaborado por:\n",
    "\n",
    "* Nombre 1, apellido 1\n",
    "* Nombre 2, apellido 2"
   ]
  },
  {
   "cell_type": "markdown",
   "id": "bea6436d",
   "metadata": {},
   "source": [
    "# Ejercicio 3 - Mínimos cuadráticos con Peso\n",
    "\n",
    "## Descripción del ejercicio:\n",
    "\n",
    "Un estudiante realiza el siguiente experimento: Lanza un cuerpo hacia arriba con una velocidad inicial dada, toma datos de la altura recorrida por el cuerpo y la velocidad en dicho instante de tiempo y los registra en la siguiente tabla:\n",
    "\n",
    "![Datos Experimento](figuras/datos.png)"
   ]
  },
  {
   "cell_type": "markdown",
   "id": "94124d57",
   "metadata": {},
   "source": [
    "### Procedimiento\n",
    "\n",
    "Tomando en cuenta que la ecuación del movimiento uniformemente acelerado es:\n",
    "\n",
    "$$y = \\frac{1}{2}g.t^2+v_0.t+y_0$$\n",
    "\n",
    "### Paso 1\n",
    "Encuentre los parámetros $g, v_0, y_0$ usando el método de WLS, W (aleatoria).\n",
    "\n",
    "### Paso 2\n",
    "Para la matriz W, realice distintos experimentos y ajuste los pesos hasta lograr el modelo más apropiado (puede calcular la varianza de los datos medidos y usarla).\n",
    "\n",
    "### Paso 3\n",
    "Compare en una misma la función con los parámetros verdaderos ($g = 9.8 m/s^2, v_0 = 40 m/s$). Otra gráfica con los datos medidos y otra con los parámetros estimados por WLS (use a su criterio la mejor W)."
   ]
  },
  {
   "cell_type": "code",
   "execution_count": 1,
   "id": "450dba20",
   "metadata": {},
   "outputs": [],
   "source": [
    "#Inserte el código en este espacio."
   ]
  },
  {
   "cell_type": "markdown",
   "id": "59469434",
   "metadata": {},
   "source": [
    "### Paso 4\n",
    "\n",
    "Use el método de mínimos cuadrados regularizados y experimente con el valor de $.\\alpha$. Recuerde que debe ser positivo pero pequeño.\n",
    "\n",
    "Compare en una misma la función con los parámetros verdaderos ( 𝑔=9.8𝑚/𝑠2,𝑣0=40𝑚/𝑠\n",
    " ). Otra gráfica con los datos medidos y otra con los parámetros estimados por WLS con regularización."
   ]
  },
  {
   "cell_type": "code",
   "execution_count": null,
   "id": "21a819c6",
   "metadata": {},
   "outputs": [],
   "source": [
    "#Inserte el código en este espacio."
   ]
  },
  {
   "cell_type": "markdown",
   "id": "a508ef22",
   "metadata": {},
   "source": [
    "## Conclusiones\n",
    "\n",
    "Redacte aquí, concluya frente a las variaciones de los pesos y frente al valor de regularización. Modifique uno de los datos medidos de y(k), grafique y observe como modificando W asociado a dicho valor la gráfica de tendencia se puede ajustar."
   ]
  }
 ],
 "metadata": {
  "kernelspec": {
   "display_name": "Python 3 (ipykernel)",
   "language": "python",
   "name": "python3"
  },
  "language_info": {
   "codemirror_mode": {
    "name": "ipython",
    "version": 3
   },
   "file_extension": ".py",
   "mimetype": "text/x-python",
   "name": "python",
   "nbconvert_exporter": "python",
   "pygments_lexer": "ipython3",
   "version": "3.10.9"
  }
 },
 "nbformat": 4,
 "nbformat_minor": 5
}
