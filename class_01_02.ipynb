{
 "cells": [
  {
   "cell_type": "code",
   "execution_count": 4,
   "id": "59f44449",
   "metadata": {},
   "outputs": [],
   "source": [
    "from sympy import MatrixSymbol, Matrix, Identity\n",
    "\n",
    "import sympy as sym\n",
    "\n",
    "sym.init_printing()\n",
    "%matplotlib inline\n",
    "\n",
    "import pandas as pd\n",
    "import numpy as np\n",
    "import matplotlib.pyplot as plt\n",
    "import control"
   ]
  },
  {
   "cell_type": "markdown",
   "id": "1e0682a7",
   "metadata": {},
   "source": [
    "# IDENTIFICACION DE SISTEMAS\n",
    "\n",
    "Profesor: Jairo Alberto Cuéllar Guarnizo  \n",
    "Programa: Ingeniería en Automatización y Control"
   ]
  },
  {
   "cell_type": "markdown",
   "id": "bea6436d",
   "metadata": {},
   "source": [
    "# Unidad 1 - Introducción y Conceptos Básicos  \n",
    "\n",
    "## Modelos matemáticos sistemas LTI  \n",
    "\n",
    "* Dominio del Tiempo (Ecuaciones diferenciales)\n",
    "* Dominio Frecuencia (Función de transferencia)\n",
    "* Modelo en espacio de estados\n",
    "\n",
    "El modelamiento matemático con base al comportamiento de las variables físicas, permite la obtención de una herramienta de modelamiento siempre y cuando se conozca la información sobre las entradas y salidas del sistema así como de la estructura interna y funcionamiento de la planta a modelar.  \n",
    "\n",
    "### **Ejemplo CIRCUITO RLC - Serie**  \n",
    "\n",
    "![RLC - Serie](figuras/RLC.jpg)\n",
    "\n",
    "* Ecuaciones Diferenciales  \n",
    "\\begin{equation}\n",
    "\\frac{di}{dt} = -\\frac{R}{L}i-\\frac{v_{c}}{L}+\\frac{v}{L}\n",
    "\\end{equation}  \n",
    "\n",
    "\\begin{equation}\n",
    "\\frac{dv_{c}}{dt} = -\\frac{i}{C}\n",
    "\\end{equation}  \n",
    "\n",
    "Se observan 2 variables de interés la corriente del inductor y el voltaje del capacitor. La entrada es una fuente de exitación y la salida podría ser una de las 2 variables de interés. Existen otras variables como el voltaje de R y de L, así como los parámetros propios del circuito R, L y C.  \n",
    "\n",
    "* Función de Transferencia  \n",
    "\n",
    "\\begin{equation}\n",
    "G(S) = \\frac{v_{c}(S)}{v(S)} = \\frac{\\frac{1}{LC}}{S^{2}+\\frac{R}{L}S+\\frac{1}{LC}}\n",
    "\\end{equation}  \n",
    "\n",
    "* Espacio de estados  \n",
    "\n",
    "$$A = \\left [ \\matrix{ -\\frac{R}{L} & -\\frac{1}{L} \\\\ \\frac{1}{C} & 0 } \\right ], \\; \n",
    "B = \\left [ \\matrix{0 \\\\ \\frac{1}{L} } \\right ], \\;\n",
    "C = \\left [ \\matrix{0 & 1} \\right ], \\;\n",
    "D = 0$$  \n",
    "\n",
    "Asumiendo parámetros con valores R , C , L "
   ]
  },
  {
   "cell_type": "code",
   "execution_count": 5,
   "id": "d20d2224",
   "metadata": {},
   "outputs": [
    {
     "data": {
      "image/png": "[encoded data removed]",
      "text/latex": [
       "$\\displaystyle \\frac{d}{d t} \\operatorname{il}{\\left(t \\right)} = - \\frac{R \\operatorname{il}{\\left(t \\right)}}{L} + \\frac{v{\\left(t \\right)}}{L} - \\frac{\\operatorname{vC}{\\left(t \\right)}}{L}$"
      ],
      "text/plain": [
       "d             R⋅il(t)   v(t)   vC(t)\n",
       "──(il(t)) = - ─────── + ──── - ─────\n",
       "dt               L       L       L  "
      ]
     },
     "execution_count": 5,
     "metadata": {},
     "output_type": "execute_result"
    }
   ],
   "source": [
    "t, L, R, C = sym.symbols('t L R C', real=True)\n",
    "v = sym.Function('v')(t)\n",
    "il = sym.Function('il')(t)\n",
    "vC = sym.Function('vC')(t)\n",
    "\n",
    "ode1 = sym.Eq(il.diff(t),(-R/L)*il-vC/L+v/L)\n",
    "ode1 "
   ]
  },
  {
   "cell_type": "code",
   "execution_count": 7,
   "id": "e158dce9",
   "metadata": {},
   "outputs": [
    {
     "data": {
      "image/png": "[encoded data removed]",
      "text/latex": [
       "$\\displaystyle \\frac{d}{d t} \\operatorname{vC}{\\left(t \\right)} = \\frac{\\operatorname{il}{\\left(t \\right)}}{C}$"
      ],
      "text/plain": [
       "d           il(t)\n",
       "──(vC(t)) = ─────\n",
       "dt            C  "
      ]
     },
     "execution_count": 7,
     "metadata": {},
     "output_type": "execute_result"
    }
   ],
   "source": [
    "ode2 = sym.Eq(vC.diff(t), 1/C*il)\n",
    "ode2"
   ]
  },
  {
   "cell_type": "markdown",
   "id": "cfc8f184",
   "metadata": {},
   "source": [
    "Tomando las ecuaciones anteriores, se puede implementar un diagrama de bloques en un software apropiado que permita observar el comportamiento de las señares de entrada y salida.\n",
    "\n",
    "![RLC - Modelo](figuras/rlc_model.png)\n",
    "\n",
    "Se procede a definir el SS inicializando los parámetros del sistema (conocidos de antemano) - Gss"
   ]
  },
  {
   "cell_type": "code",
   "execution_count": 24,
   "id": "fea9881c",
   "metadata": {},
   "outputs": [
    {
     "data": {
      "text/latex": [
       "$$\n",
       "\\left(\\begin{array}{rllrll|rll}\n",
       "-0.&\\hspace{-1em}5&\\hspace{-1em}\\phantom{\\cdot}&-0.&\\hspace{-1em}5&\\hspace{-1em}\\phantom{\\cdot}&0.&\\hspace{-1em}5&\\hspace{-1em}\\phantom{\\cdot}\\\\\n",
       "1\\phantom{.}&\\hspace{-1em}&\\hspace{-1em}\\phantom{\\cdot}&0\\phantom{.}&\\hspace{-1em}&\\hspace{-1em}\\phantom{\\cdot}&0\\phantom{.}&\\hspace{-1em}&\\hspace{-1em}\\phantom{\\cdot}\\\\\n",
       "\\hline\n",
       "0\\phantom{.}&\\hspace{-1em}&\\hspace{-1em}\\phantom{\\cdot}&1\\phantom{.}&\\hspace{-1em}&\\hspace{-1em}\\phantom{\\cdot}&0\\phantom{.}&\\hspace{-1em}&\\hspace{-1em}\\phantom{\\cdot}\\\\\n",
       "\\end{array}\\right)\n",
       "$$"
      ],
      "text/plain": [
       "<LinearIOSystem:sys[6]:['u[0]']->['y[0]']>"
      ]
     },
     "execution_count": 24,
     "metadata": {},
     "output_type": "execute_result"
    }
   ],
   "source": [
    "R = 1;\n",
    "L = 2;\n",
    "Co = 1;\n",
    "\n",
    "A = Matrix([[-R/L,-1/L],[1/Co,0]])\n",
    "B = Matrix([[1/L],[0]])\n",
    "C1 = Matrix([[0,1]])\n",
    "D = 0\n",
    "Gss = control.ss(A,B,C1,D)\n",
    "Gss"
   ]
  },
  {
   "cell_type": "markdown",
   "id": "f015dfce",
   "metadata": {},
   "source": [
    "Se evalúa la respuesta al escalón del sistema asumiendo la salida del sistema"
   ]
  },
  {
   "cell_type": "code",
   "execution_count": 25,
   "id": "4e22de71",
   "metadata": {},
   "outputs": [
    {
     "data": {
      "text/plain": [
       "[<matplotlib.lines.Line2D at 0x1fd997cf310>]"
      ]
     },
     "execution_count": 25,
     "metadata": {},
     "output_type": "execute_result"
    },
    {
     "data": {
      "image/png": "[encoded data removed]",
      "text/plain": [
       "<Figure size 640x480 with 1 Axes>"
      ]
     },
     "metadata": {},
     "output_type": "display_data"
    }
   ],
   "source": [
    "t,y = control.step_response(Gss)\n",
    "plt.plot(t,y)"
   ]
  },
  {
   "cell_type": "markdown",
   "id": "53a3e3c3",
   "metadata": {},
   "source": [
    "Obtención de la TF a partir del SS"
   ]
  },
  {
   "cell_type": "code",
   "execution_count": 26,
   "id": "e21ec860",
   "metadata": {},
   "outputs": [
    {
     "data": {
      "text/latex": [
       "$$\\frac{0.5}{s^2 + 0.5 s + 0.5}$$"
      ],
      "text/plain": [
       "TransferFunction(array([0.5]), array([1. , 0.5, 0.5]))"
      ]
     },
     "execution_count": 26,
     "metadata": {},
     "output_type": "execute_result"
    }
   ],
   "source": [
    "G = control.ss2tf(Gss)\n",
    "G"
   ]
  },
  {
   "cell_type": "code",
   "execution_count": 27,
   "id": "486eaf06",
   "metadata": {},
   "outputs": [
    {
     "data": {
      "text/plain": [
       "[<matplotlib.lines.Line2D at 0x1fd99815cc0>]"
      ]
     },
     "execution_count": 27,
     "metadata": {},
     "output_type": "execute_result"
    },
    {
     "data": {
      "image/png": "[encoded data removed]",
      "text/plain": [
       "<Figure size 640x480 with 1 Axes>"
      ]
     },
     "metadata": {},
     "output_type": "display_data"
    }
   ],
   "source": [
    "t,y = control.step_response(G)\n",
    "plt.plot(t,y)"
   ]
  },
  {
   "cell_type": "code",
   "execution_count": 1,
   "id": "17c45d15",
   "metadata": {},
   "outputs": [],
   "source": [
    "#s = sym.symbols('s', complex=True)\n",
    "#R1 = 0.2\n",
    "#R2 = 0.3\n",
    "#R3 = 1\n",
    "#R4 = 3\n",
    "#C1 = 0.02\n",
    "#C2 = 0.04\n",
    "\n",
    "#k = (R3+R4)/(R3*R4)\n",
    "\n",
    "#Z1 = 1/(s*C1)\n",
    "#Z2 = 1/(s*C2)\n",
    "\n",
    "#Gs = (k*R4*Z1*Z2)/(Z1*R2+Z1*Z2+R1*Z1+R1*R2+R1*Z2)\n",
    "#Gs"
   ]
  },
  {
   "cell_type": "code",
   "execution_count": null,
   "id": "b2d3c75d",
   "metadata": {},
   "outputs": [],
   "source": []
  },
  {
   "cell_type": "code",
   "execution_count": null,
   "id": "b744cf49",
   "metadata": {},
   "outputs": [],
   "source": []
  }
 ],
 "metadata": {
  "kernelspec": {
   "display_name": "Python 3 (ipykernel)",
   "language": "python",
   "name": "python3"
  },
  "language_info": {
   "codemirror_mode": {
    "name": "ipython",
    "version": 3
   },
   "file_extension": ".py",
   "mimetype": "text/x-python",
   "name": "python",
   "nbconvert_exporter": "python",
   "pygments_lexer": "ipython3",
   "version": "3.10.9"
  }
 },
 "nbformat": 4,
 "nbformat_minor": 5
}
