{
 "cells": [
  {
   "cell_type": "code",
   "execution_count": 1,
   "metadata": {
    "executionInfo": {
     "elapsed": 334,
     "status": "ok",
     "timestamp": 1678811834661,
     "user": {
      "displayName": "Jean Pierre Diaz Paz",
      "userId": "17265394693514890050"
     },
     "user_tz": 300
    },
    "id": "lfTqTJQNfdvg"
   },
   "outputs": [],
   "source": [
    "import sympy as sym\n",
    "import numpy as np\n",
    "import matplotlib.pyplot as plt\n",
    "import pandas as pd"
   ]
  },
  {
   "cell_type": "markdown",
   "metadata": {},
   "source": [
    "## Mínimos con regularización\n",
    "\n",
    "Garantizando que la matríz $\\tilde\\phi^T.\\tilde\\phi$ tenga inversa, se procura incluir un parámetro alpha de valor muy pequeño $0<\\alpha<1$ de tal forma que los autovalores de esta matriz no sean cero. Por tanto:\n",
    "\n",
    "$$\\theta_{WLS} = \\tilde{\\phi^+}.\\tilde{y_N}$$\n",
    "\n",
    "Se reescribe así:\n",
    "\n",
    "$$\\theta_{WLS} = (\\tilde{\\phi^T}.\\tilde{\\phi}+\\alpha.I)^-1.\\tilde{\\phi}^T.y_N$$\n"
   ]
  },
  {
   "cell_type": "code",
   "execution_count": 29,
   "metadata": {
    "executionInfo": {
     "elapsed": 294,
     "status": "ok",
     "timestamp": 1678814703847,
     "user": {
      "displayName": "Jean Pierre Diaz Paz",
      "userId": "17265394693514890050"
     },
     "user_tz": 300
    },
    "id": "7mXIwiI6fmzW"
   },
   "outputs": [
    {
     "data": {
      "text/plain": [
       "<matplotlib.collections.PathCollection at 0x158705ead70>"
      ]
     },
     "execution_count": 29,
     "metadata": {},
     "output_type": "execute_result"
    },
    {
     "data": {
      "image/png": "[encoded data removed]",
      "text/plain": [
       "<Figure size 640x480 with 1 Axes>"
      ]
     },
     "metadata": {},
     "output_type": "display_data"
    }
   ],
   "source": [
    "## Generando los valores medidos a partir \n",
    "## de un valor ideal contaminado por ruido\n",
    "t = np.linspace([-2],[2],100)\n",
    "\n",
    "pol = [-5,0.5,3,1]\n",
    "y = np.polyval(pol,t) \n",
    "\n",
    "r = 10\n",
    "yn = y + np.random.normal(0,r,t.shape)\n",
    "plt.scatter(t,yn,color = 'red')"
   ]
  },
  {
   "cell_type": "code",
   "execution_count": 43,
   "metadata": {},
   "outputs": [
    {
     "data": {
      "text/plain": [
       "array([[ 1.00000000e+00, -8.00000000e+00,  4.00000000e+00,\n",
       "        -2.00000000e+00,  1.00000000e+00],\n",
       "       [ 1.00000000e+00, -7.52488047e+00,  3.84001632e+00,\n",
       "        -1.95959596e+00,  1.00000000e+00],\n",
       "       [ 1.00000000e+00, -7.06895503e+00,  3.68329762e+00,\n",
       "        -1.91919192e+00,  1.00000000e+00],\n",
       "       [ 1.00000000e+00, -6.63182792e+00,  3.52984389e+00,\n",
       "        -1.87878788e+00,  1.00000000e+00],\n",
       "       [ 1.00000000e+00, -6.21310338e+00,  3.37965514e+00,\n",
       "        -1.83838384e+00,  1.00000000e+00],\n",
       "       [ 1.00000000e+00, -5.81238567e+00,  3.23273135e+00,\n",
       "        -1.79797980e+00,  1.00000000e+00],\n",
       "       [ 1.00000000e+00, -5.42927902e+00,  3.08907254e+00,\n",
       "        -1.75757576e+00,  1.00000000e+00],\n",
       "       [ 1.00000000e+00, -5.06338768e+00,  2.94867871e+00,\n",
       "        -1.71717172e+00,  1.00000000e+00],\n",
       "       [ 1.00000000e+00, -4.71431590e+00,  2.81154984e+00,\n",
       "        -1.67676768e+00,  1.00000000e+00],\n",
       "       [ 1.00000000e+00, -4.38166792e+00,  2.67768595e+00,\n",
       "        -1.63636364e+00,  1.00000000e+00],\n",
       "       [ 1.00000000e+00, -4.06504799e+00,  2.54708703e+00,\n",
       "        -1.59595960e+00,  1.00000000e+00],\n",
       "       [ 1.00000000e+00, -3.76406036e+00,  2.41975309e+00,\n",
       "        -1.55555556e+00,  1.00000000e+00],\n",
       "       [ 1.00000000e+00, -3.47830926e+00,  2.29568411e+00,\n",
       "        -1.51515152e+00,  1.00000000e+00],\n",
       "       [ 1.00000000e+00, -3.20739896e+00,  2.17488011e+00,\n",
       "        -1.47474747e+00,  1.00000000e+00],\n",
       "       [ 1.00000000e+00, -2.95093368e+00,  2.05734109e+00,\n",
       "        -1.43434343e+00,  1.00000000e+00],\n",
       "       [ 1.00000000e+00, -2.70851768e+00,  1.94306703e+00,\n",
       "        -1.39393939e+00,  1.00000000e+00],\n",
       "       [ 1.00000000e+00, -2.47975521e+00,  1.83205795e+00,\n",
       "        -1.35353535e+00,  1.00000000e+00],\n",
       "       [ 1.00000000e+00, -2.26425050e+00,  1.72431385e+00,\n",
       "        -1.31313131e+00,  1.00000000e+00],\n",
       "       [ 1.00000000e+00, -2.06160781e+00,  1.61983471e+00,\n",
       "        -1.27272727e+00,  1.00000000e+00],\n",
       "       [ 1.00000000e+00, -1.87143138e+00,  1.51862055e+00,\n",
       "        -1.23232323e+00,  1.00000000e+00],\n",
       "       [ 1.00000000e+00, -1.69332546e+00,  1.42067136e+00,\n",
       "        -1.19191919e+00,  1.00000000e+00],\n",
       "       [ 1.00000000e+00, -1.52689429e+00,  1.32598714e+00,\n",
       "        -1.15151515e+00,  1.00000000e+00],\n",
       "       [ 1.00000000e+00, -1.37174211e+00,  1.23456790e+00,\n",
       "        -1.11111111e+00,  1.00000000e+00],\n",
       "       [ 1.00000000e+00, -1.22747318e+00,  1.14641363e+00,\n",
       "        -1.07070707e+00,  1.00000000e+00],\n",
       "       [ 1.00000000e+00, -1.09369174e+00,  1.06152433e+00,\n",
       "        -1.03030303e+00,  1.00000000e+00],\n",
       "       [ 1.00000000e+00, -9.70002030e-01,  9.79900010e-01,\n",
       "        -9.89898990e-01,  1.00000000e+00],\n",
       "       [ 1.00000000e+00, -8.56008303e-01,  9.01540659e-01,\n",
       "        -9.49494949e-01,  1.00000000e+00],\n",
       "       [ 1.00000000e+00, -7.51314801e-01,  8.26446281e-01,\n",
       "        -9.09090909e-01,  1.00000000e+00],\n",
       "       [ 1.00000000e+00, -6.55525771e-01,  7.54616876e-01,\n",
       "        -8.68686869e-01,  1.00000000e+00],\n",
       "       [ 1.00000000e+00, -5.68245458e-01,  6.86052444e-01,\n",
       "        -8.28282828e-01,  1.00000000e+00],\n",
       "       [ 1.00000000e+00, -4.89078109e-01,  6.20752984e-01,\n",
       "        -7.87878788e-01,  1.00000000e+00],\n",
       "       [ 1.00000000e+00, -4.17627968e-01,  5.58718498e-01,\n",
       "        -7.47474747e-01,  1.00000000e+00],\n",
       "       [ 1.00000000e+00, -3.53499282e-01,  4.99948985e-01,\n",
       "        -7.07070707e-01,  1.00000000e+00],\n",
       "       [ 1.00000000e+00, -2.96296296e-01,  4.44444444e-01,\n",
       "        -6.66666667e-01,  1.00000000e+00],\n",
       "       [ 1.00000000e+00, -2.45623256e-01,  3.92204877e-01,\n",
       "        -6.26262626e-01,  1.00000000e+00],\n",
       "       [ 1.00000000e+00, -2.01084408e-01,  3.43230283e-01,\n",
       "        -5.85858586e-01,  1.00000000e+00],\n",
       "       [ 1.00000000e+00, -1.62283997e-01,  2.97520661e-01,\n",
       "        -5.45454545e-01,  1.00000000e+00],\n",
       "       [ 1.00000000e+00, -1.28826269e-01,  2.55076013e-01,\n",
       "        -5.05050505e-01,  1.00000000e+00],\n",
       "       [ 1.00000000e+00, -1.00315470e-01,  2.15896337e-01,\n",
       "        -4.64646465e-01,  1.00000000e+00],\n",
       "       [ 1.00000000e+00, -7.63558450e-02,  1.79981635e-01,\n",
       "        -4.24242424e-01,  1.00000000e+00],\n",
       "       [ 1.00000000e+00, -5.65516403e-02,  1.47331905e-01,\n",
       "        -3.83838384e-01,  1.00000000e+00],\n",
       "       [ 1.00000000e+00, -4.05071014e-02,  1.17947148e-01,\n",
       "        -3.43434343e-01,  1.00000000e+00],\n",
       "       [ 1.00000000e+00, -2.78264741e-02,  9.18273646e-02,\n",
       "        -3.03030303e-01,  1.00000000e+00],\n",
       "       [ 1.00000000e+00, -1.81140040e-02,  6.89725538e-02,\n",
       "        -2.62626263e-01,  1.00000000e+00],\n",
       "       [ 1.00000000e+00, -1.09739369e-02,  4.93827160e-02,\n",
       "        -2.22222222e-01,  1.00000000e+00],\n",
       "       [ 1.00000000e+00, -6.01051841e-03,  3.30578512e-02,\n",
       "        -1.81818182e-01,  1.00000000e+00],\n",
       "       [ 1.00000000e+00, -2.82799426e-03,  1.99979594e-02,\n",
       "        -1.41414141e-01,  1.00000000e+00],\n",
       "       [ 1.00000000e+00, -1.03061015e-03,  1.02030405e-02,\n",
       "        -1.01010101e-01,  1.00000000e+00],\n",
       "       [ 1.00000000e+00, -2.22611793e-04,  3.67309458e-03,\n",
       "        -6.06060606e-02,  1.00000000e+00],\n",
       "       [ 1.00000000e+00, -8.24488122e-06,  4.08121620e-04,\n",
       "        -2.02020202e-02,  1.00000000e+00],\n",
       "       [ 1.00000000e+00,  8.24488122e-06,  4.08121620e-04,\n",
       "         2.02020202e-02,  1.00000000e+00],\n",
       "       [ 1.00000000e+00,  2.22611793e-04,  3.67309458e-03,\n",
       "         6.06060606e-02,  1.00000000e+00],\n",
       "       [ 1.00000000e+00,  1.03061015e-03,  1.02030405e-02,\n",
       "         1.01010101e-01,  1.00000000e+00],\n",
       "       [ 1.00000000e+00,  2.82799426e-03,  1.99979594e-02,\n",
       "         1.41414141e-01,  1.00000000e+00],\n",
       "       [ 1.00000000e+00,  6.01051841e-03,  3.30578512e-02,\n",
       "         1.81818182e-01,  1.00000000e+00],\n",
       "       [ 1.00000000e+00,  1.09739369e-02,  4.93827160e-02,\n",
       "         2.22222222e-01,  1.00000000e+00],\n",
       "       [ 1.00000000e+00,  1.81140040e-02,  6.89725538e-02,\n",
       "         2.62626263e-01,  1.00000000e+00],\n",
       "       [ 1.00000000e+00,  2.78264741e-02,  9.18273646e-02,\n",
       "         3.03030303e-01,  1.00000000e+00],\n",
       "       [ 1.00000000e+00,  4.05071014e-02,  1.17947148e-01,\n",
       "         3.43434343e-01,  1.00000000e+00],\n",
       "       [ 1.00000000e+00,  5.65516403e-02,  1.47331905e-01,\n",
       "         3.83838384e-01,  1.00000000e+00],\n",
       "       [ 1.00000000e+00,  7.63558450e-02,  1.79981635e-01,\n",
       "         4.24242424e-01,  1.00000000e+00],\n",
       "       [ 1.00000000e+00,  1.00315470e-01,  2.15896337e-01,\n",
       "         4.64646465e-01,  1.00000000e+00],\n",
       "       [ 1.00000000e+00,  1.28826269e-01,  2.55076013e-01,\n",
       "         5.05050505e-01,  1.00000000e+00],\n",
       "       [ 1.00000000e+00,  1.62283997e-01,  2.97520661e-01,\n",
       "         5.45454545e-01,  1.00000000e+00],\n",
       "       [ 1.00000000e+00,  2.01084408e-01,  3.43230283e-01,\n",
       "         5.85858586e-01,  1.00000000e+00],\n",
       "       [ 1.00000000e+00,  2.45623256e-01,  3.92204877e-01,\n",
       "         6.26262626e-01,  1.00000000e+00],\n",
       "       [ 1.00000000e+00,  2.96296296e-01,  4.44444444e-01,\n",
       "         6.66666667e-01,  1.00000000e+00],\n",
       "       [ 1.00000000e+00,  3.53499282e-01,  4.99948985e-01,\n",
       "         7.07070707e-01,  1.00000000e+00],\n",
       "       [ 1.00000000e+00,  4.17627968e-01,  5.58718498e-01,\n",
       "         7.47474747e-01,  1.00000000e+00],\n",
       "       [ 1.00000000e+00,  4.89078109e-01,  6.20752984e-01,\n",
       "         7.87878788e-01,  1.00000000e+00],\n",
       "       [ 1.00000000e+00,  5.68245458e-01,  6.86052444e-01,\n",
       "         8.28282828e-01,  1.00000000e+00],\n",
       "       [ 1.00000000e+00,  6.55525771e-01,  7.54616876e-01,\n",
       "         8.68686869e-01,  1.00000000e+00],\n",
       "       [ 1.00000000e+00,  7.51314801e-01,  8.26446281e-01,\n",
       "         9.09090909e-01,  1.00000000e+00],\n",
       "       [ 1.00000000e+00,  8.56008303e-01,  9.01540659e-01,\n",
       "         9.49494949e-01,  1.00000000e+00],\n",
       "       [ 1.00000000e+00,  9.70002030e-01,  9.79900010e-01,\n",
       "         9.89898990e-01,  1.00000000e+00],\n",
       "       [ 1.00000000e+00,  1.09369174e+00,  1.06152433e+00,\n",
       "         1.03030303e+00,  1.00000000e+00],\n",
       "       [ 1.00000000e+00,  1.22747318e+00,  1.14641363e+00,\n",
       "         1.07070707e+00,  1.00000000e+00],\n",
       "       [ 1.00000000e+00,  1.37174211e+00,  1.23456790e+00,\n",
       "         1.11111111e+00,  1.00000000e+00],\n",
       "       [ 1.00000000e+00,  1.52689429e+00,  1.32598714e+00,\n",
       "         1.15151515e+00,  1.00000000e+00],\n",
       "       [ 1.00000000e+00,  1.69332546e+00,  1.42067136e+00,\n",
       "         1.19191919e+00,  1.00000000e+00],\n",
       "       [ 1.00000000e+00,  1.87143138e+00,  1.51862055e+00,\n",
       "         1.23232323e+00,  1.00000000e+00],\n",
       "       [ 1.00000000e+00,  2.06160781e+00,  1.61983471e+00,\n",
       "         1.27272727e+00,  1.00000000e+00],\n",
       "       [ 1.00000000e+00,  2.26425050e+00,  1.72431385e+00,\n",
       "         1.31313131e+00,  1.00000000e+00],\n",
       "       [ 1.00000000e+00,  2.47975521e+00,  1.83205795e+00,\n",
       "         1.35353535e+00,  1.00000000e+00],\n",
       "       [ 1.00000000e+00,  2.70851768e+00,  1.94306703e+00,\n",
       "         1.39393939e+00,  1.00000000e+00],\n",
       "       [ 1.00000000e+00,  2.95093368e+00,  2.05734109e+00,\n",
       "         1.43434343e+00,  1.00000000e+00],\n",
       "       [ 1.00000000e+00,  3.20739896e+00,  2.17488011e+00,\n",
       "         1.47474747e+00,  1.00000000e+00],\n",
       "       [ 1.00000000e+00,  3.47830926e+00,  2.29568411e+00,\n",
       "         1.51515152e+00,  1.00000000e+00],\n",
       "       [ 1.00000000e+00,  3.76406036e+00,  2.41975309e+00,\n",
       "         1.55555556e+00,  1.00000000e+00],\n",
       "       [ 1.00000000e+00,  4.06504799e+00,  2.54708703e+00,\n",
       "         1.59595960e+00,  1.00000000e+00],\n",
       "       [ 1.00000000e+00,  4.38166792e+00,  2.67768595e+00,\n",
       "         1.63636364e+00,  1.00000000e+00],\n",
       "       [ 1.00000000e+00,  4.71431590e+00,  2.81154984e+00,\n",
       "         1.67676768e+00,  1.00000000e+00],\n",
       "       [ 1.00000000e+00,  5.06338768e+00,  2.94867871e+00,\n",
       "         1.71717172e+00,  1.00000000e+00],\n",
       "       [ 1.00000000e+00,  5.42927902e+00,  3.08907254e+00,\n",
       "         1.75757576e+00,  1.00000000e+00],\n",
       "       [ 1.00000000e+00,  5.81238567e+00,  3.23273135e+00,\n",
       "         1.79797980e+00,  1.00000000e+00],\n",
       "       [ 1.00000000e+00,  6.21310338e+00,  3.37965514e+00,\n",
       "         1.83838384e+00,  1.00000000e+00],\n",
       "       [ 1.00000000e+00,  6.63182792e+00,  3.52984389e+00,\n",
       "         1.87878788e+00,  1.00000000e+00],\n",
       "       [ 1.00000000e+00,  7.06895503e+00,  3.68329762e+00,\n",
       "         1.91919192e+00,  1.00000000e+00],\n",
       "       [ 1.00000000e+00,  7.52488047e+00,  3.84001632e+00,\n",
       "         1.95959596e+00,  1.00000000e+00],\n",
       "       [ 1.00000000e+00,  8.00000000e+00,  4.00000000e+00,\n",
       "         2.00000000e+00,  1.00000000e+00]])"
      ]
     },
     "execution_count": 43,
     "metadata": {},
     "output_type": "execute_result"
    }
   ],
   "source": [
    "## Definiendo el orden deseado si es un modelo polinomial\n",
    "orden = 3\n",
    "phi = (t**0)\n",
    "#Creación del vector phi\n",
    "for n in range(1,orden+1):\n",
    "    phi = np.concatenate((t**n, phi), axis=1)\n",
    "\n",
    "phi = np.concatenate((t**0, phi),axis=1)\n",
    "phi"
   ]
  },
  {
   "cell_type": "code",
   "execution_count": 51,
   "metadata": {},
   "outputs": [],
   "source": [
    "#Valor de regularización\n",
    "alpha = 0.01        \n",
    "A = np.dot(phi.T,phi)+alpha*np.eye(orden+2)\n",
    "p_estimado = np.dot(np.linalg.inv(A),np.dot(phi.T,yn))\n",
    "y_estimado = np.polyval(p_estimado,t)"
   ]
  },
  {
   "cell_type": "code",
   "execution_count": 52,
   "metadata": {
    "colab": {
     "base_uri": "https://localhost:8080/",
     "height": 265
    },
    "executionInfo": {
     "elapsed": 1002,
     "status": "ok",
     "timestamp": 1678814705205,
     "user": {
      "displayName": "Jean Pierre Diaz Paz",
      "userId": "17265394693514890050"
     },
     "user_tz": 300
    },
    "id": "GlyTye3XjRT4",
    "outputId": "8c751739-b47d-433b-954f-7f40353c50b7"
   },
   "outputs": [
    {
     "data": {
      "image/png": "[encoded data removed]",
      "text/plain": [
       "<Figure size 640x480 with 1 Axes>"
      ]
     },
     "metadata": {},
     "output_type": "display_data"
    }
   ],
   "source": [
    "plt.plot(t,y_estimado,color = 'black')\n",
    "plt.scatter(t,yn,color = 'red')\n",
    "plt.legend(['Modelo','Mediciones'])\n",
    "plt.grid()"
   ]
  },
  {
   "cell_type": "code",
   "execution_count": 53,
   "metadata": {
    "colab": {
     "base_uri": "https://localhost:8080/"
    },
    "executionInfo": {
     "elapsed": 276,
     "status": "ok",
     "timestamp": 1678814707636,
     "user": {
      "displayName": "Jean Pierre Diaz Paz",
      "userId": "17265394693514890050"
     },
     "user_tz": 300
    },
    "id": "Z_KcGayq24iP",
    "outputId": "75075bc9-b911-4ba8-a1f3-6ceb19ba7f12"
   },
   "outputs": [
    {
     "data": {
      "text/plain": [
       "('[1.35963777]t^3+[-4.39770962]t^2+[0.37850685]t^1+[2.54596809]t^0+',\n",
       " array([[11.51197488]]))"
      ]
     },
     "execution_count": 53,
     "metadata": {},
     "output_type": "execute_result"
    }
   ],
   "source": [
    "## Ecuación estimada \n",
    "cad = '';\n",
    "for n in range(0,orden+1):\n",
    "    cad = cad+str(p_estimado[n])+'t^'+str(orden-n)+'+'\n",
    "\n",
    "ECM = np.sqrt(np.dot((yn-y_estimado).T , (yn-y_estimado))/len(t))\n",
    "cad, ECM"
   ]
  },
  {
   "cell_type": "markdown",
   "metadata": {
    "id": "Ixexk_BPHC7R"
   },
   "source": []
  },
  {
   "cell_type": "code",
   "execution_count": null,
   "metadata": {},
   "outputs": [],
   "source": []
  }
 ],
 "metadata": {
  "colab": {
   "authorship_tag": "ABX9TyOqj8gU3Ui0eyjgNWnrQU1e",
   "provenance": []
  },
  "kernelspec": {
   "display_name": "Python 3 (ipykernel)",
   "language": "python",
   "name": "python3"
  },
  "language_info": {
   "codemirror_mode": {
    "name": "ipython",
    "version": 3
   },
   "file_extension": ".py",
   "mimetype": "text/x-python",
   "name": "python",
   "nbconvert_exporter": "python",
   "pygments_lexer": "ipython3",
   "version": "3.10.9"
  }
 },
 "nbformat": 4,
 "nbformat_minor": 1
}
