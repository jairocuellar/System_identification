{
 "cells": [
  {
   "cell_type": "code",
   "execution_count": 10,
   "metadata": {
    "executionInfo": {
     "elapsed": 334,
     "status": "ok",
     "timestamp": 1678811834661,
     "user": {
      "displayName": "Jean Pierre Diaz Paz",
      "userId": "17265394693514890050"
     },
     "user_tz": 300
    },
    "id": "lfTqTJQNfdvg"
   },
   "outputs": [],
   "source": [
    "import sympy as sym\n",
    "import numpy as np\n",
    "import matplotlib.pyplot as plt\n",
    "import pandas as pd"
   ]
  },
  {
   "cell_type": "markdown",
   "metadata": {},
   "source": [
    "## Mínimos con regularización\n",
    "\n",
    "Garantizando que la matríz $\\tilde\\phi^T.\\tilde\\phi$ tenga inversa, se procura incluir un parámetro alpha de valor muy pequeño $0<\\alpha<1$ de tal forma que los autovalores de esta matriz no sean cero. Por tanto:\n",
    "\n",
    "$$\\theta_{WLS} = \\tilde{\\phi^+}.\\tilde{y_N}$$\n",
    "\n",
    "Se reescribe así:\n",
    "\n",
    "$$\\theta_{WLS} = (\\tilde{\\phi^T}.\\tilde{\\phi}+\\alpha.I)^-1.\\tilde{\\phi}^T.y_N$$\n"
   ]
  },
  {
   "cell_type": "code",
   "execution_count": 11,
   "metadata": {
    "executionInfo": {
     "elapsed": 294,
     "status": "ok",
     "timestamp": 1678814703847,
     "user": {
      "displayName": "Jean Pierre Diaz Paz",
      "userId": "17265394693514890050"
     },
     "user_tz": 300
    },
    "id": "7mXIwiI6fmzW"
   },
   "outputs": [
    {
     "data": {
      "text/plain": [
       "(100, 6)"
      ]
     },
     "execution_count": 11,
     "metadata": {},
     "output_type": "execute_result"
    }
   ],
   "source": [
    "## Generando los valores medidos a partir \n",
    "## de un valor ideal contaminado por ruido\n",
    "t = np.linspace([0],[20],100)\n",
    "pol = [2, 1,-2, 3 , 1]\n",
    "#y = np.polyval(pol, t) \n",
    "\n",
    "#y = np.sin(t-5) \n",
    "y = 20*(1-np.exp(-2*t))\n",
    "r = 0.1\n",
    "yn = y + np.random.normal(0,r,t.shape)\n",
    "\n",
    "## Definiendo el orden deseado si es un modelo polinomial\n",
    "orden = 5\n",
    "phi = (t**0)\n",
    "## Creación del vector phi\n",
    "for n in range(1,orden+1):\n",
    "    phi = np.concatenate((t**n, phi), axis=1)\n",
    "np.shape(phi)"
   ]
  },
  {
   "cell_type": "code",
   "execution_count": 12,
   "metadata": {
    "colab": {
     "base_uri": "https://localhost:8080/",
     "height": 265
    },
    "executionInfo": {
     "elapsed": 1002,
     "status": "ok",
     "timestamp": 1678814705205,
     "user": {
      "displayName": "Jean Pierre Diaz Paz",
      "userId": "17265394693514890050"
     },
     "user_tz": 300
    },
    "id": "GlyTye3XjRT4",
    "outputId": "8c751739-b47d-433b-954f-7f40353c50b7"
   },
   "outputs": [
    {
     "data": {
      "image/png": "[encoded data removed]",
      "text/plain": [
       "<Figure size 640x480 with 1 Axes>"
      ]
     },
     "metadata": {},
     "output_type": "display_data"
    }
   ],
   "source": [
    "alpha = 0             #Valor de regularización\n",
    "A = np.dot(phi.T,phi)+alpha*np.eye(orden+1)\n",
    "p_estimado = np.dot(np.linalg.inv(A),np.dot(phi.T,yn))\n",
    "y_estimado = np.polyval(p_estimado,t)\n",
    "plt.plot(t,y_estimado,color = 'black')\n",
    "plt.scatter(t,yn,color = 'red')\n",
    "plt.legend(['Modelo','Mediciones'])\n",
    "plt.grid()"
   ]
  },
  {
   "cell_type": "code",
   "execution_count": 13,
   "metadata": {
    "colab": {
     "base_uri": "https://localhost:8080/"
    },
    "executionInfo": {
     "elapsed": 276,
     "status": "ok",
     "timestamp": 1678814707636,
     "user": {
      "displayName": "Jean Pierre Diaz Paz",
      "userId": "17265394693514890050"
     },
     "user_tz": 300
    },
    "id": "Z_KcGayq24iP",
    "outputId": "75075bc9-b911-4ba8-a1f3-6ceb19ba7f12"
   },
   "outputs": [
    {
     "data": {
      "text/plain": [
       "('[0.00022865]t^0+[-0.01280492]t^1+[0.26518152]t^2+[-2.47740832]t^3+[10.05382949]t^4+[6.67637942]t^5+',\n",
       " array([[0.10631775]]))"
      ]
     },
     "execution_count": 13,
     "metadata": {},
     "output_type": "execute_result"
    }
   ],
   "source": [
    "## Ecuación estimada \n",
    "cad = '';\n",
    "for n in range(0,orden+1):\n",
    "    cad = cad+str(p_estimado[n])+'t^'+str(n)+'+'\n",
    "\n",
    "RECM = np.sqrt(np.dot((yn-y_estimado).T , (yn-y_estimado)))/len(t)\n",
    "cad, RECM"
   ]
  },
  {
   "cell_type": "markdown",
   "metadata": {
    "id": "Ixexk_BPHC7R"
   },
   "source": []
  }
 ],
 "metadata": {
  "colab": {
   "authorship_tag": "ABX9TyOqj8gU3Ui0eyjgNWnrQU1e",
   "provenance": []
  },
  "kernelspec": {
   "display_name": "Python 3 (ipykernel)",
   "language": "python",
   "name": "python3"
  },
  "language_info": {
   "codemirror_mode": {
    "name": "ipython",
    "version": 3
   },
   "file_extension": ".py",
   "mimetype": "text/x-python",
   "name": "python",
   "nbconvert_exporter": "python",
   "pygments_lexer": "ipython3",
   "version": "3.10.9"
  }
 },
 "nbformat": 4,
 "nbformat_minor": 1
}
