{
 "cells": [
  {
   "cell_type": "markdown",
   "id": "1e0682a7",
   "metadata": {},
   "source": [
    "# IDENTIFICACIÓN DE SISTEMAS\n",
    "\n",
    "Profesor: Jairo Alberto Cuéllar Guarnizo  \n",
    "Programa: Ingeniería en Automatización y Control"
   ]
  },
  {
   "cell_type": "code",
   "execution_count": 1,
   "id": "59f44449",
   "metadata": {},
   "outputs": [],
   "source": [
    "from sympy import MatrixSymbol, Matrix, Identity\n",
    "\n",
    "import sympy as sym\n",
    "import pandas as pd\n",
    "\n",
    "sym.init_printing()\n",
    "%matplotlib inline\n",
    "\n",
    "import pandas as pd\n",
    "import numpy as np\n",
    "import matplotlib.pyplot as plt\n",
    "import seaborn as sns\n",
    "import control\n",
    "import random"
   ]
  },
  {
   "cell_type": "markdown",
   "id": "56eb0f3c",
   "metadata": {},
   "source": [
    "# Métodos paramétricos de estimación\n",
    "\n",
    "## Estimación Lineal por mínimos cuadráticos (LS) - Resumen\n",
    "\n",
    "Para el siguiente modelo lineal:\n",
    "\n",
    "$$\\hat{y[k]} = \\phi[k]^T\\theta + \\varepsilon[k]$$\n",
    "\n",
    "Inicialmente consideremos el error como 0, por tanto el modelo se reduce a $\\hat{y[k]} = \\phi[k]^T\\theta$. La idea de LS es minimizar el valor de error entre las mediciones $y[k]$ y los valores estimados $\\theta$ elevados al cuadrado, por tanto la función de costo a minimizar sería:\n",
    "\n",
    "$$f(\\theta_{LS}) = (y - \\phi\\theta)^2$$\n",
    "\n",
    "En la sección anterior se llegó a la conclusión que el vector de parámetros estimados es equivalente a:\n",
    "\n",
    "$$\\theta = [\\phi^T.\\phi]^{-1}.\\phi^T.y$$\n",
    "\n",
    "$$\\theta_{LS} = \\phi^+.y$$"
   ]
  },
  {
   "cell_type": "markdown",
   "id": "9b6845a2",
   "metadata": {},
   "source": [
    "## Estimación Lineal por mínimos cuadráticos con pesos (WLS)\n",
    "\n",
    "Considerando que la señal del error es de media cero, pero que contiene varianzas distintas, se podría evaluar la siguiente función de costos, que considera para cada medición se divida en la varianza de dicha medición. Por tanto la función de costo no tendría unidades:\n",
    "\n",
    "$$f_{WLS}(\\theta) = \\sum_{k=1}^{N}\\frac{(y[k]-\\phi^T.\\theta)^2}{\\sigma_{\\epsilon}[k]^2}$$\n",
    "\n",
    "En este caso, se puede introducir una matriz de pesos, denominada W y que estaría dada por la siguiente relación:\n",
    "\n",
    "$$W = \\begin{bmatrix}\\sigma_{\\epsilon}[1]^{-2}& & \\\\ & ... & \\\\ & &\\sigma_{\\epsilon}[N]^{-2}\\end{bmatrix}$$\n",
    "\n",
    "Se podría reescribir la función de costo de forma vectorial así:\n",
    "\n",
    "$$f_{WLS}(\\theta) = |y-\\phi.\\theta|^2.W$$\n",
    "\n",
    "$$f_{WLS}(\\theta) = (y-\\phi.\\theta)^T.W.(y-\\phi.\\theta)$$\n",
    "\n",
    "Calculando el gradiente en función de teta y despejando el estimador se obtiene la siguiente relación:\n",
    "\n",
    "$$\\theta_{WLS} = (\\phi^T.W.\\phi)^{-1}.\\phi^T.W.y$$\n",
    "\n",
    "Otra forma de obtener el vector de los parámetros estimados es introducir la matriz $W^{1/2}$, que es equivalente a la raiz cuadrada de la matriz de pesos W.\n",
    "\n",
    "$$W^{1/2} = \\begin{bmatrix}\\sigma_{\\epsilon}[1]^{-1}& & \\\\ & ... & \\\\ & &\\sigma_{\\epsilon}[N]^{-1}\\end{bmatrix}$$\n",
    "\n",
    "Tal que: $W = W^{1/2}.W^{1/2}$\n",
    "\n",
    "Sustituyendo en la función de costo se tiene lo siguiente:\n",
    "\n",
    "$$f_{WLS}(\\theta) = |W^{1/2}.(y-\\phi.\\theta)|^2 = |W^{1/2}.y-W^{1/2}.\\phi.\\theta)|^2 $$\n",
    "\n",
    "Se introducen dos nuevos vectores como se indica a continuación para el vector normalizados de regresión y para los valores medidos normalizados:\n",
    "\n",
    "$$\\tilde{y} = W^{1/2}.y$$\n",
    "\n",
    "$$\\tilde{\\phi} = W^{1/2}.\\phi$$\n",
    "\n",
    "Aplicando los criterios de optimalidad a esta función de costo (Calcular gradiente en función de $\\theta$, despejando el estimador y teniendo en cuenta las 2 relaciones anteriores se podría indicar que el vector de parámetros estimados daría:\n",
    "\n",
    "$$\\theta_{WLS} = [\\tilde{\\phi}^T.\\tilde{\\phi}]^{-1}.\\tilde{\\phi}^T.\\tilde{y}$$\n",
    "\n",
    "$$\\theta_{WLS} = \\tilde{\\phi}^+.\\tilde{y}$$\n",
    "\n",
    "Así que un problema de mínimos cuadrados con pesos, es solo un problema de mínimos cuadrados escalando la matriz de regresión y los valores medidos por la matriz $W^{1/2}$."
   ]
  },
  {
   "cell_type": "markdown",
   "id": "bdb4539f",
   "metadata": {},
   "source": [
    "## Ejemplo 1:\n",
    "\n",
    "Se espera poder determinar los parámetros de datos obtenidos de la siguiente relación lineal original: $y = -6 + 2x$. Además, se tiene un vector de mediciones de longitud 5, dado por la siguiente relación:\n",
    "$$y[k] = \\begin{bmatrix}y[1]\\\\y[2]\\\\...\\\\y[N]\\end{bmatrix}=\\begin{bmatrix}-5.996\\\\-4.008\\\\-1.997\\\\-0.009 \\\\ 2.009\\end{bmatrix}$$.\n",
    "\n",
    "Este vector ha sido contaminado por ruido y contiene error. Considere a su vez que x va de 0 a 4."
   ]
  },
  {
   "cell_type": "code",
   "execution_count": 12,
   "id": "6ea6fde5",
   "metadata": {},
   "outputs": [
    {
     "data": {
      "text/plain": [
       "<matplotlib.collections.PathCollection at 0x1e6507691e0>"
      ]
     },
     "execution_count": 12,
     "metadata": {},
     "output_type": "execute_result"
    },
    {
     "data": {
      "image/png": "[encoded data removed]",
      "text/plain": [
       "<Figure size 800x400 with 1 Axes>"
      ]
     },
     "metadata": {},
     "output_type": "display_data"
    }
   ],
   "source": [
    "#Valores de x = 0, 1, 2, 3, 4\n",
    "N = 6\n",
    "x = np.linspace(0,5,N,dtype = \"int\")\n",
    "\n",
    "#Valores medidos con un error y\n",
    "y_v = np.array([-6,-4,-2,0,2,4])\n",
    "y = np.array([-5.996,-3.9,-1.997,0.04,-15.9,3.98])\n",
    "plt.figure(figsize=(8,4))\n",
    "plt.scatter(x,y)"
   ]
  },
  {
   "cell_type": "markdown",
   "id": "b2bf0c58",
   "metadata": {},
   "source": [
    "La matriz de regresión, al ser un modelo lineal estaría dada por: $\\phi = \\begin{bmatrix}1 & x[1]\\\\1 & x[2]\\\\1 & x[3]\\\\1 & x[4]\\\\1 & x[5]\\end{bmatrix}$. \n",
    "\n",
    "Y se debe considerar las covarianzas dadas por:\n",
    "\n",
    "$W = \\begin{bmatrix}0.063^{-2}&0&0&0&0\\\\0&0.062^{-2}&0&0&0\\\\0&0&0.25^{-2}&0&0\\\\0&0&0&12345^{-2}&0\\\\0&0&0&0&0.248^{-2}\\end{bmatrix}$"
   ]
  },
  {
   "cell_type": "code",
   "execution_count": 21,
   "id": "b14a62c1",
   "metadata": {},
   "outputs": [
    {
     "data": {
      "text/plain": [
       "array([[1.e+00, 0.e+00, 0.e+00, 0.e+00, 0.e+00, 0.e+00],\n",
       "       [0.e+00, 1.e+00, 0.e+00, 0.e+00, 0.e+00, 0.e+00],\n",
       "       [0.e+00, 0.e+00, 1.e+00, 0.e+00, 0.e+00, 0.e+00],\n",
       "       [0.e+00, 0.e+00, 0.e+00, 1.e+00, 0.e+00, 0.e+00],\n",
       "       [0.e+00, 0.e+00, 0.e+00, 0.e+00, 1.e-04, 0.e+00],\n",
       "       [0.e+00, 0.e+00, 0.e+00, 0.e+00, 0.e+00, 1.e+00]])"
      ]
     },
     "execution_count": 21,
     "metadata": {},
     "output_type": "execute_result"
    }
   ],
   "source": [
    "# La matriz de regresión considerando el modelo definido\n",
    "ones = np.ones(N)\n",
    "phi = np.array([ones,x]).transpose()\n",
    "\n",
    "# Varianzas para cada yk\n",
    "var = np.empty(N)\n",
    "for k in range(N):\n",
    "    val = (y[k]-y.std())**2/N;\n",
    "    var[k] = 1/val;\n",
    "    \n",
    "_var = var**0.5\n",
    "## Matriz de pesos (Covarianzas)\n",
    "W = np.eye(N)*var\n",
    "_W = np.eye(N)*_var\n",
    "W\n",
    "## Intentar encontrar una versión mejor de W donde los pesos de los datos atípicos sean pequeños\n",
    "\n",
    "\n",
    "## SIN PESOS\n",
    "_W = np.eye(N)\n",
    "_W[4][4] = 0.0001\n",
    "\n",
    "_W"
   ]
  },
  {
   "cell_type": "markdown",
   "id": "d4de5996",
   "metadata": {},
   "source": [
    "Se debe calcular los vectores normalizados \n",
    "$$\\tilde{y} = W^{1/2}.y$$\n",
    "\n",
    "$$\\tilde{\\phi} = W^{1/2}.\\phi$$"
   ]
  },
  {
   "cell_type": "code",
   "execution_count": 22,
   "id": "07f0de16",
   "metadata": {},
   "outputs": [
    {
     "data": {
      "text/plain": [
       "(array([-5.996e+00, -3.900e+00, -1.997e+00,  4.000e-02, -1.590e-03,\n",
       "         3.980e+00]),\n",
       " array([[1.e+00, 0.e+00],\n",
       "        [1.e+00, 1.e+00],\n",
       "        [1.e+00, 2.e+00],\n",
       "        [1.e+00, 3.e+00],\n",
       "        [1.e-04, 4.e-04],\n",
       "        [1.e+00, 5.e+00]]))"
      ]
     },
     "execution_count": 22,
     "metadata": {},
     "output_type": "execute_result"
    }
   ],
   "source": [
    "## Vectores \"y\" y \"phi\" Normalizados usando W\n",
    "_y = np.dot(_W,y)\n",
    "_phi = np.dot(_W,phi)\n",
    "_y,      _phi"
   ]
  },
  {
   "cell_type": "code",
   "execution_count": 23,
   "id": "2450b8a3",
   "metadata": {},
   "outputs": [
    {
     "data": {
      "text/plain": [
       "array([-5.95179729,  1.98963511])"
      ]
     },
     "execution_count": 23,
     "metadata": {},
     "output_type": "execute_result"
    }
   ],
   "source": [
    "## Calculando los estimados THETA\n",
    "phi_pr = np.dot(_phi.transpose(),_phi)\n",
    "A = np.linalg.inv(phi_pr)\n",
    "B = np.dot(_phi.transpose(),_y)\n",
    "\n",
    "## Vector de parámetros estimados\n",
    "theta = np.dot(A,B)\n",
    "theta"
   ]
  },
  {
   "cell_type": "code",
   "execution_count": 24,
   "id": "2dd82c82",
   "metadata": {},
   "outputs": [
    {
     "data": {
      "image/png": "[encoded data removed]",
      "text/plain": [
       "<Figure size 800x400 with 1 Axes>"
      ]
     },
     "metadata": {},
     "output_type": "display_data"
    }
   ],
   "source": [
    "##  Estimación vs Medición\n",
    "y_e = theta[0] + theta[1]*x\n",
    "\n",
    "plt.figure(figsize=(8,4))\n",
    "plt.scatter(x,y)\n",
    "plt.plot(x,y_e, color = 'green')\n",
    "\n",
    "plt.legend([\"Medición\",\"Estimado\"])\n",
    "plt.grid()"
   ]
  },
  {
   "cell_type": "markdown",
   "id": "bfcb9946",
   "metadata": {},
   "source": [
    "## Regularización de mínimos cuadráticos:\n",
    "\n",
    "Un problema mal planteado de mínimos cuadrados puede originarse en el momento que la matriz MorePenrose no es invertible, o que la inversa de $[\\tilde{\\phi}^T.\\tilde{\\phi}]$ no existe. La regularización del problema restringe un poco más la solución del vector de parámetros estimados y plantea una posible solución de norma mínima. Depende de la escogencia de valores apropiados, pero el problema a resolver sería el siguiente:\n",
    "\n",
    "$$f(\\theta_{LS}) = \\frac{1}{2}|y - \\phi\\theta|^2+ \\frac{\\alpha}{2}|\\theta|^2$$\n"
   ]
  },
  {
   "cell_type": "markdown",
   "id": "ef31a153",
   "metadata": {},
   "source": [
    "Minimizando la función objetivo e igualando a cero el gradiente:\n",
    "\n",
    "$$\\bigtriangledown f[\\theta_{LS}] = -\\phi^T.y + \\phi^T.\\phi.\\theta + \\alpha.\\theta = 0$$\n",
    "\n",
    "Despejando el valor de los parámetros:\n",
    "\n",
    "$$\\theta_{LS} = (\\phi^T.\\phi+\\alpha.I)^{-1}.\\phi^T.y$$\n",
    "\n",
    "Recordar que para este caso, el vector $\\phi$ hace referencia al vector de estimación y a las mediciones afectadas por los pesos en la sección anterior. Si se hace $\\alpha = 0$ la expresión queda idéntica a la de mínimos cuadrados con pesos."
   ]
  },
  {
   "cell_type": "markdown",
   "id": "3ac1226e",
   "metadata": {},
   "source": [
    "## [Ejercicio en Clase 3](ejercicio_03_LS_polinomio.ipynb)"
   ]
  },
  {
   "cell_type": "code",
   "execution_count": null,
   "id": "1e9f6328",
   "metadata": {},
   "outputs": [],
   "source": []
  }
 ],
 "metadata": {
  "kernelspec": {
   "display_name": "Python 3 (ipykernel)",
   "language": "python",
   "name": "python3"
  },
  "language_info": {
   "codemirror_mode": {
    "name": "ipython",
    "version": 3
   },
   "file_extension": ".py",
   "mimetype": "text/x-python",
   "name": "python",
   "nbconvert_exporter": "python",
   "pygments_lexer": "ipython3",
   "version": "3.10.9"
  }
 },
 "nbformat": 4,
 "nbformat_minor": 5
}
