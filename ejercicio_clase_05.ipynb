{
 "cells": [
  {
   "cell_type": "markdown",
   "id": "2ea66398",
   "metadata": {},
   "source": [
    "# IDENTIFICACION DE SISTEMAS - Ejercicio 5\n",
    "\n",
    "Profesor: Jairo Alberto Cuéllar Guarnizo  \n",
    "Programa: Ingeniería en Automatización y Control"
   ]
  },
  {
   "cell_type": "markdown",
   "id": "f02dbf76",
   "metadata": {},
   "source": [
    "# Elaborado por:\n",
    "\n",
    "* Nombre 1, apellido 1\n",
    "* Nombre 2, apellido 2"
   ]
  },
  {
   "cell_type": "markdown",
   "id": "bea6436d",
   "metadata": {},
   "source": [
    "# Ejercicio 5 - Polinomios Autoregresivos\n",
    "\n",
    "## Descripción del ejercicio:\n",
    "\n",
    "Se tienen datos experimentales de mediciones realizadas a 3 procesos diferentes, los datos obtenidos son:\n",
    "\n",
    "Datos planta 1:\n",
    "\n",
    "![punto_1](figuras/00_punto_01.png)\n",
    "\n",
    "Datos planta 2:\n",
    "\n",
    "![punto_2](figuras/00_punto_02.png)\n",
    "\n",
    "Datos planta 3:\n",
    "\n",
    "![punto_3](figuras/00_punto_03.png)"
   ]
  },
  {
   "cell_type": "markdown",
   "id": "dd14bcb3",
   "metadata": {},
   "source": [
    "## Procedimiento:\n",
    "\n",
    "Selecciones 2 tablas de las anteriores y realice cada uno de los siguientes pasos:\n",
    "\n",
    "1. Obtener un modelo ARX estimado usando los polinomios autoregresivos (A, B).\n",
    "2. Basado en los resultados anteriores, obtener un modelo ARMAX estimado usando los polinomios autoregresivos (A, B y C).\n",
    "3. Escriba manualmente la matriz de regresión propuesta por cada estimación. Recuerde que del número de columnas del regresor propuesto será la longitud de los parámetros de los polinomios autoregresivos (A, B, C).\n",
    "4. Calcule los valores estimados de $\\theta$ manualmente para cada estimación (ARX y ARMAX). Para el cálculo utilice la fórmula optimizada por mínimos cuadrados regularizados, incluya una breve argumentación sobre el valor de $\\alpha$ utilizado.\n",
    "\n",
    "$$\\theta_{RLS} = (\\phi^T\\phi + \\alpha I)^{-1}\\phi^Ty$$\n",
    "$$\\theta_{RLS} = \\phi^+y$$\n",
    "\n",
    "5. No usar Jupyter ni phyton para los cálculos, solo utilizar para obtener la respuesta de la función de transferencia estimada. Compare con los datos dados (mediciones).\n",
    "\n",
    "6. Calcule el error final entre la estimación ARMAX y los datos medidos originalmente. Recuerde que:\n",
    "\n",
    "$$ECM = \\frac{(y - y_e)^T(y - y_e)}{N}$$\n",
    "\n",
    "7. Elabore sus conclusiones acerca del resultado obtenido, compare el grado de dificultad de hacer las cosas a mano vs realizarlas computacionalmente.\n",
    "\n",
    "8. Finalmente realice la entrega de un documento en formato PDF que contenga el paso a paso del cálculo de los parámetros estimados, así como el pantallazo de la gráfica final que incluya los datos medidos, la respuesta estimada y el error final."
   ]
  },
  {
   "cell_type": "code",
   "execution_count": null,
   "id": "8f968107",
   "metadata": {},
   "outputs": [],
   "source": []
  }
 ],
 "metadata": {
  "kernelspec": {
   "display_name": "Python 3 (ipykernel)",
   "language": "python",
   "name": "python3"
  },
  "language_info": {
   "codemirror_mode": {
    "name": "ipython",
    "version": 3
   },
   "file_extension": ".py",
   "mimetype": "text/x-python",
   "name": "python",
   "nbconvert_exporter": "python",
   "pygments_lexer": "ipython3",
   "version": "3.10.9"
  }
 },
 "nbformat": 4,
 "nbformat_minor": 5
}
