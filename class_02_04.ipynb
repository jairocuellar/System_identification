{
 "cells": [
  {
   "cell_type": "code",
   "execution_count": 2,
   "id": "d608ba40",
   "metadata": {},
   "outputs": [],
   "source": [
    "from sympy import MatrixSymbol, Matrix, Identity\n",
    "\n",
    "import sympy as sym\n",
    "import pandas as pd\n",
    "import math\n",
    "\n",
    "sym.init_printing()\n",
    "%matplotlib inline\n",
    "\n",
    "import numpy as np\n",
    "import matplotlib.pyplot as plt\n",
    "import seaborn as sns\n",
    "import control\n",
    "import random"
   ]
  },
  {
   "cell_type": "markdown",
   "id": "1e0682a7",
   "metadata": {},
   "source": [
    "# IDENTIFICACIÓN DE SISTEMAS\n",
    "\n",
    "Profesor: Jairo Alberto Cuéllar Guarnizo  \n",
    "Programa: Ingeniería en Automatización y Control"
   ]
  },
  {
   "cell_type": "markdown",
   "id": "55b7828f",
   "metadata": {
    "scrolled": true
   },
   "source": [
    "## Ejemplo 2 - Sistemas de segundo orden\n",
    "\n",
    "Se realizó el montaje de la simulación de un filtro de segundo orden y se capturaron los datos de salida. Se debe realizar el proceso de identificación y obtención de la función de transferencia a partir del método de análisis de la curva de reacción."
   ]
  },
  {
   "cell_type": "code",
   "execution_count": 12,
   "id": "a8aab1fa",
   "metadata": {},
   "outputs": [
    {
     "data": {
      "text/plain": [
       "[<matplotlib.lines.Line2D at 0x1b8286853f0>]"
      ]
     },
     "execution_count": 12,
     "metadata": {},
     "output_type": "execute_result"
    },
    {
     "data": {
      "image/png": "[encoded data removed]",
      "text/plain": [
       "<Figure size 640x480 with 1 Axes>"
      ]
     },
     "metadata": {},
     "output_type": "display_data"
    }
   ],
   "source": [
    "## Se cargan los datos que están en un archivo separado por comas.\n",
    "## Se obtuvieron de una simulación en MULTISIM de un filtro paso bajos de orden 2 (como el de la tarea)\n",
    "datos = pd.read_csv('data\\low2.csv')\n",
    "\n",
    "y = datos.y;\n",
    "u = datos.u;\n",
    "t = datos.t1;\n",
    "N = len(y);\n",
    "\n",
    "## Como es una simulación de un circuito la señal no contiene ruido, por tanto la contaminamos.\n",
    "r = 0.01\n",
    "e = np.random.normal(0,r,size=N)\n",
    "yn = y+e\n",
    "plt.plot(t,y,color = 'red')\n"
   ]
  },
  {
   "cell_type": "markdown",
   "id": "2e0c79ab",
   "metadata": {},
   "source": [
    "## Experimento de identificación\n",
    "\n",
    "**Paso 1:** Determinar el porcentaje de sobrepaso para para calcular el índice de amortiguamiento del sistema. En este caso se debe \"observar\" el valor final de establecimiento del sistema."
   ]
  },
  {
   "cell_type": "code",
   "execution_count": 6,
   "id": "5b4f4fd0",
   "metadata": {},
   "outputs": [
    {
     "data": {
      "image/png": "[encoded data removed]",
      "text/latex": [
       "$\\displaystyle 0.0077405859877965$"
      ],
      "text/plain": [
       "0.0077405859877965"
      ]
     },
     "execution_count": 6,
     "metadata": {},
     "output_type": "execute_result"
    }
   ],
   "source": [
    "## El porcentaje de sobrepaso (overshot) y el tiempo del pico\n",
    "\n",
    "## Valor observado de la gráfica de la respuesta.\n",
    "Kf = 0.2\n",
    "############\n",
    "\n",
    "###### Valor máximo alcanzado por la respuesta y Valor del sobrepaso\n",
    "Kmax = np.max(yn)\n",
    "os = ((Kmax - Kf)/Kf)\n",
    "############\n",
    "\n",
    "## Calculando el tiempo de pico\n",
    "for i in range(len(yn)):\n",
    "    if(yn[i]==Kmax):\n",
    "        tp = t[i]\n",
    "        break\n",
    "tp"
   ]
  },
  {
   "cell_type": "markdown",
   "id": "deccacb2",
   "metadata": {},
   "source": [
    "**Paso 2:** Calcular el valor aproximado de zeta ($\\zeta$) para el sistema."
   ]
  },
  {
   "cell_type": "code",
   "execution_count": 7,
   "id": "800a5948",
   "metadata": {},
   "outputs": [
    {
     "data": {
      "image/png": "[encoded data removed]",
      "text/latex": [
       "$\\displaystyle 0.419247295125016$"
      ],
      "text/plain": [
       "0.4192472951250162"
      ]
     },
     "execution_count": 7,
     "metadata": {},
     "output_type": "execute_result"
    }
   ],
   "source": [
    "## Determinando el índice de amortiguamiento\n",
    "pi = math.pi\n",
    "ze = -math.log(os)/math.sqrt(pi*pi+math.log(os)*math.log(os))\n",
    "ze"
   ]
  },
  {
   "cell_type": "markdown",
   "id": "152f2cbe",
   "metadata": {},
   "source": [
    "**Paso 3:** Calculando la frecuencia natural del sistema"
   ]
  },
  {
   "cell_type": "code",
   "execution_count": 8,
   "id": "1c1dab1d",
   "metadata": {},
   "outputs": [
    {
     "data": {
      "image/png": "[encoded data removed]",
      "text/latex": [
       "$\\displaystyle 447.045137097536$"
      ],
      "text/plain": [
       "447.04513709753553"
      ]
     },
     "execution_count": 8,
     "metadata": {},
     "output_type": "execute_result"
    }
   ],
   "source": [
    "## Determinando el valor de wn a partir del tp y de zeta\n",
    "we = pi/(tp*math.sqrt(1-ze*ze))\n",
    "we"
   ]
  },
  {
   "cell_type": "code",
   "execution_count": 9,
   "id": "f3680ad2",
   "metadata": {},
   "outputs": [
    {
     "data": {
      "image/png": "[encoded data removed]",
      "text/latex": [
       "$\\displaystyle 0.0213421587966856$"
      ],
      "text/plain": [
       "0.021342158796685627"
      ]
     },
     "execution_count": 9,
     "metadata": {},
     "output_type": "execute_result"
    }
   ],
   "source": [
    "## Calculando el tiempo de establecimiento y \n",
    "ts = 4/(ze*we)\n",
    "ts"
   ]
  },
  {
   "cell_type": "code",
   "execution_count": 10,
   "id": "bd2338fd",
   "metadata": {},
   "outputs": [
    {
     "name": "stdout",
     "output_type": "stream",
     "text": [
      "0.19933243446478519\n"
     ]
    }
   ],
   "source": [
    "## determinando el valor aproximado del valor final\n",
    "## Calculando el valor final utilizando el tiempo de establecimiento\n",
    "Kf = 0\n",
    "i2 = 0;\n",
    "\n",
    "for j in range(N):\n",
    "    if(t[j]>ts):\n",
    "        Kf = Kf+yn[j]\n",
    "        i2 = i2+1\n",
    "\n",
    "Kf = Kf/i2\n",
    "print(Kf)"
   ]
  },
  {
   "cell_type": "markdown",
   "id": "7151d832",
   "metadata": {},
   "source": [
    "**Paso 4:** Armando la función de transferencia de segundo orden."
   ]
  },
  {
   "cell_type": "code",
   "execution_count": 11,
   "id": "1b52853c",
   "metadata": {},
   "outputs": [
    {
     "data": {
      "image/png": "[encoded data removed]",
      "text/plain": [
       "<Figure size 640x480 with 1 Axes>"
      ]
     },
     "metadata": {},
     "output_type": "display_data"
    }
   ],
   "source": [
    "## Armando la función de transferencia aproximada:\n",
    "ge = control.tf([Kf*we*we],[1,2*ze*we,we*we])\n",
    "\n",
    "## Calculando vector tiempo para la estimación\n",
    "tf = 0.03\n",
    "te = np.linspace(0,tf,N)\n",
    "\n",
    "## Calculando la respuesta al escalón\n",
    "_,ye = control.step_response(ge,te)\n",
    "plt.plot(t,yn,color = 'black')\n",
    "plt.plot(te,ye,color = 'red')\n",
    "plt.legend(['Salida medida','Salida estimada'])\n",
    "e = yn - ye\n",
    "#plt.plot(t,e,color = 'blue')\n"
   ]
  },
  {
   "cell_type": "code",
   "execution_count": 27,
   "id": "3a8f4df1",
   "metadata": {},
   "outputs": [
    {
     "data": {
      "text/latex": [
       "$$\\frac{2.671 \\times 10^{4}}{s^2 + 305.4 s + 1.324 \\times 10^{5}}$$"
      ],
      "text/plain": [
       "TransferFunction(array([26708.90504804]), array([1.00000000e+00, 3.05388438e+02, 1.32430709e+05]))"
      ]
     },
     "execution_count": 27,
     "metadata": {},
     "output_type": "execute_result"
    }
   ],
   "source": [
    "## Función de transferencia estimada o identificada\n",
    "ge"
   ]
  },
  {
   "cell_type": "code",
   "execution_count": null,
   "id": "742feadc",
   "metadata": {},
   "outputs": [],
   "source": []
  }
 ],
 "metadata": {
  "kernelspec": {
   "display_name": "Python 3 (ipykernel)",
   "language": "python",
   "name": "python3"
  },
  "language_info": {
   "codemirror_mode": {
    "name": "ipython",
    "version": 3
   },
   "file_extension": ".py",
   "mimetype": "text/x-python",
   "name": "python",
   "nbconvert_exporter": "python",
   "pygments_lexer": "ipython3",
   "version": "3.10.9"
  },
  "latex_envs": {
   "LaTeX_envs_menu_present": true,
   "autoclose": false,
   "autocomplete": true,
   "bibliofile": "biblio.bib",
   "cite_by": "apalike",
   "current_citInitial": 1,
   "eqLabelWithNumbers": true,
   "eqNumInitial": 1,
   "hotkeys": {
    "equation": "Ctrl-E",
    "itemize": "Ctrl-I"
   },
   "labels_anchors": false,
   "latex_user_defs": false,
   "report_style_numbering": false,
   "user_envs_cfg": false
  },
  "varInspector": {
   "cols": {
    "lenName": 16,
    "lenType": 16,
    "lenVar": 40
   },
   "kernels_config": {
    "python": {
     "delete_cmd_postfix": "",
     "delete_cmd_prefix": "del ",
     "library": "var_list.py",
     "varRefreshCmd": "print(var_dic_list())"
    },
    "r": {
     "delete_cmd_postfix": ") ",
     "delete_cmd_prefix": "rm(",
     "library": "var_list.r",
     "varRefreshCmd": "cat(var_dic_list()) "
    }
   },
   "types_to_exclude": [
    "module",
    "function",
    "builtin_function_or_method",
    "instance",
    "_Feature"
   ],
   "window_display": false
  }
 },
 "nbformat": 4,
 "nbformat_minor": 5
}
