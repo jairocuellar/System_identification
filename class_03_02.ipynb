{
 "cells": [
  {
   "cell_type": "code",
   "execution_count": 1,
   "id": "59f44449",
   "metadata": {},
   "outputs": [],
   "source": [
    "from sympy import MatrixSymbol, Matrix, Identity\n",
    "\n",
    "import sympy as sym\n",
    "import pandas as pd\n",
    "\n",
    "sym.init_printing()\n",
    "%matplotlib inline\n",
    "\n",
    "import pandas as pd\n",
    "import numpy as np\n",
    "import matplotlib.pyplot as plt\n",
    "import seaborn as sns\n",
    "import control\n",
    "import random"
   ]
  },
  {
   "cell_type": "markdown",
   "id": "1e0682a7",
   "metadata": {},
   "source": [
    "# IDENTIFICACIÓN DE SISTEMAS\n",
    "\n",
    "Profesor: Jairo Alberto Cuéllar Guarnizo  \n",
    "Programa: Ingeniería en Automatización y Control"
   ]
  },
  {
   "cell_type": "markdown",
   "id": "56eb0f3c",
   "metadata": {},
   "source": [
    "## Optimización Convexa\n",
    "\n",
    "Para un problema de optimización convexa, un mínimo local es también un mínimo global, se evalúa usando los mismos criterios de primera y segunda derivada.\n",
    "\n",
    "**Ejemplo de optimización convexa: **\n",
    "\n",
    "Dada la función $f(x) = \\frac{1}{x}+x$, se busca minimizarla para todos los valores de x positivos.\n",
    "\n",
    "* Calculando el gradiente:\n",
    "$$\\bigtriangledown \\frac{d}{dx}f(x) = -\\frac{1}{x^2}+1$$\n",
    "* Calculando el Hessiano:"
   ]
  },
  {
   "cell_type": "markdown",
   "id": "bea6436d",
   "metadata": {},
   "source": [
    "# Introducción a la Optimización\n",
    "\n",
    "## El problema de la optimización\n",
    "\n",
    "La optimización se refiere a los parámetros desconocidos como variable de decisión ($\\theta$), frente a una función objetivo que depende de los datos medidos y usualmente llamada Y. Por ejemplo para Mínimos cuadrados, el problema de optimización es minimizar el error existente entre el vector Y y el modelo de predicción $M(\\theta)$. La función a minimizar sería:\n",
    "\n",
    "$$f(\\theta):=|Y - M(\\theta)|^2$$\n",
    "\n",
    "Para efectos de los ejercicios simplemente se llamará \"x\" a la variable de decisión desconocida en el problema de optimización.\n",
    "\n",
    "$$\\min_{x \\epsilon D} f(x)$$\n",
    "\n",
    "Donde D es un espacio vectorial $R^n$."
   ]
  },
  {
   "cell_type": "code",
   "execution_count": null,
   "id": "6277e5e2",
   "metadata": {},
   "outputs": [],
   "source": []
  }
 ],
 "metadata": {
  "kernelspec": {
   "display_name": "Python 3 (ipykernel)",
   "language": "python",
   "name": "python3"
  },
  "language_info": {
   "codemirror_mode": {
    "name": "ipython",
    "version": 3
   },
   "file_extension": ".py",
   "mimetype": "text/x-python",
   "name": "python",
   "nbconvert_exporter": "python",
   "pygments_lexer": "ipython3",
   "version": "3.10.9"
  }
 },
 "nbformat": 4,
 "nbformat_minor": 5
}
