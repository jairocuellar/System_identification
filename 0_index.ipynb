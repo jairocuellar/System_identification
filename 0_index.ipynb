{
 "cells": [
  {
   "cell_type": "markdown",
   "id": "2ea66398",
   "metadata": {},
   "source": [
    "# IDENTIFICACION DE SISTEMAS\n",
    "\n",
    "Profesor: Jairo Alberto Cuéllar Guarnizo  \n",
    "Programa: Ingeniería en Automatización y Control  \n",
    "Politécnico Colombiano Jaime Isaza Cadavid  "
   ]
  },
  {
   "cell_type": "markdown",
   "id": "bea6436d",
   "metadata": {},
   "source": [
    "## Unidad 1 - Introducción y Conceptos Básicos  \n",
    "\n",
    "* [Clase 1_1 - Modelos Orden 1 (AO Pasa bajos)](class_01_01.ipynb)\n",
    "* [Clase 1_2 - Modelos Orden 2_(RLC_Serie)](class_01_02.ipynb)\n",
    "* [Ejercicio 1 (Filtros low pass 1 y 2)](ejercicio_01_Filtro_O2.ipynb)"
   ]
  },
  {
   "cell_type": "markdown",
   "id": "6400430e",
   "metadata": {},
   "source": [
    "## Referencias"
   ]
  },
  {
   "cell_type": "code",
   "execution_count": null,
   "id": "1a87c34b",
   "metadata": {},
   "outputs": [],
   "source": []
  }
 ],
 "metadata": {
  "kernelspec": {
   "display_name": "Python 3 (ipykernel)",
   "language": "python",
   "name": "python3"
  },
  "language_info": {
   "codemirror_mode": {
    "name": "ipython",
    "version": 3
   },
   "file_extension": ".py",
   "mimetype": "text/x-python",
   "name": "python",
   "nbconvert_exporter": "python",
   "pygments_lexer": "ipython3",
   "version": "3.10.9"
  }
 },
 "nbformat": 4,
 "nbformat_minor": 5
}
