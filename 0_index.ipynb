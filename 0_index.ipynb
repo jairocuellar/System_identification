{
 "cells": [
  {
   "cell_type": "markdown",
   "id": "2ea66398",
   "metadata": {},
   "source": [
    "# IDENTIFICACIÓN DE SISTEMAS\n",
    "\n",
    "- Contiene una colección de notebooks de [Jupyter](https://jupyter.org/) con notas y ejemplos con el contenido propuesto para el curso de **Identificación de Sistemas**.\n",
    "\n",
    "- Estas notas fueron escritas por el profesor **Jairo Alberto Cuéllar Guarnizo** con el apoyo del profesor **Jean Pierre Diaz Paz**.\n",
    "\n",
    "- Los notebooks contienen código en [IPython 3](http://ipython.org/)."
   ]
  },
  {
   "cell_type": "markdown",
   "id": "5a75c51e",
   "metadata": {},
   "source": [
    "## Introducción\n",
    "\n",
    "- [Introducción a la programación con Python y Jupyter](intro\\PythonJupyter.ipynb)\n",
    "- [Cálculos en ingeniería con Sympy y Jupyter Notebooks](intro\\SympyJupyter.ipynb)\n",
    "- [Ejercicio: Análisis de un circuito con Sympy](intro\\EjercicioSympy.ipynb)\n",
    "- [Señales Estándar](intro\\SenalesEstandar.ipynb)\n",
    "- [Caracterización de Sistemas LTI en el Dominio del Tiempo](intro\\CaracterizacionLTI.ipynb)"
   ]
  },
  {
   "cell_type": "markdown",
   "id": "bea6436d",
   "metadata": {},
   "source": [
    "## Unidad 1 - Introducción y Conceptos Básicos  \n",
    "\n",
    "* [Clase 1_1 - Modelos Orden 1 (AO Pasa bajos)](class_01_01.ipynb)\n",
    "* [Clase 1_2 - Modelos Orden 2_(RLC_Serie)](class_01_02.ipynb)\n",
    "* Laboratorio 01 (Modelo curva primer orden)\n",
    "* [Ejercicio 1 (Filtros low pass 1 y 2)](ejercicio_01_Filtro_O2.ipynb)\n",
    "* [Clase 2_1 - Curva de reacción Orden 1](class_02_01.ipynb)\n",
    "* [Clase 2_2 - Curva de reacción Orden 2](class_02_02.ipynb)\n",
    "* [Clase 2_3 - Curva de reacción tiempo muerto](class_02_03.ipynb)\n",
    "* [Clase 2_4 - Curva de reacción Orden 2 (Data)](class_02_04.ipynb)\n",
    "* [Clase 3_1 - Una primera identificación (estimación de R)](class_03_01.ipynb)\n",
    "* [Clase 3_2 - Validando la estimación de R](class_03_02.ipynb)\n",
    "* [Laboratorio 02 (Estimando R)](ejercicio_02_estima_R.ipynb)\n"
   ]
  },
  {
   "cell_type": "markdown",
   "id": "00b3ba5f",
   "metadata": {},
   "source": [
    "## Unidad 2 - Optimización y Mínimos cuadrados  \n",
    "\n",
    "* [Clase 4_1 - Introducción a la Optimización](class_04_01.ipynb)\n",
    "* [Clase 4_2 - Optimización convexa](class_04_02.ipynb)\n",
    "* Ejercicio 2 - Evaluando criterios de optimalidad\n",
    "* [Clase 5_1 - Estimación por OLS (ECM - R2)](class_05_01.ipynb)\n",
    "* [Clase 5_2 - LS con pesos (WLS) - Regularización de LS (RLS)](class_05_02.ipynb)\n",
    "* [Clase 6_1 - Repaso mínimos cuadrados ordinarios](class_06_01.ipynb)\n",
    "* [Clase 6_2 - LS con pesos (WLS) - Regularización de LS (RLS)](class_06_02.ipynb)\n",
    "* [Clase 6_3 - LS primer orden](class_06_03.ipynb)\n",
    "* [Ejercicio 3 (OLS)](ejercicio_03_LS_polinomio.ipynb)"
   ]
  },
  {
   "cell_type": "markdown",
   "id": "0dd40c63",
   "metadata": {},
   "source": [
    "## Unidad 3 - Polinomios Autoregresivos\n",
    "\n",
    "* [Clase 7_1 - Modelamiento y discretización](class_07_01.ipynb)\n",
    "* [Clase 7_2 - Modelamiento en tiempo discreto](class_07_02.ipynb)\n",
    "* [Ejercicio 4 - Discretización](ejercicio_04_tc_td.ipynb)\n",
    "* [Clase 8_1 - Ecuación del error](class_08_01.ipynb)\n",
    "* [Clase 8_2 - Modelo ARX](class_08_02.ipynb)\n",
    "* [Clase 9_1 - Modelo ARX (Revisión)](class_09_01.ipynb)\n",
    "* [Clase 9_2 - Predictores](class_09_02.ipynb)\n",
    "* [Ejercicio 5 (ARX)](ejercicio_05_ARX.ipynb)\n",
    "* [Clase 10_01 - ARMAX](class_10_01.ipynb)\n",
    "* [Clase 10_02 - ARMAX](class_10_02.ipynb)"
   ]
  },
  {
   "cell_type": "markdown",
   "id": "6400430e",
   "metadata": {},
   "source": [
    "## Referencias"
   ]
  },
  {
   "cell_type": "code",
   "execution_count": null,
   "id": "1a87c34b",
   "metadata": {},
   "outputs": [],
   "source": []
  }
 ],
 "metadata": {
  "kernelspec": {
   "display_name": "Python 3 (ipykernel)",
   "language": "python",
   "name": "python3"
  },
  "language_info": {
   "codemirror_mode": {
    "name": "ipython",
    "version": 3
   },
   "file_extension": ".py",
   "mimetype": "text/x-python",
   "name": "python",
   "nbconvert_exporter": "python",
   "pygments_lexer": "ipython3",
   "version": "3.10.9"
  }
 },
 "nbformat": 4,
 "nbformat_minor": 5
}
