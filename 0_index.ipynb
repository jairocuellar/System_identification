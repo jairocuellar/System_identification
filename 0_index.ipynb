{
 "cells": [
  {
   "cell_type": "markdown",
   "id": "2ea66398",
   "metadata": {},
   "source": [
    "# IDENTIFICACION DE SISTEMAS\n",
    "\n",
    "Profesor: Jairo Alberto Cuéllar Guarnizo  \n",
    "Programa: Ingeniería en Automatización y Control"
   ]
  },
  {
   "cell_type": "markdown",
   "id": "bea6436d",
   "metadata": {},
   "source": [
    "# Unidad 1 - Introducción y Conceptos Básicos  \n",
    "\n",
    "* [Clase 1 - Modelos matemáticos](class_01.ipynb)\n",
    "* [Clase 2_1 - Estimación de un modelo simple](class_02_01.ipynb)\n",
    "* [Clase 2-2 - Estimadores estadísticos](class_02_02.ipynb)\n",
    "* [Clase 3-1 - Conceptos básicos de Optimización](class_03_01.ipynb)\n",
    "* [Clase 3-2 - Optimización convexa](class_03_02.ipynb)"
   ]
  },
  {
   "cell_type": "markdown",
   "id": "aafa882d",
   "metadata": {},
   "source": [
    "## Unidad 2 - Identificación Paramétrica\n",
    "\n",
    "* [Clase 4_1 - Mínimos cuadrados (LS)](class_04_01.ipynb)\n",
    "* [Clase 4_2 - Mínimos cuadrados con peso (WLS) y Regularización](class_04_02.ipynb)\n",
    "* [Recapitulando LS (Lectura CSV)](class_05_01.ipynb)\n",
    "* [Recapitulando LS (Apoyo tarea)](class_05_02.ipynb)\n",
    "* [Recapitulando LS (Un sistema de orden 1)](class_05_03.ipynb)"
   ]
  },
  {
   "cell_type": "markdown",
   "id": "f42ca429",
   "metadata": {},
   "source": [
    "## Unidad 3 - Modelamiento e Identificación de Sistemas Dinámicos\n",
    "\n",
    "* [Tiempo continuo y discreto](class_06_01.ipynb)\n",
    "* [Sistemas LTI discretos](class_06_02.ipynb)\n",
    "* [Estimación de Sistemas LTI (ARX)](class_07_01.ipynb)\n",
    "* [Ejemplo Estimación ARX](class_07_02.ipynb)\n",
    "* [Clase 8_1 - Polinomio Autoregresivo (Modelo ARX)](class_08_01.ipynb)\n",
    "* [Clase 8_2 - Predictores (Modelo ARX)](class_08_02.ipynb)"
   ]
  },
  {
   "cell_type": "code",
   "execution_count": null,
   "id": "4d9fd4f4",
   "metadata": {},
   "outputs": [],
   "source": []
  }
 ],
 "metadata": {
  "kernelspec": {
   "display_name": "Python 3 (ipykernel)",
   "language": "python",
   "name": "python3"
  },
  "language_info": {
   "codemirror_mode": {
    "name": "ipython",
    "version": 3
   },
   "file_extension": ".py",
   "mimetype": "text/x-python",
   "name": "python",
   "nbconvert_exporter": "python",
   "pygments_lexer": "ipython3",
   "version": "3.10.9"
  }
 },
 "nbformat": 4,
 "nbformat_minor": 5
}
