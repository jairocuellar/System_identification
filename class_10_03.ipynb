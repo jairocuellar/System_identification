{
 "cells": [
  {
   "cell_type": "code",
   "execution_count": 21,
   "id": "d608ba40",
   "metadata": {},
   "outputs": [],
   "source": [
    "from sympy import MatrixSymbol, Matrix, Identity\n",
    "\n",
    "import sympy as sym\n",
    "import pandas as pd\n",
    "import math\n",
    "\n",
    "sym.init_printing()\n",
    "%matplotlib inline\n",
    "\n",
    "import pandas as pd\n",
    "import numpy as np\n",
    "import matplotlib.pyplot as plt\n",
    "import seaborn as sns\n",
    "import control\n",
    "import random"
   ]
  },
  {
   "cell_type": "markdown",
   "id": "1e0682a7",
   "metadata": {},
   "source": [
    "# IDENTIFICACIÓN DE SISTEMAS\n",
    "\n",
    "Profesor: Jairo Alberto Cuéllar Guarnizo  \n",
    "Programa: Ingeniería en Automatización y Control"
   ]
  },
  {
   "cell_type": "markdown",
   "id": "31a335c2",
   "metadata": {},
   "source": [
    "## Ejemplo 1\n",
    "\n",
    "Dada una señal de entrada y salida (archivo TCLAB), obtenga el modelo estimado usando el modelo ARMAX.\n",
    "Valide el modelo obtenido usando otro grupo de datos distinto\n",
    "\n",
    "**Paso 1: Lectura de los datos**"
   ]
  },
  {
   "cell_type": "code",
   "execution_count": 31,
   "id": "b0298fd4",
   "metadata": {
    "scrolled": false
   },
   "outputs": [
    {
     "data": {
      "text/html": [
       "<div>\n",
       "<style scoped>\n",
       "    .dataframe tbody tr th:only-of-type {\n",
       "        vertical-align: middle;\n",
       "    }\n",
       "\n",
       "    .dataframe tbody tr th {\n",
       "        vertical-align: top;\n",
       "    }\n",
       "\n",
       "    .dataframe thead th {\n",
       "        text-align: right;\n",
       "    }\n",
       "</style>\n",
       "<table border=\"1\" class=\"dataframe\">\n",
       "  <thead>\n",
       "    <tr style=\"text-align: right;\">\n",
       "      <th></th>\n",
       "      <th>t</th>\n",
       "      <th>y</th>\n",
       "      <th>u</th>\n",
       "      <th>y1</th>\n",
       "      <th>y2</th>\n",
       "      <th>y3</th>\n",
       "      <th>u1</th>\n",
       "      <th>u2</th>\n",
       "      <th>u3</th>\n",
       "      <th>one</th>\n",
       "    </tr>\n",
       "  </thead>\n",
       "  <tbody>\n",
       "    <tr>\n",
       "      <th>0</th>\n",
       "      <td>0</td>\n",
       "      <td>23.585442</td>\n",
       "      <td>6.0</td>\n",
       "      <td>0.0</td>\n",
       "      <td>0.0</td>\n",
       "      <td>0.0</td>\n",
       "      <td>0.0</td>\n",
       "      <td>0.0</td>\n",
       "      <td>0.0</td>\n",
       "      <td>1.0</td>\n",
       "    </tr>\n",
       "    <tr>\n",
       "      <th>1</th>\n",
       "      <td>1</td>\n",
       "      <td>23.023559</td>\n",
       "      <td>6.0</td>\n",
       "      <td>0.0</td>\n",
       "      <td>0.0</td>\n",
       "      <td>0.0</td>\n",
       "      <td>0.0</td>\n",
       "      <td>0.0</td>\n",
       "      <td>0.0</td>\n",
       "      <td>1.0</td>\n",
       "    </tr>\n",
       "    <tr>\n",
       "      <th>2</th>\n",
       "      <td>2</td>\n",
       "      <td>24.283600</td>\n",
       "      <td>6.0</td>\n",
       "      <td>0.0</td>\n",
       "      <td>0.0</td>\n",
       "      <td>0.0</td>\n",
       "      <td>0.0</td>\n",
       "      <td>0.0</td>\n",
       "      <td>0.0</td>\n",
       "      <td>1.0</td>\n",
       "    </tr>\n",
       "    <tr>\n",
       "      <th>3</th>\n",
       "      <td>3</td>\n",
       "      <td>23.747457</td>\n",
       "      <td>6.0</td>\n",
       "      <td>0.0</td>\n",
       "      <td>0.0</td>\n",
       "      <td>0.0</td>\n",
       "      <td>0.0</td>\n",
       "      <td>0.0</td>\n",
       "      <td>0.0</td>\n",
       "      <td>1.0</td>\n",
       "    </tr>\n",
       "    <tr>\n",
       "      <th>4</th>\n",
       "      <td>4</td>\n",
       "      <td>24.524536</td>\n",
       "      <td>6.0</td>\n",
       "      <td>0.0</td>\n",
       "      <td>0.0</td>\n",
       "      <td>0.0</td>\n",
       "      <td>0.0</td>\n",
       "      <td>0.0</td>\n",
       "      <td>0.0</td>\n",
       "      <td>1.0</td>\n",
       "    </tr>\n",
       "    <tr>\n",
       "      <th>...</th>\n",
       "      <td>...</td>\n",
       "      <td>...</td>\n",
       "      <td>...</td>\n",
       "      <td>...</td>\n",
       "      <td>...</td>\n",
       "      <td>...</td>\n",
       "      <td>...</td>\n",
       "      <td>...</td>\n",
       "      <td>...</td>\n",
       "      <td>...</td>\n",
       "    </tr>\n",
       "    <tr>\n",
       "      <th>596</th>\n",
       "      <td>596</td>\n",
       "      <td>51.017172</td>\n",
       "      <td>6.0</td>\n",
       "      <td>0.0</td>\n",
       "      <td>0.0</td>\n",
       "      <td>0.0</td>\n",
       "      <td>0.0</td>\n",
       "      <td>0.0</td>\n",
       "      <td>0.0</td>\n",
       "      <td>1.0</td>\n",
       "    </tr>\n",
       "    <tr>\n",
       "      <th>597</th>\n",
       "      <td>597</td>\n",
       "      <td>51.309833</td>\n",
       "      <td>6.0</td>\n",
       "      <td>0.0</td>\n",
       "      <td>0.0</td>\n",
       "      <td>0.0</td>\n",
       "      <td>0.0</td>\n",
       "      <td>0.0</td>\n",
       "      <td>0.0</td>\n",
       "      <td>1.0</td>\n",
       "    </tr>\n",
       "    <tr>\n",
       "      <th>598</th>\n",
       "      <td>598</td>\n",
       "      <td>52.486418</td>\n",
       "      <td>6.0</td>\n",
       "      <td>0.0</td>\n",
       "      <td>0.0</td>\n",
       "      <td>0.0</td>\n",
       "      <td>0.0</td>\n",
       "      <td>0.0</td>\n",
       "      <td>0.0</td>\n",
       "      <td>1.0</td>\n",
       "    </tr>\n",
       "    <tr>\n",
       "      <th>599</th>\n",
       "      <td>599</td>\n",
       "      <td>51.603644</td>\n",
       "      <td>6.0</td>\n",
       "      <td>0.0</td>\n",
       "      <td>0.0</td>\n",
       "      <td>0.0</td>\n",
       "      <td>0.0</td>\n",
       "      <td>0.0</td>\n",
       "      <td>0.0</td>\n",
       "      <td>1.0</td>\n",
       "    </tr>\n",
       "    <tr>\n",
       "      <th>600</th>\n",
       "      <td>600</td>\n",
       "      <td>52.527025</td>\n",
       "      <td>6.0</td>\n",
       "      <td>0.0</td>\n",
       "      <td>0.0</td>\n",
       "      <td>0.0</td>\n",
       "      <td>0.0</td>\n",
       "      <td>0.0</td>\n",
       "      <td>0.0</td>\n",
       "      <td>1.0</td>\n",
       "    </tr>\n",
       "  </tbody>\n",
       "</table>\n",
       "<p>601 rows × 10 columns</p>\n",
       "</div>"
      ],
      "text/plain": [
       "       t          y    u   y1   y2   y3   u1   u2   u3  one\n",
       "0      0  23.585442  6.0  0.0  0.0  0.0  0.0  0.0  0.0  1.0\n",
       "1      1  23.023559  6.0  0.0  0.0  0.0  0.0  0.0  0.0  1.0\n",
       "2      2  24.283600  6.0  0.0  0.0  0.0  0.0  0.0  0.0  1.0\n",
       "3      3  23.747457  6.0  0.0  0.0  0.0  0.0  0.0  0.0  1.0\n",
       "4      4  24.524536  6.0  0.0  0.0  0.0  0.0  0.0  0.0  1.0\n",
       "..   ...        ...  ...  ...  ...  ...  ...  ...  ...  ...\n",
       "596  596  51.017172  6.0  0.0  0.0  0.0  0.0  0.0  0.0  1.0\n",
       "597  597  51.309833  6.0  0.0  0.0  0.0  0.0  0.0  0.0  1.0\n",
       "598  598  52.486418  6.0  0.0  0.0  0.0  0.0  0.0  0.0  1.0\n",
       "599  599  51.603644  6.0  0.0  0.0  0.0  0.0  0.0  0.0  1.0\n",
       "600  600  52.527025  6.0  0.0  0.0  0.0  0.0  0.0  0.0  1.0\n",
       "\n",
       "[601 rows x 10 columns]"
      ]
     },
     "execution_count": 31,
     "metadata": {},
     "output_type": "execute_result"
    },
    {
     "data": {
      "image/png": "[encoded data removed]",
      "text/plain": [
       "<Figure size 640x480 with 1 Axes>"
      ]
     },
     "metadata": {},
     "output_type": "display_data"
    }
   ],
   "source": [
    "data1 = pd.read_csv ('data\\TCLab_PWM_50.csv')\n",
    "N = len(data1.Tiempo)\n",
    "u = np.ones(N)*6\n",
    "empty = np.zeros(N)\n",
    "\n",
    "df1 = pd.DataFrame(data={'t':data1.Tiempo,'y':data1.Temperatura,'u':u,'y1':empty,'y2':empty,'y3':empty,'u1':empty,'u2':empty,'u3':empty,'one':np.ones(N)})\n",
    "plt.plot(df1.t,df1.y,color = 'red')\n",
    "dt = (df1.t[1]-df1.t[0])/1.0\n",
    "df1"
   ]
  },
  {
   "cell_type": "code",
   "execution_count": 33,
   "id": "2ddc4ce0",
   "metadata": {},
   "outputs": [
    {
     "data": {
      "text/plain": [
       "[<matplotlib.lines.Line2D at 0x1c157273cd0>]"
      ]
     },
     "execution_count": 33,
     "metadata": {},
     "output_type": "execute_result"
    },
    {
     "data": {
      "image/png": "[encoded data removed]",
      "text/plain": [
       "<Figure size 640x480 with 1 Axes>"
      ]
     },
     "metadata": {},
     "output_type": "display_data"
    }
   ],
   "source": [
    "data2 = pd.read_csv ('data\\TCLab_PWM_80.csv')\n",
    "u = np.ones(N)*9.6\n",
    "df2 = pd.DataFrame(data={'t':data2.Tiempo,'y':data2.Temperatura,'u':u,'y1':empty,'y2':empty,'y3':empty,'u1':empty,'u2':empty,'u3':empty,'one':np.ones(N)})\n",
    "plt.plot(df2.t,df2.y,color = 'blue')\n"
   ]
  },
  {
   "cell_type": "markdown",
   "id": "7aba8fb0",
   "metadata": {},
   "source": [
    "## Definiendo la matriz de regresión\n",
    "\n",
    "**Paso 2:** Proponer el regresor de la estimación ARX y calcular los parámetros $\\theta$ de la estimación ARX, para este ejemplo se propone:\n",
    "\n",
    "$$\\phi = [-y[k-1],-y[k-2],-y[k-3],u[k-1],u[k-2],u[k-3]]$$"
   ]
  },
  {
   "cell_type": "code",
   "execution_count": 34,
   "id": "3e9438d5",
   "metadata": {},
   "outputs": [
    {
     "data": {
      "text/html": [
       "<div>\n",
       "<style scoped>\n",
       "    .dataframe tbody tr th:only-of-type {\n",
       "        vertical-align: middle;\n",
       "    }\n",
       "\n",
       "    .dataframe tbody tr th {\n",
       "        vertical-align: top;\n",
       "    }\n",
       "\n",
       "    .dataframe thead th {\n",
       "        text-align: right;\n",
       "    }\n",
       "</style>\n",
       "<table border=\"1\" class=\"dataframe\">\n",
       "  <thead>\n",
       "    <tr style=\"text-align: right;\">\n",
       "      <th></th>\n",
       "      <th>t</th>\n",
       "      <th>y</th>\n",
       "      <th>u</th>\n",
       "      <th>y1</th>\n",
       "      <th>y2</th>\n",
       "      <th>y3</th>\n",
       "      <th>u1</th>\n",
       "      <th>u2</th>\n",
       "      <th>u3</th>\n",
       "      <th>one</th>\n",
       "    </tr>\n",
       "  </thead>\n",
       "  <tbody>\n",
       "    <tr>\n",
       "      <th>0</th>\n",
       "      <td>0</td>\n",
       "      <td>23.585442</td>\n",
       "      <td>6.0</td>\n",
       "      <td>0.000000</td>\n",
       "      <td>0.000000</td>\n",
       "      <td>0.000000</td>\n",
       "      <td>0.0</td>\n",
       "      <td>0.0</td>\n",
       "      <td>0.0</td>\n",
       "      <td>1.0</td>\n",
       "    </tr>\n",
       "    <tr>\n",
       "      <th>1</th>\n",
       "      <td>1</td>\n",
       "      <td>23.023559</td>\n",
       "      <td>6.0</td>\n",
       "      <td>23.585442</td>\n",
       "      <td>0.000000</td>\n",
       "      <td>0.000000</td>\n",
       "      <td>6.0</td>\n",
       "      <td>0.0</td>\n",
       "      <td>0.0</td>\n",
       "      <td>1.0</td>\n",
       "    </tr>\n",
       "    <tr>\n",
       "      <th>2</th>\n",
       "      <td>2</td>\n",
       "      <td>24.283600</td>\n",
       "      <td>6.0</td>\n",
       "      <td>23.023559</td>\n",
       "      <td>23.585442</td>\n",
       "      <td>0.000000</td>\n",
       "      <td>6.0</td>\n",
       "      <td>6.0</td>\n",
       "      <td>0.0</td>\n",
       "      <td>1.0</td>\n",
       "    </tr>\n",
       "    <tr>\n",
       "      <th>3</th>\n",
       "      <td>3</td>\n",
       "      <td>23.747457</td>\n",
       "      <td>6.0</td>\n",
       "      <td>24.283600</td>\n",
       "      <td>23.023559</td>\n",
       "      <td>23.585442</td>\n",
       "      <td>6.0</td>\n",
       "      <td>6.0</td>\n",
       "      <td>6.0</td>\n",
       "      <td>1.0</td>\n",
       "    </tr>\n",
       "    <tr>\n",
       "      <th>4</th>\n",
       "      <td>4</td>\n",
       "      <td>24.524536</td>\n",
       "      <td>6.0</td>\n",
       "      <td>23.747457</td>\n",
       "      <td>24.283600</td>\n",
       "      <td>23.023559</td>\n",
       "      <td>6.0</td>\n",
       "      <td>6.0</td>\n",
       "      <td>6.0</td>\n",
       "      <td>1.0</td>\n",
       "    </tr>\n",
       "    <tr>\n",
       "      <th>...</th>\n",
       "      <td>...</td>\n",
       "      <td>...</td>\n",
       "      <td>...</td>\n",
       "      <td>...</td>\n",
       "      <td>...</td>\n",
       "      <td>...</td>\n",
       "      <td>...</td>\n",
       "      <td>...</td>\n",
       "      <td>...</td>\n",
       "      <td>...</td>\n",
       "    </tr>\n",
       "    <tr>\n",
       "      <th>596</th>\n",
       "      <td>596</td>\n",
       "      <td>51.017172</td>\n",
       "      <td>6.0</td>\n",
       "      <td>51.143194</td>\n",
       "      <td>51.861849</td>\n",
       "      <td>51.810924</td>\n",
       "      <td>6.0</td>\n",
       "      <td>6.0</td>\n",
       "      <td>6.0</td>\n",
       "      <td>1.0</td>\n",
       "    </tr>\n",
       "    <tr>\n",
       "      <th>597</th>\n",
       "      <td>597</td>\n",
       "      <td>51.309833</td>\n",
       "      <td>6.0</td>\n",
       "      <td>51.017172</td>\n",
       "      <td>51.143194</td>\n",
       "      <td>51.861849</td>\n",
       "      <td>6.0</td>\n",
       "      <td>6.0</td>\n",
       "      <td>6.0</td>\n",
       "      <td>1.0</td>\n",
       "    </tr>\n",
       "    <tr>\n",
       "      <th>598</th>\n",
       "      <td>598</td>\n",
       "      <td>52.486418</td>\n",
       "      <td>6.0</td>\n",
       "      <td>51.309833</td>\n",
       "      <td>51.017172</td>\n",
       "      <td>51.143194</td>\n",
       "      <td>6.0</td>\n",
       "      <td>6.0</td>\n",
       "      <td>6.0</td>\n",
       "      <td>1.0</td>\n",
       "    </tr>\n",
       "    <tr>\n",
       "      <th>599</th>\n",
       "      <td>599</td>\n",
       "      <td>51.603644</td>\n",
       "      <td>6.0</td>\n",
       "      <td>52.486418</td>\n",
       "      <td>51.309833</td>\n",
       "      <td>51.017172</td>\n",
       "      <td>6.0</td>\n",
       "      <td>6.0</td>\n",
       "      <td>6.0</td>\n",
       "      <td>1.0</td>\n",
       "    </tr>\n",
       "    <tr>\n",
       "      <th>600</th>\n",
       "      <td>600</td>\n",
       "      <td>52.527025</td>\n",
       "      <td>6.0</td>\n",
       "      <td>51.603644</td>\n",
       "      <td>52.486418</td>\n",
       "      <td>51.309833</td>\n",
       "      <td>6.0</td>\n",
       "      <td>6.0</td>\n",
       "      <td>6.0</td>\n",
       "      <td>1.0</td>\n",
       "    </tr>\n",
       "  </tbody>\n",
       "</table>\n",
       "<p>601 rows × 10 columns</p>\n",
       "</div>"
      ],
      "text/plain": [
       "       t          y    u         y1         y2         y3   u1   u2   u3  one\n",
       "0      0  23.585442  6.0   0.000000   0.000000   0.000000  0.0  0.0  0.0  1.0\n",
       "1      1  23.023559  6.0  23.585442   0.000000   0.000000  6.0  0.0  0.0  1.0\n",
       "2      2  24.283600  6.0  23.023559  23.585442   0.000000  6.0  6.0  0.0  1.0\n",
       "3      3  23.747457  6.0  24.283600  23.023559  23.585442  6.0  6.0  6.0  1.0\n",
       "4      4  24.524536  6.0  23.747457  24.283600  23.023559  6.0  6.0  6.0  1.0\n",
       "..   ...        ...  ...        ...        ...        ...  ...  ...  ...  ...\n",
       "596  596  51.017172  6.0  51.143194  51.861849  51.810924  6.0  6.0  6.0  1.0\n",
       "597  597  51.309833  6.0  51.017172  51.143194  51.861849  6.0  6.0  6.0  1.0\n",
       "598  598  52.486418  6.0  51.309833  51.017172  51.143194  6.0  6.0  6.0  1.0\n",
       "599  599  51.603644  6.0  52.486418  51.309833  51.017172  6.0  6.0  6.0  1.0\n",
       "600  600  52.527025  6.0  51.603644  52.486418  51.309833  6.0  6.0  6.0  1.0\n",
       "\n",
       "[601 rows x 10 columns]"
      ]
     },
     "execution_count": 34,
     "metadata": {},
     "output_type": "execute_result"
    }
   ],
   "source": [
    "## Definir y_1, y_2, dependiendo el sistema que se quiera modelar, \n",
    "## así como u_1, u_2 y las que se requieran\n",
    "df1.y1 = df1.y.shift(1)\n",
    "df1.y2 = df1.y.shift(2)\n",
    "df1.y3 = df1.y.shift(3)\n",
    "\n",
    "df1.u1 = df1.u.shift(1)\n",
    "df1.u2 = df1.u.shift(2)\n",
    "df1.u3 = df1.u.shift(3)\n",
    "df1 = df1.fillna(0)\n",
    "df1"
   ]
  },
  {
   "cell_type": "code",
   "execution_count": 35,
   "id": "07960a25",
   "metadata": {},
   "outputs": [
    {
     "data": {
      "text/plain": [
       "array([ 0.4466129 ,  0.43820165,  0.09472957,  2.08166606, -1.90843759])"
      ]
     },
     "execution_count": 35,
     "metadata": {},
     "output_type": "execute_result"
    }
   ],
   "source": [
    "## Creación del vector phi\n",
    "phi = np.array([df1.y1,df1.y2,df1.y3,df1.u1,df1.u2]).transpose()\n",
    "\n",
    "# Garantiza que la matriz (phi^T*phi)^-1 exista y se pueda estimar \n",
    "#los parámetros.\n",
    "A = np.dot(phi.T,phi)\n",
    "theta = np.dot(np.linalg.inv(A),np.dot(phi.T,df1.y))\n",
    "theta"
   ]
  },
  {
   "cell_type": "code",
   "execution_count": 37,
   "id": "b06970b3",
   "metadata": {},
   "outputs": [
    {
     "data": {
      "text/plain": [
       "<matplotlib.legend.Legend at 0x1c1563c6a10>"
      ]
     },
     "execution_count": 37,
     "metadata": {},
     "output_type": "execute_result"
    },
    {
     "data": {
      "image/png": "[encoded data removed]",
      "text/plain": [
       "<Figure size 640x480 with 1 Axes>"
      ]
     },
     "metadata": {},
     "output_type": "display_data"
    }
   ],
   "source": [
    "## reconstruyendo la estimación\n",
    "### Modelo \n",
    "### y_e = -y_1,-y_2,u_1\n",
    "ye1 = np.zeros(N)\n",
    "\n",
    "for k in range(2,N):\n",
    "    ye1[k] = theta[0]*ye1[k-1]+theta[1]*ye1[k-2]+theta[2]*ye1[k-3]+theta[3]*df2.u[k-1]+theta[4]*df2.u[k-2]\n",
    "    \n",
    "plt.plot(df2.t,0.87*ye1,color = 'red')\n",
    "plt.plot(df2.t,df2.y,color = 'blue')\n",
    "plt.legend([\"Datos estimados\", \"Datos Validacion\"])"
   ]
  },
  {
   "cell_type": "markdown",
   "id": "08987da0",
   "metadata": {},
   "source": [
    "\n",
    "\n",
    "## Calculando la respuesta al step de la estimación\n",
    "\n",
    "**Paso 4:** Calculamos la respuesta de la función $G_e$ y con esos datos determinamos el error de la estimación inicial."
   ]
  },
  {
   "cell_type": "code",
   "execution_count": 20,
   "id": "3be6c5c6",
   "metadata": {},
   "outputs": [
    {
     "data": {
      "text/plain": [
       "<matplotlib.legend.Legend at 0x1c1552e7f10>"
      ]
     },
     "execution_count": 20,
     "metadata": {},
     "output_type": "execute_result"
    },
    {
     "data": {
      "image/png": "[encoded data removed]",
      "text/plain": [
       "<Figure size 640x480 with 1 Axes>"
      ]
     },
     "metadata": {},
     "output_type": "display_data"
    }
   ],
   "source": [
    "## SIN EL DATO DE TIEMPO ES COMPLEJO\n",
    "## Función de transferencia\n",
    "\n",
    "G_e = control.tf([theta[3],theta[4],0],[1,theta[0],theta[1],theta[2]],dt/100)\n",
    "\n",
    "## Definiendo la función de transferencia estimada ARX\n",
    "_,ye = control.step_response(G_e,df1.t)\n",
    "## Ganancia de ajuste\n",
    "k = -1;\n",
    "ye = k*ye + theta[5] \n",
    "\n",
    "## Señal de error estimado\n",
    "#e = df2.y-ye\n",
    "\n",
    "plt.plot(df1.t,ye,color = 'red')\n",
    "#plt.plot(df2.t,df2.y,color = 'black')\n",
    "#plt.plot(df2.t,e,color = 'blue')\n",
    "plt.legend(['ARX','Datos medidos','Error'])"
   ]
  },
  {
   "cell_type": "code",
   "execution_count": null,
   "id": "b005a0d0",
   "metadata": {},
   "outputs": [],
   "source": []
  }
 ],
 "metadata": {
  "kernelspec": {
   "display_name": "Python 3 (ipykernel)",
   "language": "python",
   "name": "python3"
  },
  "language_info": {
   "codemirror_mode": {
    "name": "ipython",
    "version": 3
   },
   "file_extension": ".py",
   "mimetype": "text/x-python",
   "name": "python",
   "nbconvert_exporter": "python",
   "pygments_lexer": "ipython3",
   "version": "3.10.9"
  },
  "latex_envs": {
   "LaTeX_envs_menu_present": true,
   "autoclose": false,
   "autocomplete": true,
   "bibliofile": "biblio.bib",
   "cite_by": "apalike",
   "current_citInitial": 1,
   "eqLabelWithNumbers": true,
   "eqNumInitial": 1,
   "hotkeys": {
    "equation": "Ctrl-E",
    "itemize": "Ctrl-I"
   },
   "labels_anchors": false,
   "latex_user_defs": false,
   "report_style_numbering": false,
   "user_envs_cfg": false
  },
  "varInspector": {
   "cols": {
    "lenName": 16,
    "lenType": 16,
    "lenVar": 40
   },
   "kernels_config": {
    "python": {
     "delete_cmd_postfix": "",
     "delete_cmd_prefix": "del ",
     "library": "var_list.py",
     "varRefreshCmd": "print(var_dic_list())"
    },
    "r": {
     "delete_cmd_postfix": ") ",
     "delete_cmd_prefix": "rm(",
     "library": "var_list.r",
     "varRefreshCmd": "cat(var_dic_list()) "
    }
   },
   "types_to_exclude": [
    "module",
    "function",
    "builtin_function_or_method",
    "instance",
    "_Feature"
   ],
   "window_display": false
  }
 },
 "nbformat": 4,
 "nbformat_minor": 5
}
