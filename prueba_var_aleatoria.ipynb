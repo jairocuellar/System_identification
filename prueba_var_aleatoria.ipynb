{
 "cells": [
  {
   "cell_type": "raw",
   "id": "818f3c44",
   "metadata": {},
   "source": [
    "# Parámetros verdaderos del modelo\n",
    "true_coeffs = np.array([25, -10, 56])\n",
    "\n",
    "# Generación de datos simulados\n",
    "np.random.seed(0)\n",
    "n_samples = 100\n",
    "X = np.random.randn(n_samples, len(true_coeffs)-1)\n",
    "phi = np.column_stack((np.ones(n_samples), X))  # Agregar el término de sesgo\n",
    "y = np.dot(phi, true_coeffs) + np.random.normal(0, 1, n_samples)  # Modelo lineal + ruido gaussiano\n",
    "\n",
    "phi"
   ]
  }
 ],
 "metadata": {
  "kernelspec": {
   "display_name": "Python 3 (ipykernel)",
   "language": "python",
   "name": "python3"
  },
  "language_info": {
   "codemirror_mode": {
    "name": "ipython",
    "version": 3
   },
   "file_extension": ".py",
   "mimetype": "text/x-python",
   "name": "python",
   "nbconvert_exporter": "python",
   "pygments_lexer": "ipython3",
   "version": "3.10.9"
  }
 },
 "nbformat": 4,
 "nbformat_minor": 5
}
