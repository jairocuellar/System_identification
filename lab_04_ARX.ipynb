{
 "cells": [
  {
   "cell_type": "markdown",
   "id": "2ea66398",
   "metadata": {},
   "source": [
    "# IDENTIFICACION DE SISTEMAS - Laboratorio 4\n",
    "\n",
    "Profesor: Jairo Alberto Cuéllar Guarnizo  \n",
    "Programa: Ingeniería en Automatización y Control"
   ]
  },
  {
   "cell_type": "markdown",
   "id": "f02dbf76",
   "metadata": {},
   "source": [
    "# Elaborado por:\n",
    "\n",
    "* Nombre 1, apellido 1\n",
    "* Nombre 2, apellido 2"
   ]
  },
  {
   "cell_type": "markdown",
   "id": "bea6436d",
   "metadata": {},
   "source": [
    "# 1. Discretizando un sistema en tiempo continuo\n",
    "\n",
    "## Descripción del ejercicio:\n",
    "\n",
    "Retome el sistema de tiempo continuo a manera de función de transferencia del Filtro paso bajos de Segundo orden obtenido en el desarrollo del ejercicio 1."
   ]
  },
  {
   "cell_type": "markdown",
   "id": "94124d57",
   "metadata": {},
   "source": [
    " ## 1.1. Obtención de G(z)\n",
    " \n",
    "Use una sustitución con el retenedor de orden cero para obtener la función de transferencia en términos de z a partir de la función G(s).\n",
    " \n",
    " $$S = \\frac{2(z-1)}{T(z+1)}$$\n",
    " \n",
    " $$z = e^{Ts}$$\n",
    " \n",
    " 1. Defina un periodo de muestreo (T) \n",
    " 2. Obtenga la función de transferencia usando matemática simbólica.\n"
   ]
  },
  {
   "cell_type": "code",
   "execution_count": 1,
   "id": "450dba20",
   "metadata": {},
   "outputs": [],
   "source": [
    "#Inserte el código en este espacio."
   ]
  },
  {
   "cell_type": "markdown",
   "id": "aafa882d",
   "metadata": {},
   "source": [
    "## 1.2. Espacio de estados\n",
    "\n",
    "A partis de G(s) obtenga las matrices del modelo de estados (A, B, C, D) en tiempo continuo. Compare la respuesta al escalón a partir de la función de transferencia G(s) y a partir del modelo en espacio de estados."
   ]
  },
  {
   "cell_type": "code",
   "execution_count": null,
   "id": "b75880c2",
   "metadata": {},
   "outputs": [],
   "source": [
    "#Inserte el código en este espacio."
   ]
  },
  {
   "cell_type": "markdown",
   "id": "f42ca429",
   "metadata": {},
   "source": [
    "## 1.3. Discretice el modelo en espacio de estados\n",
    "\n",
    "Use las ecuaciones vistas en clase y la aproximación de la serie de Taylor para discretizar el espacio de estados a partir del modelo en tiempo continuo.\n",
    "\n",
    "1. Defina un periodo de muestreo (El mismo del paso 1)\n",
    "2. Calcule A y B discretas"
   ]
  },
  {
   "cell_type": "markdown",
   "id": "24bf5b98",
   "metadata": {},
   "source": [
    "## 1.4. Gráficas comparativas\n",
    "\n",
    "1. Obtenga la respuesta al escalón del sistema original G(s)\n",
    "2. Obtenga la respuesta al escalón del sistema discretizado G(z)\n",
    "3. Obtenga la respuesta al escalón del modelo en espacio de estados en tiempo continuo.\n",
    "4. Obtenga la respuesta al escalón del modelo en espacio de estados en tiempo discreto."
   ]
  },
  {
   "cell_type": "code",
   "execution_count": null,
   "id": "9959c500",
   "metadata": {},
   "outputs": [],
   "source": [
    "#Inserte el código en este espacio."
   ]
  },
  {
   "cell_type": "markdown",
   "id": "1211b2b2",
   "metadata": {},
   "source": [
    "# 2. Polinomio Autoregresivo ARX\n",
    "\n",
    "Utilice los datos capturados para la entrega anterior del proyecto y aplique los métodos discutidos en los noteboks 8_1 y 8_2.\n",
    "\n",
    "Plantee 2 hipótesis diferentes usando el modelo ARX y para cada uno proceda de la siguiente manera:\n",
    "\n",
    "2.1. Reconstruya la ecuación en diferencia usando la estructura del modelo entrada salida:\n",
    "\n",
    "$$y_e[k] = a_1y[k-1] + ...+ a_{n_a}y[k-{n_a}] + b_0u[k]+ b_1u[k-1]+...+b_{n_b}u[k-{n_b}] + C_1$$"
   ]
  },
  {
   "cell_type": "code",
   "execution_count": null,
   "id": "3251556f",
   "metadata": {},
   "outputs": [],
   "source": [
    "#Inserte el código en este espacio."
   ]
  },
  {
   "cell_type": "markdown",
   "id": "8c3e417a",
   "metadata": {},
   "source": [
    "2.2. Obtenga una función de transferencia estimada usando los coeficientes hallados en el punto anterior:\n",
    "\n",
    "$$G(z) = \\frac{b_0+b_1z^{-1}+b_2z^{-2}+...+b_{n_b}z^{-{n_b}}}{1+a_1z^{-1}+...+a_{n_a}z^{-{n_a}}}$$"
   ]
  },
  {
   "cell_type": "code",
   "execution_count": null,
   "id": "c7e959bb",
   "metadata": {},
   "outputs": [],
   "source": [
    "#Inserte el código en este espacio."
   ]
  },
  {
   "cell_type": "markdown",
   "id": "6a436a61",
   "metadata": {},
   "source": [
    "2.3. Compare estas 2 hipótesis usando los parámetros R2 y ECM, así como criterios gráficos de comportamiento de las gráficas."
   ]
  },
  {
   "cell_type": "code",
   "execution_count": null,
   "id": "fbfee8b7",
   "metadata": {},
   "outputs": [],
   "source": [
    "#Inserte el código en este espacio."
   ]
  },
  {
   "cell_type": "markdown",
   "id": "a508ef22",
   "metadata": {},
   "source": [
    "## Conclusiones\n",
    "\n",
    "* Redacte aquí un conjunto de conclusiones relacionadas directamente con los resultados obtenidos..."
   ]
  },
  {
   "cell_type": "code",
   "execution_count": null,
   "id": "456d4836",
   "metadata": {},
   "outputs": [],
   "source": []
  }
 ],
 "metadata": {
  "kernelspec": {
   "display_name": "Python 3 (ipykernel)",
   "language": "python",
   "name": "python3"
  },
  "language_info": {
   "codemirror_mode": {
    "name": "ipython",
    "version": 3
   },
   "file_extension": ".py",
   "mimetype": "text/x-python",
   "name": "python",
   "nbconvert_exporter": "python",
   "pygments_lexer": "ipython3",
   "version": "3.10.9"
  }
 },
 "nbformat": 4,
 "nbformat_minor": 5
}
