{
 "cells": [
  {
   "cell_type": "markdown",
   "id": "1e0682a7",
   "metadata": {},
   "source": [
    "# IDENTIFICACIÓN DE SISTEMAS\n",
    "\n",
    "Profesor: Jairo Alberto Cuéllar Guarnizo  \n",
    "Programa: Ingeniería en Automatización y Control"
   ]
  },
  {
   "cell_type": "markdown",
   "id": "56eb0f3c",
   "metadata": {},
   "source": [
    "# Modelamiento de Sistemas Dinámicos en Tiempo Discreto\n",
    "\n",
    "El modelamiento e Identificación de los Sistemas Dinámicos en espacio de estados en tiempo discreto es la base del problema de estimación que se tratará en adelante. Por tanto se debe recordar que:\n",
    "\n",
    "$$x_{k+1} = f(x_k,u_k)$$\n",
    "\n",
    "Donde k = 0,1,...,N-1. El espacio del tiempo sería de longitud N $(t_0,t_1,...,t_{N-1})$. El vector de entradas tendría la misma longitud $u_0, u_1,...,u_{N-1}$ y N+1 variables de estado, así: $x_0, x_1,...,x_N$.\n",
    "\n",
    "Si se conocen para el sistema el estado inicial $x_0$ y las entradas de control del sistema $u_0, u_1,...,u_{N-1}$, se podría obtener recursivamente los valores de los demás estados (predecir): $x_1,x_2,...,x_N$."
   ]
  },
  {
   "cell_type": "markdown",
   "id": "d4160a15",
   "metadata": {},
   "source": [
    "## Sistemas LTI\n",
    "\n",
    "Quedó demostrado de manera amplia y suficiente que los sistemas en tiempo discreto se modelan por la siguiente ecuación:\n",
    "\n",
    "$$x_{k+1} = Ax_k+Bu_k$$\n",
    "\n",
    "Donde A y B ya están en tiempo discreto (relación matemática), con k = 0,1,...,N-1. Para matrices A y B fijas se puede decir que el sistema es asintóticamente estable siempre y cuando los autovalores de A estén estrictamente dentro del disco unitario del plano complejo (polos de magnitud unitaria). Se puede intuir entonces una posible función recursiva (o calculada mediante computación), conociendo A, B, $x_0$ y $u_k$ y sería:\n",
    "\n",
    "$$f_{sim} = \\begin{bmatrix}x_0\\\\x_1\\\\x_2\\\\...\\\\x_N\\end{bmatrix} = \\begin{bmatrix}x_0\\\\Ax_0+Bu_0\\\\A^2x_0+ABu_0+Bu_1\\\\...\\\\A^Nx_0+\\sum_{k=0}^{N-1}A^{N-1-k}Bu_k\\end{bmatrix} $$\n",
    "\n",
    "Si analizamos el caso especial donde $x_0 = 0$, se tendría lo siguiente:\n",
    "\n",
    "$$x_N = \\begin{bmatrix}A^{N-1}B&A^{N-2}B&A^{N-3}B ... B\\end{bmatrix}\\begin{bmatrix}u_0\\\\u_1\\\\u_2\\\\...\\\\u_{N-1}\\end{bmatrix}$$\n",
    "\n",
    "Existe entonces la matriz de controlabilidad:\n",
    "\n",
    "$$C_N = \\begin{bmatrix}A^{N-1}B&A^{N-2}B&A^{N-3}B ... B\\end{bmatrix}$$"
   ]
  },
  {
   "cell_type": "markdown",
   "id": "002ba55e",
   "metadata": {},
   "source": [
    "## Sistemas con salida y ruido\n",
    "\n",
    "En la práctica se debe poder modelar e identificar un sistema pero teniendo en cuenta una varible aleatoria que representa el comportamiento de las mediciones, además de considerar las características propias del sistema (parámetros).\n",
    "\n",
    "$$x_{k+1} = f(x_k,u_k,\\epsilon_k,p)$$\n",
    "\n",
    "$$y_{k} = g(x_k,u_k,\\epsilon_k,p)$$\n",
    "\n",
    "Si se pudiera conocer los valores relevantes del sistema como el valor inicial $x_0$, entradas, ruidos y parámetros. Se podría obtener una función recursiva con el fin de crear un modelo de predicción completo dado por:\n",
    "\n",
    "$$y_k = M(k;x_0;u_0, u_1,...,u_N;\\epsilon_0,...,\\epsilon_N,p)$$"
   ]
  },
  {
   "cell_type": "markdown",
   "id": "1e42f460",
   "metadata": {},
   "source": [
    "## Modelo de entradas y salidas\n",
    "\n",
    "En el modelo de entradas y salidas, se busca una función que represente la salida pero sin considerar los estados internos del sistema, sino únicamente los valores anteriores de la salida y de las entradas así:\n",
    "\n",
    "$$y_k = h(u[k],...,u[k-n],y[k-1],...,y[k-n])$$\n",
    "\n",
    "**En tiempo Discreto:** Un modelo de entrada/salida en tiempo discreto, está dado por la siguiente ecuación recursiva:\n",
    "\n",
    "$$y[k]+a_1y[k-1]+ ... +a_{n_a}y[k-n_a] = b_0u[k]+...+b_{n_b}u[k-n_b]$$\n",
    "\n",
    "$$y[k] = -a_1y[k-1]- ... -a_{n_a}y[k-n_a] + b_0u[k]+...+b_{n_b}u[k-n_b]$$\n",
    "\n",
    "De donde se evidencia que $p = (a_1,...,a_{n_a},b0,...,b_{n_b})$"
   ]
  },
  {
   "cell_type": "code",
   "execution_count": null,
   "id": "1d57ceb8",
   "metadata": {},
   "outputs": [],
   "source": []
  }
 ],
 "metadata": {
  "kernelspec": {
   "display_name": "Python 3 (ipykernel)",
   "language": "python",
   "name": "python3"
  },
  "language_info": {
   "codemirror_mode": {
    "name": "ipython",
    "version": 3
   },
   "file_extension": ".py",
   "mimetype": "text/x-python",
   "name": "python",
   "nbconvert_exporter": "python",
   "pygments_lexer": "ipython3",
   "version": "3.10.9"
  }
 },
 "nbformat": 4,
 "nbformat_minor": 5
}
