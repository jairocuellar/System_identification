{
 "cells": [
  {
   "cell_type": "markdown",
   "id": "1e0682a7",
   "metadata": {},
   "source": [
    "# IDENTIFICACIÓN DE SISTEMAS\n",
    "\n",
    "Profesor: Jairo Alberto Cuéllar Guarnizo  \n",
    "Programa: Ingeniería en Automatización y Control"
   ]
  },
  {
   "cell_type": "markdown",
   "id": "99af9d89",
   "metadata": {},
   "source": [
    "# Modelamiento de Sistemas Dinámicos en Tiempo Discreto\n",
    "\n",
    "\n",
    "## Respuesta al Impulso, perturbaciones y funciones de transferencia\n",
    "\n",
    "En lazo abierto, el modelo básico de un sistema LTI puede ser el siguiente:\n",
    "\n",
    "![OL_LTI](figuras/lti_model.png)\n",
    "\n",
    "En este caso ante una excitación de tipo escalar u(t) y conociendo que dentro del bloque del sistema existen parámetros que se enmarcan en la función $g(\\tau)$, la respuesta a un escalón sería la siguiente:\n",
    "\n",
    "$$y(t) = \\int_{0}^{\\lambda}g(\\tau)u(t-\\tau)d\\tau$$\n",
    "\n",
    "La respuesta al escalón puede brindar una descripción completa del comportamiento interno del sistema dinámico. En tiempo discreto tendríamos lo siguiente:\n",
    "\n",
    "$$y(kT) = \\int_{0}^{\\lambda}g(\\tau)u(kT-\\tau)d\\tau$$\n",
    "\n",
    "T, es ahora entonces el periodo de muestreo y k = 1, 2, ... y siempre son enteros. Para mayor facilidad y usando t para referirnos a los instantes del tiempo muestreado, podemos escribir entonces:\n",
    "\n",
    "$$y[t] = \\sum_{k = 1}^{\\infty}g[k]u[t-k]$$\n",
    "\n",
    "Para t = 0,1,2..."
   ]
  },
  {
   "cell_type": "markdown",
   "id": "0749895b",
   "metadata": {},
   "source": [
    "## Sistema con Perturbación\n",
    "\n",
    "Se asume que hay un factor de incertidumbre en la captura de información referente al sistema y los modelamos con una función $v[t]$ que representa.\n",
    "\n",
    "![OL_LTID](figuras/lti_dist.png)\n",
    "\n",
    "$$y[t] = \\sum_{k = 1}^{\\infty}g[k]u[t-k] + v[t]$$\n",
    "\n",
    "La señal v[t] puede definirse entonces de la siguiente manera:\n",
    "\n",
    "$$v[t] = \\sum_{k = 1}^{\\infty}h[k]e[t-k]$$\n",
    "\n",
    "Donde $e[t]$ sería una señal de ruido blanco (Distribución normal, media 0 y varianza $\\sigma$). Y $h[k]$ una serie de pesos que eventualmente se podrían considerar como las características del sensor o instrumento de medición con el que se capture la señal y(t). Por tanto el modelo puede reescribirse de la siguiente manera:\n",
    "\n",
    "$$y[t] = \\sum_{k = 1}^{\\infty}g[k]u[t-k] + \\sum_{k = 1}^{\\infty}h[k]e[t-k]$$"
   ]
  },
  {
   "cell_type": "markdown",
   "id": "23e3f01a",
   "metadata": {},
   "source": [
    "## Función de Transferencia\n",
    "\n",
    "En este punto conviene introducir los operadores de adelanto $z$ y atraso $z^{-1}$. De la siguiente manera:\n",
    "\n",
    "$$u[k+1] = zu[k]$$\n",
    "$$u[k-1] = z^{-1}u[k]$$\n",
    "\n",
    "Lo cuál permite reescribir la ecuación:\n",
    "\n",
    "$$y[t] = \\sum_{k = 1}^{\\infty}z^{-k}g[k]u[t] + \\sum_{k = 1}^{\\infty}z^{-k}h[k]e[t]$$\n",
    "\n",
    "Definiendo que: $G(z) = \\sum_{k = 1}^{\\infty}z^{-k}g[k]$ y que $H(z)=\\sum_{k = 1}^{\\infty}z^{-k}h[k]$, se tiene entonces que la representación de la salida del sistema se puede dar por:\n",
    "\n",
    "$$y[t] = G(z)u[t] + H(z)e[t]$$"
   ]
  },
  {
   "cell_type": "markdown",
   "id": "40db17a3",
   "metadata": {},
   "source": [
    "## Sistemas Modelado mediante ecuación de error\n",
    "\n",
    "Una forma inmediata de parametrizar G y H, sería representarlas como funciones racionales en donde los parámetros serían los coeficientes de los polinomios del numerador y denominador. Esta forma particular de estimación, se conoce con el nombre de \"Modelo Caja Negra\".\n",
    "\n",
    "La salida de un sistema en tiempo discreto, puede describirse de forma simple como la relación de los valores anteriores de la salida y los valores actuales y anteriores de las entradas más el factor de incertidumbre o error así:\n",
    "\n",
    "$$y[k]+a_1y[k-1]+...+a_{n_a}y[k-{n_a}] = b_1u[k-1]+b_2u[k-2]+...+b_{n_b}u[k-{n_b}] + e[k]$$\n",
    "\n",
    "Aplicando el operador de atraso, se tendría entonces:\n",
    "\n",
    "$$y[k]+z^{-1}a_1y[k]+...+z^{-{n_a}}a_{n_a}y[k] = z^{-1}b_1u[k]+z^{-2}b_2u[k]+...+z^{-{n_b}}b_{n_b}u[k] + e[k]$$\n",
    "\n",
    "Podemos definir los polinomios de q, A y B así: $A(z) = 1+a_1z^{-1}+...+a_{n_a}z^{-{n_a}}$, además aparece $B(z) = b_1z^{-1}+b_2z^{-2}+...+b_{n_b}z^{-{n_b}}$. Reescribiendo un poco la expresión anterior:\n",
    "\n",
    "$$[1+a_1z^{-1}+...+a_{n_a}z^{-{n_a}}]y[k]= [b_1z^{-1}+b_2z^{-2}+...+b_{n_b}z^{-{n_b}}]u[k] + e[k]$$\n",
    "\n",
    "Despejando $y[t]$ para poder comparar con lo obtenido anteriormente se tiene que:\n",
    "\n",
    "$$A[z]y[k]= B[z]u[k] + e[k]$$\n",
    "\n",
    "Reorganizando entonces:\n",
    "\n",
    "$$y[k]= \\frac{B[z]}{A[z]}u[k] + \\frac{1}{A[z]}e[k]$$\n",
    "\n",
    "Este modelo se denomina modelo ARX que hace referencia a la parte Autoregresiva de la expresión $A[z]y[t]$ y la X hace referencia a las entradas exógenes o extras $B[z]u[t]$.\n",
    "\n",
    "![OL_LTID2](figuras/lti_arx.png)\n",
    "\n",
    "Retomando el modelo de la función de transferencia entonces se tendría claramente que:\n",
    "\n",
    "$G[z] = \\frac{B[z]}{A[z]}$ y por tanto $H[z] = \\frac{1}{A[z]}$."
   ]
  },
  {
   "cell_type": "markdown",
   "id": "f066f18d",
   "metadata": {},
   "source": [
    "## Estimando un modelo para la ecuación del error\n",
    "\n",
    "Se hace necesario recalcar que para la Identificación del sistema, se espera reconstruir el modelo a partir de las mediciones de las salidas y entradas y el objetivo entonces es obtener el vector de parámetros $\\theta = [a_1, a_2,...,a_{n_a}, b_1, b_2,...,b_{n_b}]^T$.\n",
    "\n",
    "$$y[k] = -a_1y[k-1]-...-a_{n_a}y[k-{n_a}] + b_1u[k-1]+b_2u[k-2]+...+b_{n_b}u[k-{n_b}] + e[k]$$\n",
    "\n",
    "Conforme con la relación obtenida para el vector $\\theta$, se podría reescribir este modelo así:\n",
    "\n",
    "$$y[k] = \\phi.\\theta + e[k]$$\n",
    "\n",
    "Por tanto para este caso, la matriz de regresión tendría la siguiente forma:\n",
    "\n",
    "$$\\phi = \\begin{bmatrix}-y[k-1]&-y[k-2]&...&-y[k-{n_a}]&u[k-1]&u[k-2]&...&u[k-{n_b}]\\end{bmatrix}$$\n",
    "\n",
    "Y la matriz de parámetros sería entonces:\n",
    "\n",
    "$$\\theta = [a_1, a_2,...,a_{n_a}, b_1, b_2,...,b_{n_b}]^T$$"
   ]
  },
  {
   "cell_type": "code",
   "execution_count": null,
   "id": "ffa3a13f",
   "metadata": {},
   "outputs": [],
   "source": []
  }
 ],
 "metadata": {
  "kernelspec": {
   "display_name": "Python 3 (ipykernel)",
   "language": "python",
   "name": "python3"
  },
  "language_info": {
   "codemirror_mode": {
    "name": "ipython",
    "version": 3
   },
   "file_extension": ".py",
   "mimetype": "text/x-python",
   "name": "python",
   "nbconvert_exporter": "python",
   "pygments_lexer": "ipython3",
   "version": "3.10.9"
  }
 },
 "nbformat": 4,
 "nbformat_minor": 5
}
