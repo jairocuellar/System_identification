{
 "cells": [
  {
   "cell_type": "code",
   "execution_count": 2,
   "id": "d608ba40",
   "metadata": {},
   "outputs": [],
   "source": [
    "from sympy import MatrixSymbol, Matrix, Identity\n",
    "\n",
    "import sympy as sym\n",
    "import pandas as pd\n",
    "import math\n",
    "\n",
    "sym.init_printing()\n",
    "%matplotlib inline\n",
    "\n",
    "import numpy as np\n",
    "import matplotlib.pyplot as plt\n",
    "import seaborn as sns\n",
    "import control\n",
    "import random"
   ]
  },
  {
   "cell_type": "markdown",
   "id": "1e0682a7",
   "metadata": {},
   "source": [
    "# IDENTIFICACIÓN DE SISTEMAS\n",
    "\n",
    "Profesor: Jairo Alberto Cuéllar Guarnizo  \n",
    "Programa: Ingeniería en Automatización y Control"
   ]
  },
  {
   "cell_type": "markdown",
   "id": "55b7828f",
   "metadata": {
    "scrolled": true
   },
   "source": [
    "## Sistemas de segundo orden\n",
    "\n",
    "Un sistema de segundo orden es aquel que en su modelo analítico en tiempo continuo, involucra por lo menos una segunda derivada de la variable de interés. Los parámetros a tener en cuenta para la identificación son: La frecuencia natural del sistema ($w_n$), el coeficiente de amortiguamiento ($\\zeta$).\n",
    "\n",
    "$$G(s)=K\\frac{w_n^2}{s^2 + 2 \\zeta w_n s + w_n^2}$$\n",
    "\n",
    "Se debe recordar que el tiempo de establecimiento del sistema, el tiempo del pico y el sobrepaso máximo están relacionados con la frecuencia natural y con el índice de amortiguamiento.\n",
    "\n",
    "$$Mp = 100\\frac{x_{max} - x_{ss}}{x_{ss}}$$\n",
    "\n",
    "$$Mp = 100 e^{-\\frac{\\pi \\zeta}{\\sqrt{1-\\zeta^2}}}$$\n",
    "\n",
    "De la segunda expresión se podría despejar el coeficiente de amortiguamiento así:\n",
    "\n",
    "$$\\zeta = \\frac{-ln\\left(\\frac{Mp}{100}\\right)}{\\sqrt{\\pi^2+ln\\left(\\frac{Mp}{100}\\right)^2}}$$\n",
    "\n",
    "Es claro que el valor de sobreimpulso ocurre en un tiempo del pico, así:\n",
    "\n",
    "$$t_p = \\frac{\\pi}{w_n\\sqrt{1-\\zeta^2}}$$\n"
   ]
  },
  {
   "cell_type": "code",
   "execution_count": 3,
   "id": "3edc13e4",
   "metadata": {},
   "outputs": [
    {
     "data": {
      "image/png": "[encoded data removed]",
      "text/latex": [
       "$\\displaystyle \\left( 7.17469089611241, \\  0.6\\right)$"
      ],
      "text/plain": [
       "(7.174690896112407, 0.6)"
      ]
     },
     "execution_count": 3,
     "metadata": {},
     "output_type": "execute_result"
    },
    {
     "data": {
      "image/png": "[encoded data removed]",
      "text/plain": [
       "<Figure size 640x480 with 1 Axes>"
      ]
     },
     "metadata": {},
     "output_type": "display_data"
    }
   ],
   "source": [
    "## Respuesta típica de un sistema de segundo orden con ruido\n",
    "## Simulando el experimento de medición\n",
    "## Definir valores originales y necesarios para la simulación:\n",
    "K = np.random.rand()*8\n",
    "wn = np.random.rand()*8\n",
    "#K = 8\n",
    "#wn = 8\n",
    "\n",
    "z = np.random.rand()\n",
    "z = 0.6\n",
    "\n",
    "tf = 10\n",
    "dt = 0.1\n",
    "t = np.linspace(0,tf,int(tf/dt)+1)\n",
    "\n",
    "g = control.tf([K*wn*wn],[1,2*z*wn,wn*wn])\n",
    "_,y = control.step_response(g,t)\n",
    "N = len(t)\n",
    "## Ruido para simular la señal de salida capturada \"yn\"\n",
    "r = 0.1\n",
    "e = np.random.normal(0,r,size=N)\n",
    "yn = y+e\n",
    "plt.plot(t,yn,color = 'red')\n",
    "\n",
    "wn, z"
   ]
  },
  {
   "cell_type": "markdown",
   "id": "2e0c79ab",
   "metadata": {},
   "source": [
    "## Experimento de identificación\n",
    "\n",
    "**Paso 1:** Determinar el porcentaje de sobrepaso para para calcular el índice de amortiguamiento del sistema. En este caso se debe \"observar\" el valor final de establecimiento del sistema."
   ]
  },
  {
   "cell_type": "code",
   "execution_count": 4,
   "id": "5b4f4fd0",
   "metadata": {},
   "outputs": [
    {
     "data": {
      "image/png": "[encoded data removed]",
      "text/latex": [
       "$\\displaystyle \\left( 0.220399617630086, \\  0.5\\right)$"
      ],
      "text/plain": [
       "(0.22039961763008553, 0.5)"
      ]
     },
     "execution_count": 4,
     "metadata": {},
     "output_type": "execute_result"
    }
   ],
   "source": [
    "## El porcentaje de sobrepaso (overshot) y el tiempo del pico\n",
    "\n",
    "## Valor observado de la gráfica de la respuesta.\n",
    "Kf = 5.2\n",
    "############\n",
    "\n",
    "###### Valor máximo alcanzado por la respuesta y Valor del sobrepaso\n",
    "Kmax = np.max(yn)\n",
    "os = ((Kmax - Kf)/Kf)\n",
    "############\n",
    "\n",
    "## Calculando el tiempo de pico\n",
    "for i in range(len(yn)):\n",
    "    if(yn[i]==Kmax):\n",
    "        tp = t[i]\n",
    "        break\n",
    "os, tp"
   ]
  },
  {
   "cell_type": "markdown",
   "id": "deccacb2",
   "metadata": {},
   "source": [
    "**Paso 2:** Calcular el valor aproximado de zeta ($\\zeta$) para el sistema."
   ]
  },
  {
   "cell_type": "code",
   "execution_count": 5,
   "id": "800a5948",
   "metadata": {},
   "outputs": [
    {
     "data": {
      "image/png": "[encoded data removed]",
      "text/latex": [
       "$\\displaystyle 0.433744429266442$"
      ],
      "text/plain": [
       "0.433744429266442"
      ]
     },
     "execution_count": 5,
     "metadata": {},
     "output_type": "execute_result"
    }
   ],
   "source": [
    "## Determinando el índice de amortiguamiento\n",
    "pi = math.pi\n",
    "ze = -math.log(os)/math.sqrt(pi*pi+math.log(os)*math.log(os))\n",
    "ze"
   ]
  },
  {
   "cell_type": "markdown",
   "id": "152f2cbe",
   "metadata": {},
   "source": [
    "**Paso 3:** Calculando la frecuencia natural del sistema"
   ]
  },
  {
   "cell_type": "code",
   "execution_count": 6,
   "id": "1c1dab1d",
   "metadata": {},
   "outputs": [
    {
     "data": {
      "image/png": "[encoded data removed]",
      "text/latex": [
       "$\\displaystyle 6.97329041967528$"
      ],
      "text/plain": [
       "6.9732904196752825"
      ]
     },
     "execution_count": 6,
     "metadata": {},
     "output_type": "execute_result"
    }
   ],
   "source": [
    "## Determinando el valor de wn a partir del tp y de zeta\n",
    "we = pi/(tp*math.sqrt(1-ze*ze))\n",
    "we"
   ]
  },
  {
   "cell_type": "code",
   "execution_count": 7,
   "id": "f3680ad2",
   "metadata": {},
   "outputs": [
    {
     "name": "stdout",
     "output_type": "stream",
     "text": [
      "5.677328440829321\n"
     ]
    }
   ],
   "source": [
    "## Calculando el tiempo de establecimiento y \n",
    "## determinando el valor aproximado del valor final\n",
    "ts = 4/(ze*we)\n",
    "ts\n",
    "\n",
    "## Actualizando el valor final utilizando el tiempo de establecimiento\n",
    "Kf = 0\n",
    "i2 = 0;\n",
    "for j in range(N):\n",
    "    if(t[j]>ts):\n",
    "        Kf = Kf+yn[j]\n",
    "        i2 = i2+1\n",
    "\n",
    "Kf = Kf/i2\n",
    "print(Kf)"
   ]
  },
  {
   "cell_type": "markdown",
   "id": "7151d832",
   "metadata": {},
   "source": [
    "**Paso 4:** Armando la función de transferencia de segundo orden."
   ]
  },
  {
   "cell_type": "code",
   "execution_count": 8,
   "id": "1b52853c",
   "metadata": {},
   "outputs": [
    {
     "data": {
      "text/plain": [
       "<matplotlib.legend.Legend at 0x1f9f3021120>"
      ]
     },
     "execution_count": 8,
     "metadata": {},
     "output_type": "execute_result"
    },
    {
     "data": {
      "image/png": "[encoded data removed]",
      "text/plain": [
       "<Figure size 640x480 with 1 Axes>"
      ]
     },
     "metadata": {},
     "output_type": "display_data"
    }
   ],
   "source": [
    "## Armando la función de transferencia aproximada:\n",
    "ge = control.tf([Kf*we*we],[1,2*ze*we,we*we])\n",
    "_,ye = control.step_response(ge,t)\n",
    "e = yn - ye\n",
    "plt.plot(t,yn,color = 'red')\n",
    "plt.plot(t,ye,color = 'black')\n",
    "plt.plot(t,e,color = 'blue')\n",
    "plt.legend(['Salida medida','Salida estimada','error'])\n"
   ]
  },
  {
   "cell_type": "code",
   "execution_count": 9,
   "id": "3a8f4df1",
   "metadata": {},
   "outputs": [
    {
     "data": {
      "text/latex": [
       "$$\\frac{276.1}{s^2 + 6.049 s + 48.63}$$"
      ],
      "text/plain": [
       "TransferFunction(array([276.07019698]), array([ 1.        ,  6.04925175, 48.62677928]))"
      ]
     },
     "execution_count": 9,
     "metadata": {},
     "output_type": "execute_result"
    }
   ],
   "source": [
    "## Función de transferencia estimada o identificada\n",
    "ge"
   ]
  },
  {
   "cell_type": "code",
   "execution_count": 10,
   "id": "a356835e",
   "metadata": {},
   "outputs": [
    {
     "data": {
      "text/latex": [
       "$$\\frac{292.1}{s^2 + 8.61 s + 51.48}$$"
      ],
      "text/plain": [
       "TransferFunction(array([292.13152821]), array([ 1.        ,  8.60962908, 51.47618945]))"
      ]
     },
     "execution_count": 10,
     "metadata": {},
     "output_type": "execute_result"
    }
   ],
   "source": [
    "## Función de transferencia original\n",
    "g"
   ]
  },
  {
   "cell_type": "code",
   "execution_count": null,
   "id": "fba79fa2",
   "metadata": {},
   "outputs": [],
   "source": []
  }
 ],
 "metadata": {
  "kernelspec": {
   "display_name": "Python 3 (ipykernel)",
   "language": "python",
   "name": "python3"
  },
  "language_info": {
   "codemirror_mode": {
    "name": "ipython",
    "version": 3
   },
   "file_extension": ".py",
   "mimetype": "text/x-python",
   "name": "python",
   "nbconvert_exporter": "python",
   "pygments_lexer": "ipython3",
   "version": "3.10.9"
  },
  "latex_envs": {
   "LaTeX_envs_menu_present": true,
   "autoclose": false,
   "autocomplete": true,
   "bibliofile": "biblio.bib",
   "cite_by": "apalike",
   "current_citInitial": 1,
   "eqLabelWithNumbers": true,
   "eqNumInitial": 1,
   "hotkeys": {
    "equation": "Ctrl-E",
    "itemize": "Ctrl-I"
   },
   "labels_anchors": false,
   "latex_user_defs": false,
   "report_style_numbering": false,
   "user_envs_cfg": false
  },
  "varInspector": {
   "cols": {
    "lenName": 16,
    "lenType": 16,
    "lenVar": 40
   },
   "kernels_config": {
    "python": {
     "delete_cmd_postfix": "",
     "delete_cmd_prefix": "del ",
     "library": "var_list.py",
     "varRefreshCmd": "print(var_dic_list())"
    },
    "r": {
     "delete_cmd_postfix": ") ",
     "delete_cmd_prefix": "rm(",
     "library": "var_list.r",
     "varRefreshCmd": "cat(var_dic_list()) "
    }
   },
   "types_to_exclude": [
    "module",
    "function",
    "builtin_function_or_method",
    "instance",
    "_Feature"
   ],
   "window_display": false
  }
 },
 "nbformat": 4,
 "nbformat_minor": 5
}
