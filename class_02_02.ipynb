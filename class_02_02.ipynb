{
 "cells": [
  {
   "cell_type": "code",
   "execution_count": 1,
   "id": "59f44449",
   "metadata": {},
   "outputs": [],
   "source": [
    "from sympy import MatrixSymbol, Matrix, Identity\n",
    "\n",
    "import sympy as sym\n",
    "\n",
    "sym.init_printing()\n",
    "%matplotlib inline\n",
    "\n",
    "import pandas as pd\n",
    "import numpy as np\n",
    "import matplotlib.pyplot as plt\n",
    "import control\n",
    "import random"
   ]
  },
  {
   "cell_type": "markdown",
   "id": "1e0682a7",
   "metadata": {},
   "source": [
    "# IDENTIFICACIÓN DE SISTEMAS\n",
    "\n",
    "Profesor: Jairo Alberto Cuéllar Guarnizo  \n",
    "Programa: Ingeniería en Automatización y Control"
   ]
  },
  {
   "cell_type": "markdown",
   "id": "bea6436d",
   "metadata": {},
   "source": [
    "# Estimadores estadísticos\n",
    "\n",
    "## ¿Qué es un estimador?\n",
    "\n",
    "Un estimador utiliza muchas mediciones de una variable aleatoria (**Y**), procesadas de forma computacional para estimar el valor de un vector de parámetros, para este caso se usa la variable $\\theta$ para representar dicha estimación. La agrupación de las medidas se llamaran $Y_N$, el estimador sería una función de $Y_N$, debido a dicha dependencia el estimador sería una variable aleatoria también, por tanto tiene un valor medio y covarianza. De manera ideal el valor esperado de la función de estimación es el parámetro real $\\theta_0$ y es desconocido.\n",
    "\n",
    "**Imparcialidad:** Un estimador $\\theta_N$ es imparcial (unbiased), si el valor esperado del estimador es el valor real del parámetro, de lo contrario será sesgada. \n",
    "\n",
    "$$E\\{\\theta_N(Y_N)\\} = \\theta_0$$\n",
    "\n",
    "**Imparcialidad asintótica:** en este caso el valor esperado del estimador con infinito número de muestras debe ser el valor real.\n",
    "\n",
    "$$\\lim_{N\\rightarrow\\infty}E\\{\\theta_N(Y_N)\\} = \\theta_0$$ \n",
    "\n",
    "**Consistencia:** Un estimador se dice consistente cuando es imparcialmente asintótico y cuando su covarianza tiende a cero para N infinita.\n",
    "\n",
    "**Estimador de Media muestral:** Uno de los ejemplos más simples de estimadores es la media simple de una variable aleatoria escalar $Y_N$ promediando sus N mediciones. El estimador sería el siguiente:  \n",
    "\n",
    "$$\\theta_N(Y_N) =\\frac{1}{N}\\sum_{k=1}^{N}Y(k)$$ \n",
    "\n",
    "El estimador es imparcial o sin sesgo debido a que su valor esperado es la **media muestral ($\\mu_Y$)** de $Y_N$.\n",
    "\n",
    "$$E\\{\\theta_N(Y_N)\\} =\\frac{1}{N}\\sum_{k=1}^{N}E\\{Y(k)\\} = \\frac{1}{N}\\sum_{k=1}^{N}\\mu_Y = \\mu_Y$$ \n",
    "\n",
    "**Estimador de Varianza:** En lugar de la media simple, se puede utilizar un estimador de varianza que sería de la siguiente manera: \n",
    "\n",
    "$$\\theta_N(Y_N) =\\frac{1}{N}\\sum_{k=1}^{N}(Y(k)-M(Y_N))^2$$ \n",
    "\n",
    "Este estimador es asintóticamente imparcial debido a que cuando N es infinito el valor esperado tiende al valor real, como es un estimador de varianza se espera que el valor real sea $\\sigma_Y^2 $.\n",
    "\n",
    "$$E(\\theta_N)=E\\left(\\frac{1}{N}\\sum_{k=1}^{N}(Y(k)-M(Y_N))^2)\\right)=\\frac{1}{N}\\sum_{k=1}^{N}E(Y(k)-M(Y_N))^2$$\n",
    "\n",
    "$$E(\\theta_N)=\\frac{1}{N}\\sum_{k=1}^{N}\\left(E\\{Y(k)^2\\}-2E\\{Y(k)M(Y_N)\\}+E\\{M(Y_2)^2\\}\\right)$$\n",
    "\n",
    "$$E(\\theta_N)=\\frac{N-1}{N}\\sigma_Y^2$$\n",
    "\n",
    "Con el número de mediciones cercano a infinito, se puede concluir que el estimador de varianza es asintóticamente imparcial dado que el valor esperado del estimador es el valor real.\n",
    "\n",
    "$$\\lim_{N\\rightarrow\\infty}E\\{\\theta_N\\} = \\sigma_Y^2$$ "
   ]
  },
  {
   "cell_type": "markdown",
   "id": "350bb7e6",
   "metadata": {},
   "source": [
    "# EJEMPLO - Estimación de la resistencia\n",
    "\n",
    "Dados los valores de V[k] e I[k], se espera poder estimar el valor real de la resistencia $R_0$. En teoría dicho valor debe ser la relación entre el valor real del voltaje y el valor real de corriente:\n",
    "\n",
    "$$R_0 = \\frac{V_0}{I_0}$$\n",
    "\n",
    "Se toma el error de los valores capturados de la siguiente manera:\n",
    "\n",
    "$$V[k] = V_0 + \\eta_V[k]$$\n",
    "$$I[k] = I_0 + \\eta_I[k]$$\n",
    "\n",
    "Los ruidos incluidos para la medición tienen un valor medio de 0 y varianzas finitas de valores $\\sigma_I^2$ y $\\sigma_V^2$."
   ]
  },
  {
   "cell_type": "markdown",
   "id": "aaa0e4e5",
   "metadata": {},
   "source": [
    "## Error en cada variable\n",
    "\n",
    "Recordar lo siguiente:\n",
    "\n",
    "$$ R_2[N] =\\frac{\\frac{1}{N}\\sum_{k=1}^{N}V[k]}{\\frac{1}{N}\\sum_{k=1}^{N}I[k]}=\\frac{\\frac{1}{N}\\sum_{k=1}^{N}(V_0+\\eta_V[k])}{\\frac{1}{N}\\sum_{k=1}^{N}(I_0+\\eta_I[k])} $$\n",
    "\n",
    "Verificando que el estimador sea asintóticamente imparcial:\n",
    "\n",
    "$$\\lim_{N\\rightarrow\\infty}E\\{R_2\\} = \\frac{\\lim_{N\\rightarrow\\infty}\\frac{1}{N}\\sum_{k=1}^{N}(V_0+\\eta_V[k])}{\\lim_{N\\rightarrow\\infty}\\frac{1}{N}\\sum_{k=1}^{N}(I_0+\\eta_I[k])} $$ \n",
    "\n",
    "$$\\lim_{N\\rightarrow\\infty}E\\{R_2\\} = \\frac{V_0+\\lim_{N\\rightarrow\\infty}\\frac{1}{N}\\sum_{k=1}^{N}\\eta_V[k]}{I_0+\\lim_{N\\rightarrow\\infty}\\frac{1}{N}\\sum_{k=1}^{N}(\\eta_I[k])} $$\n",
    "\n",
    "$$\\lim_{N\\rightarrow\\infty}E\\{R_2\\} = \\frac{V_0}{I_0} = R_0 $$"
   ]
  },
  {
   "cell_type": "code",
   "execution_count": null,
   "id": "e9501b64",
   "metadata": {},
   "outputs": [],
   "source": [
    "# AQUI AGREGAR EL CÓDIGO PARA VERIFICAR LO ANTERIOR"
   ]
  },
  {
   "cell_type": "markdown",
   "id": "53343719",
   "metadata": {},
   "source": [
    "## Mínimos cuadrados\n",
    "\n",
    "Recordar lo siguiente:\n",
    "\n",
    "$$ R_3[N] =\\frac{\\frac{1}{N}\\sum_{k=1}^{N}V[k]I[k]}{\\frac{1}{N}\\sum_{k=1}^{N}I[k]^2}=\\frac{\\frac{1}{N}\\sum_{k=1}^{N}(V_0+\\eta_V[k])(I_0+\\eta_I[k])}{\\frac{1}{N}\\sum_{k=1}^{N}(I_0+\\eta_I[k])^2} $$\n",
    "\n",
    "Verificando que sea asintóticamente imparcial, se procede a analizar el numerador dentro del $\\lim_{N\\rightarrow\\infty}$:\n",
    "\n",
    "$$\\lim_{N\\rightarrow\\infty}\\frac{1}{N}\\sum_{k=1}^{N}(V_0.I_0+V_0.\\eta_I[k]+I_0.\\eta_V[k]+\\eta_I[k].\\eta_V[k]) = V_0.I_0$$\n",
    "\n",
    "Ahora se procede a analizar el denominador dentro del $\\lim_{N\\rightarrow\\infty}$:\n",
    "\n",
    "$$\\lim_{N\\rightarrow\\infty}\\frac{1}{N}\\sum_{k=1}^{N}(I_0^2+2.I_0.\\eta_I[k]+\\eta_I[k]^2) = I_0^2+\\sigma_I^2$$\n",
    "\n",
    "$$\\lim_{N\\rightarrow\\infty}R_3=\\frac{V_0.I_0}{I_0^2+\\sigma_I^2}=\\frac{R_0}{1+\\frac{\\sigma_I^2}{I_0^2}}$$\n",
    "\n",
    "Se concluye que este estimador tiene un valor menor que el verdadero siempre por tanto es sesgado.\n"
   ]
  },
  {
   "cell_type": "code",
   "execution_count": null,
   "id": "9b6cdfde",
   "metadata": {},
   "outputs": [],
   "source": [
    "# AQUI AGREGAR EL CÓDIGO PARA VERIFICAR LO ANTERIOR"
   ]
  },
  {
   "cell_type": "markdown",
   "id": "bc73ec76",
   "metadata": {},
   "source": [
    "## Media simple\n",
    "\n",
    "Recordar lo siguiente:\n",
    "\n",
    "$$ R_1[N] =\\frac{1}{N}\\sum_{k=1}^{N}\\frac{V[k]}{I[k]}=\\frac{1}{N}\\sum_{k=1}^{N}\\frac{V_0+\\eta_V[k]}{I_0+\\eta_I[k]}$$\n",
    "\n",
    "Verificando que sea asintóticamente imparcial, se procede a analizar el estimador dentro del $\\lim_{N\\rightarrow\\infty}$, además se utiliza una aproximación de la Serie de Taylor para valores de |x|<1 así:\n",
    "\n",
    "$$\\frac{1}{1+x} = 1-x+x^2-x^3+x^4-x^5...$$\n",
    "\n",
    "$$\\lim_{N\\rightarrow\\infty}\\frac{1}{N}\\sum_{k=1}^{N}\\frac{V_0.(1+\\frac{\\eta_V[k]}{V_0})}{I_0(1+\\frac{\\eta_I[k]}{I_0})} = $$\n",
    "\n",
    "$$\\frac{V_0}{I_0}\\lim_{N\\rightarrow\\infty}\\frac{1}{N}\\sum_{k=1}^{N}\\left(1+\\frac{\\eta_V[k]}{V_0}\\right)\\left(1-\\frac{\\eta_I[k]}{I_0}+(\\frac{\\eta_I[k]}{I_0})^2-(\\frac{\\eta_I[k]}{I_0})^3+(\\frac{\\eta_I[k]}{I_0})^4 ...\\right) = $$\n",
    "\n",
    "$$R_0\\lim_{N\\rightarrow\\infty}\\frac{1}{N}\\sum_{k=1}^{N}\\left(1+\\frac{\\eta_V[k]}{V_0}-\\frac{\\eta_I[k]}{I_0}-\\frac{\\eta_I[k].\\eta_V[k]}{V_0.I_0}+(\\frac{\\eta_I[k]}{I_0})^2+ ...\\right) = $$\n",
    "\n",
    "$$\\lim_{N\\rightarrow\\infty}R_1[N] =R_0.\\left(1+\\frac{\\sigma_I^2}{I_0^2}\\right)$$\n",
    "\n",
    "Se concluye que este estimador tiene un valor mayor que el verdadero siempre, por tanto es sesgado."
   ]
  },
  {
   "cell_type": "code",
   "execution_count": null,
   "id": "eefda223",
   "metadata": {},
   "outputs": [],
   "source": [
    "# AQUI AGREGAR EL CÓDIGO PARA VERIFICAR LO ANTERIOR"
   ]
  }
 ],
 "metadata": {
  "kernelspec": {
   "display_name": "Python 3 (ipykernel)",
   "language": "python",
   "name": "python3"
  },
  "language_info": {
   "codemirror_mode": {
    "name": "ipython",
    "version": 3
   },
   "file_extension": ".py",
   "mimetype": "text/x-python",
   "name": "python",
   "nbconvert_exporter": "python",
   "pygments_lexer": "ipython3",
   "version": "3.10.9"
  }
 },
 "nbformat": 4,
 "nbformat_minor": 5
}
