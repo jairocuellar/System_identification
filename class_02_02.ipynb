{
 "cells": [
  {
   "cell_type": "code",
   "execution_count": 1,
   "id": "59f44449",
   "metadata": {},
   "outputs": [],
   "source": [
    "from sympy import MatrixSymbol, Matrix, Identity\n",
    "\n",
    "import sympy as sym\n",
    "\n",
    "sym.init_printing()\n",
    "%matplotlib inline\n",
    "\n",
    "import pandas as pd\n",
    "import numpy as np\n",
    "import matplotlib.pyplot as plt\n",
    "import control\n",
    "import random"
   ]
  },
  {
   "cell_type": "markdown",
   "id": "1e0682a7",
   "metadata": {},
   "source": [
    "# IDENTIFICACIÓN DE SISTEMAS\n",
    "\n",
    "Profesor: Jairo Alberto Cuéllar Guarnizo  \n",
    "Programa: Ingeniería en Automatización y Control"
   ]
  },
  {
   "cell_type": "markdown",
   "id": "bea6436d",
   "metadata": {},
   "source": [
    "# Unidad 1 - Introducción y Conceptos Básicos  \n",
    "\n",
    "## ¿Qué es la identificación de sistemas?\n",
    "\n",
    "CONCEPTO 1 - Es el conjunto de herramientas y experimentos que se diseñan y utilizan para lograr aproximar un modelo matemático de un sistema dinámico sobre el cuál se pueden realizar mediciones de sus entradas y salidas.\n",
    "\n",
    "CONCEPTO 2 - Uso de métodos estadísticos para lograr la aproximación de un modelo matemático de un sistema cuya información paramétrica es desconocida parcial o totalmente, y del cual se cuenta con mediciones de las variables de interés.\n"
   ]
  },
  {
   "cell_type": "markdown",
   "id": "48565256",
   "metadata": {},
   "source": [
    "**Aproximación Simple**\n",
    "\n",
    "En este tipo de aproximación se promedia el valor de la Resistencia que se obtuvo en cada experimento realizado.\n",
    "\n",
    "\\begin{equation}\n",
    "R_1[N] = \\frac{1}{N}\\sum_{k=1}^{N}\\frac{V[k]}{I[k]}\n",
    "\\end{equation}  "
   ]
  },
  {
   "cell_type": "code",
   "execution_count": 2,
   "id": "f744501b",
   "metadata": {},
   "outputs": [],
   "source": [
    "# Datos a utilizar\n",
    "vk = []\n",
    "ik = []\n",
    "N = 20\n",
    "Nk = []\n",
    "V_p = I_p = P_p = 0;\n",
    "R1 = R2 = R3 = 0;\n",
    "Rv = 30;\n",
    "\n",
    "for k in range(N):\n",
    "    Nk.append(k+1)\n",
    "    vk.append(random.random()*100)\n",
    "    temp = Rv+random.random()\n",
    "    ik.append(vk[k]/temp)"
   ]
  },
  {
   "cell_type": "code",
   "execution_count": 3,
   "id": "20a323c3",
   "metadata": {},
   "outputs": [
    {
     "name": "stdout",
     "output_type": "stream",
     "text": [
      "Aproximación simple: 30.277857036610236\n",
      "Error en variable: 30.29016000614747\n",
      "Minimos cuadrados: 30.284079118725355\n"
     ]
    }
   ],
   "source": [
    "# Aproximación simple\n",
    "for k in range(N):\n",
    "    R1 = R1+(vk[k]/ik[k])\n",
    "R1 = R1/N\n",
    "print(\"Aproximación simple: \"+str(R1))\n",
    "\n",
    "\n",
    "# Error en cada Variable\n",
    "for k in range(N):\n",
    "    V_p = V_p +vk[k]\n",
    "    I_p = I_p +ik[k]\n",
    "V_p = V_p/N\n",
    "I_p = I_p/N\n",
    "R2 = V_p/I_p\n",
    "print(\"Error en variable: \"+str(R2))\n",
    "\n",
    "# Mínimos cuadrados\n",
    "temp = 0;\n",
    "for k in range(N):\n",
    "    P_p = P_p + vk[k]*ik[k]\n",
    "    temp = temp + ik[k]*ik[k]\n",
    "P_p = P_p/N\n",
    "temp = temp/N\n",
    "R3 = P_p/temp\n",
    "print(\"Minimos cuadrados: \"+str(R3))\n"
   ]
  }
 ],
 "metadata": {
  "kernelspec": {
   "display_name": "Python 3 (ipykernel)",
   "language": "python",
   "name": "python3"
  },
  "language_info": {
   "codemirror_mode": {
    "name": "ipython",
    "version": 3
   },
   "file_extension": ".py",
   "mimetype": "text/x-python",
   "name": "python",
   "nbconvert_exporter": "python",
   "pygments_lexer": "ipython3",
   "version": "3.10.9"
  }
 },
 "nbformat": 4,
 "nbformat_minor": 5
}
