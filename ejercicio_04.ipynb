{
 "cells": [
  {
   "cell_type": "markdown",
   "id": "2ea66398",
   "metadata": {},
   "source": [
    "# IDENTIFICACION DE SISTEMAS - Ejercicio 3\n",
    "\n",
    "Profesor: Jairo Alberto Cuéllar Guarnizo  \n",
    "Programa: Ingeniería en Automatización y Control"
   ]
  },
  {
   "cell_type": "markdown",
   "id": "f02dbf76",
   "metadata": {},
   "source": [
    "# Elaborado por:\n",
    "\n",
    "* Nombre 1, apellido 1\n",
    "* Nombre 2, apellido 2"
   ]
  },
  {
   "cell_type": "markdown",
   "id": "bea6436d",
   "metadata": {},
   "source": [
    "# Ejercicio 3 - Polinomios Autoregresivos (Modelo ARX)\n",
    "\n",
    "## Descripción del ejercicio:\n",
    "\n",
    "Obtener un modelo ARX estimado usando los polinomios autoregresivos (A y B), siga las orientaciones de las clases 7 y 8. Suponga que la planta del sistema originalmente tiene la siguiente representación:\n",
    "\n",
    "$$Incluir aquí las ecuaciones del espacio de estados$$\n"
   ]
  },
  {
   "cell_type": "code",
   "execution_count": null,
   "id": "5233e6ea",
   "metadata": {},
   "outputs": [],
   "source": [
    "##Inserte aquí el código:"
   ]
  },
  {
   "cell_type": "markdown",
   "id": "94124d57",
   "metadata": {},
   "source": [
    "## Paso 1: Simulando el experimento de medición.\n",
    "\n",
    "Obtenga la respuesta al escalón de la función anterior, contamine dicha señal con un ruido blanco."
   ]
  },
  {
   "cell_type": "code",
   "execution_count": 1,
   "id": "450dba20",
   "metadata": {},
   "outputs": [],
   "source": [
    "#Inserte el código en este espacio."
   ]
  },
  {
   "cell_type": "markdown",
   "id": "59469434",
   "metadata": {},
   "source": [
    "## Paso 2\n",
    "\n",
    "Determine el regresor $\\phi$ para obtener los parámetros a identificar en el modelo estimado. Use los criterios señalados en clase, tenga presente el orden del sistema."
   ]
  },
  {
   "cell_type": "code",
   "execution_count": 2,
   "id": "21a819c6",
   "metadata": {},
   "outputs": [],
   "source": [
    "#Inserte el código en este espacio."
   ]
  },
  {
   "cell_type": "markdown",
   "id": "c559ffaf",
   "metadata": {},
   "source": [
    "## Paso 3\n",
    "\n",
    "De acuerdo con el regresor $\\phi$ establecido en el paso anterior, utilice el método de regresión lineal por mínimos cuadrados regularizados para determinar los parámetros del modelo ARX ($\\theta$)."
   ]
  },
  {
   "cell_type": "code",
   "execution_count": null,
   "id": "6048be73",
   "metadata": {},
   "outputs": [],
   "source": [
    "#Inserte el código en este espacio."
   ]
  },
  {
   "cell_type": "markdown",
   "id": "830c1bf7",
   "metadata": {},
   "source": [
    "## Paso 4\n",
    "\n",
    "Calcule los polinomios autoregresivos A(z) y B(z). Proponga la función de transferencia estimada.\n",
    "\n",
    "$$G_e(z) = \\frac{B(z)}{A(z)}$$"
   ]
  },
  {
   "cell_type": "code",
   "execution_count": null,
   "id": "ed316404",
   "metadata": {},
   "outputs": [],
   "source": [
    "#Inserte el código en este espacio."
   ]
  },
  {
   "cell_type": "markdown",
   "id": "50e28818",
   "metadata": {},
   "source": [
    "## Paso 5\n",
    "\n",
    "Determine la respuesta estimada $y_e$ obteniendo la respuesta al escalón unitario de la función $G_e$ (Presente en la misma gráfica la respuesta estimada y los datos medidos).\n",
    "\n",
    "Determine una respuesta adiciona estimada $y_e$ armando la siguiente ecuación con el predictor:\n",
    "\n",
    "$$y_e[k] = (1 - A)*y[k] + B*u[k]$$\n",
    "\n",
    "$$y_e[k] = -a_1*y[k-1]-a_2*y[k-2] -... -a_{n_a}y[k-n_a] + b_1*u[k-1]+ b_2*u[k-2]+ b_{n_b}*u[k-n_b]$$\n",
    "\n",
    "(Presente en la misma gráfica la respuesta estimada 2 y los datos medidos)"
   ]
  },
  {
   "cell_type": "code",
   "execution_count": 3,
   "id": "a2967424",
   "metadata": {},
   "outputs": [],
   "source": [
    "#Inserte el código en este espacio."
   ]
  },
  {
   "cell_type": "markdown",
   "id": "a508ef22",
   "metadata": {},
   "source": [
    "## Conclusiones\n",
    "\n",
    "Construya sus conclusiones acerca de las dos estimaciones obtenidas. \n",
    "Calcule el error cuadrático medio de ambas estimaciones y concluya al respecto."
   ]
  },
  {
   "cell_type": "code",
   "execution_count": null,
   "id": "3c96cbd0",
   "metadata": {},
   "outputs": [],
   "source": []
  }
 ],
 "metadata": {
  "kernelspec": {
   "display_name": "Python 3 (ipykernel)",
   "language": "python",
   "name": "python3"
  },
  "language_info": {
   "codemirror_mode": {
    "name": "ipython",
    "version": 3
   },
   "file_extension": ".py",
   "mimetype": "text/x-python",
   "name": "python",
   "nbconvert_exporter": "python",
   "pygments_lexer": "ipython3",
   "version": "3.10.9"
  }
 },
 "nbformat": 4,
 "nbformat_minor": 5
}
