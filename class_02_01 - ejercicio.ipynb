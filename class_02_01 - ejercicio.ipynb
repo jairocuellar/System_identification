{
 "cells": [
  {
   "cell_type": "code",
   "execution_count": 2,
   "id": "d608ba40",
   "metadata": {},
   "outputs": [],
   "source": [
    "from sympy import MatrixSymbol, Matrix, Identity\n",
    "\n",
    "import sympy as sym\n",
    "import pandas as pd\n",
    "import math\n",
    "\n",
    "sym.init_printing()\n",
    "%matplotlib inline\n",
    "\n",
    "import pandas as pd\n",
    "import numpy as np\n",
    "import matplotlib.pyplot as plt\n",
    "import seaborn as sns\n",
    "import control\n",
    "import random"
   ]
  },
  {
   "cell_type": "markdown",
   "id": "1e0682a7",
   "metadata": {},
   "source": [
    "# IDENTIFICACIÓN DE SISTEMAS\n",
    "\n",
    "Profesor: Jairo Alberto Cuéllar Guarnizo  \n",
    "Programa: Ingeniería en Automatización y Control"
   ]
  },
  {
   "cell_type": "markdown",
   "id": "55b7828f",
   "metadata": {
    "scrolled": true
   },
   "source": [
    "## Sistemas de primer orden\n",
    "\n",
    "Un sistema de primer orden es aquel que en su modelo analítico en tiempo continuo, involucra por lo menos una primera derivada de la variable de interés. Los parámetros a tener en cuenta para la identificación son: Constante de tiempo($\\tau$), ganancia (K).\n",
    "\n",
    "$$G(s)=\\frac{K}{\\tau s + 1}$$\n",
    "\n",
    "$\\tau$: Hace referencia a la velocidad de respuesta del sistema, tanto más grande la constante de tiempo más lento responde el sistema."
   ]
  },
  {
   "cell_type": "markdown",
   "id": "41f16ab1",
   "metadata": {},
   "source": [
    "## Ejemplo 1 - orden 1\n",
    "\n",
    "Por ejemplo, si modelamos o simulamos una adquisición de datos de un sistema de primer orden así:\n",
    "\n",
    "1. Primero se genera un valor aleatorio de ganancia $K$ y de constante de tiempo $\\tau$.\n",
    "2. Luego se declara la función de transferencia usando estos valores.\n",
    "3. Se aplica un escalón a dicho sistema y se almacena la respuesta temporal.\n",
    "4. Finalmente la respuesta del punto 3, se contamina con un ruido blanco valor medio 0 (esto con el fin de simular que los datos se midieron)."
   ]
  },
  {
   "cell_type": "code",
   "execution_count": 6,
   "id": "3edc13e4",
   "metadata": {},
   "outputs": [
    {
     "data": {
      "text/plain": [
       "[<matplotlib.lines.Line2D at 0x26657c13160>]"
      ]
     },
     "execution_count": 6,
     "metadata": {},
     "output_type": "execute_result"
    },
    {
     "data": {
      "image/png": "[encoded data removed]",
      "text/plain": [
       "<Figure size 640x480 with 1 Axes>"
      ]
     },
     "metadata": {},
     "output_type": "display_data"
    }
   ],
   "source": [
    "## Respuesta típica de un sis## Se cargan los datos que están en un archivo separado por comas.\n",
    "## Se obtuvieron de una simulación en MULTISIM de un filtro paso bajos de orden 2 (como el de la tarea)\n",
    "datos = pd.read_csv('data\\low3.csv')\n",
    "\n",
    "y = datos.y;\n",
    "u = datos.u;\n",
    "\n",
    "## Escala en ms\n",
    "t = datos.t1*1000;\n",
    "N = len(y);\n",
    "t1 = np.linspace(0, t[N-1], N)\n",
    "\n",
    "## Como es una simulación de un circuito la señal no contiene ruido, por tanto la contaminamos.\n",
    "r = 0.2\n",
    "e = np.random.normal(0,r,size=N)\n",
    "yn = y+e\n",
    "plt.plot(t,yn,color = 'red')\n"
   ]
  },
  {
   "cell_type": "markdown",
   "id": "2e0c79ab",
   "metadata": {},
   "source": [
    "## Experimento de identificación\n",
    "\n",
    "**Paso 1:** Identificar el 63.2% del valor final para poder determinar el $\\tau$ del sistema. Y el tiempo de establecimiento ($t_s = 4\\tau$).\n",
    "\n",
    "Este paso es visual, en el ejemplo se usa la variable Ke, para definir VISUALMENTE el valor final y esto es susceptible a que si el ruido es muy grande, se deba aproximar mucho el valor de Ke."
   ]
  },
  {
   "cell_type": "code",
   "execution_count": 7,
   "id": "5b4f4fd0",
   "metadata": {},
   "outputs": [
    {
     "data": {
      "image/png": "[encoded data removed]",
      "text/latex": [
       "$\\displaystyle \\left( 6.7666480689484, \\  1.6916620172371\\right)$"
      ],
      "text/plain": [
       "(6.7666480689484, 1.6916620172371)"
      ]
     },
     "execution_count": 7,
     "metadata": {},
     "output_type": "execute_result"
    }
   ],
   "source": [
    "## Determinando tao (sin conocer al función original)\n",
    "tao = 0;\n",
    "## Visualmente definimos el valor final\n",
    "Ke = 9\n",
    "\n",
    "## 63.2% DE ESE VALOR\n",
    "V6 = 0.632*Ke;\n",
    "\n",
    "## Compara los valores de la salida y cuando sea mayor o igual\n",
    "## Al 63% del valor final, se extrae del vecto tiempo el valor temporal que corresponde a Tao\n",
    "\n",
    "for k in range(N):\n",
    "    if(yn[k]>=V6):\n",
    "        tao = t[k]\n",
    "        break\n",
    "\n",
    "## Calculando el tiempo de establecimiento\n",
    "ts = 4*tao\n",
    "ts, tao"
   ]
  },
  {
   "cell_type": "markdown",
   "id": "deccacb2",
   "metadata": {},
   "source": [
    "**Paso 2:** Determinar una aproximación mas real del valor final, para este caso es calcular el valor promedio de todas las \"yn\" para un tiempo mayor al de establecimiento."
   ]
  },
  {
   "cell_type": "code",
   "execution_count": 8,
   "id": "800a5948",
   "metadata": {},
   "outputs": [
    {
     "name": "stdout",
     "output_type": "stream",
     "text": [
      "9.877319533398936\n"
     ]
    }
   ],
   "source": [
    "## Calculando el valor final (Sin conocer sistema original)\n",
    "Kf = 0\n",
    "i2 = 0;\n",
    "\n",
    "## A partir del tiempo de establecimiento se promedian todos los datos de la salida,\n",
    "## Entendiendo que oscilan poco alrededor del valor final real.\n",
    "\n",
    "for j in range(N):\n",
    "    if(t[j]>ts):\n",
    "        Kf = Kf+yn[j]\n",
    "        i2 = i2+1\n",
    "\n",
    "Kf = Kf/i2\n",
    "print(Kf)                "
   ]
  },
  {
   "cell_type": "markdown",
   "id": "152f2cbe",
   "metadata": {},
   "source": [
    "**Paso 3:** Armar la función de transferencia estimada"
   ]
  },
  {
   "cell_type": "code",
   "execution_count": 9,
   "id": "a9709494",
   "metadata": {},
   "outputs": [],
   "source": [
    "## Armando la función de transferencia aproximada:\n",
    "ge = control.tf([Kf],[tao,1])\n",
    "_,ye = control.step_response(ge,t1)\n"
   ]
  },
  {
   "cell_type": "code",
   "execution_count": 10,
   "id": "1b52853c",
   "metadata": {},
   "outputs": [
    {
     "data": {
      "text/plain": [
       "<matplotlib.legend.Legend at 0x26657d69600>"
      ]
     },
     "execution_count": 10,
     "metadata": {},
     "output_type": "execute_result"
    },
    {
     "data": {
      "image/png": "[encoded data removed]",
      "text/plain": [
       "<Figure size 640x480 with 1 Axes>"
      ]
     },
     "metadata": {},
     "output_type": "display_data"
    }
   ],
   "source": [
    "## Interpolando los datos con el nuevo arreglo temporal\n",
    "yn_int = np.interp(t1, t, yn)\n",
    "e = yn_int - ye\n",
    "\n",
    "plt.plot(t1,yn_int,color = 'red')\n",
    "plt.plot(t1,ye,color = 'black')\n",
    "plt.plot(t1,e,color = 'blue')\n",
    "plt.legend(['Salida medida','Salida estimada'])\n"
   ]
  },
  {
   "cell_type": "code",
   "execution_count": 21,
   "id": "a8ff70ad",
   "metadata": {},
   "outputs": [
    {
     "data": {
      "text/latex": [
       "$$\\frac{9.843}{1.892 s + 1}$$"
      ],
      "text/plain": [
       "TransferFunction(array([9.84338672]), array([1.89166202, 1.        ]))"
      ]
     },
     "execution_count": 21,
     "metadata": {},
     "output_type": "execute_result"
    }
   ],
   "source": [
    "ge"
   ]
  },
  {
   "cell_type": "code",
   "execution_count": null,
   "id": "0cec2bf0",
   "metadata": {},
   "outputs": [],
   "source": []
  }
 ],
 "metadata": {
  "kernelspec": {
   "display_name": "Python 3 (ipykernel)",
   "language": "python",
   "name": "python3"
  },
  "language_info": {
   "codemirror_mode": {
    "name": "ipython",
    "version": 3
   },
   "file_extension": ".py",
   "mimetype": "text/x-python",
   "name": "python",
   "nbconvert_exporter": "python",
   "pygments_lexer": "ipython3",
   "version": "3.10.9"
  },
  "latex_envs": {
   "LaTeX_envs_menu_present": true,
   "autoclose": false,
   "autocomplete": true,
   "bibliofile": "biblio.bib",
   "cite_by": "apalike",
   "current_citInitial": 1,
   "eqLabelWithNumbers": true,
   "eqNumInitial": 1,
   "hotkeys": {
    "equation": "Ctrl-E",
    "itemize": "Ctrl-I"
   },
   "labels_anchors": false,
   "latex_user_defs": false,
   "report_style_numbering": false,
   "user_envs_cfg": false
  },
  "varInspector": {
   "cols": {
    "lenName": 16,
    "lenType": 16,
    "lenVar": 40
   },
   "kernels_config": {
    "python": {
     "delete_cmd_postfix": "",
     "delete_cmd_prefix": "del ",
     "library": "var_list.py",
     "varRefreshCmd": "print(var_dic_list())"
    },
    "r": {
     "delete_cmd_postfix": ") ",
     "delete_cmd_prefix": "rm(",
     "library": "var_list.r",
     "varRefreshCmd": "cat(var_dic_list()) "
    }
   },
   "types_to_exclude": [
    "module",
    "function",
    "builtin_function_or_method",
    "instance",
    "_Feature"
   ],
   "window_display": false
  }
 },
 "nbformat": 4,
 "nbformat_minor": 5
}
