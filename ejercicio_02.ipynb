{
 "cells": [
  {
   "cell_type": "markdown",
   "id": "2ea66398",
   "metadata": {},
   "source": [
    "# IDENTIFICACION DE SISTEMAS - Ejercicio 2\n",
    "\n",
    "Profesor: Jairo Alberto Cuéllar Guarnizo  \n",
    "Programa: Ingeniería en Automatización y Control"
   ]
  },
  {
   "cell_type": "markdown",
   "id": "f02dbf76",
   "metadata": {},
   "source": [
    "# Elaborado por:\n",
    "\n",
    "* Nombre 1, apellido 1\n",
    "* Nombre 2, apellido 2"
   ]
  },
  {
   "cell_type": "markdown",
   "id": "bea6436d",
   "metadata": {},
   "source": [
    "# Ejercicio 2 - Mínimos cuadráticos (funciones polinomiales de orden N+1)\n",
    "\n",
    "## Descripción del ejercicio:\n",
    "\n",
    "Considere el ejemplo del notebook class_04_01, donde de forma manual se calculan los parámetros de un modelo representado por la siguiente notación:\n",
    "\n",
    "$$y_N = \\theta_1 + \\theta_2.x + \\theta_3.x^2 + ... + \\theta_N.x^{N-1}$$ \n",
    "\n",
    "Para un modelo lineal N = 2, para uno cuadrático N = 3, etc..."
   ]
  },
  {
   "cell_type": "markdown",
   "id": "94124d57",
   "metadata": {},
   "source": [
    "### Paso 1\n",
    "\n",
    "Modifique el código del notebook class_04_01 para que reciba del usuario el orden del polinomio que se desea (lineal, cuadrático, cúbico ,etc...) y los pesos de $\\theta_N$ verdaderos."
   ]
  },
  {
   "cell_type": "code",
   "execution_count": 1,
   "id": "450dba20",
   "metadata": {},
   "outputs": [],
   "source": [
    "#Inserte el código en este espacio."
   ]
  },
  {
   "cell_type": "markdown",
   "id": "aafa882d",
   "metadata": {},
   "source": [
    "### Paso 2\n",
    "Genere la señal \"y\" armándola con el orden que el usuario escoja y con los pesos verdaderos de sus parámetros, contamínela con un ruido de media 0. Grafique la señal medida."
   ]
  },
  {
   "cell_type": "code",
   "execution_count": null,
   "id": "b75880c2",
   "metadata": {},
   "outputs": [],
   "source": [
    "#Inserte el código en este espacio."
   ]
  },
  {
   "cell_type": "markdown",
   "id": "f42ca429",
   "metadata": {},
   "source": [
    "### Paso 3\n",
    "\n",
    "Con el método de mínimos cuadrados determine el vector de regresión $\\phi$ y calcule el vector de parámetros estimados $\\theta_{LS}$"
   ]
  },
  {
   "cell_type": "code",
   "execution_count": null,
   "id": "dc152760",
   "metadata": {},
   "outputs": [],
   "source": [
    "#Inserte el código en este espacio."
   ]
  },
  {
   "cell_type": "markdown",
   "id": "a508ef22",
   "metadata": {},
   "source": [
    "## Conclusiones\n",
    "\n",
    "* Redacte aquí..."
   ]
  },
  {
   "cell_type": "code",
   "execution_count": null,
   "id": "456d4836",
   "metadata": {},
   "outputs": [],
   "source": []
  }
 ],
 "metadata": {
  "kernelspec": {
   "display_name": "Python 3 (ipykernel)",
   "language": "python",
   "name": "python3"
  },
  "language_info": {
   "codemirror_mode": {
    "name": "ipython",
    "version": 3
   },
   "file_extension": ".py",
   "mimetype": "text/x-python",
   "name": "python",
   "nbconvert_exporter": "python",
   "pygments_lexer": "ipython3",
   "version": "3.10.9"
  }
 },
 "nbformat": 4,
 "nbformat_minor": 5
}
