{
 "cells": [
  {
   "cell_type": "markdown",
   "id": "2ea66398",
   "metadata": {},
   "source": [
    "# IDENTIFICACION DE SISTEMAS - Ejercicio 2\n",
    "\n",
    "Profesor: Jairo Alberto Cuéllar Guarnizo  \n",
    "Programa: Ingeniería en Automatización y Control"
   ]
  },
  {
   "cell_type": "markdown",
   "id": "f02dbf76",
   "metadata": {},
   "source": [
    "# Elaborado por:\n",
    "\n",
    "* Nombre 1, apellido 1\n",
    "* Nombre 2, apellido 2"
   ]
  },
  {
   "cell_type": "markdown",
   "id": "bea6436d",
   "metadata": {},
   "source": [
    "# Ejercicio 2 - Mínimos cuadráticos (funciones polinomiales de orden n)\n",
    "\n",
    "## Descripción del ejercicio:\n",
    "\n",
    "Considere el ejemplo del notebook class_04_01, donde de forma manual se evalúa un modelo representado por la siguiente notación:\n",
    "\n",
    "$$y[k] = \\sum_{k=0}^{m}\\theta_k*x[k]^k$$  "
   ]
  },
  {
   "cell_type": "markdown",
   "id": "94124d57",
   "metadata": {},
   "source": [
    "### Cálculo de R por los 3 métodos (Estudiante 1)"
   ]
  },
  {
   "cell_type": "code",
   "execution_count": 1,
   "id": "450dba20",
   "metadata": {},
   "outputs": [],
   "source": [
    "#Inserte el código en este espacio."
   ]
  },
  {
   "cell_type": "markdown",
   "id": "aafa882d",
   "metadata": {},
   "source": [
    "### Cálculo de R por los 3 métodos (Estudiante 2)"
   ]
  },
  {
   "cell_type": "code",
   "execution_count": null,
   "id": "b75880c2",
   "metadata": {},
   "outputs": [],
   "source": [
    "#Inserte el código en este espacio."
   ]
  },
  {
   "cell_type": "markdown",
   "id": "f42ca429",
   "metadata": {},
   "source": [
    "### Cálculo de R por los 3 métodos (Estudiante 3)"
   ]
  },
  {
   "cell_type": "code",
   "execution_count": null,
   "id": "dc152760",
   "metadata": {},
   "outputs": [],
   "source": [
    "#Inserte el código en este espacio."
   ]
  },
  {
   "cell_type": "markdown",
   "id": "24bf5b98",
   "metadata": {},
   "source": [
    "### Gráficas comparativas de los 3 estudiantes\n",
    "\n",
    "Mostrar un gráfico por estudiante y que incluya las 3 series de las resistencias."
   ]
  },
  {
   "cell_type": "code",
   "execution_count": null,
   "id": "9959c500",
   "metadata": {},
   "outputs": [],
   "source": [
    "#Inserte el código en este espacio."
   ]
  },
  {
   "cell_type": "markdown",
   "id": "a508ef22",
   "metadata": {},
   "source": [
    "## Conclusiones\n",
    "\n",
    "* Redacte aquí..."
   ]
  },
  {
   "cell_type": "code",
   "execution_count": null,
   "id": "456d4836",
   "metadata": {},
   "outputs": [],
   "source": []
  }
 ],
 "metadata": {
  "kernelspec": {
   "display_name": "Python 3 (ipykernel)",
   "language": "python",
   "name": "python3"
  },
  "language_info": {
   "codemirror_mode": {
    "name": "ipython",
    "version": 3
   },
   "file_extension": ".py",
   "mimetype": "text/x-python",
   "name": "python",
   "nbconvert_exporter": "python",
   "pygments_lexer": "ipython3",
   "version": "3.10.9"
  }
 },
 "nbformat": 4,
 "nbformat_minor": 5
}
